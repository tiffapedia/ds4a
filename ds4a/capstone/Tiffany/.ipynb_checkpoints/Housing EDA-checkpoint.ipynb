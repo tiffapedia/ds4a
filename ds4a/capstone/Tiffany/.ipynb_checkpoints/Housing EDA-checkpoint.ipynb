{
 "cells": [
  {
   "cell_type": "markdown",
   "metadata": {},
   "source": [
    "# Housing EDA\n",
    "\n",
    "## Questions to answer\n",
    "\n",
    "1. How long before a big event do you need to book an Airbnb to get the cheapest price? \n",
    "2. If you book an Airbnb within a week of a big event, how much (%) will you overpay?\n",
    "\n",
    "## EDA\n"
   ]
  },
  {
   "cell_type": "code",
   "execution_count": null,
   "metadata": {},
   "outputs": [],
   "source": []
  }
 ],
 "metadata": {
  "kernelspec": {
   "display_name": "Python 3",
   "language": "python",
   "name": "python3"
  },
  "language_info": {
   "codemirror_mode": {
    "name": "ipython",
    "version": 3
   },
   "file_extension": ".py",
   "mimetype": "text/x-python",
   "name": "python",
   "nbconvert_exporter": "python",
   "pygments_lexer": "ipython3",
   "version": "3.6.8"
  }
 },
 "nbformat": 4,
 "nbformat_minor": 2
}
