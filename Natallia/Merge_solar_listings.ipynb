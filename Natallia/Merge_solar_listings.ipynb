{
 "cells": [
  {
   "cell_type": "markdown",
   "metadata": {},
   "source": [
    "### this notebonook creates merged DF = deepsolar_tract and listings\n",
    "- the number of columns in solar data could be modified\n",
    "- the intendd use of merged DF is for future feature engineering "
   ]
  },
  {
   "cell_type": "code",
   "execution_count": 1,
   "metadata": {},
   "outputs": [],
   "source": [
    "import sqlite3\n",
    "import pandas as pd"
   ]
  },
  {
   "cell_type": "code",
   "execution_count": 2,
   "metadata": {},
   "outputs": [],
   "source": [
    "\n",
    "from sklearn.metrics.pairwise import haversine_distances\n",
    "from math import radians\n",
    "pd.set_option('display.max_columns', None)"
   ]
  },
  {
   "cell_type": "code",
   "execution_count": 3,
   "metadata": {},
   "outputs": [],
   "source": [
    "\n",
    "import numpy as np\n",
    "import matplotlib.pyplot as plt"
   ]
  },
  {
   "cell_type": "code",
   "execution_count": 4,
   "metadata": {},
   "outputs": [],
   "source": [
    "import seaborn as sns\n",
    "sns.set()"
   ]
  },
  {
   "cell_type": "markdown",
   "metadata": {},
   "source": [
    "### To see what is in .db file"
   ]
  },
  {
   "cell_type": "code",
   "execution_count": 10,
   "metadata": {},
   "outputs": [
    {
     "name": "stdout",
     "output_type": "stream",
     "text": [
      "INITILIZATION...\n"
     ]
    }
   ],
   "source": [
    "dbname = 'housing_data.db'\n",
    "\n",
    "print(\"INITILIZATION...\")\n",
    "con = sqlite3.connect(dbname)\n",
    "cursor = con.cursor()\n",
    "cursor.execute(\"SELECT name FROM sqlite_master WHERE type='table';\")\n",
    "tables = cursor.fetchall()"
   ]
  },
  {
   "cell_type": "code",
   "execution_count": 11,
   "metadata": {},
   "outputs": [
    {
     "data": {
      "text/plain": [
       "[('listings',),\n",
       " ('venues',),\n",
       " ('calendar',),\n",
       " ('econ_state',),\n",
       " ('demographics',),\n",
       " ('real_estate',),\n",
       " ('deepsolar_tract',)]"
      ]
     },
     "execution_count": 11,
     "metadata": {},
     "output_type": "execute_result"
    }
   ],
   "source": [
    "tables"
   ]
  },
  {
   "cell_type": "markdown",
   "metadata": {},
   "source": [
    "#### Helper function to create DB connection"
   ]
  },
  {
   "cell_type": "code",
   "execution_count": 12,
   "metadata": {},
   "outputs": [],
   "source": [
    "def create_connection(db_file):\n",
    "    \"\"\" create a database connection to the SQLite database\n",
    "        specified by the db_file\n",
    "    :param db_file: database file\n",
    "    :return: Connection object or None\n",
    "    \"\"\"\n",
    "    conn = None\n",
    "    try:\n",
    "        conn = sqlite3.connect(db_file)\n",
    "    except Error as e:\n",
    "        print(e)\n",
    " \n",
    "    return conn"
   ]
  },
  {
   "cell_type": "code",
   "execution_count": 13,
   "metadata": {},
   "outputs": [],
   "source": [
    "conn = create_connection(\"housing_data.db\")"
   ]
  },
  {
   "cell_type": "code",
   "execution_count": 14,
   "metadata": {
    "scrolled": true
   },
   "outputs": [
    {
     "name": "stdout",
     "output_type": "stream",
     "text": [
      "[('listings',), ('venues',), ('calendar',), ('econ_state',), ('demographics',), ('real_estate',), ('deepsolar_tract',)]\n"
     ]
    }
   ],
   "source": [
    "res = conn.execute(\"SELECT name FROM sqlite_master WHERE type='table';\")\n",
    "print(res.fetchall())"
   ]
  },
  {
   "cell_type": "markdown",
   "metadata": {},
   "source": [
    "### Same result could be achieved by this"
   ]
  },
  {
   "cell_type": "code",
   "execution_count": 15,
   "metadata": {},
   "outputs": [
    {
     "name": "stdout",
     "output_type": "stream",
     "text": [
      "[('listings',), ('venues',), ('calendar',), ('econ_state',), ('demographics',), ('real_estate',), ('deepsolar_tract',)]\n"
     ]
    }
   ],
   "source": [
    "filename = \"housing_data.db\"\n",
    "conn = sqlite3.connect(f'{filename}')\n",
    "res = conn.execute(\"SELECT name FROM sqlite_master WHERE type='table';\")\n",
    "print(res.fetchall())"
   ]
  },
  {
   "cell_type": "markdown",
   "metadata": {},
   "source": [
    "#### Now can run query for each table in DB"
   ]
  },
  {
   "cell_type": "markdown",
   "metadata": {},
   "source": [
    "## econ_state"
   ]
  },
  {
   "cell_type": "code",
   "execution_count": 16,
   "metadata": {},
   "outputs": [],
   "source": [
    "#dat = sqlite3.connect(\"housing_data.db\")\n",
    "#query = dat.execute(\"SELECT * From econ_state\")\n",
    "query_econ = conn.execute(\"SELECT * From econ_state\")\n",
    "cols = [column[0] for column in query_econ.description]\n",
    "df_econ = pd.DataFrame.from_records(data = query_econ.fetchall(), columns = cols)"
   ]
  },
  {
   "cell_type": "code",
   "execution_count": 17,
   "metadata": {
    "scrolled": true
   },
   "outputs": [
    {
     "data": {
      "text/html": [
       "<div>\n",
       "<style scoped>\n",
       "    .dataframe tbody tr th:only-of-type {\n",
       "        vertical-align: middle;\n",
       "    }\n",
       "\n",
       "    .dataframe tbody tr th {\n",
       "        vertical-align: top;\n",
       "    }\n",
       "\n",
       "    .dataframe thead th {\n",
       "        text-align: right;\n",
       "    }\n",
       "</style>\n",
       "<table border=\"1\" class=\"dataframe\">\n",
       "  <thead>\n",
       "    <tr style=\"text-align: right;\">\n",
       "      <th></th>\n",
       "      <th>state</th>\n",
       "      <th>gdp</th>\n",
       "      <th>date</th>\n",
       "      <th>unemployment_rate</th>\n",
       "      <th>income</th>\n",
       "      <th>quarter</th>\n",
       "    </tr>\n",
       "  </thead>\n",
       "  <tbody>\n",
       "    <tr>\n",
       "      <th>0</th>\n",
       "      <td>AL</td>\n",
       "      <td>153332.0</td>\n",
       "      <td>2005-01-01 00:00:00.000000</td>\n",
       "      <td>7.1</td>\n",
       "      <td>133152556.0</td>\n",
       "      <td>1</td>\n",
       "    </tr>\n",
       "    <tr>\n",
       "      <th>1</th>\n",
       "      <td>AK</td>\n",
       "      <td>37517.0</td>\n",
       "      <td>2005-01-01 00:00:00.000000</td>\n",
       "      <td>5.1</td>\n",
       "      <td>25254688.0</td>\n",
       "      <td>1</td>\n",
       "    </tr>\n",
       "    <tr>\n",
       "      <th>2</th>\n",
       "      <td>AZ</td>\n",
       "      <td>218206.0</td>\n",
       "      <td>2005-01-01 00:00:00.000000</td>\n",
       "      <td>5.4</td>\n",
       "      <td>180576304.0</td>\n",
       "      <td>1</td>\n",
       "    </tr>\n",
       "    <tr>\n",
       "      <th>3</th>\n",
       "      <td>AR</td>\n",
       "      <td>88446.0</td>\n",
       "      <td>2005-01-01 00:00:00.000000</td>\n",
       "      <td>4.7</td>\n",
       "      <td>75990156.0</td>\n",
       "      <td>1</td>\n",
       "    </tr>\n",
       "  </tbody>\n",
       "</table>\n",
       "</div>"
      ],
      "text/plain": [
       "  state       gdp                        date  unemployment_rate       income  \\\n",
       "0    AL  153332.0  2005-01-01 00:00:00.000000                7.1  133152556.0   \n",
       "1    AK   37517.0  2005-01-01 00:00:00.000000                5.1   25254688.0   \n",
       "2    AZ  218206.0  2005-01-01 00:00:00.000000                5.4  180576304.0   \n",
       "3    AR   88446.0  2005-01-01 00:00:00.000000                4.7   75990156.0   \n",
       "\n",
       "   quarter  \n",
       "0        1  \n",
       "1        1  \n",
       "2        1  \n",
       "3        1  "
      ]
     },
     "execution_count": 17,
     "metadata": {},
     "output_type": "execute_result"
    }
   ],
   "source": [
    "df_econ.head(4)"
   ]
  },
  {
   "cell_type": "markdown",
   "metadata": {},
   "source": [
    "## calendar"
   ]
  },
  {
   "cell_type": "code",
   "execution_count": 15,
   "metadata": {},
   "outputs": [],
   "source": [
    "#dat = sqlite3.connect(\"housing_data.db\")\n",
    "\n",
    "\n",
    "query_cal = conn.execute(\"SELECT * From calendar\")\n",
    "cols1 = [column[0] for column in query_cal.description]\n",
    "df_cal= pd.DataFrame.from_records(data = query_cal.fetchall(), columns = cols1)"
   ]
  },
  {
   "cell_type": "code",
   "execution_count": 16,
   "metadata": {
    "scrolled": true
   },
   "outputs": [
    {
     "data": {
      "text/html": [
       "<div>\n",
       "<style scoped>\n",
       "    .dataframe tbody tr th:only-of-type {\n",
       "        vertical-align: middle;\n",
       "    }\n",
       "\n",
       "    .dataframe tbody tr th {\n",
       "        vertical-align: top;\n",
       "    }\n",
       "\n",
       "    .dataframe thead th {\n",
       "        text-align: right;\n",
       "    }\n",
       "</style>\n",
       "<table border=\"1\" class=\"dataframe\">\n",
       "  <thead>\n",
       "    <tr style=\"text-align: right;\">\n",
       "      <th></th>\n",
       "      <th>listing_id</th>\n",
       "      <th>date</th>\n",
       "      <th>available</th>\n",
       "      <th>price</th>\n",
       "      <th>metro_area</th>\n",
       "      <th>quarter</th>\n",
       "    </tr>\n",
       "  </thead>\n",
       "  <tbody>\n",
       "    <tr>\n",
       "      <th>0</th>\n",
       "      <td>2515</td>\n",
       "      <td>2018-03-05 00:00:00.000000</td>\n",
       "      <td>1</td>\n",
       "      <td>69.0</td>\n",
       "      <td>NYC</td>\n",
       "      <td>1</td>\n",
       "    </tr>\n",
       "    <tr>\n",
       "      <th>1</th>\n",
       "      <td>2515</td>\n",
       "      <td>2018-03-04 00:00:00.000000</td>\n",
       "      <td>1</td>\n",
       "      <td>69.0</td>\n",
       "      <td>NYC</td>\n",
       "      <td>1</td>\n",
       "    </tr>\n",
       "    <tr>\n",
       "      <th>2</th>\n",
       "      <td>2515</td>\n",
       "      <td>2018-03-03 00:00:00.000000</td>\n",
       "      <td>1</td>\n",
       "      <td>69.0</td>\n",
       "      <td>NYC</td>\n",
       "      <td>1</td>\n",
       "    </tr>\n",
       "    <tr>\n",
       "      <th>3</th>\n",
       "      <td>2515</td>\n",
       "      <td>2018-03-02 00:00:00.000000</td>\n",
       "      <td>1</td>\n",
       "      <td>69.0</td>\n",
       "      <td>NYC</td>\n",
       "      <td>1</td>\n",
       "    </tr>\n",
       "  </tbody>\n",
       "</table>\n",
       "</div>"
      ],
      "text/plain": [
       "   listing_id                        date  available  price metro_area  \\\n",
       "0        2515  2018-03-05 00:00:00.000000          1   69.0        NYC   \n",
       "1        2515  2018-03-04 00:00:00.000000          1   69.0        NYC   \n",
       "2        2515  2018-03-03 00:00:00.000000          1   69.0        NYC   \n",
       "3        2515  2018-03-02 00:00:00.000000          1   69.0        NYC   \n",
       "\n",
       "   quarter  \n",
       "0        1  \n",
       "1        1  \n",
       "2        1  \n",
       "3        1  "
      ]
     },
     "execution_count": 16,
     "metadata": {},
     "output_type": "execute_result"
    }
   ],
   "source": [
    "df_cal.head(4)"
   ]
  },
  {
   "cell_type": "markdown",
   "metadata": {},
   "source": [
    "##### database from https://www.dataquest.io/blog/python-pandas-databases/"
   ]
  },
  {
   "cell_type": "markdown",
   "metadata": {},
   "source": [
    "## Listings"
   ]
  },
  {
   "cell_type": "code",
   "execution_count": 18,
   "metadata": {},
   "outputs": [],
   "source": [
    "query_lis = conn.execute(\"SELECT * From listings\")\n",
    "cols2 = [column[0] for column in query_lis.description]\n",
    "df_lis= pd.DataFrame.from_records(data = query_lis.fetchall(), columns = cols2)"
   ]
  },
  {
   "cell_type": "code",
   "execution_count": 19,
   "metadata": {
    "scrolled": true
   },
   "outputs": [
    {
     "data": {
      "text/plain": [
       "(59824, 28)"
      ]
     },
     "execution_count": 19,
     "metadata": {},
     "output_type": "execute_result"
    }
   ],
   "source": [
    "df_lis.shape"
   ]
  },
  {
   "cell_type": "markdown",
   "metadata": {},
   "source": [
    "### Only 5 metropolitan areas in listings"
   ]
  },
  {
   "cell_type": "code",
   "execution_count": 20,
   "metadata": {},
   "outputs": [
    {
     "data": {
      "text/plain": [
       "{'NYC', 'boston', 'chicago', 'dc', 'denver'}"
      ]
     },
     "execution_count": 20,
     "metadata": {},
     "output_type": "execute_result"
    }
   ],
   "source": [
    "set(df_lis.metropolitan.tolist())"
   ]
  },
  {
   "cell_type": "code",
   "execution_count": 21,
   "metadata": {
    "scrolled": true
   },
   "outputs": [
    {
     "data": {
      "text/html": [
       "<div>\n",
       "<style scoped>\n",
       "    .dataframe tbody tr th:only-of-type {\n",
       "        vertical-align: middle;\n",
       "    }\n",
       "\n",
       "    .dataframe tbody tr th {\n",
       "        vertical-align: top;\n",
       "    }\n",
       "\n",
       "    .dataframe thead th {\n",
       "        text-align: right;\n",
       "    }\n",
       "</style>\n",
       "<table border=\"1\" class=\"dataframe\">\n",
       "  <thead>\n",
       "    <tr style=\"text-align: right;\">\n",
       "      <th></th>\n",
       "      <th>accommodates</th>\n",
       "      <th>amenities</th>\n",
       "      <th>availability_30</th>\n",
       "      <th>bathrooms</th>\n",
       "      <th>bed_type</th>\n",
       "      <th>bedrooms</th>\n",
       "      <th>beds</th>\n",
       "      <th>cancellation_policy</th>\n",
       "      <th>city</th>\n",
       "      <th>host_id</th>\n",
       "      <th>id</th>\n",
       "      <th>instant_bookable</th>\n",
       "      <th>latitude</th>\n",
       "      <th>longitude</th>\n",
       "      <th>metropolitan</th>\n",
       "      <th>name</th>\n",
       "      <th>price</th>\n",
       "      <th>property_type</th>\n",
       "      <th>review_scores_checkin</th>\n",
       "      <th>review_scores_cleanliness</th>\n",
       "      <th>review_scores_communication</th>\n",
       "      <th>review_scores_location</th>\n",
       "      <th>review_scores_rating</th>\n",
       "      <th>review_scores_value</th>\n",
       "      <th>room_type</th>\n",
       "      <th>state</th>\n",
       "      <th>weekly_price</th>\n",
       "      <th>zipcode</th>\n",
       "    </tr>\n",
       "  </thead>\n",
       "  <tbody>\n",
       "    <tr>\n",
       "      <th>0</th>\n",
       "      <td>2.0</td>\n",
       "      <td>{\"Cable TV\",\"Wireless Internet\",\"Air condition...</td>\n",
       "      <td>24</td>\n",
       "      <td>1.0</td>\n",
       "      <td>Real Bed</td>\n",
       "      <td>1.0</td>\n",
       "      <td>1.0</td>\n",
       "      <td>moderate</td>\n",
       "      <td>sunnysidebronx</td>\n",
       "      <td>119445</td>\n",
       "      <td>7949480</td>\n",
       "      <td>0</td>\n",
       "      <td>40.852054</td>\n",
       "      <td>-73.788680</td>\n",
       "      <td>NYC</td>\n",
       "      <td>City Island Sanctuary relaxing BR &amp; Bath w Par...</td>\n",
       "      <td>99.0</td>\n",
       "      <td>House</td>\n",
       "      <td>10.0</td>\n",
       "      <td>10.0</td>\n",
       "      <td>10.0</td>\n",
       "      <td>10.0</td>\n",
       "      <td>100.0</td>\n",
       "      <td>10.0</td>\n",
       "      <td>Private room</td>\n",
       "      <td>NY</td>\n",
       "      <td>NaN</td>\n",
       "      <td>10464.0</td>\n",
       "    </tr>\n",
       "    <tr>\n",
       "      <th>1</th>\n",
       "      <td>4.0</td>\n",
       "      <td>{TV,Internet,\"Wireless Internet\",\"Air conditio...</td>\n",
       "      <td>30</td>\n",
       "      <td>1.0</td>\n",
       "      <td>Real Bed</td>\n",
       "      <td>1.0</td>\n",
       "      <td>1.0</td>\n",
       "      <td>flexible</td>\n",
       "      <td>sunnysidebronx</td>\n",
       "      <td>9117975</td>\n",
       "      <td>16042478</td>\n",
       "      <td>1</td>\n",
       "      <td>40.853491</td>\n",
       "      <td>-73.788607</td>\n",
       "      <td>NYC</td>\n",
       "      <td>WATERFRONT STUDIO APARTMENT</td>\n",
       "      <td>200.0</td>\n",
       "      <td>Apartment</td>\n",
       "      <td>NaN</td>\n",
       "      <td>NaN</td>\n",
       "      <td>NaN</td>\n",
       "      <td>NaN</td>\n",
       "      <td>NaN</td>\n",
       "      <td>NaN</td>\n",
       "      <td>Private room</td>\n",
       "      <td>NY</td>\n",
       "      <td>NaN</td>\n",
       "      <td>10464.0</td>\n",
       "    </tr>\n",
       "    <tr>\n",
       "      <th>2</th>\n",
       "      <td>4.0</td>\n",
       "      <td>{TV,\"Cable TV\",Internet,\"Wireless Internet\",\"A...</td>\n",
       "      <td>30</td>\n",
       "      <td>3.0</td>\n",
       "      <td>Real Bed</td>\n",
       "      <td>3.0</td>\n",
       "      <td>3.0</td>\n",
       "      <td>strict</td>\n",
       "      <td>sunnysidebronx</td>\n",
       "      <td>9815788</td>\n",
       "      <td>1886820</td>\n",
       "      <td>0</td>\n",
       "      <td>40.841144</td>\n",
       "      <td>-73.783052</td>\n",
       "      <td>NYC</td>\n",
       "      <td>Quaint City Island Community.</td>\n",
       "      <td>300.0</td>\n",
       "      <td>House</td>\n",
       "      <td>NaN</td>\n",
       "      <td>NaN</td>\n",
       "      <td>NaN</td>\n",
       "      <td>NaN</td>\n",
       "      <td>NaN</td>\n",
       "      <td>NaN</td>\n",
       "      <td>Entire home/apt</td>\n",
       "      <td>NY</td>\n",
       "      <td>NaN</td>\n",
       "      <td>10464.0</td>\n",
       "    </tr>\n",
       "  </tbody>\n",
       "</table>\n",
       "</div>"
      ],
      "text/plain": [
       "   accommodates                                          amenities  \\\n",
       "0           2.0  {\"Cable TV\",\"Wireless Internet\",\"Air condition...   \n",
       "1           4.0  {TV,Internet,\"Wireless Internet\",\"Air conditio...   \n",
       "2           4.0  {TV,\"Cable TV\",Internet,\"Wireless Internet\",\"A...   \n",
       "\n",
       "   availability_30  bathrooms  bed_type  bedrooms  beds cancellation_policy  \\\n",
       "0               24        1.0  Real Bed       1.0   1.0            moderate   \n",
       "1               30        1.0  Real Bed       1.0   1.0            flexible   \n",
       "2               30        3.0  Real Bed       3.0   3.0              strict   \n",
       "\n",
       "             city  host_id        id  instant_bookable   latitude  longitude  \\\n",
       "0  sunnysidebronx   119445   7949480                 0  40.852054 -73.788680   \n",
       "1  sunnysidebronx  9117975  16042478                 1  40.853491 -73.788607   \n",
       "2  sunnysidebronx  9815788   1886820                 0  40.841144 -73.783052   \n",
       "\n",
       "  metropolitan                                               name  price  \\\n",
       "0          NYC  City Island Sanctuary relaxing BR & Bath w Par...   99.0   \n",
       "1          NYC                        WATERFRONT STUDIO APARTMENT  200.0   \n",
       "2          NYC                     Quaint City Island Community.   300.0   \n",
       "\n",
       "  property_type  review_scores_checkin  review_scores_cleanliness  \\\n",
       "0         House                   10.0                       10.0   \n",
       "1     Apartment                    NaN                        NaN   \n",
       "2         House                    NaN                        NaN   \n",
       "\n",
       "   review_scores_communication  review_scores_location  review_scores_rating  \\\n",
       "0                         10.0                    10.0                 100.0   \n",
       "1                          NaN                     NaN                   NaN   \n",
       "2                          NaN                     NaN                   NaN   \n",
       "\n",
       "   review_scores_value        room_type state  weekly_price  zipcode  \n",
       "0                 10.0     Private room    NY           NaN  10464.0  \n",
       "1                  NaN     Private room    NY           NaN  10464.0  \n",
       "2                  NaN  Entire home/apt    NY           NaN  10464.0  "
      ]
     },
     "execution_count": 21,
     "metadata": {},
     "output_type": "execute_result"
    }
   ],
   "source": [
    "df_lis.head(3)"
   ]
  },
  {
   "cell_type": "code",
   "execution_count": 21,
   "metadata": {
    "scrolled": true
   },
   "outputs": [],
   "source": [
    "#df_lis.columns"
   ]
  },
  {
   "cell_type": "markdown",
   "metadata": {},
   "source": [
    "### All longitude and latitude values are present"
   ]
  },
  {
   "cell_type": "raw",
   "metadata": {
    "scrolled": true
   },
   "source": [
    "# Calculate, sort, print proportion of missing data for each variable\n",
    "missing_data = df_lis.isnull().mean(axis=0).sort_values(ascending=False)\n",
    "with pd.option_context('display.max_rows', None):\n",
    "    print(missing_data)"
   ]
  },
  {
   "cell_type": "markdown",
   "metadata": {},
   "source": [
    "#### NaNs in listings dset"
   ]
  },
  {
   "cell_type": "raw",
   "metadata": {
    "scrolled": true
   },
   "source": [
    "na_counts=df_lis.isnull().sum().sort_values(ascending=False)\n",
    "for i,j in na_counts.iteritems():\n",
    "    print(i,j)"
   ]
  },
  {
   "cell_type": "markdown",
   "metadata": {},
   "source": [
    "## Solar DF"
   ]
  },
  {
   "cell_type": "code",
   "execution_count": 22,
   "metadata": {},
   "outputs": [],
   "source": [
    "query_sol = conn.execute(\"SELECT * From deepsolar_tract\")\n",
    "cols3 = [column[0] for column in query_sol.description]\n",
    "df_sol= pd.DataFrame.from_records(data = query_sol.fetchall(), columns = cols3)"
   ]
  },
  {
   "cell_type": "code",
   "execution_count": 59,
   "metadata": {
    "scrolled": true
   },
   "outputs": [],
   "source": [
    "#[name for name in df_sol.columns]"
   ]
  },
  {
   "cell_type": "code",
   "execution_count": 26,
   "metadata": {
    "scrolled": false
   },
   "outputs": [],
   "source": [
    "#df_sol.head(3)"
   ]
  },
  {
   "cell_type": "code",
   "execution_count": 23,
   "metadata": {
    "scrolled": true
   },
   "outputs": [
    {
     "data": {
      "text/plain": [
       "(72537, 168)"
      ]
     },
     "execution_count": 23,
     "metadata": {},
     "output_type": "execute_result"
    }
   ],
   "source": [
    "df_sol.shape"
   ]
  },
  {
   "cell_type": "markdown",
   "metadata": {},
   "source": [
    "### NaNs in deepsolar_tract dset:"
   ]
  },
  {
   "cell_type": "raw",
   "metadata": {
    "scrolled": false
   },
   "source": [
    "# Calculate, sort, print proportion of missing data for each variable\n",
    "missing = df_sol.isnull().mean(axis=0).sort_values(ascending=False)\n",
    "with pd.option_context('display.max_rows', None):\n",
    "    print(missing)"
   ]
  },
  {
   "cell_type": "markdown",
   "metadata": {},
   "source": [
    "### Abs. value mising variables in deepsolar_ract dset"
   ]
  },
  {
   "cell_type": "raw",
   "metadata": {
    "scrolled": true
   },
   "source": [
    "na_counts=df_sol.isnull().sum().sort_values(ascending=False)\n",
    "for i,j in na_counts.iteritems():\n",
    "    print(i,j)"
   ]
  },
  {
   "cell_type": "markdown",
   "metadata": {},
   "source": [
    "#### missing values for longitute/latitude in deepsolar_tract dset:\n",
    "- longitude - 0.079987(~8%)\n",
    "- latitude - 0.079987 (~8%)"
   ]
  },
  {
   "cell_type": "markdown",
   "metadata": {},
   "source": [
    "### All numeric fields"
   ]
  },
  {
   "cell_type": "code",
   "execution_count": 24,
   "metadata": {
    "scrolled": true
   },
   "outputs": [],
   "source": [
    "fields = []\n",
    "for f in df_sol.columns.tolist():\n",
    "    fields.append(f)"
   ]
  },
  {
   "cell_type": "code",
   "execution_count": 25,
   "metadata": {
    "scrolled": true
   },
   "outputs": [],
   "source": [
    "#fields "
   ]
  },
  {
   "cell_type": "markdown",
   "metadata": {},
   "source": [
    "### Remove some columns  form solar data"
   ]
  },
  {
   "cell_type": "markdown",
   "metadata": {},
   "source": [
    "#### Rational for removal:\n",
    "- A. abs vs rates (correlate) \n",
    "    - education_... use education_..._rate\n",
    "    - employed use employ_rate\n",
    "    - heating_fuel... use heating_fuel..._rat\n",
    "    - poverty_family_below_poverty_level - use ...._rate\n",
    "    - poverty_family_count use poverty_family_count_rate\n",
    "    - race_... use race_..._rate\n",
    "    - poverty_family_below_poverty_level  use ..._rate\n",
    "- B. other variables correlate with each other:\n",
    "    - **eliminate** unemployed - use employ_rate\n",
    "    - **eliminate** employed - use employ_rate\n",
    "    - **eliminate** population - use population_density\n",
    "    - **eliminate** 'poverty_family_below_poverty_level' use 'poverty_family_count',\n",
    "    - **eliminate** 'education_population' as it is used for calculating eduation proportions\n",
    " \n",
    "- C. eliminate all solar system related variables, but one e.g.'solar_system_count'\n",
    "    - 'tile_count'\n",
    "    - 'total_panel_area'\n",
    "    - 'solar_panel_area_divided_by_area' \n",
    "    - 'solar_panel_area_per_capita'\n",
    "    - 'tile_count_residential'\n",
    "    - 'tile_count_nonresidential'\n",
    "    - 'solar_system_count_residential'\n",
    "    - 'solar_system_count_nonresidential'\n",
    "    - 'total_panel_area_residential'\n",
    "    - 'total_panel_area_nonresidential'\n",
    "- D. eliminate other electricity cost related variable but one , e.g. electricity_price_residential\n",
    "    - 'electricity_price_commercial'\n",
    "    - 'electricity_price_overall'\n",
    "    - 'avg_electricity_retail_rate'\n",
    "   \n",
    "- E. eliminate other highly correlated variables, use (*):\n",
    "\n",
    "    - use * 'frost_days', eliminate 'cooling_degree_days'\n",
    "    - use * 'voting_2016_dem_percentage', eliminate 'voting_2012_dem_percentage' \n",
    "    - use * 'voting_2016_gop_percentage' eliminate 'voting_2012_gop_percentage'\n",
    "    - use * 'per_capita_income',eliminate 'average_household_income' ,  'median_household_income'\n",
    "    - use *  'elevation' and eliminate 'atmospheric_pressure'\n",
    "    - use * 'air_temperature'and eliminate the variables that correlate with it:\n",
    "    - 'heating_design_temperature'\n",
    "    - 'earth_temperature'\n",
    "    - 'cooling_degree_days'   \n",
    "    \n",
    "  \n",
    "\n"
   ]
  },
  {
   "cell_type": "markdown",
   "metadata": {},
   "source": [
    "- add to eliminate_list the following variables:\n",
    " - 'voting_2016_dem_win'\n",
    " - 'voting_2012_dem_win  "
   ]
  },
  {
   "cell_type": "markdown",
   "metadata": {},
   "source": [
    "##### df_sol original shape"
   ]
  },
  {
   "cell_type": "code",
   "execution_count": 29,
   "metadata": {
    "scrolled": false
   },
   "outputs": [
    {
     "data": {
      "text/plain": [
       "(72537, 168)"
      ]
     },
     "execution_count": 29,
     "metadata": {},
     "output_type": "execute_result"
    }
   ],
   "source": [
    "df_sol.shape"
   ]
  },
  {
   "cell_type": "code",
   "execution_count": 30,
   "metadata": {},
   "outputs": [],
   "source": [
    "eliminate_fields = ['voting_2016_dem_win',\n",
    " 'voting_2012_dem_win',\n",
    " 'tile_count',\n",
    " 'total_panel_area',\n",
    " 'education_bachelor',\n",
    " 'education_college',\n",
    " 'education_doctoral',\n",
    " 'education_high_school_graduate',\n",
    " 'education_less_than_high_school',\n",
    " 'education_master',\n",
    " 'education_population',\n",
    " 'education_professional_school',\n",
    " 'employed',\n",
    " 'heating_fuel_coal_coke',\n",
    " 'heating_fuel_electricity',\n",
    " 'heating_fuel_fuel_oil_kerosene',\n",
    " 'heating_fuel_gas',\n",
    " 'heating_fuel_housing_unit_count',\n",
    " 'heating_fuel_none',\n",
    " 'heating_fuel_other',\n",
    " 'heating_fuel_solar',\n",
    " 'population',\n",
    " 'poverty_family_below_poverty_level',\n",
    " 'poverty_family_count',\n",
    "'race_asian',\n",
    "'race_black_africa',\n",
    "'race_other',\n",
    "'race_two_more',\n",
    "'race_white',\n",
    " 'race_indian_alaska',\n",
    " 'race_islander',\n",
    " 'total_area',\n",
    " 'unemployed',\n",
    " 'water_area',\n",
    " 'race_indian_alaska_rate',\n",
    " 'race_asian_rate',\n",
    " 'race_islander_rate',\n",
    " 'race_two_more_rate',\n",
    " 'heating_fuel_gas_rate',\n",
    " 'heating_fuel_electricity_rate',\n",
    " 'heating_fuel_fuel_oil_kerosene_rate',\n",
    " 'heating_fuel_coal_coke_rate',\n",
    " 'heating_fuel_solar_rate',\n",
    " 'heating_fuel_other_rate',\n",
    " 'heating_fuel_none_rate',\n",
    " 'solar_panel_area_divided_by_area',\n",
    " 'solar_panel_area_per_capita',\n",
    " 'tile_count_residential',\n",
    " 'tile_count_nonresidential',\n",
    " 'solar_system_count_residential',\n",
    " 'solar_system_count_nonresidential',\n",
    " 'total_panel_area_residential',\n",
    " 'total_panel_area_nonresidential',\n",
    " 'electricity_price_commercial',\n",
    " 'electricity_price_industrial',\n",
    " 'electricity_price_transportation',\n",
    " 'electricity_price_overall',\n",
    " 'electricity_consume_residential',\n",
    " 'electricity_consume_commercial',\n",
    " 'electricity_consume_industrial',\n",
    " 'electricity_consume_total',\n",
    " 'household_count',\n",
    " 'housing_unit_count',\n",
    " 'heating_design_temperature',\n",
    " 'cooling_design_temperature',\n",
    " 'earth_temperature_amplitude',\n",
    " 'atmospheric_pressure',\n",
    " 'wind_speed',\n",
    " 'earth_temperature',\n",
    " 'heating_degree_days',\n",
    " 'cooling_degree_days',\n",
    " 'age_more_than_85_rate',\n",
    " 'age_75_84_rate',\n",
    " 'age_15_17_rate',\n",
    " 'age_5_9_rate',\n",
    " 'dropout_16_19_inschool_rate',\n",
    " 'occupation_construction_rate',\n",
    " 'occupation_public_rate',\n",
    " 'occupation_finance_rate',\n",
    " 'occupation_education_rate',\n",
    " 'occupation_administrative_rate',\n",
    " 'occupation_manufacturing_rate',\n",
    " 'occupation_wholesale_rate',\n",
    " 'occupation_retail_rate',\n",
    " 'occupation_transportation_rate',\n",
    " 'occupation_arts_rate',\n",
    " 'occupation_agriculture_rate',\n",
    " 'mortgage_with_rate',\n",
    " 'transportation_home_rate',\n",
    " 'transportation_car_alone_rate',\n",
    " 'transportation_walk_rate',\n",
    " 'transportation_carpool_rate',\n",
    " 'transportation_motorcycle_rate',\n",
    " 'transportation_bicycle_rate',\n",
    " 'travel_time_less_than_10_rate',\n",
    " 'travel_time_10_19_rate',\n",
    " 'travel_time_20_29_rate',\n",
    " 'travel_time_30_39_rate',\n",
    " 'travel_time_40_59_rate',\n",
    " 'travel_time_60_89_rate',\n",
    " 'health_insurance_none_rate',\n",
    " 'voting_2012_dem_percentage',\n",
    " 'voting_2012_gop_percentage',\n",
    " 'number_of_years_of_education',\n",
    " 'number_of_solar_system_per_household',\n",
    " 'incentive_count_residential',\n",
    " 'incentive_count_nonresidential',\n",
    " 'incentive_residential_state_level',\n",
    " 'incentive_nonresidential_state_level',\n",
    " 'net_metering',\n",
    " 'feedin_tariff',\n",
    " 'cooperate_tax',\n",
    " 'sales_tax',\n",
    " 'rebate',\n",
    " 'avg_electricity_retail_rate']"
   ]
  },
  {
   "cell_type": "code",
   "execution_count": 32,
   "metadata": {},
   "outputs": [],
   "source": [
    "#eliminate_fields"
   ]
  },
  {
   "cell_type": "markdown",
   "metadata": {},
   "source": [
    "## drop eliminate_fields from df_sol DF"
   ]
  },
  {
   "cell_type": "code",
   "execution_count": 33,
   "metadata": {},
   "outputs": [],
   "source": [
    "df_sol.drop(eliminate_fields, axis = 1, inplace = True)"
   ]
  },
  {
   "cell_type": "markdown",
   "metadata": {},
   "source": [
    "##### augmented df_sol shape"
   ]
  },
  {
   "cell_type": "code",
   "execution_count": 34,
   "metadata": {
    "scrolled": true
   },
   "outputs": [
    {
     "data": {
      "text/plain": [
       "(72537, 53)"
      ]
     },
     "execution_count": 34,
     "metadata": {},
     "output_type": "execute_result"
    }
   ],
   "source": [
    "df_sol.shape"
   ]
  },
  {
   "cell_type": "code",
   "execution_count": 35,
   "metadata": {},
   "outputs": [],
   "source": [
    "#df_sol.head()"
   ]
  },
  {
   "cell_type": "code",
   "execution_count": 36,
   "metadata": {},
   "outputs": [
    {
     "data": {
      "text/plain": [
       "Index(['solar_system_count', 'fips', 'average_household_income', 'county',\n",
       "       'gini_index', 'land_area', 'per_capita_income', 'population_density',\n",
       "       'state', 'education_less_than_high_school_rate',\n",
       "       'education_high_school_graduate_rate', 'education_college_rate',\n",
       "       'education_bachelor_rate', 'education_master_rate',\n",
       "       'education_professional_school_rate', 'education_doctoral_rate',\n",
       "       'race_white_rate', 'race_black_africa_rate', 'race_other_rate',\n",
       "       'employ_rate', 'poverty_family_below_poverty_level_rate',\n",
       "       'median_household_income', 'electricity_price_residential',\n",
       "       'average_household_size', 'housing_unit_occupied_count',\n",
       "       'housing_unit_median_value', 'housing_unit_median_gross_rent',\n",
       "       'latitude', 'longitude', 'elevation', 'frost_days', 'air_temperature',\n",
       "       'relative_humidity', 'daily_solar_radiation', 'age_18_24_rate',\n",
       "       'age_25_34_rate', 'age_35_44_rate', 'age_45_54_rate', 'age_65_74_rate',\n",
       "       'age_55_64_rate', 'age_10_14_rate', 'household_type_family_rate',\n",
       "       'occupation_information_rate', 'occupancy_vacant_rate',\n",
       "       'occupancy_owner_rate', 'transportation_public_rate',\n",
       "       'health_insurance_public_rate', 'age_median', 'travel_time_average',\n",
       "       'voting_2016_dem_percentage', 'voting_2016_gop_percentage', 'diversity',\n",
       "       'property_tax'],\n",
       "      dtype='object')"
      ]
     },
     "execution_count": 36,
     "metadata": {},
     "output_type": "execute_result"
    }
   ],
   "source": [
    "df_sol.columns"
   ]
  },
  {
   "cell_type": "markdown",
   "metadata": {},
   "source": [
    "### create a copy of df_sol with eliminated  variables and removed rows for lon/lat = NaN"
   ]
  },
  {
   "cell_type": "code",
   "execution_count": 37,
   "metadata": {},
   "outputs": [],
   "source": [
    "df_sol_copy = df_sol.copy().dropna(subset=['longitude','latitude'])"
   ]
  },
  {
   "cell_type": "code",
   "execution_count": 38,
   "metadata": {},
   "outputs": [
    {
     "data": {
      "text/plain": [
       "(66735, 53)"
      ]
     },
     "execution_count": 38,
     "metadata": {},
     "output_type": "execute_result"
    }
   ],
   "source": [
    "df_sol_copy.shape"
   ]
  },
  {
   "cell_type": "code",
   "execution_count": 39,
   "metadata": {
    "scrolled": false
   },
   "outputs": [
    {
     "data": {
      "text/plain": [
       "0"
      ]
     },
     "execution_count": 39,
     "metadata": {},
     "output_type": "execute_result"
    }
   ],
   "source": [
    "df_sol_copy.longitude.isnull().sum()"
   ]
  },
  {
   "cell_type": "code",
   "execution_count": 35,
   "metadata": {},
   "outputs": [
    {
     "name": "stdout",
     "output_type": "stream",
     "text": [
      "/Users/Natallia/Documents/R/JOB_search/DS4A_workspace/capstone/data\r\n"
     ]
    }
   ],
   "source": [
    "!pwd"
   ]
  },
  {
   "cell_type": "code",
   "execution_count": 31,
   "metadata": {},
   "outputs": [],
   "source": [
    "## uncomment if need to save the DF\n",
    "#df_sol_copy.to_csv(r'deepsolar_tract_new.csv', index = False, header=True)\n"
   ]
  },
  {
   "cell_type": "code",
   "execution_count": 40,
   "metadata": {
    "scrolled": true
   },
   "outputs": [
    {
     "data": {
      "text/html": [
       "<div>\n",
       "<style scoped>\n",
       "    .dataframe tbody tr th:only-of-type {\n",
       "        vertical-align: middle;\n",
       "    }\n",
       "\n",
       "    .dataframe tbody tr th {\n",
       "        vertical-align: top;\n",
       "    }\n",
       "\n",
       "    .dataframe thead th {\n",
       "        text-align: right;\n",
       "    }\n",
       "</style>\n",
       "<table border=\"1\" class=\"dataframe\">\n",
       "  <thead>\n",
       "    <tr style=\"text-align: right;\">\n",
       "      <th></th>\n",
       "      <th>solar_system_count</th>\n",
       "      <th>fips</th>\n",
       "      <th>average_household_income</th>\n",
       "      <th>county</th>\n",
       "      <th>gini_index</th>\n",
       "      <th>land_area</th>\n",
       "      <th>per_capita_income</th>\n",
       "      <th>population_density</th>\n",
       "      <th>state</th>\n",
       "      <th>education_less_than_high_school_rate</th>\n",
       "      <th>education_high_school_graduate_rate</th>\n",
       "      <th>education_college_rate</th>\n",
       "      <th>education_bachelor_rate</th>\n",
       "      <th>education_master_rate</th>\n",
       "      <th>education_professional_school_rate</th>\n",
       "      <th>education_doctoral_rate</th>\n",
       "      <th>race_white_rate</th>\n",
       "      <th>race_black_africa_rate</th>\n",
       "      <th>race_other_rate</th>\n",
       "      <th>employ_rate</th>\n",
       "      <th>poverty_family_below_poverty_level_rate</th>\n",
       "      <th>median_household_income</th>\n",
       "      <th>electricity_price_residential</th>\n",
       "      <th>average_household_size</th>\n",
       "      <th>housing_unit_occupied_count</th>\n",
       "      <th>housing_unit_median_value</th>\n",
       "      <th>housing_unit_median_gross_rent</th>\n",
       "      <th>latitude</th>\n",
       "      <th>longitude</th>\n",
       "      <th>elevation</th>\n",
       "      <th>frost_days</th>\n",
       "      <th>air_temperature</th>\n",
       "      <th>relative_humidity</th>\n",
       "      <th>daily_solar_radiation</th>\n",
       "      <th>age_18_24_rate</th>\n",
       "      <th>age_25_34_rate</th>\n",
       "      <th>age_35_44_rate</th>\n",
       "      <th>age_45_54_rate</th>\n",
       "      <th>age_65_74_rate</th>\n",
       "      <th>age_55_64_rate</th>\n",
       "      <th>age_10_14_rate</th>\n",
       "      <th>household_type_family_rate</th>\n",
       "      <th>occupation_information_rate</th>\n",
       "      <th>occupancy_vacant_rate</th>\n",
       "      <th>occupancy_owner_rate</th>\n",
       "      <th>transportation_public_rate</th>\n",
       "      <th>health_insurance_public_rate</th>\n",
       "      <th>age_median</th>\n",
       "      <th>travel_time_average</th>\n",
       "      <th>voting_2016_dem_percentage</th>\n",
       "      <th>voting_2016_gop_percentage</th>\n",
       "      <th>diversity</th>\n",
       "      <th>property_tax</th>\n",
       "    </tr>\n",
       "  </thead>\n",
       "  <tbody>\n",
       "    <tr>\n",
       "      <th>0</th>\n",
       "      <td>0.0</td>\n",
       "      <td>27145011200</td>\n",
       "      <td>70352.789869</td>\n",
       "      <td>Stearns County</td>\n",
       "      <td>0.3490</td>\n",
       "      <td>147.73120</td>\n",
       "      <td>26999.0</td>\n",
       "      <td>44.52005</td>\n",
       "      <td>mn</td>\n",
       "      <td>0.073879</td>\n",
       "      <td>0.386324</td>\n",
       "      <td>0.371592</td>\n",
       "      <td>0.125110</td>\n",
       "      <td>0.034521</td>\n",
       "      <td>0.005717</td>\n",
       "      <td>0.002858</td>\n",
       "      <td>0.976129</td>\n",
       "      <td>0.002889</td>\n",
       "      <td>0.000912</td>\n",
       "      <td>0.963293</td>\n",
       "      <td>0.044479</td>\n",
       "      <td>64232.0</td>\n",
       "      <td>12.12</td>\n",
       "      <td>2.58</td>\n",
       "      <td>2527</td>\n",
       "      <td>192500.0</td>\n",
       "      <td>814.0</td>\n",
       "      <td>45.369</td>\n",
       "      <td>-94.282</td>\n",
       "      <td>358.0</td>\n",
       "      <td>154.0</td>\n",
       "      <td>5.4</td>\n",
       "      <td>0.695</td>\n",
       "      <td>3.76</td>\n",
       "      <td>0.078759</td>\n",
       "      <td>0.095028</td>\n",
       "      <td>0.109624</td>\n",
       "      <td>0.189600</td>\n",
       "      <td>0.085145</td>\n",
       "      <td>0.157671</td>\n",
       "      <td>0.075262</td>\n",
       "      <td>0.756233</td>\n",
       "      <td>0.012609</td>\n",
       "      <td>0.137837</td>\n",
       "      <td>0.776868</td>\n",
       "      <td>0.003669</td>\n",
       "      <td>0.249962</td>\n",
       "      <td>43.9</td>\n",
       "      <td>29.0</td>\n",
       "      <td>0.323796</td>\n",
       "      <td>0.602874</td>\n",
       "      <td>0.046960</td>\n",
       "      <td>25</td>\n",
       "    </tr>\n",
       "    <tr>\n",
       "      <th>2</th>\n",
       "      <td>3.0</td>\n",
       "      <td>27145011302</td>\n",
       "      <td>71496.886583</td>\n",
       "      <td>Stearns County</td>\n",
       "      <td>0.3926</td>\n",
       "      <td>37.44482</td>\n",
       "      <td>28021.0</td>\n",
       "      <td>186.16730</td>\n",
       "      <td>mn</td>\n",
       "      <td>0.064509</td>\n",
       "      <td>0.343973</td>\n",
       "      <td>0.325670</td>\n",
       "      <td>0.190625</td>\n",
       "      <td>0.061607</td>\n",
       "      <td>0.006696</td>\n",
       "      <td>0.006920</td>\n",
       "      <td>0.995410</td>\n",
       "      <td>0.000000</td>\n",
       "      <td>0.002582</td>\n",
       "      <td>0.959200</td>\n",
       "      <td>0.068332</td>\n",
       "      <td>63355.0</td>\n",
       "      <td>12.12</td>\n",
       "      <td>2.55</td>\n",
       "      <td>2698</td>\n",
       "      <td>182400.0</td>\n",
       "      <td>692.0</td>\n",
       "      <td>45.460</td>\n",
       "      <td>-94.425</td>\n",
       "      <td>358.0</td>\n",
       "      <td>154.0</td>\n",
       "      <td>5.4</td>\n",
       "      <td>0.695</td>\n",
       "      <td>3.76</td>\n",
       "      <td>0.079902</td>\n",
       "      <td>0.093817</td>\n",
       "      <td>0.120069</td>\n",
       "      <td>0.151485</td>\n",
       "      <td>0.079759</td>\n",
       "      <td>0.114474</td>\n",
       "      <td>0.100273</td>\n",
       "      <td>0.726835</td>\n",
       "      <td>0.004789</td>\n",
       "      <td>0.072534</td>\n",
       "      <td>0.776212</td>\n",
       "      <td>0.000000</td>\n",
       "      <td>0.255264</td>\n",
       "      <td>39.6</td>\n",
       "      <td>21.0</td>\n",
       "      <td>0.323796</td>\n",
       "      <td>0.602874</td>\n",
       "      <td>0.009150</td>\n",
       "      <td>25</td>\n",
       "    </tr>\n",
       "    <tr>\n",
       "      <th>3</th>\n",
       "      <td>0.0</td>\n",
       "      <td>27145011304</td>\n",
       "      <td>86840.152755</td>\n",
       "      <td>Stearns County</td>\n",
       "      <td>0.3949</td>\n",
       "      <td>75.21147</td>\n",
       "      <td>29275.0</td>\n",
       "      <td>84.13610</td>\n",
       "      <td>mn</td>\n",
       "      <td>0.066840</td>\n",
       "      <td>0.316840</td>\n",
       "      <td>0.322917</td>\n",
       "      <td>0.185185</td>\n",
       "      <td>0.078125</td>\n",
       "      <td>0.010417</td>\n",
       "      <td>0.019676</td>\n",
       "      <td>0.899652</td>\n",
       "      <td>0.010904</td>\n",
       "      <td>0.048198</td>\n",
       "      <td>0.949305</td>\n",
       "      <td>0.058039</td>\n",
       "      <td>71599.0</td>\n",
       "      <td>12.12</td>\n",
       "      <td>2.57</td>\n",
       "      <td>1833</td>\n",
       "      <td>251400.0</td>\n",
       "      <td>681.0</td>\n",
       "      <td>45.507</td>\n",
       "      <td>-94.388</td>\n",
       "      <td>358.0</td>\n",
       "      <td>154.0</td>\n",
       "      <td>5.4</td>\n",
       "      <td>0.695</td>\n",
       "      <td>3.76</td>\n",
       "      <td>0.283660</td>\n",
       "      <td>0.075221</td>\n",
       "      <td>0.075695</td>\n",
       "      <td>0.133534</td>\n",
       "      <td>0.076327</td>\n",
       "      <td>0.138432</td>\n",
       "      <td>0.041403</td>\n",
       "      <td>0.817785</td>\n",
       "      <td>0.014355</td>\n",
       "      <td>0.176550</td>\n",
       "      <td>0.745283</td>\n",
       "      <td>0.014395</td>\n",
       "      <td>0.185051</td>\n",
       "      <td>30.9</td>\n",
       "      <td>21.0</td>\n",
       "      <td>0.323796</td>\n",
       "      <td>0.602874</td>\n",
       "      <td>0.187334</td>\n",
       "      <td>25</td>\n",
       "    </tr>\n",
       "    <tr>\n",
       "      <th>4</th>\n",
       "      <td>5.0</td>\n",
       "      <td>27145011400</td>\n",
       "      <td>89135.315597</td>\n",
       "      <td>Stearns County</td>\n",
       "      <td>0.4463</td>\n",
       "      <td>44.00151</td>\n",
       "      <td>32770.0</td>\n",
       "      <td>119.63230</td>\n",
       "      <td>mn</td>\n",
       "      <td>0.048686</td>\n",
       "      <td>0.293309</td>\n",
       "      <td>0.392473</td>\n",
       "      <td>0.195341</td>\n",
       "      <td>0.050777</td>\n",
       "      <td>0.014934</td>\n",
       "      <td>0.004480</td>\n",
       "      <td>0.953078</td>\n",
       "      <td>0.017287</td>\n",
       "      <td>0.000000</td>\n",
       "      <td>0.949359</td>\n",
       "      <td>0.049559</td>\n",
       "      <td>68401.0</td>\n",
       "      <td>12.12</td>\n",
       "      <td>2.74</td>\n",
       "      <td>1917</td>\n",
       "      <td>208600.0</td>\n",
       "      <td>882.0</td>\n",
       "      <td>45.457</td>\n",
       "      <td>-94.182</td>\n",
       "      <td>358.0</td>\n",
       "      <td>154.0</td>\n",
       "      <td>5.4</td>\n",
       "      <td>0.695</td>\n",
       "      <td>3.76</td>\n",
       "      <td>0.090616</td>\n",
       "      <td>0.142477</td>\n",
       "      <td>0.120631</td>\n",
       "      <td>0.149506</td>\n",
       "      <td>0.060410</td>\n",
       "      <td>0.128609</td>\n",
       "      <td>0.049962</td>\n",
       "      <td>0.768388</td>\n",
       "      <td>0.011084</td>\n",
       "      <td>0.043413</td>\n",
       "      <td>0.678643</td>\n",
       "      <td>0.002440</td>\n",
       "      <td>0.272710</td>\n",
       "      <td>34.5</td>\n",
       "      <td>25.0</td>\n",
       "      <td>0.323796</td>\n",
       "      <td>0.602874</td>\n",
       "      <td>0.090766</td>\n",
       "      <td>25</td>\n",
       "    </tr>\n",
       "    <tr>\n",
       "      <th>5</th>\n",
       "      <td>0.0</td>\n",
       "      <td>27145011500</td>\n",
       "      <td>62225.903614</td>\n",
       "      <td>Stearns County</td>\n",
       "      <td>0.3847</td>\n",
       "      <td>148.87050</td>\n",
       "      <td>25776.0</td>\n",
       "      <td>43.87035</td>\n",
       "      <td>mn</td>\n",
       "      <td>0.099371</td>\n",
       "      <td>0.425809</td>\n",
       "      <td>0.313624</td>\n",
       "      <td>0.117356</td>\n",
       "      <td>0.031924</td>\n",
       "      <td>0.006520</td>\n",
       "      <td>0.005396</td>\n",
       "      <td>0.957740</td>\n",
       "      <td>0.012709</td>\n",
       "      <td>0.023886</td>\n",
       "      <td>0.972635</td>\n",
       "      <td>0.037253</td>\n",
       "      <td>53353.0</td>\n",
       "      <td>12.12</td>\n",
       "      <td>2.42</td>\n",
       "      <td>2656</td>\n",
       "      <td>158700.0</td>\n",
       "      <td>533.0</td>\n",
       "      <td>45.680</td>\n",
       "      <td>-95.010</td>\n",
       "      <td>376.0</td>\n",
       "      <td>154.0</td>\n",
       "      <td>5.4</td>\n",
       "      <td>0.694</td>\n",
       "      <td>3.76</td>\n",
       "      <td>0.067677</td>\n",
       "      <td>0.123718</td>\n",
       "      <td>0.099678</td>\n",
       "      <td>0.117440</td>\n",
       "      <td>0.065993</td>\n",
       "      <td>0.156944</td>\n",
       "      <td>0.051906</td>\n",
       "      <td>0.646837</td>\n",
       "      <td>0.000612</td>\n",
       "      <td>0.066432</td>\n",
       "      <td>0.628822</td>\n",
       "      <td>0.007624</td>\n",
       "      <td>0.313149</td>\n",
       "      <td>41.3</td>\n",
       "      <td>18.0</td>\n",
       "      <td>0.323796</td>\n",
       "      <td>0.602874</td>\n",
       "      <td>0.081981</td>\n",
       "      <td>25</td>\n",
       "    </tr>\n",
       "  </tbody>\n",
       "</table>\n",
       "</div>"
      ],
      "text/plain": [
       "   solar_system_count         fips  average_household_income          county  \\\n",
       "0                 0.0  27145011200              70352.789869  Stearns County   \n",
       "2                 3.0  27145011302              71496.886583  Stearns County   \n",
       "3                 0.0  27145011304              86840.152755  Stearns County   \n",
       "4                 5.0  27145011400              89135.315597  Stearns County   \n",
       "5                 0.0  27145011500              62225.903614  Stearns County   \n",
       "\n",
       "   gini_index  land_area  per_capita_income  population_density state  \\\n",
       "0      0.3490  147.73120            26999.0            44.52005    mn   \n",
       "2      0.3926   37.44482            28021.0           186.16730    mn   \n",
       "3      0.3949   75.21147            29275.0            84.13610    mn   \n",
       "4      0.4463   44.00151            32770.0           119.63230    mn   \n",
       "5      0.3847  148.87050            25776.0            43.87035    mn   \n",
       "\n",
       "   education_less_than_high_school_rate  education_high_school_graduate_rate  \\\n",
       "0                              0.073879                             0.386324   \n",
       "2                              0.064509                             0.343973   \n",
       "3                              0.066840                             0.316840   \n",
       "4                              0.048686                             0.293309   \n",
       "5                              0.099371                             0.425809   \n",
       "\n",
       "   education_college_rate  education_bachelor_rate  education_master_rate  \\\n",
       "0                0.371592                 0.125110               0.034521   \n",
       "2                0.325670                 0.190625               0.061607   \n",
       "3                0.322917                 0.185185               0.078125   \n",
       "4                0.392473                 0.195341               0.050777   \n",
       "5                0.313624                 0.117356               0.031924   \n",
       "\n",
       "   education_professional_school_rate  education_doctoral_rate  \\\n",
       "0                            0.005717                 0.002858   \n",
       "2                            0.006696                 0.006920   \n",
       "3                            0.010417                 0.019676   \n",
       "4                            0.014934                 0.004480   \n",
       "5                            0.006520                 0.005396   \n",
       "\n",
       "   race_white_rate  race_black_africa_rate  race_other_rate  employ_rate  \\\n",
       "0         0.976129                0.002889         0.000912     0.963293   \n",
       "2         0.995410                0.000000         0.002582     0.959200   \n",
       "3         0.899652                0.010904         0.048198     0.949305   \n",
       "4         0.953078                0.017287         0.000000     0.949359   \n",
       "5         0.957740                0.012709         0.023886     0.972635   \n",
       "\n",
       "   poverty_family_below_poverty_level_rate  median_household_income  \\\n",
       "0                                 0.044479                  64232.0   \n",
       "2                                 0.068332                  63355.0   \n",
       "3                                 0.058039                  71599.0   \n",
       "4                                 0.049559                  68401.0   \n",
       "5                                 0.037253                  53353.0   \n",
       "\n",
       "   electricity_price_residential  average_household_size  \\\n",
       "0                          12.12                    2.58   \n",
       "2                          12.12                    2.55   \n",
       "3                          12.12                    2.57   \n",
       "4                          12.12                    2.74   \n",
       "5                          12.12                    2.42   \n",
       "\n",
       "   housing_unit_occupied_count  housing_unit_median_value  \\\n",
       "0                         2527                   192500.0   \n",
       "2                         2698                   182400.0   \n",
       "3                         1833                   251400.0   \n",
       "4                         1917                   208600.0   \n",
       "5                         2656                   158700.0   \n",
       "\n",
       "   housing_unit_median_gross_rent  latitude  longitude  elevation  frost_days  \\\n",
       "0                           814.0    45.369    -94.282      358.0       154.0   \n",
       "2                           692.0    45.460    -94.425      358.0       154.0   \n",
       "3                           681.0    45.507    -94.388      358.0       154.0   \n",
       "4                           882.0    45.457    -94.182      358.0       154.0   \n",
       "5                           533.0    45.680    -95.010      376.0       154.0   \n",
       "\n",
       "   air_temperature  relative_humidity  daily_solar_radiation  age_18_24_rate  \\\n",
       "0              5.4              0.695                   3.76        0.078759   \n",
       "2              5.4              0.695                   3.76        0.079902   \n",
       "3              5.4              0.695                   3.76        0.283660   \n",
       "4              5.4              0.695                   3.76        0.090616   \n",
       "5              5.4              0.694                   3.76        0.067677   \n",
       "\n",
       "   age_25_34_rate  age_35_44_rate  age_45_54_rate  age_65_74_rate  \\\n",
       "0        0.095028        0.109624        0.189600        0.085145   \n",
       "2        0.093817        0.120069        0.151485        0.079759   \n",
       "3        0.075221        0.075695        0.133534        0.076327   \n",
       "4        0.142477        0.120631        0.149506        0.060410   \n",
       "5        0.123718        0.099678        0.117440        0.065993   \n",
       "\n",
       "   age_55_64_rate  age_10_14_rate  household_type_family_rate  \\\n",
       "0        0.157671        0.075262                    0.756233   \n",
       "2        0.114474        0.100273                    0.726835   \n",
       "3        0.138432        0.041403                    0.817785   \n",
       "4        0.128609        0.049962                    0.768388   \n",
       "5        0.156944        0.051906                    0.646837   \n",
       "\n",
       "   occupation_information_rate  occupancy_vacant_rate  occupancy_owner_rate  \\\n",
       "0                     0.012609               0.137837              0.776868   \n",
       "2                     0.004789               0.072534              0.776212   \n",
       "3                     0.014355               0.176550              0.745283   \n",
       "4                     0.011084               0.043413              0.678643   \n",
       "5                     0.000612               0.066432              0.628822   \n",
       "\n",
       "   transportation_public_rate  health_insurance_public_rate  age_median  \\\n",
       "0                    0.003669                      0.249962        43.9   \n",
       "2                    0.000000                      0.255264        39.6   \n",
       "3                    0.014395                      0.185051        30.9   \n",
       "4                    0.002440                      0.272710        34.5   \n",
       "5                    0.007624                      0.313149        41.3   \n",
       "\n",
       "   travel_time_average  voting_2016_dem_percentage  \\\n",
       "0                 29.0                    0.323796   \n",
       "2                 21.0                    0.323796   \n",
       "3                 21.0                    0.323796   \n",
       "4                 25.0                    0.323796   \n",
       "5                 18.0                    0.323796   \n",
       "\n",
       "   voting_2016_gop_percentage  diversity  property_tax  \n",
       "0                    0.602874   0.046960            25  \n",
       "2                    0.602874   0.009150            25  \n",
       "3                    0.602874   0.187334            25  \n",
       "4                    0.602874   0.090766            25  \n",
       "5                    0.602874   0.081981            25  "
      ]
     },
     "execution_count": 40,
     "metadata": {},
     "output_type": "execute_result"
    }
   ],
   "source": [
    "df_sol_copy.head()"
   ]
  },
  {
   "cell_type": "code",
   "execution_count": 41,
   "metadata": {},
   "outputs": [],
   "source": [
    "col = df_sol_copy.columns.tolist()\n",
    "#print(col)"
   ]
  },
  {
   "cell_type": "code",
   "execution_count": 42,
   "metadata": {
    "scrolled": true
   },
   "outputs": [
    {
     "data": {
      "text/plain": [
       "False"
      ]
     },
     "execution_count": 42,
     "metadata": {},
     "output_type": "execute_result"
    }
   ],
   "source": [
    "'race_asian' in col"
   ]
  },
  {
   "cell_type": "markdown",
   "metadata": {},
   "source": [
    "### Check df formats for lon/lat in solar and listings databases"
   ]
  },
  {
   "cell_type": "markdown",
   "metadata": {},
   "source": [
    "##### Listings"
   ]
  },
  {
   "cell_type": "code",
   "execution_count": 43,
   "metadata": {
    "scrolled": false
   },
   "outputs": [],
   "source": [
    "coords_l = conn.execute(\"\"\"\n",
    "select cast(longitude as float),\n",
    "cast(latitude as float)\n",
    "from listings;\"\"\").fetchall()"
   ]
  },
  {
   "cell_type": "code",
   "execution_count": 44,
   "metadata": {
    "scrolled": false
   },
   "outputs": [
    {
     "data": {
      "text/plain": [
       "[(-73.78867963460138, 40.85205377887418),\n",
       " (-73.78860659381962, 40.85349118988138),\n",
       " (-73.78305228672215, 40.84114416028828),\n",
       " (-73.78660938743727, 40.84977456920603)]"
      ]
     },
     "execution_count": 44,
     "metadata": {},
     "output_type": "execute_result"
    }
   ],
   "source": [
    "coords_l[:4]"
   ]
  },
  {
   "cell_type": "markdown",
   "metadata": {},
   "source": [
    "#### solar"
   ]
  },
  {
   "cell_type": "code",
   "execution_count": 45,
   "metadata": {},
   "outputs": [],
   "source": [
    "coords_s = conn.execute(\"\"\"\n",
    "select cast(longitude as float),\n",
    "cast(latitude as float)\n",
    "from deepsolar_tract;\"\"\").fetchall()"
   ]
  },
  {
   "cell_type": "code",
   "execution_count": 46,
   "metadata": {
    "scrolled": true
   },
   "outputs": [
    {
     "data": {
      "text/plain": [
       "[(-94.28200000000001, 45.369),\n",
       " (None, None),\n",
       " (-94.425, 45.46),\n",
       " (-94.38799999999999, 45.507)]"
      ]
     },
     "execution_count": 46,
     "metadata": {},
     "output_type": "execute_result"
    }
   ],
   "source": [
    "coords_s[:4]"
   ]
  },
  {
   "cell_type": "markdown",
   "metadata": {},
   "source": [
    "https://www.bigendiandata.com/2017-06-27-Mapping_in_Jupyter/"
   ]
  },
  {
   "cell_type": "markdown",
   "metadata": {},
   "source": [
    "#### Some interesting visualizations"
   ]
  },
  {
   "cell_type": "code",
   "execution_count": 48,
   "metadata": {
    "scrolled": false
   },
   "outputs": [
    {
     "data": {
      "image/png": "[encoded data removed]",
      "text/plain": [
       "<Figure size 720x360 with 2 Axes>"
      ]
     },
     "metadata": {},
     "output_type": "display_data"
    }
   ],
   "source": [
    "df_sol_copy.plot(kind=\"scatter\", x=\"longitude\", y=\"latitude\", alpha=0.2,\n",
    "                edgecolor = 'black',s=df_sol_copy['population_density']/100, label=\"density\",\n",
    "                c = 'property_tax',cmap=plt.get_cmap(\"jet\"),\n",
    "    colorbar=True, figsize=(10,5),\n",
    ")\n",
    "plt.legend()\n",
    "plt.show()\n",
    "plt.show()"
   ]
  },
  {
   "cell_type": "code",
   "execution_count": 49,
   "metadata": {},
   "outputs": [],
   "source": [
    "df_ny = df_sol_copy[df_sol_copy['state']=='ny']"
   ]
  },
  {
   "cell_type": "code",
   "execution_count": 50,
   "metadata": {
    "scrolled": false
   },
   "outputs": [
    {
     "data": {
      "image/png": "[encoded data removed]",
      "text/plain": [
       "<Figure size 720x360 with 2 Axes>"
      ]
     },
     "metadata": {},
     "output_type": "display_data"
    }
   ],
   "source": [
    "df_ny.plot(kind=\"scatter\", x=\"longitude\", y=\"latitude\", alpha=0.2,edgecolor = 'black',\n",
    "                s=df_ny['population_density']/100, label=\"density\",\n",
    "                c = 'diversity',cmap=plt.get_cmap(\"jet\"),\n",
    "    colorbar=True, figsize=(10,5),\n",
    ")\n",
    "plt.legend()\n",
    "plt.show()\n",
    "plt.show()"
   ]
  },
  {
   "cell_type": "markdown",
   "metadata": {},
   "source": [
    "### Filter out all the states but those in the s_list for solar DF and lisitngs DF"
   ]
  },
  {
   "cell_type": "code",
   "execution_count": 52,
   "metadata": {},
   "outputs": [],
   "source": [
    "s_list = ['NY','MA','CO','IL','DC']"
   ]
  },
  {
   "cell_type": "markdown",
   "metadata": {},
   "source": [
    "## df_solar"
   ]
  },
  {
   "cell_type": "code",
   "execution_count": 53,
   "metadata": {
    "scrolled": true
   },
   "outputs": [
    {
     "name": "stdout",
     "output_type": "stream",
     "text": [
      "size of old solar DF (66735, 53)\n",
      "size of new solar DF (10652, 53)\n"
     ]
    }
   ],
   "source": [
    "df_solar = df_sol_copy[df_sol_copy['state'].isin([x.lower() for x in s_list])]\n",
    "print('size of old solar DF',df_sol_copy.shape)                 \n",
    "print('size of new solar DF',df_solar.shape)                                                "
   ]
  },
  {
   "cell_type": "code",
   "execution_count": 47,
   "metadata": {
    "scrolled": true
   },
   "outputs": [
    {
     "data": {
      "text/plain": [
       "{'co', 'dc', 'il', 'ma', 'ny'}"
      ]
     },
     "execution_count": 47,
     "metadata": {},
     "output_type": "execute_result"
    }
   ],
   "source": [
    "## check\n",
    "set(df_solar.state.tolist())"
   ]
  },
  {
   "cell_type": "code",
   "execution_count": 55,
   "metadata": {
    "scrolled": true
   },
   "outputs": [
    {
     "name": "stdout",
     "output_type": "stream",
     "text": [
      "size of old listings  DF (59824, 28)\n",
      "size of new listings DF (59790, 28)\n"
     ]
    }
   ],
   "source": [
    "df_listings = df_lis[df_lis['state'].isin(s_list)]\n",
    "print('size of old listings  DF',df_lis.shape)                 \n",
    "print('size of new listings DF',df_listings.shape)   "
   ]
  },
  {
   "cell_type": "code",
   "execution_count": 97,
   "metadata": {},
   "outputs": [
    {
     "data": {
      "text/plain": [
       "{'CO', 'DC', 'IL', 'MA', 'NY'}"
      ]
     },
     "execution_count": 97,
     "metadata": {},
     "output_type": "execute_result"
    }
   ],
   "source": [
    "set(df_listings.state.tolist())"
   ]
  },
  {
   "cell_type": "markdown",
   "metadata": {},
   "source": [
    "### We can do merge on DF that has average solar features per each \"metropolitan\" area"
   ]
  },
  {
   "cell_type": "markdown",
   "metadata": {},
   "source": [
    "### Plot overlay of df_solar (for states that are present in df_lis DF) and sf_lis"
   ]
  },
  {
   "cell_type": "markdown",
   "metadata": {},
   "source": [
    "https://www.bigendiandata.com/2017-06-27-Mapping_in_Jupyter/"
   ]
  },
  {
   "cell_type": "code",
   "execution_count": 60,
   "metadata": {
    "scrolled": true
   },
   "outputs": [
    {
     "data": {
      "image/png": "[encoded data removed]",
      "text/plain": [
       "<Figure size 720x360 with 1 Axes>"
      ]
     },
     "metadata": {},
     "output_type": "display_data"
    }
   ],
   "source": [
    "ax = df_solar.plot(kind=\"scatter\", x=\"longitude\", y=\"latitude\", alpha=0.2,\n",
    "                edgecolor = 'black',figsize=(10,5), color = 'r',legend=True, label = 'solar'\n",
    ")\n",
    "df_lis.plot(kind=\"scatter\", x=\"longitude\", y=\"latitude\",color ='blue', alpha=0.05,\n",
    "                edgecolor = 'white',figsize=(10,5), ax=ax, label = 'listings'\n",
    ")\n",
    "\n",
    "plt.legend()\n",
    "plt.show()\n"
   ]
  },
  {
   "cell_type": "markdown",
   "metadata": {},
   "source": [
    "#### IT looks like DC metropolitan area doesn't have solar data, but in fact, it does"
   ]
  },
  {
   "cell_type": "code",
   "execution_count": 61,
   "metadata": {
    "scrolled": false
   },
   "outputs": [
    {
     "data": {
      "image/png": "[encoded data removed]",
      "text/plain": [
       "<Figure size 720x360 with 1 Axes>"
      ]
     },
     "metadata": {},
     "output_type": "display_data"
    }
   ],
   "source": [
    "df_solar.plot(kind=\"scatter\", x=\"longitude\", y=\"latitude\", alpha=0.2,\n",
    "                figsize=(10,5), color = 'r',legend=True, label = 'solar')\n",
    "plt.show()"
   ]
  },
  {
   "cell_type": "markdown",
   "metadata": {},
   "source": [
    "#### densty of listings points are much higher that density of solar points in DC metropolitan area.\n",
    "- print coordinates of one oint from DC area (solar DF)"
   ]
  },
  {
   "cell_type": "code",
   "execution_count": 62,
   "metadata": {
    "scrolled": false
   },
   "outputs": [
    {
     "name": "stdout",
     "output_type": "stream",
     "text": [
      "point longitude from solar: [-77.053] \n",
      " point latitude from solar: [38.915]\n"
     ]
    }
   ],
   "source": [
    "\n",
    "print('point longitude from solar:',df_solar[df_solar['state']=='dc'].longitude[:1].values,\n",
    "      '\\n','point latitude from solar:',df_solar[df_solar['state']=='dc'].latitude[:1].values)\n",
    "      "
   ]
  },
  {
   "cell_type": "markdown",
   "metadata": {},
   "source": [
    "### cities and counties in solar database:\n",
    "- New York - New York County\n",
    "- Denver - Denver County\n",
    "- Chicago - Cook County\n",
    "- Boston - Suffolk County\n",
    "- Washington DC - District of Columbia\n"
   ]
  },
  {
   "cell_type": "code",
   "execution_count": 63,
   "metadata": {},
   "outputs": [
    {
     "data": {
      "text/plain": [
       "['NY', 'MA', 'CO', 'IL', 'DC']"
      ]
     },
     "execution_count": 63,
     "metadata": {},
     "output_type": "execute_result"
    }
   ],
   "source": [
    "## states \n",
    "s_list"
   ]
  },
  {
   "cell_type": "code",
   "execution_count": 64,
   "metadata": {},
   "outputs": [],
   "source": [
    "## ... and corresponding counties\n",
    "counties = ['New York County','Suffolk County','Denver County','Cook County' ]"
   ]
  },
  {
   "cell_type": "code",
   "execution_count": null,
   "metadata": {},
   "outputs": [],
   "source": []
  },
  {
   "cell_type": "code",
   "execution_count": 65,
   "metadata": {
    "scrolled": true
   },
   "outputs": [
    {
     "data": {
      "text/plain": [
       "{'ma', 'ny'}"
      ]
     },
     "execution_count": 65,
     "metadata": {},
     "output_type": "execute_result"
    }
   ],
   "source": [
    "##There is Suffolk County in NY! So we need to filter by county and state\n",
    "set(df_solar[df_solar['county']=='Suffolk County'].state.tolist())\n",
    "\n"
   ]
  },
  {
   "cell_type": "markdown",
   "metadata": {},
   "source": [
    "#### points in solar DF where 'Suffolk Count';  is in  'NY'"
   ]
  },
  {
   "cell_type": "code",
   "execution_count": 66,
   "metadata": {
    "scrolled": true
   },
   "outputs": [
    {
     "data": {
      "text/plain": [
       "323"
      ]
     },
     "execution_count": 66,
     "metadata": {},
     "output_type": "execute_result"
    }
   ],
   "source": [
    "df_solar[(df_solar['county']=='Suffolk County') & (df_solar['state']=='ny')].shape[0]"
   ]
  },
  {
   "cell_type": "markdown",
   "metadata": {},
   "source": [
    "#### points in solar DF where 'Suffolk Count';  is in  'MA'"
   ]
  },
  {
   "cell_type": "code",
   "execution_count": 67,
   "metadata": {
    "scrolled": true
   },
   "outputs": [
    {
     "data": {
      "text/plain": [
       "150"
      ]
     },
     "execution_count": 67,
     "metadata": {},
     "output_type": "execute_result"
    }
   ],
   "source": [
    "df_solar[(df_solar['county']=='Suffolk County') & (df_solar['state']=='ma')].shape[0]\n",
    "\n"
   ]
  },
  {
   "cell_type": "markdown",
   "metadata": {},
   "source": [
    "### find out how many rows of solar DF are in each metropolitan area in listing DF "
   ]
  },
  {
   "cell_type": "code",
   "execution_count": 68,
   "metadata": {
    "scrolled": true
   },
   "outputs": [
    {
     "name": "stdout",
     "output_type": "stream",
     "text": [
      "NY : New York County 288 rows\n",
      "MA : Suffolk County 150 rows\n",
      "CO : Denver County 144 rows\n",
      "IL : Cook County 1318 rows\n",
      "DC : 158 rows\n",
      "NY : Suffolk County 323 rows\n"
     ]
    }
   ],
   "source": [
    "for s,c in zip([x.lower() for x in s_list],counties):\n",
    "    \n",
    "    print(s.upper(),':',c,df_solar[(df_solar['state']==s) & (df_solar['county']==c)].shape[0],'rows')\n",
    "for s in [x.lower() for x in s_list]:\n",
    "    if s == 'dc':\n",
    "        print(s.upper(),':',df_solar[df_solar['state']==s].shape[0],'rows')\n",
    "\n",
    "print('NY',':','Suffolk County',df_solar[(df_solar['state']=='ny') & (df_solar['county']=='Suffolk County')].shape[0],'rows')\n",
    "    "
   ]
  },
  {
   "cell_type": "markdown",
   "metadata": {},
   "source": [
    "### concatenate DataFrames "
   ]
  },
  {
   "cell_type": "code",
   "execution_count": 69,
   "metadata": {},
   "outputs": [],
   "source": [
    "df_solar_w = pd.concat([df_solar[df_solar['state']=='dc'],df_solar[(df_solar['state'].isin([x.lower() for x in s_list])) & (df_solar['county'].isin(counties))]])\n",
    "\n"
   ]
  },
  {
   "cell_type": "code",
   "execution_count": 70,
   "metadata": {
    "scrolled": true
   },
   "outputs": [
    {
     "data": {
      "text/plain": [
       "(2381, 53)"
      ]
     },
     "execution_count": 70,
     "metadata": {},
     "output_type": "execute_result"
    }
   ],
   "source": [
    "df_solar_w.shape"
   ]
  },
  {
   "cell_type": "code",
   "execution_count": 71,
   "metadata": {
    "scrolled": true
   },
   "outputs": [
    {
     "data": {
      "text/plain": [
       "(323, 53)"
      ]
     },
     "execution_count": 71,
     "metadata": {},
     "output_type": "execute_result"
    }
   ],
   "source": [
    "## sanity check\n",
    "df_solar_w[(df_solar_w['state']=='ny') & (df_solar_w['county']=='Suffolk County')].shape\n",
    "           "
   ]
  },
  {
   "cell_type": "markdown",
   "metadata": {},
   "source": [
    "#### list of metropolitan areas"
   ]
  },
  {
   "cell_type": "code",
   "execution_count": 73,
   "metadata": {
    "scrolled": true
   },
   "outputs": [
    {
     "data": {
      "text/plain": [
       "['NYC', 'denver', 'chicago', 'boston']"
      ]
     },
     "execution_count": 73,
     "metadata": {},
     "output_type": "execute_result"
    }
   ],
   "source": [
    "metro_list = list(pd.unique(df_lis.metropolitan))\n",
    "metro_list[:-1]"
   ]
  },
  {
   "cell_type": "code",
   "execution_count": 74,
   "metadata": {},
   "outputs": [
    {
     "data": {
      "text/plain": [
       "['NYC', 'denver', 'chicago', 'boston', 'dc']"
      ]
     },
     "execution_count": 74,
     "metadata": {},
     "output_type": "execute_result"
    }
   ],
   "source": [
    "metro_list"
   ]
  },
  {
   "cell_type": "raw",
   "metadata": {},
   "source": [
    "NY : New York County 288 rows\n",
    "MA : Suffolk County 150 rows\n",
    "CO : Denver County 144 rows\n",
    "IL : Cook County 1318 rows\n",
    "DC : 158 rows\n",
    "NY : Suffolk County 323 rows"
   ]
  },
  {
   "cell_type": "code",
   "execution_count": 413,
   "metadata": {
    "scrolled": true
   },
   "outputs": [
    {
     "data": {
      "text/plain": [
       "611"
      ]
     },
     "execution_count": 413,
     "metadata": {},
     "output_type": "execute_result"
    }
   ],
   "source": [
    "288+323"
   ]
  },
  {
   "cell_type": "markdown",
   "metadata": {},
   "source": [
    "### Assign 'metropolitan' area to each row of df_solar_w database"
   ]
  },
  {
   "cell_type": "code",
   "execution_count": 75,
   "metadata": {},
   "outputs": [],
   "source": [
    "### create metro list\n",
    "metro = []\n",
    "for s,c in zip(df_solar_w.state.tolist(),df_solar_w.county.tolist()):\n",
    "    if s == 'ny' and (c == 'New York County' or c=='Suffolk County'):\n",
    "        metro.append('NYC')\n",
    "    elif s == 'ma' and c == 'Suffolk County':\n",
    "        metro.append('boston')\n",
    "    elif s == 'co' and c == 'Denver County':\n",
    "        metro.append('denver')\n",
    "    elif s == 'il' and c == 'Cook County':\n",
    "        metro.append('chicago')\n",
    "    else:\n",
    "        metro.append('dc')\n",
    "        \n",
    "        \n",
    "        "
   ]
  },
  {
   "cell_type": "code",
   "execution_count": 76,
   "metadata": {
    "scrolled": true
   },
   "outputs": [
    {
     "name": "stdout",
     "output_type": "stream",
     "text": [
      "total number of rows for NYC metro area: 611\n",
      "length of the metro list 2381\n"
     ]
    }
   ],
   "source": [
    "## Check num of rowa\n",
    "ny_i = 0\n",
    "for i in metro:\n",
    "    if i=='NYC':\n",
    "        ny_i += 1\n",
    "print('total number of rows for NYC metro area:',ny_i)\n",
    "print('length of the metro list', len(metro))"
   ]
  },
  {
   "cell_type": "code",
   "execution_count": 77,
   "metadata": {
    "scrolled": false
   },
   "outputs": [],
   "source": [
    "### add metro list to DF as column \n",
    "df_solar_w['metropolitan']=metro"
   ]
  },
  {
   "cell_type": "code",
   "execution_count": 71,
   "metadata": {},
   "outputs": [
    {
     "data": {
      "text/plain": [
       "True"
      ]
     },
     "execution_count": 71,
     "metadata": {},
     "output_type": "execute_result"
    }
   ],
   "source": [
    "'metropolitan' in df_solar_w.columns.tolist()"
   ]
  },
  {
   "cell_type": "code",
   "execution_count": 78,
   "metadata": {
    "scrolled": true
   },
   "outputs": [
    {
     "data": {
      "text/plain": [
       "611"
      ]
     },
     "execution_count": 78,
     "metadata": {},
     "output_type": "execute_result"
    }
   ],
   "source": [
    "df_solar_w[df_solar_w['metropolitan']=='NYC'].shape[0]"
   ]
  },
  {
   "cell_type": "code",
   "execution_count": 79,
   "metadata": {},
   "outputs": [
    {
     "data": {
      "text/plain": [
       "(2381, 54)"
      ]
     },
     "execution_count": 79,
     "metadata": {},
     "output_type": "execute_result"
    }
   ],
   "source": [
    "df_solar_w.shape"
   ]
  },
  {
   "cell_type": "code",
   "execution_count": 80,
   "metadata": {
    "scrolled": false
   },
   "outputs": [
    {
     "data": {
      "text/plain": [
       "(59790, 28)"
      ]
     },
     "execution_count": 80,
     "metadata": {},
     "output_type": "execute_result"
    }
   ],
   "source": [
    "df_listings.shape"
   ]
  },
  {
   "cell_type": "markdown",
   "metadata": {},
   "source": [
    "### create database that shows solar DF averge per metropolitan area values\n",
    "- ave values are based on sample size = 2381"
   ]
  },
  {
   "cell_type": "code",
   "execution_count": 93,
   "metadata": {
    "scrolled": true
   },
   "outputs": [
    {
     "data": {
      "text/html": [
       "<div>\n",
       "<style scoped>\n",
       "    .dataframe tbody tr th:only-of-type {\n",
       "        vertical-align: middle;\n",
       "    }\n",
       "\n",
       "    .dataframe tbody tr th {\n",
       "        vertical-align: top;\n",
       "    }\n",
       "\n",
       "    .dataframe thead th {\n",
       "        text-align: right;\n",
       "    }\n",
       "</style>\n",
       "<table border=\"1\" class=\"dataframe\">\n",
       "  <thead>\n",
       "    <tr style=\"text-align: right;\">\n",
       "      <th></th>\n",
       "      <th>metropolitan</th>\n",
       "      <th>solar_system_count</th>\n",
       "      <th>fips</th>\n",
       "      <th>average_household_income</th>\n",
       "      <th>gini_index</th>\n",
       "      <th>land_area</th>\n",
       "      <th>per_capita_income</th>\n",
       "      <th>population_density</th>\n",
       "      <th>education_less_than_high_school_rate</th>\n",
       "      <th>education_high_school_graduate_rate</th>\n",
       "      <th>education_college_rate</th>\n",
       "      <th>education_bachelor_rate</th>\n",
       "      <th>education_master_rate</th>\n",
       "      <th>education_professional_school_rate</th>\n",
       "      <th>education_doctoral_rate</th>\n",
       "      <th>race_white_rate</th>\n",
       "      <th>race_black_africa_rate</th>\n",
       "      <th>race_other_rate</th>\n",
       "      <th>employ_rate</th>\n",
       "      <th>poverty_family_below_poverty_level_rate</th>\n",
       "      <th>median_household_income</th>\n",
       "      <th>electricity_price_residential</th>\n",
       "      <th>average_household_size</th>\n",
       "      <th>housing_unit_occupied_count</th>\n",
       "      <th>housing_unit_median_value</th>\n",
       "      <th>housing_unit_median_gross_rent</th>\n",
       "      <th>latitude</th>\n",
       "      <th>longitude</th>\n",
       "      <th>elevation</th>\n",
       "      <th>frost_days</th>\n",
       "      <th>air_temperature</th>\n",
       "      <th>relative_humidity</th>\n",
       "      <th>daily_solar_radiation</th>\n",
       "      <th>age_18_24_rate</th>\n",
       "      <th>age_25_34_rate</th>\n",
       "      <th>age_35_44_rate</th>\n",
       "      <th>age_45_54_rate</th>\n",
       "      <th>age_65_74_rate</th>\n",
       "      <th>age_55_64_rate</th>\n",
       "      <th>age_10_14_rate</th>\n",
       "      <th>household_type_family_rate</th>\n",
       "      <th>occupation_information_rate</th>\n",
       "      <th>occupancy_vacant_rate</th>\n",
       "      <th>occupancy_owner_rate</th>\n",
       "      <th>transportation_public_rate</th>\n",
       "      <th>health_insurance_public_rate</th>\n",
       "      <th>age_median</th>\n",
       "      <th>travel_time_average</th>\n",
       "      <th>voting_2016_dem_percentage</th>\n",
       "      <th>voting_2016_gop_percentage</th>\n",
       "      <th>diversity</th>\n",
       "      <th>property_tax</th>\n",
       "    </tr>\n",
       "  </thead>\n",
       "  <tbody>\n",
       "    <tr>\n",
       "      <th>0</th>\n",
       "      <td>NYC</td>\n",
       "      <td>40.707038</td>\n",
       "      <td>3.608329e+10</td>\n",
       "      <td>123107.121367</td>\n",
       "      <td>0.456462</td>\n",
       "      <td>1.530082</td>\n",
       "      <td>53267.883914</td>\n",
       "      <td>43232.419869</td>\n",
       "      <td>0.110687</td>\n",
       "      <td>0.214640</td>\n",
       "      <td>0.207699</td>\n",
       "      <td>0.248794</td>\n",
       "      <td>0.146879</td>\n",
       "      <td>0.046743</td>\n",
       "      <td>0.024558</td>\n",
       "      <td>0.705810</td>\n",
       "      <td>0.112064</td>\n",
       "      <td>0.071701</td>\n",
       "      <td>0.928480</td>\n",
       "      <td>0.085225</td>\n",
       "      <td>89282.933222</td>\n",
       "      <td>18.54</td>\n",
       "      <td>2.596910</td>\n",
       "      <td>2036.445172</td>\n",
       "      <td>619931.789474</td>\n",
       "      <td>1667.806563</td>\n",
       "      <td>40.800822</td>\n",
       "      <td>-73.513782</td>\n",
       "      <td>63.450082</td>\n",
       "      <td>61.042553</td>\n",
       "      <td>12.192962</td>\n",
       "      <td>0.658401</td>\n",
       "      <td>3.989902</td>\n",
       "      <td>0.094487</td>\n",
       "      <td>0.164562</td>\n",
       "      <td>0.138395</td>\n",
       "      <td>0.146322</td>\n",
       "      <td>0.082336</td>\n",
       "      <td>0.124430</td>\n",
       "      <td>0.051383</td>\n",
       "      <td>0.600171</td>\n",
       "      <td>0.041940</td>\n",
       "      <td>0.118039</td>\n",
       "      <td>0.475078</td>\n",
       "      <td>0.318608</td>\n",
       "      <td>0.283024</td>\n",
       "      <td>39.762189</td>\n",
       "      <td>31.111481</td>\n",
       "      <td>0.644856</td>\n",
       "      <td>0.324427</td>\n",
       "      <td>0.355624</td>\n",
       "      <td>40.0</td>\n",
       "    </tr>\n",
       "    <tr>\n",
       "      <th>1</th>\n",
       "      <td>boston</td>\n",
       "      <td>11.226667</td>\n",
       "      <td>2.502514e+10</td>\n",
       "      <td>79496.360209</td>\n",
       "      <td>0.473597</td>\n",
       "      <td>0.289267</td>\n",
       "      <td>35915.493151</td>\n",
       "      <td>24491.441940</td>\n",
       "      <td>0.151012</td>\n",
       "      <td>0.225567</td>\n",
       "      <td>0.192909</td>\n",
       "      <td>0.237649</td>\n",
       "      <td>0.120754</td>\n",
       "      <td>0.040574</td>\n",
       "      <td>0.031535</td>\n",
       "      <td>0.552541</td>\n",
       "      <td>0.235363</td>\n",
       "      <td>0.078413</td>\n",
       "      <td>0.910292</td>\n",
       "      <td>0.156856</td>\n",
       "      <td>57743.584507</td>\n",
       "      <td>19.83</td>\n",
       "      <td>2.400694</td>\n",
       "      <td>1446.786667</td>\n",
       "      <td>409433.333333</td>\n",
       "      <td>1320.711268</td>\n",
       "      <td>42.333107</td>\n",
       "      <td>-71.078713</td>\n",
       "      <td>132.053333</td>\n",
       "      <td>119.920000</td>\n",
       "      <td>9.510667</td>\n",
       "      <td>0.646387</td>\n",
       "      <td>3.707467</td>\n",
       "      <td>0.150646</td>\n",
       "      <td>0.228711</td>\n",
       "      <td>0.126905</td>\n",
       "      <td>0.116294</td>\n",
       "      <td>0.066081</td>\n",
       "      <td>0.095632</td>\n",
       "      <td>0.041398</td>\n",
       "      <td>0.497131</td>\n",
       "      <td>0.020998</td>\n",
       "      <td>0.080431</td>\n",
       "      <td>0.320713</td>\n",
       "      <td>0.327859</td>\n",
       "      <td>0.386115</td>\n",
       "      <td>33.839041</td>\n",
       "      <td>30.195804</td>\n",
       "      <td>0.794723</td>\n",
       "      <td>0.164874</td>\n",
       "      <td>0.445939</td>\n",
       "      <td>42.0</td>\n",
       "    </tr>\n",
       "    <tr>\n",
       "      <th>2</th>\n",
       "      <td>chicago</td>\n",
       "      <td>1.949924</td>\n",
       "      <td>1.703157e+10</td>\n",
       "      <td>75779.028975</td>\n",
       "      <td>0.443056</td>\n",
       "      <td>0.717243</td>\n",
       "      <td>30399.145247</td>\n",
       "      <td>13866.423747</td>\n",
       "      <td>0.158299</td>\n",
       "      <td>0.244823</td>\n",
       "      <td>0.256141</td>\n",
       "      <td>0.203525</td>\n",
       "      <td>0.096310</td>\n",
       "      <td>0.026953</td>\n",
       "      <td>0.013948</td>\n",
       "      <td>0.532563</td>\n",
       "      <td>0.291662</td>\n",
       "      <td>0.089685</td>\n",
       "      <td>0.874075</td>\n",
       "      <td>0.156765</td>\n",
       "      <td>57277.405632</td>\n",
       "      <td>12.50</td>\n",
       "      <td>2.743567</td>\n",
       "      <td>1474.172231</td>\n",
       "      <td>241876.457055</td>\n",
       "      <td>1064.705701</td>\n",
       "      <td>41.861513</td>\n",
       "      <td>-87.737203</td>\n",
       "      <td>211.220789</td>\n",
       "      <td>103.160850</td>\n",
       "      <td>10.055918</td>\n",
       "      <td>0.689275</td>\n",
       "      <td>3.782178</td>\n",
       "      <td>0.098910</td>\n",
       "      <td>0.166498</td>\n",
       "      <td>0.135564</td>\n",
       "      <td>0.130393</td>\n",
       "      <td>0.068757</td>\n",
       "      <td>0.115115</td>\n",
       "      <td>0.062209</td>\n",
       "      <td>0.623928</td>\n",
       "      <td>0.021664</td>\n",
       "      <td>0.115557</td>\n",
       "      <td>0.493497</td>\n",
       "      <td>0.210341</td>\n",
       "      <td>0.338991</td>\n",
       "      <td>36.526312</td>\n",
       "      <td>33.149163</td>\n",
       "      <td>0.743758</td>\n",
       "      <td>0.214193</td>\n",
       "      <td>0.350921</td>\n",
       "      <td>17.0</td>\n",
       "    </tr>\n",
       "    <tr>\n",
       "      <th>3</th>\n",
       "      <td>dc</td>\n",
       "      <td>13.930380</td>\n",
       "      <td>1.100101e+10</td>\n",
       "      <td>101323.351404</td>\n",
       "      <td>0.465965</td>\n",
       "      <td>0.344261</td>\n",
       "      <td>45770.867089</td>\n",
       "      <td>16783.276563</td>\n",
       "      <td>0.114589</td>\n",
       "      <td>0.208102</td>\n",
       "      <td>0.184543</td>\n",
       "      <td>0.213795</td>\n",
       "      <td>0.169800</td>\n",
       "      <td>0.074951</td>\n",
       "      <td>0.034221</td>\n",
       "      <td>0.362121</td>\n",
       "      <td>0.537825</td>\n",
       "      <td>0.036930</td>\n",
       "      <td>0.880860</td>\n",
       "      <td>0.143547</td>\n",
       "      <td>75159.576923</td>\n",
       "      <td>12.99</td>\n",
       "      <td>2.323567</td>\n",
       "      <td>1539.829114</td>\n",
       "      <td>486466.666667</td>\n",
       "      <td>1367.397436</td>\n",
       "      <td>38.906778</td>\n",
       "      <td>-77.007418</td>\n",
       "      <td>107.556962</td>\n",
       "      <td>71.455696</td>\n",
       "      <td>13.721519</td>\n",
       "      <td>0.627329</td>\n",
       "      <td>3.984430</td>\n",
       "      <td>0.118266</td>\n",
       "      <td>0.219748</td>\n",
       "      <td>0.137977</td>\n",
       "      <td>0.121524</td>\n",
       "      <td>0.065020</td>\n",
       "      <td>0.110299</td>\n",
       "      <td>0.039144</td>\n",
       "      <td>0.468801</td>\n",
       "      <td>0.038034</td>\n",
       "      <td>0.101935</td>\n",
       "      <td>0.391230</td>\n",
       "      <td>0.381829</td>\n",
       "      <td>0.373188</td>\n",
       "      <td>35.264557</td>\n",
       "      <td>30.757962</td>\n",
       "      <td>0.928466</td>\n",
       "      <td>0.041221</td>\n",
       "      <td>0.349276</td>\n",
       "      <td>5.0</td>\n",
       "    </tr>\n",
       "    <tr>\n",
       "      <th>4</th>\n",
       "      <td>denver</td>\n",
       "      <td>34.583333</td>\n",
       "      <td>8.031018e+09</td>\n",
       "      <td>78372.568650</td>\n",
       "      <td>0.444367</td>\n",
       "      <td>1.062501</td>\n",
       "      <td>36196.440559</td>\n",
       "      <td>7619.991374</td>\n",
       "      <td>0.143656</td>\n",
       "      <td>0.177938</td>\n",
       "      <td>0.237135</td>\n",
       "      <td>0.269306</td>\n",
       "      <td>0.117138</td>\n",
       "      <td>0.036533</td>\n",
       "      <td>0.018293</td>\n",
       "      <td>0.770701</td>\n",
       "      <td>0.091704</td>\n",
       "      <td>0.056690</td>\n",
       "      <td>0.933321</td>\n",
       "      <td>0.131139</td>\n",
       "      <td>58507.258741</td>\n",
       "      <td>12.12</td>\n",
       "      <td>2.393217</td>\n",
       "      <td>1915.243056</td>\n",
       "      <td>294808.450704</td>\n",
       "      <td>1054.830986</td>\n",
       "      <td>39.721375</td>\n",
       "      <td>-104.958979</td>\n",
       "      <td>2036.284722</td>\n",
       "      <td>153.486111</td>\n",
       "      <td>7.416667</td>\n",
       "      <td>0.530632</td>\n",
       "      <td>4.566944</td>\n",
       "      <td>0.094739</td>\n",
       "      <td>0.221086</td>\n",
       "      <td>0.150899</td>\n",
       "      <td>0.115682</td>\n",
       "      <td>0.062359</td>\n",
       "      <td>0.108277</td>\n",
       "      <td>0.048233</td>\n",
       "      <td>0.511498</td>\n",
       "      <td>0.034246</td>\n",
       "      <td>0.060753</td>\n",
       "      <td>0.481603</td>\n",
       "      <td>0.072459</td>\n",
       "      <td>0.306446</td>\n",
       "      <td>34.910490</td>\n",
       "      <td>24.748252</td>\n",
       "      <td>0.751691</td>\n",
       "      <td>0.187855</td>\n",
       "      <td>0.358796</td>\n",
       "      <td>10.0</td>\n",
       "    </tr>\n",
       "  </tbody>\n",
       "</table>\n",
       "</div>"
      ],
      "text/plain": [
       "  metropolitan  solar_system_count          fips  average_household_income  \\\n",
       "0          NYC           40.707038  3.608329e+10             123107.121367   \n",
       "1       boston           11.226667  2.502514e+10              79496.360209   \n",
       "2      chicago            1.949924  1.703157e+10              75779.028975   \n",
       "3           dc           13.930380  1.100101e+10             101323.351404   \n",
       "4       denver           34.583333  8.031018e+09              78372.568650   \n",
       "\n",
       "   gini_index  land_area  per_capita_income  population_density  \\\n",
       "0    0.456462   1.530082       53267.883914        43232.419869   \n",
       "1    0.473597   0.289267       35915.493151        24491.441940   \n",
       "2    0.443056   0.717243       30399.145247        13866.423747   \n",
       "3    0.465965   0.344261       45770.867089        16783.276563   \n",
       "4    0.444367   1.062501       36196.440559         7619.991374   \n",
       "\n",
       "   education_less_than_high_school_rate  education_high_school_graduate_rate  \\\n",
       "0                              0.110687                             0.214640   \n",
       "1                              0.151012                             0.225567   \n",
       "2                              0.158299                             0.244823   \n",
       "3                              0.114589                             0.208102   \n",
       "4                              0.143656                             0.177938   \n",
       "\n",
       "   education_college_rate  education_bachelor_rate  education_master_rate  \\\n",
       "0                0.207699                 0.248794               0.146879   \n",
       "1                0.192909                 0.237649               0.120754   \n",
       "2                0.256141                 0.203525               0.096310   \n",
       "3                0.184543                 0.213795               0.169800   \n",
       "4                0.237135                 0.269306               0.117138   \n",
       "\n",
       "   education_professional_school_rate  education_doctoral_rate  \\\n",
       "0                            0.046743                 0.024558   \n",
       "1                            0.040574                 0.031535   \n",
       "2                            0.026953                 0.013948   \n",
       "3                            0.074951                 0.034221   \n",
       "4                            0.036533                 0.018293   \n",
       "\n",
       "   race_white_rate  race_black_africa_rate  race_other_rate  employ_rate  \\\n",
       "0         0.705810                0.112064         0.071701     0.928480   \n",
       "1         0.552541                0.235363         0.078413     0.910292   \n",
       "2         0.532563                0.291662         0.089685     0.874075   \n",
       "3         0.362121                0.537825         0.036930     0.880860   \n",
       "4         0.770701                0.091704         0.056690     0.933321   \n",
       "\n",
       "   poverty_family_below_poverty_level_rate  median_household_income  \\\n",
       "0                                 0.085225             89282.933222   \n",
       "1                                 0.156856             57743.584507   \n",
       "2                                 0.156765             57277.405632   \n",
       "3                                 0.143547             75159.576923   \n",
       "4                                 0.131139             58507.258741   \n",
       "\n",
       "   electricity_price_residential  average_household_size  \\\n",
       "0                          18.54                2.596910   \n",
       "1                          19.83                2.400694   \n",
       "2                          12.50                2.743567   \n",
       "3                          12.99                2.323567   \n",
       "4                          12.12                2.393217   \n",
       "\n",
       "   housing_unit_occupied_count  housing_unit_median_value  \\\n",
       "0                  2036.445172              619931.789474   \n",
       "1                  1446.786667              409433.333333   \n",
       "2                  1474.172231              241876.457055   \n",
       "3                  1539.829114              486466.666667   \n",
       "4                  1915.243056              294808.450704   \n",
       "\n",
       "   housing_unit_median_gross_rent   latitude   longitude    elevation  \\\n",
       "0                     1667.806563  40.800822  -73.513782    63.450082   \n",
       "1                     1320.711268  42.333107  -71.078713   132.053333   \n",
       "2                     1064.705701  41.861513  -87.737203   211.220789   \n",
       "3                     1367.397436  38.906778  -77.007418   107.556962   \n",
       "4                     1054.830986  39.721375 -104.958979  2036.284722   \n",
       "\n",
       "   frost_days  air_temperature  relative_humidity  daily_solar_radiation  \\\n",
       "0   61.042553        12.192962           0.658401               3.989902   \n",
       "1  119.920000         9.510667           0.646387               3.707467   \n",
       "2  103.160850        10.055918           0.689275               3.782178   \n",
       "3   71.455696        13.721519           0.627329               3.984430   \n",
       "4  153.486111         7.416667           0.530632               4.566944   \n",
       "\n",
       "   age_18_24_rate  age_25_34_rate  age_35_44_rate  age_45_54_rate  \\\n",
       "0        0.094487        0.164562        0.138395        0.146322   \n",
       "1        0.150646        0.228711        0.126905        0.116294   \n",
       "2        0.098910        0.166498        0.135564        0.130393   \n",
       "3        0.118266        0.219748        0.137977        0.121524   \n",
       "4        0.094739        0.221086        0.150899        0.115682   \n",
       "\n",
       "   age_65_74_rate  age_55_64_rate  age_10_14_rate  household_type_family_rate  \\\n",
       "0        0.082336        0.124430        0.051383                    0.600171   \n",
       "1        0.066081        0.095632        0.041398                    0.497131   \n",
       "2        0.068757        0.115115        0.062209                    0.623928   \n",
       "3        0.065020        0.110299        0.039144                    0.468801   \n",
       "4        0.062359        0.108277        0.048233                    0.511498   \n",
       "\n",
       "   occupation_information_rate  occupancy_vacant_rate  occupancy_owner_rate  \\\n",
       "0                     0.041940               0.118039              0.475078   \n",
       "1                     0.020998               0.080431              0.320713   \n",
       "2                     0.021664               0.115557              0.493497   \n",
       "3                     0.038034               0.101935              0.391230   \n",
       "4                     0.034246               0.060753              0.481603   \n",
       "\n",
       "   transportation_public_rate  health_insurance_public_rate  age_median  \\\n",
       "0                    0.318608                      0.283024   39.762189   \n",
       "1                    0.327859                      0.386115   33.839041   \n",
       "2                    0.210341                      0.338991   36.526312   \n",
       "3                    0.381829                      0.373188   35.264557   \n",
       "4                    0.072459                      0.306446   34.910490   \n",
       "\n",
       "   travel_time_average  voting_2016_dem_percentage  \\\n",
       "0            31.111481                    0.644856   \n",
       "1            30.195804                    0.794723   \n",
       "2            33.149163                    0.743758   \n",
       "3            30.757962                    0.928466   \n",
       "4            24.748252                    0.751691   \n",
       "\n",
       "   voting_2016_gop_percentage  diversity  property_tax  \n",
       "0                    0.324427   0.355624          40.0  \n",
       "1                    0.164874   0.445939          42.0  \n",
       "2                    0.214193   0.350921          17.0  \n",
       "3                    0.041221   0.349276           5.0  \n",
       "4                    0.187855   0.358796          10.0  "
      ]
     },
     "execution_count": 93,
     "metadata": {},
     "output_type": "execute_result"
    }
   ],
   "source": [
    "\n",
    "df_ave_metro = df_solar_w.groupby(['metropolitan']).mean().reset_index()\n",
    "df_ave_metro"
   ]
  },
  {
   "cell_type": "markdown",
   "metadata": {},
   "source": [
    "- we need  to eliminate the following variables from df_ave_metro:\n",
    "\n",
    " - 'longitude' and 'latitude'\n",
    " \n",
    "- because we will merge it with database df_listings which already has  'longitudes' and 'latitudes'\n",
    "\n",
    "- 'state' is another variable in df_solar, but we do not have it in df_ave_metro because it is categorcal (eliminated when we groupby df_solar_w"
   ]
  },
  {
   "cell_type": "code",
   "execution_count": 94,
   "metadata": {},
   "outputs": [
    {
     "data": {
      "text/plain": [
       "False"
      ]
     },
     "execution_count": 94,
     "metadata": {},
     "output_type": "execute_result"
    }
   ],
   "source": [
    "df_ave_metro.drop(['longitude','latitude'], axis = 1, inplace = True)\n",
    "\n",
    "'longitude' in df_ave_metro.columns"
   ]
  },
  {
   "cell_type": "code",
   "execution_count": 96,
   "metadata": {
    "scrolled": false
   },
   "outputs": [
    {
     "data": {
      "text/plain": [
       "(5, 50)"
      ]
     },
     "execution_count": 96,
     "metadata": {},
     "output_type": "execute_result"
    }
   ],
   "source": [
    "df_ave_metro.shape"
   ]
  },
  {
   "cell_type": "code",
   "execution_count": 127,
   "metadata": {},
   "outputs": [
    {
     "data": {
      "text/plain": [
       "(59790, 28)"
      ]
     },
     "execution_count": 127,
     "metadata": {},
     "output_type": "execute_result"
    }
   ],
   "source": [
    "df_listings.shape"
   ]
  },
  {
   "cell_type": "markdown",
   "metadata": {},
   "source": [
    "#### Merge df_listings(59790, 28) and df_ave_metro(5, 50)"
   ]
  },
  {
   "cell_type": "code",
   "execution_count": 100,
   "metadata": {},
   "outputs": [],
   "source": [
    "df_lis_sol_merged = pd.merge(df_listings,df_ave_metro)\n",
    "## by default the merge is inner and it is on = 'metropolitan', see below why:"
   ]
  },
  {
   "cell_type": "code",
   "execution_count": 145,
   "metadata": {},
   "outputs": [
    {
     "data": {
      "text/plain": [
       "['metropolitan']"
      ]
     },
     "execution_count": 145,
     "metadata": {},
     "output_type": "execute_result"
    }
   ],
   "source": [
    "ave_list = df_ave_metro.columns.tolist()\n",
    "df_lis_list = df_listings.columns.tolist()\n",
    "def intersection(lst1, lst2): \n",
    "    return list(set(lst1) & set(lst2)) \n",
    "intersection(ave_list, df_lis_list)"
   ]
  },
  {
   "cell_type": "markdown",
   "metadata": {},
   "source": [
    "##### 'metropolitan' is the only common variable present in both DFs"
   ]
  },
  {
   "cell_type": "code",
   "execution_count": 128,
   "metadata": {
    "scrolled": true
   },
   "outputs": [
    {
     "data": {
      "text/html": [
       "<div>\n",
       "<style scoped>\n",
       "    .dataframe tbody tr th:only-of-type {\n",
       "        vertical-align: middle;\n",
       "    }\n",
       "\n",
       "    .dataframe tbody tr th {\n",
       "        vertical-align: top;\n",
       "    }\n",
       "\n",
       "    .dataframe thead th {\n",
       "        text-align: right;\n",
       "    }\n",
       "</style>\n",
       "<table border=\"1\" class=\"dataframe\">\n",
       "  <thead>\n",
       "    <tr style=\"text-align: right;\">\n",
       "      <th></th>\n",
       "      <th>accommodates</th>\n",
       "      <th>amenities</th>\n",
       "      <th>availability_30</th>\n",
       "      <th>bathrooms</th>\n",
       "      <th>bed_type</th>\n",
       "      <th>bedrooms</th>\n",
       "      <th>beds</th>\n",
       "      <th>cancellation_policy</th>\n",
       "      <th>city</th>\n",
       "      <th>host_id</th>\n",
       "      <th>id</th>\n",
       "      <th>instant_bookable</th>\n",
       "      <th>latitude</th>\n",
       "      <th>longitude</th>\n",
       "      <th>metropolitan</th>\n",
       "      <th>name</th>\n",
       "      <th>price</th>\n",
       "      <th>property_type</th>\n",
       "      <th>review_scores_checkin</th>\n",
       "      <th>review_scores_cleanliness</th>\n",
       "      <th>review_scores_communication</th>\n",
       "      <th>review_scores_location</th>\n",
       "      <th>review_scores_rating</th>\n",
       "      <th>review_scores_value</th>\n",
       "      <th>room_type</th>\n",
       "      <th>state</th>\n",
       "      <th>weekly_price</th>\n",
       "      <th>zipcode</th>\n",
       "      <th>solar_system_count</th>\n",
       "      <th>fips</th>\n",
       "      <th>average_household_income</th>\n",
       "      <th>gini_index</th>\n",
       "      <th>land_area</th>\n",
       "      <th>per_capita_income</th>\n",
       "      <th>population_density</th>\n",
       "      <th>education_less_than_high_school_rate</th>\n",
       "      <th>education_high_school_graduate_rate</th>\n",
       "      <th>education_college_rate</th>\n",
       "      <th>education_bachelor_rate</th>\n",
       "      <th>education_master_rate</th>\n",
       "      <th>education_professional_school_rate</th>\n",
       "      <th>education_doctoral_rate</th>\n",
       "      <th>race_white_rate</th>\n",
       "      <th>race_black_africa_rate</th>\n",
       "      <th>race_other_rate</th>\n",
       "      <th>employ_rate</th>\n",
       "      <th>poverty_family_below_poverty_level_rate</th>\n",
       "      <th>median_household_income</th>\n",
       "      <th>electricity_price_residential</th>\n",
       "      <th>average_household_size</th>\n",
       "      <th>housing_unit_occupied_count</th>\n",
       "      <th>housing_unit_median_value</th>\n",
       "      <th>housing_unit_median_gross_rent</th>\n",
       "      <th>elevation</th>\n",
       "      <th>frost_days</th>\n",
       "      <th>air_temperature</th>\n",
       "      <th>relative_humidity</th>\n",
       "      <th>daily_solar_radiation</th>\n",
       "      <th>age_18_24_rate</th>\n",
       "      <th>age_25_34_rate</th>\n",
       "      <th>age_35_44_rate</th>\n",
       "      <th>age_45_54_rate</th>\n",
       "      <th>age_65_74_rate</th>\n",
       "      <th>age_55_64_rate</th>\n",
       "      <th>age_10_14_rate</th>\n",
       "      <th>household_type_family_rate</th>\n",
       "      <th>occupation_information_rate</th>\n",
       "      <th>occupancy_vacant_rate</th>\n",
       "      <th>occupancy_owner_rate</th>\n",
       "      <th>transportation_public_rate</th>\n",
       "      <th>health_insurance_public_rate</th>\n",
       "      <th>age_median</th>\n",
       "      <th>travel_time_average</th>\n",
       "      <th>voting_2016_dem_percentage</th>\n",
       "      <th>voting_2016_gop_percentage</th>\n",
       "      <th>diversity</th>\n",
       "      <th>property_tax</th>\n",
       "    </tr>\n",
       "  </thead>\n",
       "  <tbody>\n",
       "    <tr>\n",
       "      <th>0</th>\n",
       "      <td>2.0</td>\n",
       "      <td>{\"Cable TV\",\"Wireless Internet\",\"Air condition...</td>\n",
       "      <td>24</td>\n",
       "      <td>1.0</td>\n",
       "      <td>Real Bed</td>\n",
       "      <td>1.0</td>\n",
       "      <td>1.0</td>\n",
       "      <td>moderate</td>\n",
       "      <td>sunnysidebronx</td>\n",
       "      <td>119445</td>\n",
       "      <td>7949480</td>\n",
       "      <td>0</td>\n",
       "      <td>40.852054</td>\n",
       "      <td>-73.788680</td>\n",
       "      <td>NYC</td>\n",
       "      <td>City Island Sanctuary relaxing BR &amp; Bath w Par...</td>\n",
       "      <td>99.0</td>\n",
       "      <td>House</td>\n",
       "      <td>10.0</td>\n",
       "      <td>10.0</td>\n",
       "      <td>10.0</td>\n",
       "      <td>10.0</td>\n",
       "      <td>100.0</td>\n",
       "      <td>10.0</td>\n",
       "      <td>Private room</td>\n",
       "      <td>NY</td>\n",
       "      <td>NaN</td>\n",
       "      <td>10464.0</td>\n",
       "      <td>40.707038</td>\n",
       "      <td>3.608329e+10</td>\n",
       "      <td>123107.121367</td>\n",
       "      <td>0.456462</td>\n",
       "      <td>1.530082</td>\n",
       "      <td>53267.883914</td>\n",
       "      <td>43232.419869</td>\n",
       "      <td>0.110687</td>\n",
       "      <td>0.21464</td>\n",
       "      <td>0.207699</td>\n",
       "      <td>0.248794</td>\n",
       "      <td>0.146879</td>\n",
       "      <td>0.046743</td>\n",
       "      <td>0.024558</td>\n",
       "      <td>0.70581</td>\n",
       "      <td>0.112064</td>\n",
       "      <td>0.071701</td>\n",
       "      <td>0.92848</td>\n",
       "      <td>0.085225</td>\n",
       "      <td>89282.933222</td>\n",
       "      <td>18.54</td>\n",
       "      <td>2.59691</td>\n",
       "      <td>2036.445172</td>\n",
       "      <td>619931.789474</td>\n",
       "      <td>1667.806563</td>\n",
       "      <td>63.450082</td>\n",
       "      <td>61.042553</td>\n",
       "      <td>12.192962</td>\n",
       "      <td>0.658401</td>\n",
       "      <td>3.989902</td>\n",
       "      <td>0.094487</td>\n",
       "      <td>0.164562</td>\n",
       "      <td>0.138395</td>\n",
       "      <td>0.146322</td>\n",
       "      <td>0.082336</td>\n",
       "      <td>0.12443</td>\n",
       "      <td>0.051383</td>\n",
       "      <td>0.600171</td>\n",
       "      <td>0.04194</td>\n",
       "      <td>0.118039</td>\n",
       "      <td>0.475078</td>\n",
       "      <td>0.318608</td>\n",
       "      <td>0.283024</td>\n",
       "      <td>39.762189</td>\n",
       "      <td>31.111481</td>\n",
       "      <td>0.644856</td>\n",
       "      <td>0.324427</td>\n",
       "      <td>0.355624</td>\n",
       "      <td>40.0</td>\n",
       "    </tr>\n",
       "    <tr>\n",
       "      <th>1</th>\n",
       "      <td>4.0</td>\n",
       "      <td>{TV,Internet,\"Wireless Internet\",\"Air conditio...</td>\n",
       "      <td>30</td>\n",
       "      <td>1.0</td>\n",
       "      <td>Real Bed</td>\n",
       "      <td>1.0</td>\n",
       "      <td>1.0</td>\n",
       "      <td>flexible</td>\n",
       "      <td>sunnysidebronx</td>\n",
       "      <td>9117975</td>\n",
       "      <td>16042478</td>\n",
       "      <td>1</td>\n",
       "      <td>40.853491</td>\n",
       "      <td>-73.788607</td>\n",
       "      <td>NYC</td>\n",
       "      <td>WATERFRONT STUDIO APARTMENT</td>\n",
       "      <td>200.0</td>\n",
       "      <td>Apartment</td>\n",
       "      <td>NaN</td>\n",
       "      <td>NaN</td>\n",
       "      <td>NaN</td>\n",
       "      <td>NaN</td>\n",
       "      <td>NaN</td>\n",
       "      <td>NaN</td>\n",
       "      <td>Private room</td>\n",
       "      <td>NY</td>\n",
       "      <td>NaN</td>\n",
       "      <td>10464.0</td>\n",
       "      <td>40.707038</td>\n",
       "      <td>3.608329e+10</td>\n",
       "      <td>123107.121367</td>\n",
       "      <td>0.456462</td>\n",
       "      <td>1.530082</td>\n",
       "      <td>53267.883914</td>\n",
       "      <td>43232.419869</td>\n",
       "      <td>0.110687</td>\n",
       "      <td>0.21464</td>\n",
       "      <td>0.207699</td>\n",
       "      <td>0.248794</td>\n",
       "      <td>0.146879</td>\n",
       "      <td>0.046743</td>\n",
       "      <td>0.024558</td>\n",
       "      <td>0.70581</td>\n",
       "      <td>0.112064</td>\n",
       "      <td>0.071701</td>\n",
       "      <td>0.92848</td>\n",
       "      <td>0.085225</td>\n",
       "      <td>89282.933222</td>\n",
       "      <td>18.54</td>\n",
       "      <td>2.59691</td>\n",
       "      <td>2036.445172</td>\n",
       "      <td>619931.789474</td>\n",
       "      <td>1667.806563</td>\n",
       "      <td>63.450082</td>\n",
       "      <td>61.042553</td>\n",
       "      <td>12.192962</td>\n",
       "      <td>0.658401</td>\n",
       "      <td>3.989902</td>\n",
       "      <td>0.094487</td>\n",
       "      <td>0.164562</td>\n",
       "      <td>0.138395</td>\n",
       "      <td>0.146322</td>\n",
       "      <td>0.082336</td>\n",
       "      <td>0.12443</td>\n",
       "      <td>0.051383</td>\n",
       "      <td>0.600171</td>\n",
       "      <td>0.04194</td>\n",
       "      <td>0.118039</td>\n",
       "      <td>0.475078</td>\n",
       "      <td>0.318608</td>\n",
       "      <td>0.283024</td>\n",
       "      <td>39.762189</td>\n",
       "      <td>31.111481</td>\n",
       "      <td>0.644856</td>\n",
       "      <td>0.324427</td>\n",
       "      <td>0.355624</td>\n",
       "      <td>40.0</td>\n",
       "    </tr>\n",
       "    <tr>\n",
       "      <th>2</th>\n",
       "      <td>4.0</td>\n",
       "      <td>{TV,\"Cable TV\",Internet,\"Wireless Internet\",\"A...</td>\n",
       "      <td>30</td>\n",
       "      <td>3.0</td>\n",
       "      <td>Real Bed</td>\n",
       "      <td>3.0</td>\n",
       "      <td>3.0</td>\n",
       "      <td>strict</td>\n",
       "      <td>sunnysidebronx</td>\n",
       "      <td>9815788</td>\n",
       "      <td>1886820</td>\n",
       "      <td>0</td>\n",
       "      <td>40.841144</td>\n",
       "      <td>-73.783052</td>\n",
       "      <td>NYC</td>\n",
       "      <td>Quaint City Island Community.</td>\n",
       "      <td>300.0</td>\n",
       "      <td>House</td>\n",
       "      <td>NaN</td>\n",
       "      <td>NaN</td>\n",
       "      <td>NaN</td>\n",
       "      <td>NaN</td>\n",
       "      <td>NaN</td>\n",
       "      <td>NaN</td>\n",
       "      <td>Entire home/apt</td>\n",
       "      <td>NY</td>\n",
       "      <td>NaN</td>\n",
       "      <td>10464.0</td>\n",
       "      <td>40.707038</td>\n",
       "      <td>3.608329e+10</td>\n",
       "      <td>123107.121367</td>\n",
       "      <td>0.456462</td>\n",
       "      <td>1.530082</td>\n",
       "      <td>53267.883914</td>\n",
       "      <td>43232.419869</td>\n",
       "      <td>0.110687</td>\n",
       "      <td>0.21464</td>\n",
       "      <td>0.207699</td>\n",
       "      <td>0.248794</td>\n",
       "      <td>0.146879</td>\n",
       "      <td>0.046743</td>\n",
       "      <td>0.024558</td>\n",
       "      <td>0.70581</td>\n",
       "      <td>0.112064</td>\n",
       "      <td>0.071701</td>\n",
       "      <td>0.92848</td>\n",
       "      <td>0.085225</td>\n",
       "      <td>89282.933222</td>\n",
       "      <td>18.54</td>\n",
       "      <td>2.59691</td>\n",
       "      <td>2036.445172</td>\n",
       "      <td>619931.789474</td>\n",
       "      <td>1667.806563</td>\n",
       "      <td>63.450082</td>\n",
       "      <td>61.042553</td>\n",
       "      <td>12.192962</td>\n",
       "      <td>0.658401</td>\n",
       "      <td>3.989902</td>\n",
       "      <td>0.094487</td>\n",
       "      <td>0.164562</td>\n",
       "      <td>0.138395</td>\n",
       "      <td>0.146322</td>\n",
       "      <td>0.082336</td>\n",
       "      <td>0.12443</td>\n",
       "      <td>0.051383</td>\n",
       "      <td>0.600171</td>\n",
       "      <td>0.04194</td>\n",
       "      <td>0.118039</td>\n",
       "      <td>0.475078</td>\n",
       "      <td>0.318608</td>\n",
       "      <td>0.283024</td>\n",
       "      <td>39.762189</td>\n",
       "      <td>31.111481</td>\n",
       "      <td>0.644856</td>\n",
       "      <td>0.324427</td>\n",
       "      <td>0.355624</td>\n",
       "      <td>40.0</td>\n",
       "    </tr>\n",
       "    <tr>\n",
       "      <th>3</th>\n",
       "      <td>3.0</td>\n",
       "      <td>{TV,Internet,\"Wireless Internet\",\"Air conditio...</td>\n",
       "      <td>8</td>\n",
       "      <td>1.0</td>\n",
       "      <td>Real Bed</td>\n",
       "      <td>1.0</td>\n",
       "      <td>1.0</td>\n",
       "      <td>strict</td>\n",
       "      <td>long island city</td>\n",
       "      <td>13886510</td>\n",
       "      <td>6627449</td>\n",
       "      <td>0</td>\n",
       "      <td>40.849775</td>\n",
       "      <td>-73.786609</td>\n",
       "      <td>NYC</td>\n",
       "      <td>Large 1 BDRM in Great location</td>\n",
       "      <td>125.0</td>\n",
       "      <td>Apartment</td>\n",
       "      <td>10.0</td>\n",
       "      <td>10.0</td>\n",
       "      <td>10.0</td>\n",
       "      <td>10.0</td>\n",
       "      <td>93.0</td>\n",
       "      <td>10.0</td>\n",
       "      <td>Entire home/apt</td>\n",
       "      <td>NY</td>\n",
       "      <td>775.0</td>\n",
       "      <td>10464.0</td>\n",
       "      <td>40.707038</td>\n",
       "      <td>3.608329e+10</td>\n",
       "      <td>123107.121367</td>\n",
       "      <td>0.456462</td>\n",
       "      <td>1.530082</td>\n",
       "      <td>53267.883914</td>\n",
       "      <td>43232.419869</td>\n",
       "      <td>0.110687</td>\n",
       "      <td>0.21464</td>\n",
       "      <td>0.207699</td>\n",
       "      <td>0.248794</td>\n",
       "      <td>0.146879</td>\n",
       "      <td>0.046743</td>\n",
       "      <td>0.024558</td>\n",
       "      <td>0.70581</td>\n",
       "      <td>0.112064</td>\n",
       "      <td>0.071701</td>\n",
       "      <td>0.92848</td>\n",
       "      <td>0.085225</td>\n",
       "      <td>89282.933222</td>\n",
       "      <td>18.54</td>\n",
       "      <td>2.59691</td>\n",
       "      <td>2036.445172</td>\n",
       "      <td>619931.789474</td>\n",
       "      <td>1667.806563</td>\n",
       "      <td>63.450082</td>\n",
       "      <td>61.042553</td>\n",
       "      <td>12.192962</td>\n",
       "      <td>0.658401</td>\n",
       "      <td>3.989902</td>\n",
       "      <td>0.094487</td>\n",
       "      <td>0.164562</td>\n",
       "      <td>0.138395</td>\n",
       "      <td>0.146322</td>\n",
       "      <td>0.082336</td>\n",
       "      <td>0.12443</td>\n",
       "      <td>0.051383</td>\n",
       "      <td>0.600171</td>\n",
       "      <td>0.04194</td>\n",
       "      <td>0.118039</td>\n",
       "      <td>0.475078</td>\n",
       "      <td>0.318608</td>\n",
       "      <td>0.283024</td>\n",
       "      <td>39.762189</td>\n",
       "      <td>31.111481</td>\n",
       "      <td>0.644856</td>\n",
       "      <td>0.324427</td>\n",
       "      <td>0.355624</td>\n",
       "      <td>40.0</td>\n",
       "    </tr>\n",
       "    <tr>\n",
       "      <th>4</th>\n",
       "      <td>4.0</td>\n",
       "      <td>{Internet,\"Wireless Internet\",\"Air conditionin...</td>\n",
       "      <td>17</td>\n",
       "      <td>1.0</td>\n",
       "      <td>Real Bed</td>\n",
       "      <td>1.0</td>\n",
       "      <td>1.0</td>\n",
       "      <td>moderate</td>\n",
       "      <td>sunnysidebronx</td>\n",
       "      <td>28811542</td>\n",
       "      <td>5557381</td>\n",
       "      <td>1</td>\n",
       "      <td>40.850024</td>\n",
       "      <td>-73.789328</td>\n",
       "      <td>NYC</td>\n",
       "      <td>Quaint City Island Home</td>\n",
       "      <td>69.0</td>\n",
       "      <td>House</td>\n",
       "      <td>10.0</td>\n",
       "      <td>10.0</td>\n",
       "      <td>10.0</td>\n",
       "      <td>10.0</td>\n",
       "      <td>97.0</td>\n",
       "      <td>10.0</td>\n",
       "      <td>Private room</td>\n",
       "      <td>NY</td>\n",
       "      <td>350.0</td>\n",
       "      <td>10464.0</td>\n",
       "      <td>40.707038</td>\n",
       "      <td>3.608329e+10</td>\n",
       "      <td>123107.121367</td>\n",
       "      <td>0.456462</td>\n",
       "      <td>1.530082</td>\n",
       "      <td>53267.883914</td>\n",
       "      <td>43232.419869</td>\n",
       "      <td>0.110687</td>\n",
       "      <td>0.21464</td>\n",
       "      <td>0.207699</td>\n",
       "      <td>0.248794</td>\n",
       "      <td>0.146879</td>\n",
       "      <td>0.046743</td>\n",
       "      <td>0.024558</td>\n",
       "      <td>0.70581</td>\n",
       "      <td>0.112064</td>\n",
       "      <td>0.071701</td>\n",
       "      <td>0.92848</td>\n",
       "      <td>0.085225</td>\n",
       "      <td>89282.933222</td>\n",
       "      <td>18.54</td>\n",
       "      <td>2.59691</td>\n",
       "      <td>2036.445172</td>\n",
       "      <td>619931.789474</td>\n",
       "      <td>1667.806563</td>\n",
       "      <td>63.450082</td>\n",
       "      <td>61.042553</td>\n",
       "      <td>12.192962</td>\n",
       "      <td>0.658401</td>\n",
       "      <td>3.989902</td>\n",
       "      <td>0.094487</td>\n",
       "      <td>0.164562</td>\n",
       "      <td>0.138395</td>\n",
       "      <td>0.146322</td>\n",
       "      <td>0.082336</td>\n",
       "      <td>0.12443</td>\n",
       "      <td>0.051383</td>\n",
       "      <td>0.600171</td>\n",
       "      <td>0.04194</td>\n",
       "      <td>0.118039</td>\n",
       "      <td>0.475078</td>\n",
       "      <td>0.318608</td>\n",
       "      <td>0.283024</td>\n",
       "      <td>39.762189</td>\n",
       "      <td>31.111481</td>\n",
       "      <td>0.644856</td>\n",
       "      <td>0.324427</td>\n",
       "      <td>0.355624</td>\n",
       "      <td>40.0</td>\n",
       "    </tr>\n",
       "  </tbody>\n",
       "</table>\n",
       "</div>"
      ],
      "text/plain": [
       "   accommodates                                          amenities  \\\n",
       "0           2.0  {\"Cable TV\",\"Wireless Internet\",\"Air condition...   \n",
       "1           4.0  {TV,Internet,\"Wireless Internet\",\"Air conditio...   \n",
       "2           4.0  {TV,\"Cable TV\",Internet,\"Wireless Internet\",\"A...   \n",
       "3           3.0  {TV,Internet,\"Wireless Internet\",\"Air conditio...   \n",
       "4           4.0  {Internet,\"Wireless Internet\",\"Air conditionin...   \n",
       "\n",
       "   availability_30  bathrooms  bed_type  bedrooms  beds cancellation_policy  \\\n",
       "0               24        1.0  Real Bed       1.0   1.0            moderate   \n",
       "1               30        1.0  Real Bed       1.0   1.0            flexible   \n",
       "2               30        3.0  Real Bed       3.0   3.0              strict   \n",
       "3                8        1.0  Real Bed       1.0   1.0              strict   \n",
       "4               17        1.0  Real Bed       1.0   1.0            moderate   \n",
       "\n",
       "               city   host_id        id  instant_bookable   latitude  \\\n",
       "0    sunnysidebronx    119445   7949480                 0  40.852054   \n",
       "1    sunnysidebronx   9117975  16042478                 1  40.853491   \n",
       "2    sunnysidebronx   9815788   1886820                 0  40.841144   \n",
       "3  long island city  13886510   6627449                 0  40.849775   \n",
       "4    sunnysidebronx  28811542   5557381                 1  40.850024   \n",
       "\n",
       "   longitude metropolitan                                               name  \\\n",
       "0 -73.788680          NYC  City Island Sanctuary relaxing BR & Bath w Par...   \n",
       "1 -73.788607          NYC                        WATERFRONT STUDIO APARTMENT   \n",
       "2 -73.783052          NYC                     Quaint City Island Community.    \n",
       "3 -73.786609          NYC                     Large 1 BDRM in Great location   \n",
       "4 -73.789328          NYC                            Quaint City Island Home   \n",
       "\n",
       "   price property_type  review_scores_checkin  review_scores_cleanliness  \\\n",
       "0   99.0         House                   10.0                       10.0   \n",
       "1  200.0     Apartment                    NaN                        NaN   \n",
       "2  300.0         House                    NaN                        NaN   \n",
       "3  125.0     Apartment                   10.0                       10.0   \n",
       "4   69.0         House                   10.0                       10.0   \n",
       "\n",
       "   review_scores_communication  review_scores_location  review_scores_rating  \\\n",
       "0                         10.0                    10.0                 100.0   \n",
       "1                          NaN                     NaN                   NaN   \n",
       "2                          NaN                     NaN                   NaN   \n",
       "3                         10.0                    10.0                  93.0   \n",
       "4                         10.0                    10.0                  97.0   \n",
       "\n",
       "   review_scores_value        room_type state  weekly_price  zipcode  \\\n",
       "0                 10.0     Private room    NY           NaN  10464.0   \n",
       "1                  NaN     Private room    NY           NaN  10464.0   \n",
       "2                  NaN  Entire home/apt    NY           NaN  10464.0   \n",
       "3                 10.0  Entire home/apt    NY         775.0  10464.0   \n",
       "4                 10.0     Private room    NY         350.0  10464.0   \n",
       "\n",
       "   solar_system_count          fips  average_household_income  gini_index  \\\n",
       "0           40.707038  3.608329e+10             123107.121367    0.456462   \n",
       "1           40.707038  3.608329e+10             123107.121367    0.456462   \n",
       "2           40.707038  3.608329e+10             123107.121367    0.456462   \n",
       "3           40.707038  3.608329e+10             123107.121367    0.456462   \n",
       "4           40.707038  3.608329e+10             123107.121367    0.456462   \n",
       "\n",
       "   land_area  per_capita_income  population_density  \\\n",
       "0   1.530082       53267.883914        43232.419869   \n",
       "1   1.530082       53267.883914        43232.419869   \n",
       "2   1.530082       53267.883914        43232.419869   \n",
       "3   1.530082       53267.883914        43232.419869   \n",
       "4   1.530082       53267.883914        43232.419869   \n",
       "\n",
       "   education_less_than_high_school_rate  education_high_school_graduate_rate  \\\n",
       "0                              0.110687                              0.21464   \n",
       "1                              0.110687                              0.21464   \n",
       "2                              0.110687                              0.21464   \n",
       "3                              0.110687                              0.21464   \n",
       "4                              0.110687                              0.21464   \n",
       "\n",
       "   education_college_rate  education_bachelor_rate  education_master_rate  \\\n",
       "0                0.207699                 0.248794               0.146879   \n",
       "1                0.207699                 0.248794               0.146879   \n",
       "2                0.207699                 0.248794               0.146879   \n",
       "3                0.207699                 0.248794               0.146879   \n",
       "4                0.207699                 0.248794               0.146879   \n",
       "\n",
       "   education_professional_school_rate  education_doctoral_rate  \\\n",
       "0                            0.046743                 0.024558   \n",
       "1                            0.046743                 0.024558   \n",
       "2                            0.046743                 0.024558   \n",
       "3                            0.046743                 0.024558   \n",
       "4                            0.046743                 0.024558   \n",
       "\n",
       "   race_white_rate  race_black_africa_rate  race_other_rate  employ_rate  \\\n",
       "0          0.70581                0.112064         0.071701      0.92848   \n",
       "1          0.70581                0.112064         0.071701      0.92848   \n",
       "2          0.70581                0.112064         0.071701      0.92848   \n",
       "3          0.70581                0.112064         0.071701      0.92848   \n",
       "4          0.70581                0.112064         0.071701      0.92848   \n",
       "\n",
       "   poverty_family_below_poverty_level_rate  median_household_income  \\\n",
       "0                                 0.085225             89282.933222   \n",
       "1                                 0.085225             89282.933222   \n",
       "2                                 0.085225             89282.933222   \n",
       "3                                 0.085225             89282.933222   \n",
       "4                                 0.085225             89282.933222   \n",
       "\n",
       "   electricity_price_residential  average_household_size  \\\n",
       "0                          18.54                 2.59691   \n",
       "1                          18.54                 2.59691   \n",
       "2                          18.54                 2.59691   \n",
       "3                          18.54                 2.59691   \n",
       "4                          18.54                 2.59691   \n",
       "\n",
       "   housing_unit_occupied_count  housing_unit_median_value  \\\n",
       "0                  2036.445172              619931.789474   \n",
       "1                  2036.445172              619931.789474   \n",
       "2                  2036.445172              619931.789474   \n",
       "3                  2036.445172              619931.789474   \n",
       "4                  2036.445172              619931.789474   \n",
       "\n",
       "   housing_unit_median_gross_rent  elevation  frost_days  air_temperature  \\\n",
       "0                     1667.806563  63.450082   61.042553        12.192962   \n",
       "1                     1667.806563  63.450082   61.042553        12.192962   \n",
       "2                     1667.806563  63.450082   61.042553        12.192962   \n",
       "3                     1667.806563  63.450082   61.042553        12.192962   \n",
       "4                     1667.806563  63.450082   61.042553        12.192962   \n",
       "\n",
       "   relative_humidity  daily_solar_radiation  age_18_24_rate  age_25_34_rate  \\\n",
       "0           0.658401               3.989902        0.094487        0.164562   \n",
       "1           0.658401               3.989902        0.094487        0.164562   \n",
       "2           0.658401               3.989902        0.094487        0.164562   \n",
       "3           0.658401               3.989902        0.094487        0.164562   \n",
       "4           0.658401               3.989902        0.094487        0.164562   \n",
       "\n",
       "   age_35_44_rate  age_45_54_rate  age_65_74_rate  age_55_64_rate  \\\n",
       "0        0.138395        0.146322        0.082336         0.12443   \n",
       "1        0.138395        0.146322        0.082336         0.12443   \n",
       "2        0.138395        0.146322        0.082336         0.12443   \n",
       "3        0.138395        0.146322        0.082336         0.12443   \n",
       "4        0.138395        0.146322        0.082336         0.12443   \n",
       "\n",
       "   age_10_14_rate  household_type_family_rate  occupation_information_rate  \\\n",
       "0        0.051383                    0.600171                      0.04194   \n",
       "1        0.051383                    0.600171                      0.04194   \n",
       "2        0.051383                    0.600171                      0.04194   \n",
       "3        0.051383                    0.600171                      0.04194   \n",
       "4        0.051383                    0.600171                      0.04194   \n",
       "\n",
       "   occupancy_vacant_rate  occupancy_owner_rate  transportation_public_rate  \\\n",
       "0               0.118039              0.475078                    0.318608   \n",
       "1               0.118039              0.475078                    0.318608   \n",
       "2               0.118039              0.475078                    0.318608   \n",
       "3               0.118039              0.475078                    0.318608   \n",
       "4               0.118039              0.475078                    0.318608   \n",
       "\n",
       "   health_insurance_public_rate  age_median  travel_time_average  \\\n",
       "0                      0.283024   39.762189            31.111481   \n",
       "1                      0.283024   39.762189            31.111481   \n",
       "2                      0.283024   39.762189            31.111481   \n",
       "3                      0.283024   39.762189            31.111481   \n",
       "4                      0.283024   39.762189            31.111481   \n",
       "\n",
       "   voting_2016_dem_percentage  voting_2016_gop_percentage  diversity  \\\n",
       "0                    0.644856                    0.324427   0.355624   \n",
       "1                    0.644856                    0.324427   0.355624   \n",
       "2                    0.644856                    0.324427   0.355624   \n",
       "3                    0.644856                    0.324427   0.355624   \n",
       "4                    0.644856                    0.324427   0.355624   \n",
       "\n",
       "   property_tax  \n",
       "0          40.0  \n",
       "1          40.0  \n",
       "2          40.0  \n",
       "3          40.0  \n",
       "4          40.0  "
      ]
     },
     "execution_count": 128,
     "metadata": {},
     "output_type": "execute_result"
    }
   ],
   "source": [
    "df_lis_sol_merged.head()"
   ]
  },
  {
   "cell_type": "markdown",
   "metadata": {},
   "source": [
    "### ave prices per city in metro areas"
   ]
  },
  {
   "cell_type": "code",
   "execution_count": 105,
   "metadata": {
    "scrolled": true
   },
   "outputs": [
    {
     "data": {
      "text/plain": [
       "city                 metropolitan\n",
       "capitol heights      dc               27.750000\n",
       "evergreen park       chicago          30.000000\n",
       "bedstuy              NYC              32.000000\n",
       "longislandcity       NYC              34.000000\n",
       "calumet park         chicago          35.000000\n",
       "aurora               denver           40.000000\n",
       "lawrence             NYC              40.000000\n",
       "hollis               NYC              44.000000\n",
       "englewood            denver           47.500000\n",
       "elmhurst             NYC              47.500000\n",
       "laurelton            NYC              47.500000\n",
       "elmwood park         chicago          48.000000\n",
       "milton               boston           50.000000\n",
       "oak park             chicago          50.000000\n",
       "hell's kitchen       NYC              51.000000\n",
       "richmond hill        NYC              51.000000\n",
       "oakland gardens      NYC              51.666667\n",
       "springfield gardens  NYC              52.000000\n",
       "littleton            denver           52.500000\n",
       "corona               NYC              58.045455\n",
       "watertown            boston           60.000000\n",
       "kew gardens hills    NYC              60.000000\n",
       "st albans            NYC              60.000000\n",
       "bronx ny             NYC              60.000000\n",
       "st. albans           NYC              65.000000\n",
       "columbia heights     dc               65.000000\n",
       "parkchester          NYC              67.000000\n",
       "cambria heights      NYC              67.000000\n",
       "manhattan ny         NYC              69.000000\n",
       "wadsworth terrace    NYC              71.000000\n",
       "                                        ...    \n",
       "denver               denver          134.087670\n",
       "howard beach         NYC             134.500000\n",
       "yonkers              NYC             135.000000\n",
       "brookline            boston          135.888889\n",
       "chicago              chicago         136.314979\n",
       "bay ridge            NYC             139.000000\n",
       "williamsburg bk      NYC             145.000000\n",
       "georgetown           dc              150.000000\n",
       "lower east side      NYC             150.000000\n",
       "manhattan            NYC             154.133333\n",
       "belle harbor         NYC             155.000000\n",
       "greenpoint           NYC             157.833333\n",
       "jamaica plain        boston          159.000000\n",
       "east elmhurst        NYC             175.214286\n",
       "boston               boston          176.597993\n",
       "new york             NYC             178.683226\n",
       "fort greene          NYC             180.000000\n",
       "rockaway beach       NYC             180.615385\n",
       "williamsburg         NYC             180.833333\n",
       "dupont circle        dc              192.500000\n",
       "whitestone           NYC             198.333333\n",
       "cambridge            boston          199.375000\n",
       "carroll gardens      NYC             242.500000\n",
       "washington           dc              247.717571\n",
       "averne               NYC             250.000000\n",
       "charlestown          boston          262.533333\n",
       "harlem               NYC             295.000000\n",
       "chicago heights      chicago         350.000000\n",
       "south end            boston          450.000000\n",
       "chelsea              NYC             800.000000\n",
       "Name: price, Length: 126, dtype: float64"
      ]
     },
     "execution_count": 105,
     "metadata": {},
     "output_type": "execute_result"
    }
   ],
   "source": [
    "df_lis_sol_merged.groupby(['city','metropolitan'])['price'].mean().sort_values()\n"
   ]
  },
  {
   "cell_type": "markdown",
   "metadata": {},
   "source": [
    "#### conclusion:  the prices within the same  petropolitan area  differs quite a bit. "
   ]
  },
  {
   "cell_type": "markdown",
   "metadata": {},
   "source": [
    "### ave  prices per state"
   ]
  },
  {
   "cell_type": "code",
   "execution_count": 106,
   "metadata": {
    "scrolled": true
   },
   "outputs": [
    {
     "data": {
      "text/plain": [
       "state\n",
       "CO    133.850699\n",
       "IL    136.210486\n",
       "NY    145.297265\n",
       "MA    173.925802\n",
       "DC    247.407608\n",
       "Name: price, dtype: float64"
      ]
     },
     "execution_count": 106,
     "metadata": {},
     "output_type": "execute_result"
    }
   ],
   "source": [
    "\n",
    "df_lis_sol_merged.groupby(['state'])['price'].mean().sort_values()\n"
   ]
  },
  {
   "cell_type": "markdown",
   "metadata": {},
   "source": [
    "#### conclusion: if we are to link price to state demographic data  trying to see how it varies with state, the variation  will not be representative of price variatin with metropolitan areas/cities"
   ]
  },
  {
   "cell_type": "markdown",
   "metadata": {},
   "source": [
    "## Save merged solar and listings DF as .csv file"
   ]
  },
  {
   "cell_type": "code",
   "execution_count": null,
   "metadata": {},
   "outputs": [],
   "source": [
    "## uncomment if you would like to save it\n",
    "#df_lis_sol_merged.to_csv(r'lis_sol_merged.csv', index = False, header=True)\n"
   ]
  },
  {
   "cell_type": "markdown",
   "metadata": {},
   "source": [
    "https://www.shanelynn.ie/merge-join-dataframes-python-pandas-index-1/#differentnames"
   ]
  },
  {
   "cell_type": "markdown",
   "metadata": {},
   "source": [
    "### How do the average prices for cities in Metro areas change if we take a small sample of df_listings and df_solar_w ?"
   ]
  },
  {
   "cell_type": "code",
   "execution_count": 118,
   "metadata": {},
   "outputs": [],
   "source": [
    "df_listings_s = df_listings.sample(n=3000,random_state=47)\n",
    "\n",
    "df_solar_w_s = df_solar_w.sample(n=100,random_state=47)"
   ]
  },
  {
   "cell_type": "code",
   "execution_count": 119,
   "metadata": {},
   "outputs": [
    {
     "data": {
      "text/plain": [
       "(3000, 28)"
      ]
     },
     "execution_count": 119,
     "metadata": {},
     "output_type": "execute_result"
    }
   ],
   "source": [
    "df_listings_s.shape"
   ]
  },
  {
   "cell_type": "code",
   "execution_count": 120,
   "metadata": {
    "scrolled": true
   },
   "outputs": [
    {
     "data": {
      "text/plain": [
       "(100, 54)"
      ]
     },
     "execution_count": 120,
     "metadata": {},
     "output_type": "execute_result"
    }
   ],
   "source": [
    "df_solar_w_s.shape"
   ]
  },
  {
   "cell_type": "code",
   "execution_count": 121,
   "metadata": {},
   "outputs": [
    {
     "data": {
      "text/plain": [
       "True"
      ]
     },
     "execution_count": 121,
     "metadata": {},
     "output_type": "execute_result"
    }
   ],
   "source": [
    "'state' in df_listings_s.columns"
   ]
  },
  {
   "cell_type": "markdown",
   "metadata": {},
   "source": [
    "### create database that shows solar DF averge per metropolitan area values, N=100"
   ]
  },
  {
   "cell_type": "code",
   "execution_count": 122,
   "metadata": {
    "scrolled": false
   },
   "outputs": [
    {
     "data": {
      "text/html": [
       "<div>\n",
       "<style scoped>\n",
       "    .dataframe tbody tr th:only-of-type {\n",
       "        vertical-align: middle;\n",
       "    }\n",
       "\n",
       "    .dataframe tbody tr th {\n",
       "        vertical-align: top;\n",
       "    }\n",
       "\n",
       "    .dataframe thead th {\n",
       "        text-align: right;\n",
       "    }\n",
       "</style>\n",
       "<table border=\"1\" class=\"dataframe\">\n",
       "  <thead>\n",
       "    <tr style=\"text-align: right;\">\n",
       "      <th></th>\n",
       "      <th>metropolitan</th>\n",
       "      <th>solar_system_count</th>\n",
       "      <th>fips</th>\n",
       "      <th>average_household_income</th>\n",
       "      <th>gini_index</th>\n",
       "      <th>land_area</th>\n",
       "      <th>per_capita_income</th>\n",
       "      <th>population_density</th>\n",
       "      <th>education_less_than_high_school_rate</th>\n",
       "      <th>education_high_school_graduate_rate</th>\n",
       "      <th>education_college_rate</th>\n",
       "      <th>education_bachelor_rate</th>\n",
       "      <th>education_master_rate</th>\n",
       "      <th>education_professional_school_rate</th>\n",
       "      <th>education_doctoral_rate</th>\n",
       "      <th>race_white_rate</th>\n",
       "      <th>race_black_africa_rate</th>\n",
       "      <th>race_other_rate</th>\n",
       "      <th>employ_rate</th>\n",
       "      <th>poverty_family_below_poverty_level_rate</th>\n",
       "      <th>median_household_income</th>\n",
       "      <th>electricity_price_residential</th>\n",
       "      <th>average_household_size</th>\n",
       "      <th>housing_unit_occupied_count</th>\n",
       "      <th>housing_unit_median_value</th>\n",
       "      <th>housing_unit_median_gross_rent</th>\n",
       "      <th>latitude</th>\n",
       "      <th>longitude</th>\n",
       "      <th>elevation</th>\n",
       "      <th>frost_days</th>\n",
       "      <th>air_temperature</th>\n",
       "      <th>relative_humidity</th>\n",
       "      <th>daily_solar_radiation</th>\n",
       "      <th>age_18_24_rate</th>\n",
       "      <th>age_25_34_rate</th>\n",
       "      <th>age_35_44_rate</th>\n",
       "      <th>age_45_54_rate</th>\n",
       "      <th>age_65_74_rate</th>\n",
       "      <th>age_55_64_rate</th>\n",
       "      <th>age_10_14_rate</th>\n",
       "      <th>household_type_family_rate</th>\n",
       "      <th>occupation_information_rate</th>\n",
       "      <th>occupancy_vacant_rate</th>\n",
       "      <th>occupancy_owner_rate</th>\n",
       "      <th>transportation_public_rate</th>\n",
       "      <th>health_insurance_public_rate</th>\n",
       "      <th>age_median</th>\n",
       "      <th>travel_time_average</th>\n",
       "      <th>voting_2016_dem_percentage</th>\n",
       "      <th>voting_2016_gop_percentage</th>\n",
       "      <th>diversity</th>\n",
       "      <th>property_tax</th>\n",
       "    </tr>\n",
       "  </thead>\n",
       "  <tbody>\n",
       "    <tr>\n",
       "      <th>0</th>\n",
       "      <td>NYC</td>\n",
       "      <td>59.875000</td>\n",
       "      <td>3.608910e+10</td>\n",
       "      <td>137117.058234</td>\n",
       "      <td>0.439604</td>\n",
       "      <td>1.419126</td>\n",
       "      <td>57036.434783</td>\n",
       "      <td>28475.246233</td>\n",
       "      <td>0.096207</td>\n",
       "      <td>0.220779</td>\n",
       "      <td>0.226009</td>\n",
       "      <td>0.240073</td>\n",
       "      <td>0.147171</td>\n",
       "      <td>0.046708</td>\n",
       "      <td>0.023054</td>\n",
       "      <td>0.784448</td>\n",
       "      <td>0.058927</td>\n",
       "      <td>0.075580</td>\n",
       "      <td>0.934534</td>\n",
       "      <td>0.054289</td>\n",
       "      <td>102509.000000</td>\n",
       "      <td>18.54</td>\n",
       "      <td>2.744348</td>\n",
       "      <td>1681.291667</td>\n",
       "      <td>638360.956522</td>\n",
       "      <td>1685.090909</td>\n",
       "      <td>40.813958</td>\n",
       "      <td>-73.434792</td>\n",
       "      <td>62.583333</td>\n",
       "      <td>59.833333</td>\n",
       "      <td>12.212500</td>\n",
       "      <td>0.659042</td>\n",
       "      <td>3.987500</td>\n",
       "      <td>0.078242</td>\n",
       "      <td>0.135169</td>\n",
       "      <td>0.137064</td>\n",
       "      <td>0.151466</td>\n",
       "      <td>0.095253</td>\n",
       "      <td>0.123045</td>\n",
       "      <td>0.061247</td>\n",
       "      <td>0.670860</td>\n",
       "      <td>0.036198</td>\n",
       "      <td>0.096073</td>\n",
       "      <td>0.600491</td>\n",
       "      <td>0.235181</td>\n",
       "      <td>0.284260</td>\n",
       "      <td>41.317391</td>\n",
       "      <td>30.652174</td>\n",
       "      <td>0.585635</td>\n",
       "      <td>0.383113</td>\n",
       "      <td>0.315346</td>\n",
       "      <td>40.0</td>\n",
       "    </tr>\n",
       "    <tr>\n",
       "      <th>1</th>\n",
       "      <td>boston</td>\n",
       "      <td>9.800000</td>\n",
       "      <td>2.502510e+10</td>\n",
       "      <td>63134.918883</td>\n",
       "      <td>0.457300</td>\n",
       "      <td>0.286973</td>\n",
       "      <td>25195.200000</td>\n",
       "      <td>17840.014400</td>\n",
       "      <td>0.296730</td>\n",
       "      <td>0.310583</td>\n",
       "      <td>0.196676</td>\n",
       "      <td>0.114938</td>\n",
       "      <td>0.065061</td>\n",
       "      <td>0.010186</td>\n",
       "      <td>0.005827</td>\n",
       "      <td>0.495893</td>\n",
       "      <td>0.242058</td>\n",
       "      <td>0.093240</td>\n",
       "      <td>0.895425</td>\n",
       "      <td>0.170921</td>\n",
       "      <td>48166.800000</td>\n",
       "      <td>19.83</td>\n",
       "      <td>2.660000</td>\n",
       "      <td>1447.400000</td>\n",
       "      <td>297820.000000</td>\n",
       "      <td>1117.800000</td>\n",
       "      <td>42.347800</td>\n",
       "      <td>-71.059600</td>\n",
       "      <td>136.000000</td>\n",
       "      <td>122.000000</td>\n",
       "      <td>9.500000</td>\n",
       "      <td>0.645000</td>\n",
       "      <td>3.700000</td>\n",
       "      <td>0.085909</td>\n",
       "      <td>0.200167</td>\n",
       "      <td>0.149042</td>\n",
       "      <td>0.152722</td>\n",
       "      <td>0.053348</td>\n",
       "      <td>0.079014</td>\n",
       "      <td>0.055776</td>\n",
       "      <td>0.620494</td>\n",
       "      <td>0.015499</td>\n",
       "      <td>0.062268</td>\n",
       "      <td>0.266612</td>\n",
       "      <td>0.370805</td>\n",
       "      <td>0.487152</td>\n",
       "      <td>33.920000</td>\n",
       "      <td>31.800000</td>\n",
       "      <td>0.794723</td>\n",
       "      <td>0.164874</td>\n",
       "      <td>0.543764</td>\n",
       "      <td>42.0</td>\n",
       "    </tr>\n",
       "    <tr>\n",
       "      <th>2</th>\n",
       "      <td>chicago</td>\n",
       "      <td>4.200000</td>\n",
       "      <td>1.703159e+10</td>\n",
       "      <td>74094.119533</td>\n",
       "      <td>0.461911</td>\n",
       "      <td>0.610437</td>\n",
       "      <td>29653.254545</td>\n",
       "      <td>13598.823836</td>\n",
       "      <td>0.165165</td>\n",
       "      <td>0.246124</td>\n",
       "      <td>0.251486</td>\n",
       "      <td>0.193144</td>\n",
       "      <td>0.097290</td>\n",
       "      <td>0.031822</td>\n",
       "      <td>0.014969</td>\n",
       "      <td>0.476862</td>\n",
       "      <td>0.350369</td>\n",
       "      <td>0.081170</td>\n",
       "      <td>0.856795</td>\n",
       "      <td>0.183509</td>\n",
       "      <td>53888.527273</td>\n",
       "      <td>12.50</td>\n",
       "      <td>2.702182</td>\n",
       "      <td>1307.163636</td>\n",
       "      <td>247583.333333</td>\n",
       "      <td>1047.272727</td>\n",
       "      <td>41.846182</td>\n",
       "      <td>-87.719400</td>\n",
       "      <td>210.890909</td>\n",
       "      <td>102.527273</td>\n",
       "      <td>10.127273</td>\n",
       "      <td>0.688309</td>\n",
       "      <td>3.778182</td>\n",
       "      <td>0.112425</td>\n",
       "      <td>0.175730</td>\n",
       "      <td>0.138614</td>\n",
       "      <td>0.124735</td>\n",
       "      <td>0.066492</td>\n",
       "      <td>0.104811</td>\n",
       "      <td>0.061166</td>\n",
       "      <td>0.600545</td>\n",
       "      <td>0.018058</td>\n",
       "      <td>0.130170</td>\n",
       "      <td>0.438073</td>\n",
       "      <td>0.230878</td>\n",
       "      <td>0.350454</td>\n",
       "      <td>35.210909</td>\n",
       "      <td>32.963636</td>\n",
       "      <td>0.743758</td>\n",
       "      <td>0.214193</td>\n",
       "      <td>0.321173</td>\n",
       "      <td>17.0</td>\n",
       "    </tr>\n",
       "    <tr>\n",
       "      <th>3</th>\n",
       "      <td>dc</td>\n",
       "      <td>11.727273</td>\n",
       "      <td>1.100101e+10</td>\n",
       "      <td>106538.037207</td>\n",
       "      <td>0.476673</td>\n",
       "      <td>0.387228</td>\n",
       "      <td>45003.090909</td>\n",
       "      <td>13476.595182</td>\n",
       "      <td>0.136186</td>\n",
       "      <td>0.232015</td>\n",
       "      <td>0.198834</td>\n",
       "      <td>0.176226</td>\n",
       "      <td>0.153057</td>\n",
       "      <td>0.071315</td>\n",
       "      <td>0.032367</td>\n",
       "      <td>0.295603</td>\n",
       "      <td>0.632191</td>\n",
       "      <td>0.017858</td>\n",
       "      <td>0.866355</td>\n",
       "      <td>0.178330</td>\n",
       "      <td>74209.363636</td>\n",
       "      <td>12.99</td>\n",
       "      <td>2.444545</td>\n",
       "      <td>1344.363636</td>\n",
       "      <td>546700.000000</td>\n",
       "      <td>1148.636364</td>\n",
       "      <td>38.904364</td>\n",
       "      <td>-76.997091</td>\n",
       "      <td>84.818182</td>\n",
       "      <td>69.181818</td>\n",
       "      <td>13.863636</td>\n",
       "      <td>0.628182</td>\n",
       "      <td>3.987273</td>\n",
       "      <td>0.093752</td>\n",
       "      <td>0.200429</td>\n",
       "      <td>0.129999</td>\n",
       "      <td>0.129639</td>\n",
       "      <td>0.060933</td>\n",
       "      <td>0.117592</td>\n",
       "      <td>0.055399</td>\n",
       "      <td>0.540827</td>\n",
       "      <td>0.049791</td>\n",
       "      <td>0.082352</td>\n",
       "      <td>0.389686</td>\n",
       "      <td>0.374651</td>\n",
       "      <td>0.466045</td>\n",
       "      <td>35.681818</td>\n",
       "      <td>32.363636</td>\n",
       "      <td>0.928466</td>\n",
       "      <td>0.041221</td>\n",
       "      <td>0.334689</td>\n",
       "      <td>5.0</td>\n",
       "    </tr>\n",
       "    <tr>\n",
       "      <th>4</th>\n",
       "      <td>denver</td>\n",
       "      <td>26.800000</td>\n",
       "      <td>8.031002e+09</td>\n",
       "      <td>72773.428276</td>\n",
       "      <td>0.455580</td>\n",
       "      <td>0.666486</td>\n",
       "      <td>29931.000000</td>\n",
       "      <td>5431.289800</td>\n",
       "      <td>0.121184</td>\n",
       "      <td>0.172512</td>\n",
       "      <td>0.228822</td>\n",
       "      <td>0.306610</td>\n",
       "      <td>0.127291</td>\n",
       "      <td>0.030747</td>\n",
       "      <td>0.012834</td>\n",
       "      <td>0.809013</td>\n",
       "      <td>0.049884</td>\n",
       "      <td>0.028542</td>\n",
       "      <td>0.943095</td>\n",
       "      <td>0.127566</td>\n",
       "      <td>53752.400000</td>\n",
       "      <td>12.12</td>\n",
       "      <td>2.082000</td>\n",
       "      <td>1614.800000</td>\n",
       "      <td>306780.000000</td>\n",
       "      <td>893.400000</td>\n",
       "      <td>39.724600</td>\n",
       "      <td>-104.993800</td>\n",
       "      <td>2156.400000</td>\n",
       "      <td>160.600000</td>\n",
       "      <td>6.760000</td>\n",
       "      <td>0.532000</td>\n",
       "      <td>4.556000</td>\n",
       "      <td>0.223359</td>\n",
       "      <td>0.198792</td>\n",
       "      <td>0.145021</td>\n",
       "      <td>0.095543</td>\n",
       "      <td>0.042296</td>\n",
       "      <td>0.092058</td>\n",
       "      <td>0.030681</td>\n",
       "      <td>0.422025</td>\n",
       "      <td>0.033799</td>\n",
       "      <td>0.080598</td>\n",
       "      <td>0.376432</td>\n",
       "      <td>0.128622</td>\n",
       "      <td>0.278448</td>\n",
       "      <td>31.680000</td>\n",
       "      <td>23.600000</td>\n",
       "      <td>0.751691</td>\n",
       "      <td>0.187855</td>\n",
       "      <td>0.326958</td>\n",
       "      <td>10.0</td>\n",
       "    </tr>\n",
       "  </tbody>\n",
       "</table>\n",
       "</div>"
      ],
      "text/plain": [
       "  metropolitan  solar_system_count          fips  average_household_income  \\\n",
       "0          NYC           59.875000  3.608910e+10             137117.058234   \n",
       "1       boston            9.800000  2.502510e+10              63134.918883   \n",
       "2      chicago            4.200000  1.703159e+10              74094.119533   \n",
       "3           dc           11.727273  1.100101e+10             106538.037207   \n",
       "4       denver           26.800000  8.031002e+09              72773.428276   \n",
       "\n",
       "   gini_index  land_area  per_capita_income  population_density  \\\n",
       "0    0.439604   1.419126       57036.434783        28475.246233   \n",
       "1    0.457300   0.286973       25195.200000        17840.014400   \n",
       "2    0.461911   0.610437       29653.254545        13598.823836   \n",
       "3    0.476673   0.387228       45003.090909        13476.595182   \n",
       "4    0.455580   0.666486       29931.000000         5431.289800   \n",
       "\n",
       "   education_less_than_high_school_rate  education_high_school_graduate_rate  \\\n",
       "0                              0.096207                             0.220779   \n",
       "1                              0.296730                             0.310583   \n",
       "2                              0.165165                             0.246124   \n",
       "3                              0.136186                             0.232015   \n",
       "4                              0.121184                             0.172512   \n",
       "\n",
       "   education_college_rate  education_bachelor_rate  education_master_rate  \\\n",
       "0                0.226009                 0.240073               0.147171   \n",
       "1                0.196676                 0.114938               0.065061   \n",
       "2                0.251486                 0.193144               0.097290   \n",
       "3                0.198834                 0.176226               0.153057   \n",
       "4                0.228822                 0.306610               0.127291   \n",
       "\n",
       "   education_professional_school_rate  education_doctoral_rate  \\\n",
       "0                            0.046708                 0.023054   \n",
       "1                            0.010186                 0.005827   \n",
       "2                            0.031822                 0.014969   \n",
       "3                            0.071315                 0.032367   \n",
       "4                            0.030747                 0.012834   \n",
       "\n",
       "   race_white_rate  race_black_africa_rate  race_other_rate  employ_rate  \\\n",
       "0         0.784448                0.058927         0.075580     0.934534   \n",
       "1         0.495893                0.242058         0.093240     0.895425   \n",
       "2         0.476862                0.350369         0.081170     0.856795   \n",
       "3         0.295603                0.632191         0.017858     0.866355   \n",
       "4         0.809013                0.049884         0.028542     0.943095   \n",
       "\n",
       "   poverty_family_below_poverty_level_rate  median_household_income  \\\n",
       "0                                 0.054289            102509.000000   \n",
       "1                                 0.170921             48166.800000   \n",
       "2                                 0.183509             53888.527273   \n",
       "3                                 0.178330             74209.363636   \n",
       "4                                 0.127566             53752.400000   \n",
       "\n",
       "   electricity_price_residential  average_household_size  \\\n",
       "0                          18.54                2.744348   \n",
       "1                          19.83                2.660000   \n",
       "2                          12.50                2.702182   \n",
       "3                          12.99                2.444545   \n",
       "4                          12.12                2.082000   \n",
       "\n",
       "   housing_unit_occupied_count  housing_unit_median_value  \\\n",
       "0                  1681.291667              638360.956522   \n",
       "1                  1447.400000              297820.000000   \n",
       "2                  1307.163636              247583.333333   \n",
       "3                  1344.363636              546700.000000   \n",
       "4                  1614.800000              306780.000000   \n",
       "\n",
       "   housing_unit_median_gross_rent   latitude   longitude    elevation  \\\n",
       "0                     1685.090909  40.813958  -73.434792    62.583333   \n",
       "1                     1117.800000  42.347800  -71.059600   136.000000   \n",
       "2                     1047.272727  41.846182  -87.719400   210.890909   \n",
       "3                     1148.636364  38.904364  -76.997091    84.818182   \n",
       "4                      893.400000  39.724600 -104.993800  2156.400000   \n",
       "\n",
       "   frost_days  air_temperature  relative_humidity  daily_solar_radiation  \\\n",
       "0   59.833333        12.212500           0.659042               3.987500   \n",
       "1  122.000000         9.500000           0.645000               3.700000   \n",
       "2  102.527273        10.127273           0.688309               3.778182   \n",
       "3   69.181818        13.863636           0.628182               3.987273   \n",
       "4  160.600000         6.760000           0.532000               4.556000   \n",
       "\n",
       "   age_18_24_rate  age_25_34_rate  age_35_44_rate  age_45_54_rate  \\\n",
       "0        0.078242        0.135169        0.137064        0.151466   \n",
       "1        0.085909        0.200167        0.149042        0.152722   \n",
       "2        0.112425        0.175730        0.138614        0.124735   \n",
       "3        0.093752        0.200429        0.129999        0.129639   \n",
       "4        0.223359        0.198792        0.145021        0.095543   \n",
       "\n",
       "   age_65_74_rate  age_55_64_rate  age_10_14_rate  household_type_family_rate  \\\n",
       "0        0.095253        0.123045        0.061247                    0.670860   \n",
       "1        0.053348        0.079014        0.055776                    0.620494   \n",
       "2        0.066492        0.104811        0.061166                    0.600545   \n",
       "3        0.060933        0.117592        0.055399                    0.540827   \n",
       "4        0.042296        0.092058        0.030681                    0.422025   \n",
       "\n",
       "   occupation_information_rate  occupancy_vacant_rate  occupancy_owner_rate  \\\n",
       "0                     0.036198               0.096073              0.600491   \n",
       "1                     0.015499               0.062268              0.266612   \n",
       "2                     0.018058               0.130170              0.438073   \n",
       "3                     0.049791               0.082352              0.389686   \n",
       "4                     0.033799               0.080598              0.376432   \n",
       "\n",
       "   transportation_public_rate  health_insurance_public_rate  age_median  \\\n",
       "0                    0.235181                      0.284260   41.317391   \n",
       "1                    0.370805                      0.487152   33.920000   \n",
       "2                    0.230878                      0.350454   35.210909   \n",
       "3                    0.374651                      0.466045   35.681818   \n",
       "4                    0.128622                      0.278448   31.680000   \n",
       "\n",
       "   travel_time_average  voting_2016_dem_percentage  \\\n",
       "0            30.652174                    0.585635   \n",
       "1            31.800000                    0.794723   \n",
       "2            32.963636                    0.743758   \n",
       "3            32.363636                    0.928466   \n",
       "4            23.600000                    0.751691   \n",
       "\n",
       "   voting_2016_gop_percentage  diversity  property_tax  \n",
       "0                    0.383113   0.315346          40.0  \n",
       "1                    0.164874   0.543764          42.0  \n",
       "2                    0.214193   0.321173          17.0  \n",
       "3                    0.041221   0.334689           5.0  \n",
       "4                    0.187855   0.326958          10.0  "
      ]
     },
     "execution_count": 122,
     "metadata": {},
     "output_type": "execute_result"
    }
   ],
   "source": [
    "### average values are based on sample size N=100\n",
    "df_ave_metro_s = df_solar_w_s.groupby(['metropolitan']).mean().reset_index()\n",
    "df_ave_metro_s"
   ]
  },
  {
   "cell_type": "code",
   "execution_count": 135,
   "metadata": {
    "scrolled": true
   },
   "outputs": [
    {
     "data": {
      "text/plain": [
       "(5, 52)"
      ]
     },
     "execution_count": 135,
     "metadata": {},
     "output_type": "execute_result"
    }
   ],
   "source": [
    "df_ave_metro_s.shape"
   ]
  },
  {
   "cell_type": "code",
   "execution_count": 136,
   "metadata": {},
   "outputs": [],
   "source": [
    "merged1 = pd.merge(df_listings_s,df_ave_metro_s, on = 'metropolitan')"
   ]
  },
  {
   "cell_type": "code",
   "execution_count": 137,
   "metadata": {},
   "outputs": [
    {
     "data": {
      "text/plain": [
       "(3000, 79)"
      ]
     },
     "execution_count": 137,
     "metadata": {},
     "output_type": "execute_result"
    }
   ],
   "source": [
    "merged1.shape"
   ]
  },
  {
   "cell_type": "code",
   "execution_count": 138,
   "metadata": {
    "scrolled": false
   },
   "outputs": [
    {
     "data": {
      "text/html": [
       "<div>\n",
       "<style scoped>\n",
       "    .dataframe tbody tr th:only-of-type {\n",
       "        vertical-align: middle;\n",
       "    }\n",
       "\n",
       "    .dataframe tbody tr th {\n",
       "        vertical-align: top;\n",
       "    }\n",
       "\n",
       "    .dataframe thead th {\n",
       "        text-align: right;\n",
       "    }\n",
       "</style>\n",
       "<table border=\"1\" class=\"dataframe\">\n",
       "  <thead>\n",
       "    <tr style=\"text-align: right;\">\n",
       "      <th></th>\n",
       "      <th>accommodates</th>\n",
       "      <th>amenities</th>\n",
       "      <th>availability_30</th>\n",
       "      <th>bathrooms</th>\n",
       "      <th>bed_type</th>\n",
       "      <th>bedrooms</th>\n",
       "      <th>beds</th>\n",
       "      <th>cancellation_policy</th>\n",
       "      <th>city</th>\n",
       "      <th>host_id</th>\n",
       "      <th>id</th>\n",
       "      <th>instant_bookable</th>\n",
       "      <th>latitude_x</th>\n",
       "      <th>longitude_x</th>\n",
       "      <th>metropolitan</th>\n",
       "      <th>name</th>\n",
       "      <th>price</th>\n",
       "      <th>property_type</th>\n",
       "      <th>review_scores_checkin</th>\n",
       "      <th>review_scores_cleanliness</th>\n",
       "      <th>review_scores_communication</th>\n",
       "      <th>review_scores_location</th>\n",
       "      <th>review_scores_rating</th>\n",
       "      <th>review_scores_value</th>\n",
       "      <th>room_type</th>\n",
       "      <th>state</th>\n",
       "      <th>weekly_price</th>\n",
       "      <th>zipcode</th>\n",
       "      <th>solar_system_count</th>\n",
       "      <th>fips</th>\n",
       "      <th>average_household_income</th>\n",
       "      <th>gini_index</th>\n",
       "      <th>land_area</th>\n",
       "      <th>per_capita_income</th>\n",
       "      <th>population_density</th>\n",
       "      <th>education_less_than_high_school_rate</th>\n",
       "      <th>education_high_school_graduate_rate</th>\n",
       "      <th>education_college_rate</th>\n",
       "      <th>education_bachelor_rate</th>\n",
       "      <th>education_master_rate</th>\n",
       "      <th>education_professional_school_rate</th>\n",
       "      <th>education_doctoral_rate</th>\n",
       "      <th>race_white_rate</th>\n",
       "      <th>race_black_africa_rate</th>\n",
       "      <th>race_other_rate</th>\n",
       "      <th>employ_rate</th>\n",
       "      <th>poverty_family_below_poverty_level_rate</th>\n",
       "      <th>median_household_income</th>\n",
       "      <th>electricity_price_residential</th>\n",
       "      <th>average_household_size</th>\n",
       "      <th>housing_unit_occupied_count</th>\n",
       "      <th>housing_unit_median_value</th>\n",
       "      <th>housing_unit_median_gross_rent</th>\n",
       "      <th>latitude_y</th>\n",
       "      <th>longitude_y</th>\n",
       "      <th>elevation</th>\n",
       "      <th>frost_days</th>\n",
       "      <th>air_temperature</th>\n",
       "      <th>relative_humidity</th>\n",
       "      <th>daily_solar_radiation</th>\n",
       "      <th>age_18_24_rate</th>\n",
       "      <th>age_25_34_rate</th>\n",
       "      <th>age_35_44_rate</th>\n",
       "      <th>age_45_54_rate</th>\n",
       "      <th>age_65_74_rate</th>\n",
       "      <th>age_55_64_rate</th>\n",
       "      <th>age_10_14_rate</th>\n",
       "      <th>household_type_family_rate</th>\n",
       "      <th>occupation_information_rate</th>\n",
       "      <th>occupancy_vacant_rate</th>\n",
       "      <th>occupancy_owner_rate</th>\n",
       "      <th>transportation_public_rate</th>\n",
       "      <th>health_insurance_public_rate</th>\n",
       "      <th>age_median</th>\n",
       "      <th>travel_time_average</th>\n",
       "      <th>voting_2016_dem_percentage</th>\n",
       "      <th>voting_2016_gop_percentage</th>\n",
       "      <th>diversity</th>\n",
       "      <th>property_tax</th>\n",
       "    </tr>\n",
       "  </thead>\n",
       "  <tbody>\n",
       "    <tr>\n",
       "      <th>0</th>\n",
       "      <td>2.0</td>\n",
       "      <td>{Internet,\"Wireless Internet\",\"Air Conditionin...</td>\n",
       "      <td>0</td>\n",
       "      <td>1.0</td>\n",
       "      <td>Real Bed</td>\n",
       "      <td>1.0</td>\n",
       "      <td>1.0</td>\n",
       "      <td>flexible</td>\n",
       "      <td>brighton</td>\n",
       "      <td>35975768</td>\n",
       "      <td>6865619</td>\n",
       "      <td>0</td>\n",
       "      <td>42.338298</td>\n",
       "      <td>-71.154123</td>\n",
       "      <td>boston</td>\n",
       "      <td>fully-furnished 1 bed and 1 bath</td>\n",
       "      <td>108.0</td>\n",
       "      <td>Apartment</td>\n",
       "      <td>NaN</td>\n",
       "      <td>NaN</td>\n",
       "      <td>NaN</td>\n",
       "      <td>NaN</td>\n",
       "      <td>NaN</td>\n",
       "      <td>NaN</td>\n",
       "      <td>Entire home/apt</td>\n",
       "      <td>MA</td>\n",
       "      <td>500.0</td>\n",
       "      <td>2135.0</td>\n",
       "      <td>9.8</td>\n",
       "      <td>2.502510e+10</td>\n",
       "      <td>63134.918883</td>\n",
       "      <td>0.4573</td>\n",
       "      <td>0.286973</td>\n",
       "      <td>25195.2</td>\n",
       "      <td>17840.0144</td>\n",
       "      <td>0.29673</td>\n",
       "      <td>0.310583</td>\n",
       "      <td>0.196676</td>\n",
       "      <td>0.114938</td>\n",
       "      <td>0.065061</td>\n",
       "      <td>0.010186</td>\n",
       "      <td>0.005827</td>\n",
       "      <td>0.495893</td>\n",
       "      <td>0.242058</td>\n",
       "      <td>0.09324</td>\n",
       "      <td>0.895425</td>\n",
       "      <td>0.170921</td>\n",
       "      <td>48166.8</td>\n",
       "      <td>19.83</td>\n",
       "      <td>2.66</td>\n",
       "      <td>1447.4</td>\n",
       "      <td>297820.0</td>\n",
       "      <td>1117.8</td>\n",
       "      <td>42.3478</td>\n",
       "      <td>-71.0596</td>\n",
       "      <td>136.0</td>\n",
       "      <td>122.0</td>\n",
       "      <td>9.5</td>\n",
       "      <td>0.645</td>\n",
       "      <td>3.7</td>\n",
       "      <td>0.085909</td>\n",
       "      <td>0.200167</td>\n",
       "      <td>0.149042</td>\n",
       "      <td>0.152722</td>\n",
       "      <td>0.053348</td>\n",
       "      <td>0.079014</td>\n",
       "      <td>0.055776</td>\n",
       "      <td>0.620494</td>\n",
       "      <td>0.015499</td>\n",
       "      <td>0.062268</td>\n",
       "      <td>0.266612</td>\n",
       "      <td>0.370805</td>\n",
       "      <td>0.487152</td>\n",
       "      <td>33.92</td>\n",
       "      <td>31.8</td>\n",
       "      <td>0.794723</td>\n",
       "      <td>0.164874</td>\n",
       "      <td>0.543764</td>\n",
       "      <td>42.0</td>\n",
       "    </tr>\n",
       "    <tr>\n",
       "      <th>1</th>\n",
       "      <td>2.0</td>\n",
       "      <td>{Internet,\"Wireless Internet\",\"Air Conditionin...</td>\n",
       "      <td>14</td>\n",
       "      <td>1.0</td>\n",
       "      <td>Real Bed</td>\n",
       "      <td>1.0</td>\n",
       "      <td>1.0</td>\n",
       "      <td>strict</td>\n",
       "      <td>boston</td>\n",
       "      <td>20684898</td>\n",
       "      <td>9237653</td>\n",
       "      <td>0</td>\n",
       "      <td>42.332484</td>\n",
       "      <td>-71.049417</td>\n",
       "      <td>boston</td>\n",
       "      <td>Minutes to Downtown. Morden Room W/ Private Bath!</td>\n",
       "      <td>110.0</td>\n",
       "      <td>Condominium</td>\n",
       "      <td>10.0</td>\n",
       "      <td>10.0</td>\n",
       "      <td>10.0</td>\n",
       "      <td>10.0</td>\n",
       "      <td>96.0</td>\n",
       "      <td>10.0</td>\n",
       "      <td>Private room</td>\n",
       "      <td>MA</td>\n",
       "      <td>NaN</td>\n",
       "      <td>2127.0</td>\n",
       "      <td>9.8</td>\n",
       "      <td>2.502510e+10</td>\n",
       "      <td>63134.918883</td>\n",
       "      <td>0.4573</td>\n",
       "      <td>0.286973</td>\n",
       "      <td>25195.2</td>\n",
       "      <td>17840.0144</td>\n",
       "      <td>0.29673</td>\n",
       "      <td>0.310583</td>\n",
       "      <td>0.196676</td>\n",
       "      <td>0.114938</td>\n",
       "      <td>0.065061</td>\n",
       "      <td>0.010186</td>\n",
       "      <td>0.005827</td>\n",
       "      <td>0.495893</td>\n",
       "      <td>0.242058</td>\n",
       "      <td>0.09324</td>\n",
       "      <td>0.895425</td>\n",
       "      <td>0.170921</td>\n",
       "      <td>48166.8</td>\n",
       "      <td>19.83</td>\n",
       "      <td>2.66</td>\n",
       "      <td>1447.4</td>\n",
       "      <td>297820.0</td>\n",
       "      <td>1117.8</td>\n",
       "      <td>42.3478</td>\n",
       "      <td>-71.0596</td>\n",
       "      <td>136.0</td>\n",
       "      <td>122.0</td>\n",
       "      <td>9.5</td>\n",
       "      <td>0.645</td>\n",
       "      <td>3.7</td>\n",
       "      <td>0.085909</td>\n",
       "      <td>0.200167</td>\n",
       "      <td>0.149042</td>\n",
       "      <td>0.152722</td>\n",
       "      <td>0.053348</td>\n",
       "      <td>0.079014</td>\n",
       "      <td>0.055776</td>\n",
       "      <td>0.620494</td>\n",
       "      <td>0.015499</td>\n",
       "      <td>0.062268</td>\n",
       "      <td>0.266612</td>\n",
       "      <td>0.370805</td>\n",
       "      <td>0.487152</td>\n",
       "      <td>33.92</td>\n",
       "      <td>31.8</td>\n",
       "      <td>0.794723</td>\n",
       "      <td>0.164874</td>\n",
       "      <td>0.543764</td>\n",
       "      <td>42.0</td>\n",
       "    </tr>\n",
       "    <tr>\n",
       "      <th>2</th>\n",
       "      <td>6.0</td>\n",
       "      <td>{TV,\"Cable TV\",Internet,\"Wireless Internet\",\"A...</td>\n",
       "      <td>23</td>\n",
       "      <td>2.0</td>\n",
       "      <td>Real Bed</td>\n",
       "      <td>3.0</td>\n",
       "      <td>4.0</td>\n",
       "      <td>moderate</td>\n",
       "      <td>boston</td>\n",
       "      <td>9419684</td>\n",
       "      <td>11563716</td>\n",
       "      <td>0</td>\n",
       "      <td>42.351717</td>\n",
       "      <td>-71.047257</td>\n",
       "      <td>boston</td>\n",
       "      <td>Lux 3BR in Seaport Square w/wifi</td>\n",
       "      <td>389.0</td>\n",
       "      <td>Apartment</td>\n",
       "      <td>10.0</td>\n",
       "      <td>10.0</td>\n",
       "      <td>10.0</td>\n",
       "      <td>10.0</td>\n",
       "      <td>95.0</td>\n",
       "      <td>9.0</td>\n",
       "      <td>Entire home/apt</td>\n",
       "      <td>MA</td>\n",
       "      <td>NaN</td>\n",
       "      <td>2210.0</td>\n",
       "      <td>9.8</td>\n",
       "      <td>2.502510e+10</td>\n",
       "      <td>63134.918883</td>\n",
       "      <td>0.4573</td>\n",
       "      <td>0.286973</td>\n",
       "      <td>25195.2</td>\n",
       "      <td>17840.0144</td>\n",
       "      <td>0.29673</td>\n",
       "      <td>0.310583</td>\n",
       "      <td>0.196676</td>\n",
       "      <td>0.114938</td>\n",
       "      <td>0.065061</td>\n",
       "      <td>0.010186</td>\n",
       "      <td>0.005827</td>\n",
       "      <td>0.495893</td>\n",
       "      <td>0.242058</td>\n",
       "      <td>0.09324</td>\n",
       "      <td>0.895425</td>\n",
       "      <td>0.170921</td>\n",
       "      <td>48166.8</td>\n",
       "      <td>19.83</td>\n",
       "      <td>2.66</td>\n",
       "      <td>1447.4</td>\n",
       "      <td>297820.0</td>\n",
       "      <td>1117.8</td>\n",
       "      <td>42.3478</td>\n",
       "      <td>-71.0596</td>\n",
       "      <td>136.0</td>\n",
       "      <td>122.0</td>\n",
       "      <td>9.5</td>\n",
       "      <td>0.645</td>\n",
       "      <td>3.7</td>\n",
       "      <td>0.085909</td>\n",
       "      <td>0.200167</td>\n",
       "      <td>0.149042</td>\n",
       "      <td>0.152722</td>\n",
       "      <td>0.053348</td>\n",
       "      <td>0.079014</td>\n",
       "      <td>0.055776</td>\n",
       "      <td>0.620494</td>\n",
       "      <td>0.015499</td>\n",
       "      <td>0.062268</td>\n",
       "      <td>0.266612</td>\n",
       "      <td>0.370805</td>\n",
       "      <td>0.487152</td>\n",
       "      <td>33.92</td>\n",
       "      <td>31.8</td>\n",
       "      <td>0.794723</td>\n",
       "      <td>0.164874</td>\n",
       "      <td>0.543764</td>\n",
       "      <td>42.0</td>\n",
       "    </tr>\n",
       "    <tr>\n",
       "      <th>3</th>\n",
       "      <td>1.0</td>\n",
       "      <td>{TV,\"Cable TV\",Internet,\"Wireless Internet\",\"A...</td>\n",
       "      <td>25</td>\n",
       "      <td>1.0</td>\n",
       "      <td>Real Bed</td>\n",
       "      <td>1.0</td>\n",
       "      <td>1.0</td>\n",
       "      <td>strict</td>\n",
       "      <td>boston</td>\n",
       "      <td>52601623</td>\n",
       "      <td>12904318</td>\n",
       "      <td>0</td>\n",
       "      <td>42.283584</td>\n",
       "      <td>-71.066951</td>\n",
       "      <td>boston</td>\n",
       "      <td>Lovely cozy room close to Subway</td>\n",
       "      <td>55.0</td>\n",
       "      <td>Apartment</td>\n",
       "      <td>10.0</td>\n",
       "      <td>8.0</td>\n",
       "      <td>10.0</td>\n",
       "      <td>10.0</td>\n",
       "      <td>80.0</td>\n",
       "      <td>8.0</td>\n",
       "      <td>Private room</td>\n",
       "      <td>MA</td>\n",
       "      <td>NaN</td>\n",
       "      <td>2124.0</td>\n",
       "      <td>9.8</td>\n",
       "      <td>2.502510e+10</td>\n",
       "      <td>63134.918883</td>\n",
       "      <td>0.4573</td>\n",
       "      <td>0.286973</td>\n",
       "      <td>25195.2</td>\n",
       "      <td>17840.0144</td>\n",
       "      <td>0.29673</td>\n",
       "      <td>0.310583</td>\n",
       "      <td>0.196676</td>\n",
       "      <td>0.114938</td>\n",
       "      <td>0.065061</td>\n",
       "      <td>0.010186</td>\n",
       "      <td>0.005827</td>\n",
       "      <td>0.495893</td>\n",
       "      <td>0.242058</td>\n",
       "      <td>0.09324</td>\n",
       "      <td>0.895425</td>\n",
       "      <td>0.170921</td>\n",
       "      <td>48166.8</td>\n",
       "      <td>19.83</td>\n",
       "      <td>2.66</td>\n",
       "      <td>1447.4</td>\n",
       "      <td>297820.0</td>\n",
       "      <td>1117.8</td>\n",
       "      <td>42.3478</td>\n",
       "      <td>-71.0596</td>\n",
       "      <td>136.0</td>\n",
       "      <td>122.0</td>\n",
       "      <td>9.5</td>\n",
       "      <td>0.645</td>\n",
       "      <td>3.7</td>\n",
       "      <td>0.085909</td>\n",
       "      <td>0.200167</td>\n",
       "      <td>0.149042</td>\n",
       "      <td>0.152722</td>\n",
       "      <td>0.053348</td>\n",
       "      <td>0.079014</td>\n",
       "      <td>0.055776</td>\n",
       "      <td>0.620494</td>\n",
       "      <td>0.015499</td>\n",
       "      <td>0.062268</td>\n",
       "      <td>0.266612</td>\n",
       "      <td>0.370805</td>\n",
       "      <td>0.487152</td>\n",
       "      <td>33.92</td>\n",
       "      <td>31.8</td>\n",
       "      <td>0.794723</td>\n",
       "      <td>0.164874</td>\n",
       "      <td>0.543764</td>\n",
       "      <td>42.0</td>\n",
       "    </tr>\n",
       "    <tr>\n",
       "      <th>4</th>\n",
       "      <td>6.0</td>\n",
       "      <td>{TV,\"Cable TV\",Internet,\"Wireless Internet\",\"A...</td>\n",
       "      <td>12</td>\n",
       "      <td>1.0</td>\n",
       "      <td>Real Bed</td>\n",
       "      <td>3.0</td>\n",
       "      <td>3.0</td>\n",
       "      <td>strict</td>\n",
       "      <td>boston</td>\n",
       "      <td>71783</td>\n",
       "      <td>3539510</td>\n",
       "      <td>0</td>\n",
       "      <td>42.323285</td>\n",
       "      <td>-71.059858</td>\n",
       "      <td>boston</td>\n",
       "      <td>The Roseclair | 3BR 1BA | 2nd Floor</td>\n",
       "      <td>164.0</td>\n",
       "      <td>Apartment</td>\n",
       "      <td>9.0</td>\n",
       "      <td>10.0</td>\n",
       "      <td>10.0</td>\n",
       "      <td>9.0</td>\n",
       "      <td>92.0</td>\n",
       "      <td>10.0</td>\n",
       "      <td>Entire home/apt</td>\n",
       "      <td>MA</td>\n",
       "      <td>1200.0</td>\n",
       "      <td>2125.0</td>\n",
       "      <td>9.8</td>\n",
       "      <td>2.502510e+10</td>\n",
       "      <td>63134.918883</td>\n",
       "      <td>0.4573</td>\n",
       "      <td>0.286973</td>\n",
       "      <td>25195.2</td>\n",
       "      <td>17840.0144</td>\n",
       "      <td>0.29673</td>\n",
       "      <td>0.310583</td>\n",
       "      <td>0.196676</td>\n",
       "      <td>0.114938</td>\n",
       "      <td>0.065061</td>\n",
       "      <td>0.010186</td>\n",
       "      <td>0.005827</td>\n",
       "      <td>0.495893</td>\n",
       "      <td>0.242058</td>\n",
       "      <td>0.09324</td>\n",
       "      <td>0.895425</td>\n",
       "      <td>0.170921</td>\n",
       "      <td>48166.8</td>\n",
       "      <td>19.83</td>\n",
       "      <td>2.66</td>\n",
       "      <td>1447.4</td>\n",
       "      <td>297820.0</td>\n",
       "      <td>1117.8</td>\n",
       "      <td>42.3478</td>\n",
       "      <td>-71.0596</td>\n",
       "      <td>136.0</td>\n",
       "      <td>122.0</td>\n",
       "      <td>9.5</td>\n",
       "      <td>0.645</td>\n",
       "      <td>3.7</td>\n",
       "      <td>0.085909</td>\n",
       "      <td>0.200167</td>\n",
       "      <td>0.149042</td>\n",
       "      <td>0.152722</td>\n",
       "      <td>0.053348</td>\n",
       "      <td>0.079014</td>\n",
       "      <td>0.055776</td>\n",
       "      <td>0.620494</td>\n",
       "      <td>0.015499</td>\n",
       "      <td>0.062268</td>\n",
       "      <td>0.266612</td>\n",
       "      <td>0.370805</td>\n",
       "      <td>0.487152</td>\n",
       "      <td>33.92</td>\n",
       "      <td>31.8</td>\n",
       "      <td>0.794723</td>\n",
       "      <td>0.164874</td>\n",
       "      <td>0.543764</td>\n",
       "      <td>42.0</td>\n",
       "    </tr>\n",
       "  </tbody>\n",
       "</table>\n",
       "</div>"
      ],
      "text/plain": [
       "   accommodates                                          amenities  \\\n",
       "0           2.0  {Internet,\"Wireless Internet\",\"Air Conditionin...   \n",
       "1           2.0  {Internet,\"Wireless Internet\",\"Air Conditionin...   \n",
       "2           6.0  {TV,\"Cable TV\",Internet,\"Wireless Internet\",\"A...   \n",
       "3           1.0  {TV,\"Cable TV\",Internet,\"Wireless Internet\",\"A...   \n",
       "4           6.0  {TV,\"Cable TV\",Internet,\"Wireless Internet\",\"A...   \n",
       "\n",
       "   availability_30  bathrooms  bed_type  bedrooms  beds cancellation_policy  \\\n",
       "0                0        1.0  Real Bed       1.0   1.0            flexible   \n",
       "1               14        1.0  Real Bed       1.0   1.0              strict   \n",
       "2               23        2.0  Real Bed       3.0   4.0            moderate   \n",
       "3               25        1.0  Real Bed       1.0   1.0              strict   \n",
       "4               12        1.0  Real Bed       3.0   3.0              strict   \n",
       "\n",
       "       city   host_id        id  instant_bookable  latitude_x  longitude_x  \\\n",
       "0  brighton  35975768   6865619                 0   42.338298   -71.154123   \n",
       "1    boston  20684898   9237653                 0   42.332484   -71.049417   \n",
       "2    boston   9419684  11563716                 0   42.351717   -71.047257   \n",
       "3    boston  52601623  12904318                 0   42.283584   -71.066951   \n",
       "4    boston     71783   3539510                 0   42.323285   -71.059858   \n",
       "\n",
       "  metropolitan                                               name  price  \\\n",
       "0       boston                   fully-furnished 1 bed and 1 bath  108.0   \n",
       "1       boston  Minutes to Downtown. Morden Room W/ Private Bath!  110.0   \n",
       "2       boston                   Lux 3BR in Seaport Square w/wifi  389.0   \n",
       "3       boston                   Lovely cozy room close to Subway   55.0   \n",
       "4       boston                The Roseclair | 3BR 1BA | 2nd Floor  164.0   \n",
       "\n",
       "  property_type  review_scores_checkin  review_scores_cleanliness  \\\n",
       "0     Apartment                    NaN                        NaN   \n",
       "1   Condominium                   10.0                       10.0   \n",
       "2     Apartment                   10.0                       10.0   \n",
       "3     Apartment                   10.0                        8.0   \n",
       "4     Apartment                    9.0                       10.0   \n",
       "\n",
       "   review_scores_communication  review_scores_location  review_scores_rating  \\\n",
       "0                          NaN                     NaN                   NaN   \n",
       "1                         10.0                    10.0                  96.0   \n",
       "2                         10.0                    10.0                  95.0   \n",
       "3                         10.0                    10.0                  80.0   \n",
       "4                         10.0                     9.0                  92.0   \n",
       "\n",
       "   review_scores_value        room_type state  weekly_price  zipcode  \\\n",
       "0                  NaN  Entire home/apt    MA         500.0   2135.0   \n",
       "1                 10.0     Private room    MA           NaN   2127.0   \n",
       "2                  9.0  Entire home/apt    MA           NaN   2210.0   \n",
       "3                  8.0     Private room    MA           NaN   2124.0   \n",
       "4                 10.0  Entire home/apt    MA        1200.0   2125.0   \n",
       "\n",
       "   solar_system_count          fips  average_household_income  gini_index  \\\n",
       "0                 9.8  2.502510e+10              63134.918883      0.4573   \n",
       "1                 9.8  2.502510e+10              63134.918883      0.4573   \n",
       "2                 9.8  2.502510e+10              63134.918883      0.4573   \n",
       "3                 9.8  2.502510e+10              63134.918883      0.4573   \n",
       "4                 9.8  2.502510e+10              63134.918883      0.4573   \n",
       "\n",
       "   land_area  per_capita_income  population_density  \\\n",
       "0   0.286973            25195.2          17840.0144   \n",
       "1   0.286973            25195.2          17840.0144   \n",
       "2   0.286973            25195.2          17840.0144   \n",
       "3   0.286973            25195.2          17840.0144   \n",
       "4   0.286973            25195.2          17840.0144   \n",
       "\n",
       "   education_less_than_high_school_rate  education_high_school_graduate_rate  \\\n",
       "0                               0.29673                             0.310583   \n",
       "1                               0.29673                             0.310583   \n",
       "2                               0.29673                             0.310583   \n",
       "3                               0.29673                             0.310583   \n",
       "4                               0.29673                             0.310583   \n",
       "\n",
       "   education_college_rate  education_bachelor_rate  education_master_rate  \\\n",
       "0                0.196676                 0.114938               0.065061   \n",
       "1                0.196676                 0.114938               0.065061   \n",
       "2                0.196676                 0.114938               0.065061   \n",
       "3                0.196676                 0.114938               0.065061   \n",
       "4                0.196676                 0.114938               0.065061   \n",
       "\n",
       "   education_professional_school_rate  education_doctoral_rate  \\\n",
       "0                            0.010186                 0.005827   \n",
       "1                            0.010186                 0.005827   \n",
       "2                            0.010186                 0.005827   \n",
       "3                            0.010186                 0.005827   \n",
       "4                            0.010186                 0.005827   \n",
       "\n",
       "   race_white_rate  race_black_africa_rate  race_other_rate  employ_rate  \\\n",
       "0         0.495893                0.242058          0.09324     0.895425   \n",
       "1         0.495893                0.242058          0.09324     0.895425   \n",
       "2         0.495893                0.242058          0.09324     0.895425   \n",
       "3         0.495893                0.242058          0.09324     0.895425   \n",
       "4         0.495893                0.242058          0.09324     0.895425   \n",
       "\n",
       "   poverty_family_below_poverty_level_rate  median_household_income  \\\n",
       "0                                 0.170921                  48166.8   \n",
       "1                                 0.170921                  48166.8   \n",
       "2                                 0.170921                  48166.8   \n",
       "3                                 0.170921                  48166.8   \n",
       "4                                 0.170921                  48166.8   \n",
       "\n",
       "   electricity_price_residential  average_household_size  \\\n",
       "0                          19.83                    2.66   \n",
       "1                          19.83                    2.66   \n",
       "2                          19.83                    2.66   \n",
       "3                          19.83                    2.66   \n",
       "4                          19.83                    2.66   \n",
       "\n",
       "   housing_unit_occupied_count  housing_unit_median_value  \\\n",
       "0                       1447.4                   297820.0   \n",
       "1                       1447.4                   297820.0   \n",
       "2                       1447.4                   297820.0   \n",
       "3                       1447.4                   297820.0   \n",
       "4                       1447.4                   297820.0   \n",
       "\n",
       "   housing_unit_median_gross_rent  latitude_y  longitude_y  elevation  \\\n",
       "0                          1117.8     42.3478     -71.0596      136.0   \n",
       "1                          1117.8     42.3478     -71.0596      136.0   \n",
       "2                          1117.8     42.3478     -71.0596      136.0   \n",
       "3                          1117.8     42.3478     -71.0596      136.0   \n",
       "4                          1117.8     42.3478     -71.0596      136.0   \n",
       "\n",
       "   frost_days  air_temperature  relative_humidity  daily_solar_radiation  \\\n",
       "0       122.0              9.5              0.645                    3.7   \n",
       "1       122.0              9.5              0.645                    3.7   \n",
       "2       122.0              9.5              0.645                    3.7   \n",
       "3       122.0              9.5              0.645                    3.7   \n",
       "4       122.0              9.5              0.645                    3.7   \n",
       "\n",
       "   age_18_24_rate  age_25_34_rate  age_35_44_rate  age_45_54_rate  \\\n",
       "0        0.085909        0.200167        0.149042        0.152722   \n",
       "1        0.085909        0.200167        0.149042        0.152722   \n",
       "2        0.085909        0.200167        0.149042        0.152722   \n",
       "3        0.085909        0.200167        0.149042        0.152722   \n",
       "4        0.085909        0.200167        0.149042        0.152722   \n",
       "\n",
       "   age_65_74_rate  age_55_64_rate  age_10_14_rate  household_type_family_rate  \\\n",
       "0        0.053348        0.079014        0.055776                    0.620494   \n",
       "1        0.053348        0.079014        0.055776                    0.620494   \n",
       "2        0.053348        0.079014        0.055776                    0.620494   \n",
       "3        0.053348        0.079014        0.055776                    0.620494   \n",
       "4        0.053348        0.079014        0.055776                    0.620494   \n",
       "\n",
       "   occupation_information_rate  occupancy_vacant_rate  occupancy_owner_rate  \\\n",
       "0                     0.015499               0.062268              0.266612   \n",
       "1                     0.015499               0.062268              0.266612   \n",
       "2                     0.015499               0.062268              0.266612   \n",
       "3                     0.015499               0.062268              0.266612   \n",
       "4                     0.015499               0.062268              0.266612   \n",
       "\n",
       "   transportation_public_rate  health_insurance_public_rate  age_median  \\\n",
       "0                    0.370805                      0.487152       33.92   \n",
       "1                    0.370805                      0.487152       33.92   \n",
       "2                    0.370805                      0.487152       33.92   \n",
       "3                    0.370805                      0.487152       33.92   \n",
       "4                    0.370805                      0.487152       33.92   \n",
       "\n",
       "   travel_time_average  voting_2016_dem_percentage  \\\n",
       "0                 31.8                    0.794723   \n",
       "1                 31.8                    0.794723   \n",
       "2                 31.8                    0.794723   \n",
       "3                 31.8                    0.794723   \n",
       "4                 31.8                    0.794723   \n",
       "\n",
       "   voting_2016_gop_percentage  diversity  property_tax  \n",
       "0                    0.164874   0.543764          42.0  \n",
       "1                    0.164874   0.543764          42.0  \n",
       "2                    0.164874   0.543764          42.0  \n",
       "3                    0.164874   0.543764          42.0  \n",
       "4                    0.164874   0.543764          42.0  "
      ]
     },
     "execution_count": 138,
     "metadata": {},
     "output_type": "execute_result"
    }
   ],
   "source": [
    "merged1.head()"
   ]
  },
  {
   "cell_type": "code",
   "execution_count": 139,
   "metadata": {
    "scrolled": true
   },
   "outputs": [
    {
     "data": {
      "text/plain": [
       "city              metropolitan\n",
       "forest hills      NYC              35.000000\n",
       "nyc               NYC              38.000000\n",
       "corona            NYC              40.000000\n",
       "oakland gardens   NYC              45.000000\n",
       "flushing          NYC              45.000000\n",
       "woodside          NYC              52.333333\n",
       "ridgewood         NYC              52.500000\n",
       "manhattan         NYC              54.000000\n",
       "jackson heights   NYC              55.000000\n",
       "st albans         NYC              65.000000\n",
       "saint albans      NYC              65.000000\n",
       "east boston       boston           65.000000\n",
       "lic               NYC              70.000000\n",
       "jamaica           NYC              75.000000\n",
       "roxbury crossing  boston           83.333333\n",
       "whitestone        NYC              85.000000\n",
       "staten island     NYC              86.900000\n",
       "allston           boston           87.500000\n",
       "astoria           NYC              91.333333\n",
       "queens            NYC              96.460317\n",
       "riverdale         NYC              99.000000\n",
       "sunnysidebronx    NYC             101.885714\n",
       "middle village    NYC             105.000000\n",
       "brighton          boston          108.000000\n",
       "long island city  NYC             110.200000\n",
       "brooklyn          NYC             129.091584\n",
       "chicago           chicago         133.474638\n",
       "bay ridge         NYC             139.000000\n",
       "denver            denver          151.716814\n",
       "boston            boston          168.842391\n",
       "new york          NYC             178.635406\n",
       "dorchester        boston          192.000000\n",
       "somerville        boston          200.000000\n",
       "washington        dc              253.997758\n",
       "jamaica plain     boston          275.000000\n",
       "charlestown       boston          375.000000\n",
       "Name: price, dtype: float64"
      ]
     },
     "execution_count": 139,
     "metadata": {},
     "output_type": "execute_result"
    }
   ],
   "source": [
    "merged1.groupby(['city','metropolitan'])['price'].mean().sort_values()"
   ]
  },
  {
   "cell_type": "markdown",
   "metadata": {},
   "source": [
    "### for merged big DF (df_lis_sol_merged) the highest price was \n",
    "- chelsea (NYC)  $800"
   ]
  },
  {
   "cell_type": "markdown",
   "metadata": {},
   "source": [
    "### end SAMPLE"
   ]
  }
 ],
 "metadata": {
  "kernelspec": {
   "display_name": "Python 3",
   "language": "python",
   "name": "python3"
  },
  "language_info": {
   "codemirror_mode": {
    "name": "ipython",
    "version": 3
   },
   "file_extension": ".py",
   "mimetype": "text/x-python",
   "name": "python",
   "nbconvert_exporter": "python",
   "pygments_lexer": "ipython3",
   "version": "3.6.8"
  }
 },
 "nbformat": 4,
 "nbformat_minor": 4
}
