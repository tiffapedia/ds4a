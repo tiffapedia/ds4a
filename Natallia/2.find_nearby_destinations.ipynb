{
 "cells": [
  {
   "cell_type": "code",
   "execution_count": 1,
   "metadata": {},
   "outputs": [],
   "source": [
    "import sqlite3\n",
    "import pandas as pd\n",
    "import matplotlib.pyplot as plt\n",
    "from sklearn.metrics.pairwise import haversine_distances\n",
    "from math import radians\n",
    "pd.set_option('display.max_columns', None)"
   ]
  },
  {
   "cell_type": "code",
   "execution_count": 2,
   "metadata": {},
   "outputs": [
    {
     "name": "stdout",
     "output_type": "stream",
     "text": [
      "Tables:\n"
     ]
    },
    {
     "data": {
      "text/plain": [
       "['listings',\n",
       " 'venues',\n",
       " 'calendar',\n",
       " 'econ_state',\n",
       " 'demographics',\n",
       " 'real_estate',\n",
       " 'deepsolar_tract']"
      ]
     },
     "execution_count": 2,
     "metadata": {},
     "output_type": "execute_result"
    }
   ],
   "source": [
    "# SQL Read Helper class\n",
    "\n",
    "class ReadSQL(object):\n",
    "    \"\"\"Helper class for connecting to SQL databases\"\"\"\n",
    "    \n",
    "    def __init__(self, db_name):\n",
    "        self.db_name = db_name\n",
    "        self.connection = None\n",
    "        \n",
    "    def connect(self):\n",
    "        self.connection = sqlite3.connect(f\"{self.db_name}\")\n",
    "        return self.connection\n",
    "    \n",
    "    def get(self, query, **kwargs):\n",
    "        \"\"\"Use pd.read_sql with default arguments to read from database\"\"\"\n",
    "        if kwargs:\n",
    "            sql_kwargs = kwargs\n",
    "        else:\n",
    "            sql_kwargs = {\"con\": self.connection, \"parse_dates\": \"date\"}\n",
    "        return pd.read_sql(query, **sql_kwargs)\n",
    "\n",
    "    def get_table_columns(self, table, **kwargs):\n",
    "        \"\"\"Returns dataframe info for a given table (most useful: column names and dtypes)\"\"\"\n",
    "        query = f\"SELECT * FROM {table} LIMIT 1;\"\n",
    "        return self.get(query, **kwargs).info()\n",
    "\n",
    "                                          \n",
    "readsql = ReadSQL(\"data/housing_data.db\") \n",
    "conn = readsql.connect()\n",
    "\n",
    "# Fetch and print table names\n",
    "res = conn.execute(\"SELECT name FROM sqlite_master WHERE type='table';\")\n",
    "print(\"Tables:\")\n",
    "tables = [t[0] for t in res.fetchall()]\n",
    "tables"
   ]
  },
  {
   "cell_type": "markdown",
   "metadata": {},
   "source": [
    "### Load new listing dataset"
   ]
  },
  {
   "cell_type": "code",
   "execution_count": 3,
   "metadata": {},
   "outputs": [],
   "source": [
    "listings_df = pd.read_csv('data/new_listings.csv', encoding = \"ISO-8859-1\")"
   ]
  },
  {
   "cell_type": "code",
   "execution_count": 4,
   "metadata": {},
   "outputs": [
    {
     "data": {
      "text/html": [
       "<div>\n",
       "<style scoped>\n",
       "    .dataframe tbody tr th:only-of-type {\n",
       "        vertical-align: middle;\n",
       "    }\n",
       "\n",
       "    .dataframe tbody tr th {\n",
       "        vertical-align: top;\n",
       "    }\n",
       "\n",
       "    .dataframe thead th {\n",
       "        text-align: right;\n",
       "    }\n",
       "</style>\n",
       "<table border=\"1\" class=\"dataframe\">\n",
       "  <thead>\n",
       "    <tr style=\"text-align: right;\">\n",
       "      <th></th>\n",
       "      <th>accommodates</th>\n",
       "      <th>availability_30</th>\n",
       "      <th>bathrooms</th>\n",
       "      <th>bedrooms</th>\n",
       "      <th>beds</th>\n",
       "      <th>host_id</th>\n",
       "      <th>id</th>\n",
       "      <th>review_scores_checkin</th>\n",
       "      <th>review_scores_cleanliness</th>\n",
       "      <th>review_scores_communication</th>\n",
       "      <th>review_scores_location</th>\n",
       "      <th>review_scores_rating</th>\n",
       "      <th>review_scores_value</th>\n",
       "      <th>weekly_price</th>\n",
       "      <th>instant_bookable_f</th>\n",
       "      <th>instant_bookable_t</th>\n",
       "      <th>metropolitan_NYC</th>\n",
       "      <th>metropolitan_boston</th>\n",
       "      <th>metropolitan_chicago</th>\n",
       "      <th>metropolitan_dc</th>\n",
       "      <th>metropolitan_denver</th>\n",
       "      <th>room_type_Entire home/apt</th>\n",
       "      <th>room_type_Private room</th>\n",
       "      <th>room_type_Shared room</th>\n",
       "      <th>price</th>\n",
       "      <th>metropolitan</th>\n",
       "    </tr>\n",
       "  </thead>\n",
       "  <tbody>\n",
       "    <tr>\n",
       "      <td>0</td>\n",
       "      <td>2.0</td>\n",
       "      <td>24</td>\n",
       "      <td>1.0</td>\n",
       "      <td>1.0</td>\n",
       "      <td>1.0</td>\n",
       "      <td>119445</td>\n",
       "      <td>7949480</td>\n",
       "      <td>10.0</td>\n",
       "      <td>10.0</td>\n",
       "      <td>10.0</td>\n",
       "      <td>10.0</td>\n",
       "      <td>100.0</td>\n",
       "      <td>10.0</td>\n",
       "      <td>856.471201</td>\n",
       "      <td>1</td>\n",
       "      <td>0</td>\n",
       "      <td>1</td>\n",
       "      <td>0</td>\n",
       "      <td>0</td>\n",
       "      <td>0</td>\n",
       "      <td>0</td>\n",
       "      <td>0</td>\n",
       "      <td>1</td>\n",
       "      <td>0</td>\n",
       "      <td>99.0</td>\n",
       "      <td>NYC</td>\n",
       "    </tr>\n",
       "    <tr>\n",
       "      <td>1</td>\n",
       "      <td>4.0</td>\n",
       "      <td>30</td>\n",
       "      <td>1.0</td>\n",
       "      <td>1.0</td>\n",
       "      <td>1.0</td>\n",
       "      <td>9117975</td>\n",
       "      <td>16042478</td>\n",
       "      <td>10.0</td>\n",
       "      <td>10.0</td>\n",
       "      <td>10.0</td>\n",
       "      <td>10.0</td>\n",
       "      <td>96.0</td>\n",
       "      <td>10.0</td>\n",
       "      <td>856.471201</td>\n",
       "      <td>0</td>\n",
       "      <td>1</td>\n",
       "      <td>1</td>\n",
       "      <td>0</td>\n",
       "      <td>0</td>\n",
       "      <td>0</td>\n",
       "      <td>0</td>\n",
       "      <td>0</td>\n",
       "      <td>1</td>\n",
       "      <td>0</td>\n",
       "      <td>200.0</td>\n",
       "      <td>NYC</td>\n",
       "    </tr>\n",
       "    <tr>\n",
       "      <td>2</td>\n",
       "      <td>4.0</td>\n",
       "      <td>30</td>\n",
       "      <td>3.0</td>\n",
       "      <td>3.0</td>\n",
       "      <td>3.0</td>\n",
       "      <td>9815788</td>\n",
       "      <td>1886820</td>\n",
       "      <td>10.0</td>\n",
       "      <td>10.0</td>\n",
       "      <td>10.0</td>\n",
       "      <td>10.0</td>\n",
       "      <td>96.0</td>\n",
       "      <td>10.0</td>\n",
       "      <td>856.471201</td>\n",
       "      <td>1</td>\n",
       "      <td>0</td>\n",
       "      <td>1</td>\n",
       "      <td>0</td>\n",
       "      <td>0</td>\n",
       "      <td>0</td>\n",
       "      <td>0</td>\n",
       "      <td>1</td>\n",
       "      <td>0</td>\n",
       "      <td>0</td>\n",
       "      <td>300.0</td>\n",
       "      <td>NYC</td>\n",
       "    </tr>\n",
       "    <tr>\n",
       "      <td>3</td>\n",
       "      <td>3.0</td>\n",
       "      <td>8</td>\n",
       "      <td>1.0</td>\n",
       "      <td>1.0</td>\n",
       "      <td>1.0</td>\n",
       "      <td>13886510</td>\n",
       "      <td>6627449</td>\n",
       "      <td>10.0</td>\n",
       "      <td>10.0</td>\n",
       "      <td>10.0</td>\n",
       "      <td>10.0</td>\n",
       "      <td>93.0</td>\n",
       "      <td>10.0</td>\n",
       "      <td>775.000000</td>\n",
       "      <td>1</td>\n",
       "      <td>0</td>\n",
       "      <td>1</td>\n",
       "      <td>0</td>\n",
       "      <td>0</td>\n",
       "      <td>0</td>\n",
       "      <td>0</td>\n",
       "      <td>1</td>\n",
       "      <td>0</td>\n",
       "      <td>0</td>\n",
       "      <td>125.0</td>\n",
       "      <td>NYC</td>\n",
       "    </tr>\n",
       "    <tr>\n",
       "      <td>4</td>\n",
       "      <td>4.0</td>\n",
       "      <td>17</td>\n",
       "      <td>1.0</td>\n",
       "      <td>1.0</td>\n",
       "      <td>1.0</td>\n",
       "      <td>28811542</td>\n",
       "      <td>5557381</td>\n",
       "      <td>10.0</td>\n",
       "      <td>10.0</td>\n",
       "      <td>10.0</td>\n",
       "      <td>10.0</td>\n",
       "      <td>97.0</td>\n",
       "      <td>10.0</td>\n",
       "      <td>350.000000</td>\n",
       "      <td>0</td>\n",
       "      <td>1</td>\n",
       "      <td>1</td>\n",
       "      <td>0</td>\n",
       "      <td>0</td>\n",
       "      <td>0</td>\n",
       "      <td>0</td>\n",
       "      <td>0</td>\n",
       "      <td>1</td>\n",
       "      <td>0</td>\n",
       "      <td>69.0</td>\n",
       "      <td>NYC</td>\n",
       "    </tr>\n",
       "  </tbody>\n",
       "</table>\n",
       "</div>"
      ],
      "text/plain": [
       "   accommodates  availability_30  bathrooms  bedrooms  beds   host_id  \\\n",
       "0           2.0               24        1.0       1.0   1.0    119445   \n",
       "1           4.0               30        1.0       1.0   1.0   9117975   \n",
       "2           4.0               30        3.0       3.0   3.0   9815788   \n",
       "3           3.0                8        1.0       1.0   1.0  13886510   \n",
       "4           4.0               17        1.0       1.0   1.0  28811542   \n",
       "\n",
       "         id  review_scores_checkin  review_scores_cleanliness  \\\n",
       "0   7949480                   10.0                       10.0   \n",
       "1  16042478                   10.0                       10.0   \n",
       "2   1886820                   10.0                       10.0   \n",
       "3   6627449                   10.0                       10.0   \n",
       "4   5557381                   10.0                       10.0   \n",
       "\n",
       "   review_scores_communication  review_scores_location  review_scores_rating  \\\n",
       "0                         10.0                    10.0                 100.0   \n",
       "1                         10.0                    10.0                  96.0   \n",
       "2                         10.0                    10.0                  96.0   \n",
       "3                         10.0                    10.0                  93.0   \n",
       "4                         10.0                    10.0                  97.0   \n",
       "\n",
       "   review_scores_value  weekly_price  instant_bookable_f  instant_bookable_t  \\\n",
       "0                 10.0    856.471201                   1                   0   \n",
       "1                 10.0    856.471201                   0                   1   \n",
       "2                 10.0    856.471201                   1                   0   \n",
       "3                 10.0    775.000000                   1                   0   \n",
       "4                 10.0    350.000000                   0                   1   \n",
       "\n",
       "   metropolitan_NYC  metropolitan_boston  metropolitan_chicago  \\\n",
       "0                 1                    0                     0   \n",
       "1                 1                    0                     0   \n",
       "2                 1                    0                     0   \n",
       "3                 1                    0                     0   \n",
       "4                 1                    0                     0   \n",
       "\n",
       "   metropolitan_dc  metropolitan_denver  room_type_Entire home/apt  \\\n",
       "0                0                    0                          0   \n",
       "1                0                    0                          0   \n",
       "2                0                    0                          1   \n",
       "3                0                    0                          1   \n",
       "4                0                    0                          0   \n",
       "\n",
       "   room_type_Private room  room_type_Shared room  price metropolitan  \n",
       "0                       1                      0   99.0          NYC  \n",
       "1                       1                      0  200.0          NYC  \n",
       "2                       0                      0  300.0          NYC  \n",
       "3                       0                      0  125.0          NYC  \n",
       "4                       1                      0   69.0          NYC  "
      ]
     },
     "execution_count": 4,
     "metadata": {},
     "output_type": "execute_result"
    }
   ],
   "source": [
    "listings_df.head()"
   ]
  },
  {
   "cell_type": "code",
   "execution_count": 5,
   "metadata": {},
   "outputs": [],
   "source": [
    "# Clean up city names\n",
    "listings_df.loc[listings_df[\"metropolitan\"] == \"NYC\", \"metropolitan\"] = \"New York\"\n",
    "listings_df.loc[listings_df[\"metropolitan\"] == \"dc\", \"metropolitan\"] = \"Washington\"\n",
    "listings_df.loc[listings_df[\"metropolitan\"] == \"chicago\", \"metropolitan\"] = \"Chicago\"\n",
    "listings_df.loc[listings_df[\"metropolitan\"] == \"boston\", \"metropolitan\"] = \"Boston\"\n",
    "listings_df.loc[listings_df[\"metropolitan\"] == \"denver\", \"metropolitan\"] = \"Denver\""
   ]
  },
  {
   "cell_type": "code",
   "execution_count": 6,
   "metadata": {},
   "outputs": [
    {
     "data": {
      "text/plain": [
       "New York      40740\n",
       "Washington     7787\n",
       "Chicago        5207\n",
       "Boston         3582\n",
       "Denver         2504\n",
       "Name: metropolitan, dtype: int64"
      ]
     },
     "execution_count": 6,
     "metadata": {},
     "output_type": "execute_result"
    }
   ],
   "source": [
    "listings_df[\"metropolitan\"].value_counts()"
   ]
  },
  {
   "cell_type": "markdown",
   "metadata": {},
   "source": [
    "The listings data only contain listings in New York City, Washington DC, Chicago, Boston and Denver. Moving forward,  let's focus just on these locations."
   ]
  },
  {
   "cell_type": "markdown",
   "metadata": {},
   "source": [
    "### Cross-reference travellers locations with  locations in US census locations data for 5 states"
   ]
  },
  {
   "cell_type": "markdown",
   "metadata": {},
   "source": [
    "### Load the Travelers dataset, US sencus dataset"
   ]
  },
  {
   "cell_type": "code",
   "execution_count": 7,
   "metadata": {},
   "outputs": [],
   "source": [
    "df_tr = pd.read_csv('data/travelers.csv', encoding = \"ISO-8859-1\")"
   ]
  },
  {
   "cell_type": "code",
   "execution_count": 8,
   "metadata": {
    "scrolled": false
   },
   "outputs": [
    {
     "data": {
      "text/html": [
       "<div>\n",
       "<style scoped>\n",
       "    .dataframe tbody tr th:only-of-type {\n",
       "        vertical-align: middle;\n",
       "    }\n",
       "\n",
       "    .dataframe tbody tr th {\n",
       "        vertical-align: top;\n",
       "    }\n",
       "\n",
       "    .dataframe thead th {\n",
       "        text-align: right;\n",
       "    }\n",
       "</style>\n",
       "<table border=\"1\" class=\"dataframe\">\n",
       "  <thead>\n",
       "    <tr style=\"text-align: right;\">\n",
       "      <th></th>\n",
       "      <th>USPS</th>\n",
       "      <th>GEOID</th>\n",
       "      <th>ANSICODE</th>\n",
       "      <th>NAME</th>\n",
       "      <th>LSAD</th>\n",
       "      <th>FUNCSTAT</th>\n",
       "      <th>ALAND</th>\n",
       "      <th>AWATER</th>\n",
       "      <th>ALAND_SQMI</th>\n",
       "      <th>AWATER_SQMI</th>\n",
       "      <th>INTPTLAT</th>\n",
       "      <th>INTPTLONG</th>\n",
       "    </tr>\n",
       "  </thead>\n",
       "  <tbody>\n",
       "    <tr>\n",
       "      <td>0</td>\n",
       "      <td>AL</td>\n",
       "      <td>100100</td>\n",
       "      <td>2582661</td>\n",
       "      <td>Abanda CDP</td>\n",
       "      <td>57</td>\n",
       "      <td>S</td>\n",
       "      <td>7764034</td>\n",
       "      <td>34284</td>\n",
       "      <td>2.998</td>\n",
       "      <td>0.013</td>\n",
       "      <td>33.091627</td>\n",
       "      <td>-85.527029</td>\n",
       "    </tr>\n",
       "    <tr>\n",
       "      <td>1</td>\n",
       "      <td>AL</td>\n",
       "      <td>100124</td>\n",
       "      <td>2403054</td>\n",
       "      <td>Abbeville city</td>\n",
       "      <td>25</td>\n",
       "      <td>A</td>\n",
       "      <td>40255362</td>\n",
       "      <td>107642</td>\n",
       "      <td>15.543</td>\n",
       "      <td>0.042</td>\n",
       "      <td>31.564689</td>\n",
       "      <td>-85.259124</td>\n",
       "    </tr>\n",
       "    <tr>\n",
       "      <td>2</td>\n",
       "      <td>AL</td>\n",
       "      <td>100460</td>\n",
       "      <td>2403063</td>\n",
       "      <td>Adamsville city</td>\n",
       "      <td>25</td>\n",
       "      <td>A</td>\n",
       "      <td>65193211</td>\n",
       "      <td>14122</td>\n",
       "      <td>25.171</td>\n",
       "      <td>0.005</td>\n",
       "      <td>33.605748</td>\n",
       "      <td>-86.974649</td>\n",
       "    </tr>\n",
       "    <tr>\n",
       "      <td>3</td>\n",
       "      <td>AL</td>\n",
       "      <td>100484</td>\n",
       "      <td>2405123</td>\n",
       "      <td>Addison town</td>\n",
       "      <td>43</td>\n",
       "      <td>A</td>\n",
       "      <td>9753293</td>\n",
       "      <td>83417</td>\n",
       "      <td>3.766</td>\n",
       "      <td>0.032</td>\n",
       "      <td>34.202681</td>\n",
       "      <td>-87.178004</td>\n",
       "    </tr>\n",
       "    <tr>\n",
       "      <td>4</td>\n",
       "      <td>AL</td>\n",
       "      <td>100676</td>\n",
       "      <td>2405125</td>\n",
       "      <td>Akron town</td>\n",
       "      <td>43</td>\n",
       "      <td>A</td>\n",
       "      <td>1776163</td>\n",
       "      <td>13849</td>\n",
       "      <td>0.686</td>\n",
       "      <td>0.005</td>\n",
       "      <td>32.879495</td>\n",
       "      <td>-87.741679</td>\n",
       "    </tr>\n",
       "    <tr>\n",
       "      <td>...</td>\n",
       "      <td>...</td>\n",
       "      <td>...</td>\n",
       "      <td>...</td>\n",
       "      <td>...</td>\n",
       "      <td>...</td>\n",
       "      <td>...</td>\n",
       "      <td>...</td>\n",
       "      <td>...</td>\n",
       "      <td>...</td>\n",
       "      <td>...</td>\n",
       "      <td>...</td>\n",
       "      <td>...</td>\n",
       "    </tr>\n",
       "    <tr>\n",
       "      <td>29569</td>\n",
       "      <td>PR</td>\n",
       "      <td>7286014</td>\n",
       "      <td>2415077</td>\n",
       "      <td>Vieques zona urbana</td>\n",
       "      <td>62</td>\n",
       "      <td>S</td>\n",
       "      <td>1503382</td>\n",
       "      <td>775201</td>\n",
       "      <td>0.580</td>\n",
       "      <td>0.299</td>\n",
       "      <td>18.148491</td>\n",
       "      <td>-65.443951</td>\n",
       "    </tr>\n",
       "    <tr>\n",
       "      <td>29570</td>\n",
       "      <td>PR</td>\n",
       "      <td>7286831</td>\n",
       "      <td>2415078</td>\n",
       "      <td>Villalba zona urbana</td>\n",
       "      <td>62</td>\n",
       "      <td>S</td>\n",
       "      <td>3094394</td>\n",
       "      <td>0</td>\n",
       "      <td>1.195</td>\n",
       "      <td>0.000</td>\n",
       "      <td>18.127892</td>\n",
       "      <td>-66.481474</td>\n",
       "    </tr>\n",
       "    <tr>\n",
       "      <td>29571</td>\n",
       "      <td>PR</td>\n",
       "      <td>7287863</td>\n",
       "      <td>2415079</td>\n",
       "      <td>Yabucoa zona urbana</td>\n",
       "      <td>62</td>\n",
       "      <td>S</td>\n",
       "      <td>2982876</td>\n",
       "      <td>278</td>\n",
       "      <td>1.152</td>\n",
       "      <td>0.000</td>\n",
       "      <td>18.047884</td>\n",
       "      <td>-65.879344</td>\n",
       "    </tr>\n",
       "    <tr>\n",
       "      <td>29572</td>\n",
       "      <td>PR</td>\n",
       "      <td>7288035</td>\n",
       "      <td>2415080</td>\n",
       "      <td>Yauco zona urbana</td>\n",
       "      <td>62</td>\n",
       "      <td>S</td>\n",
       "      <td>7498657</td>\n",
       "      <td>7096</td>\n",
       "      <td>2.895</td>\n",
       "      <td>0.003</td>\n",
       "      <td>18.034793</td>\n",
       "      <td>-66.862130</td>\n",
       "    </tr>\n",
       "    <tr>\n",
       "      <td>29573</td>\n",
       "      <td>PR</td>\n",
       "      <td>7288121</td>\n",
       "      <td>2415081</td>\n",
       "      <td>Yaurel comunidad</td>\n",
       "      <td>55</td>\n",
       "      <td>S</td>\n",
       "      <td>3076256</td>\n",
       "      <td>0</td>\n",
       "      <td>1.188</td>\n",
       "      <td>0.000</td>\n",
       "      <td>18.030065</td>\n",
       "      <td>-66.056034</td>\n",
       "    </tr>\n",
       "  </tbody>\n",
       "</table>\n",
       "<p>29574 rows × 12 columns</p>\n",
       "</div>"
      ],
      "text/plain": [
       "      USPS    GEOID  ANSICODE                  NAME LSAD FUNCSTAT     ALAND  \\\n",
       "0       AL   100100   2582661            Abanda CDP   57        S   7764034   \n",
       "1       AL   100124   2403054        Abbeville city   25        A  40255362   \n",
       "2       AL   100460   2403063       Adamsville city   25        A  65193211   \n",
       "3       AL   100484   2405123          Addison town   43        A   9753293   \n",
       "4       AL   100676   2405125            Akron town   43        A   1776163   \n",
       "...    ...      ...       ...                   ...  ...      ...       ...   \n",
       "29569   PR  7286014   2415077   Vieques zona urbana   62        S   1503382   \n",
       "29570   PR  7286831   2415078  Villalba zona urbana   62        S   3094394   \n",
       "29571   PR  7287863   2415079   Yabucoa zona urbana   62        S   2982876   \n",
       "29572   PR  7288035   2415080     Yauco zona urbana   62        S   7498657   \n",
       "29573   PR  7288121   2415081      Yaurel comunidad   55        S   3076256   \n",
       "\n",
       "       AWATER  ALAND_SQMI  AWATER_SQMI   INTPTLAT  INTPTLONG  \n",
       "0       34284       2.998        0.013  33.091627 -85.527029  \n",
       "1      107642      15.543        0.042  31.564689 -85.259124  \n",
       "2       14122      25.171        0.005  33.605748 -86.974649  \n",
       "3       83417       3.766        0.032  34.202681 -87.178004  \n",
       "4       13849       0.686        0.005  32.879495 -87.741679  \n",
       "...       ...         ...          ...        ...        ...  \n",
       "29569  775201       0.580        0.299  18.148491 -65.443951  \n",
       "29570       0       1.195        0.000  18.127892 -66.481474  \n",
       "29571     278       1.152        0.000  18.047884 -65.879344  \n",
       "29572    7096       2.895        0.003  18.034793 -66.862130  \n",
       "29573       0       1.188        0.000  18.030065 -66.056034  \n",
       "\n",
       "[29574 rows x 12 columns]"
      ]
     },
     "execution_count": 8,
     "metadata": {},
     "output_type": "execute_result"
    }
   ],
   "source": [
    "# US census place data \n",
    "#\n",
    "# Reference:\n",
    "# https://www.census.gov/geographies/reference-files/2019/geo/gazetter-file.html\n",
    "# https://www2.census.gov/geo/docs/maps-data/data/gazetteer/2019_Gazetteer/2019_Gaz_place_national.zip\n",
    "\n",
    "# Place data\n",
    "places_df = pd.read_csv(\"data/2019_Gaz_place_national.txt\", sep=\"\\t\")\n",
    "places_df = places_df.rename(columns={key: key.strip() for key in places_df.columns}) # Removes whitespace in some columns\n",
    "places_df"
   ]
  },
  {
   "cell_type": "code",
   "execution_count": 9,
   "metadata": {},
   "outputs": [
    {
     "data": {
      "text/plain": [
       "(29574, 12)"
      ]
     },
     "execution_count": 9,
     "metadata": {},
     "output_type": "execute_result"
    }
   ],
   "source": [
    "places_df.shape"
   ]
  },
  {
   "cell_type": "markdown",
   "metadata": {},
   "source": [
    "### Find only places that are in these states:  'NY','CO','MA','IL','DC' (metro areas)"
   ]
  },
  {
   "cell_type": "markdown",
   "metadata": {},
   "source": [
    "#### It is possible that most of the places are in metro areas close to the center of the area identified in US census data\n",
    "\n",
    "In this section we will find the locations in the travellers dataset(only 5 states included) that are within some radius of the 5 cities which coordinates we can get from US census DF. We will use the Haversine formula for calculating distances ."
   ]
  },
  {
   "cell_type": "code",
   "execution_count": 10,
   "metadata": {},
   "outputs": [],
   "source": [
    "ll= ['NY','CO','MA','IL','DC']"
   ]
  },
  {
   "cell_type": "code",
   "execution_count": 11,
   "metadata": {
    "scrolled": true
   },
   "outputs": [
    {
     "data": {
      "text/plain": [
       "(3269, 12)"
      ]
     },
     "execution_count": 11,
     "metadata": {},
     "output_type": "execute_result"
    }
   ],
   "source": [
    "places_metro = places_df[places_df.USPS.isin(ll)]\n",
    "places_metro.shape"
   ]
  },
  {
   "cell_type": "code",
   "execution_count": 12,
   "metadata": {
    "scrolled": true
   },
   "outputs": [
    {
     "data": {
      "text/html": [
       "<div>\n",
       "<style scoped>\n",
       "    .dataframe tbody tr th:only-of-type {\n",
       "        vertical-align: middle;\n",
       "    }\n",
       "\n",
       "    .dataframe tbody tr th {\n",
       "        vertical-align: top;\n",
       "    }\n",
       "\n",
       "    .dataframe thead th {\n",
       "        text-align: right;\n",
       "    }\n",
       "</style>\n",
       "<table border=\"1\" class=\"dataframe\">\n",
       "  <thead>\n",
       "    <tr style=\"text-align: right;\">\n",
       "      <th></th>\n",
       "      <th>USPS</th>\n",
       "      <th>GEOID</th>\n",
       "      <th>ANSICODE</th>\n",
       "      <th>NAME</th>\n",
       "      <th>LSAD</th>\n",
       "      <th>FUNCSTAT</th>\n",
       "      <th>ALAND</th>\n",
       "      <th>AWATER</th>\n",
       "      <th>ALAND_SQMI</th>\n",
       "      <th>AWATER_SQMI</th>\n",
       "      <th>INTPTLAT</th>\n",
       "      <th>INTPTLONG</th>\n",
       "    </tr>\n",
       "  </thead>\n",
       "  <tbody>\n",
       "    <tr>\n",
       "      <td>3451</td>\n",
       "      <td>CO</td>\n",
       "      <td>800320</td>\n",
       "      <td>2407696</td>\n",
       "      <td>Acres Green CDP</td>\n",
       "      <td>57</td>\n",
       "      <td>S</td>\n",
       "      <td>1557107</td>\n",
       "      <td>0</td>\n",
       "      <td>0.601</td>\n",
       "      <td>0.000</td>\n",
       "      <td>39.555735</td>\n",
       "      <td>-104.895821</td>\n",
       "    </tr>\n",
       "    <tr>\n",
       "      <td>3452</td>\n",
       "      <td>CO</td>\n",
       "      <td>800620</td>\n",
       "      <td>2583206</td>\n",
       "      <td>Aetna Estates CDP</td>\n",
       "      <td>57</td>\n",
       "      <td>S</td>\n",
       "      <td>340759</td>\n",
       "      <td>0</td>\n",
       "      <td>0.132</td>\n",
       "      <td>0.000</td>\n",
       "      <td>39.738127</td>\n",
       "      <td>-104.673253</td>\n",
       "    </tr>\n",
       "    <tr>\n",
       "      <td>3453</td>\n",
       "      <td>CO</td>\n",
       "      <td>800760</td>\n",
       "      <td>2412339</td>\n",
       "      <td>Aguilar town</td>\n",
       "      <td>43</td>\n",
       "      <td>A</td>\n",
       "      <td>1016074</td>\n",
       "      <td>0</td>\n",
       "      <td>0.392</td>\n",
       "      <td>0.000</td>\n",
       "      <td>37.403626</td>\n",
       "      <td>-104.655036</td>\n",
       "    </tr>\n",
       "    <tr>\n",
       "      <td>3454</td>\n",
       "      <td>CO</td>\n",
       "      <td>800870</td>\n",
       "      <td>2407701</td>\n",
       "      <td>Air Force Academy CDP</td>\n",
       "      <td>57</td>\n",
       "      <td>S</td>\n",
       "      <td>25872586</td>\n",
       "      <td>0</td>\n",
       "      <td>9.989</td>\n",
       "      <td>0.000</td>\n",
       "      <td>38.994185</td>\n",
       "      <td>-104.863922</td>\n",
       "    </tr>\n",
       "    <tr>\n",
       "      <td>3455</td>\n",
       "      <td>CO</td>\n",
       "      <td>800925</td>\n",
       "      <td>2412340</td>\n",
       "      <td>Akron town</td>\n",
       "      <td>43</td>\n",
       "      <td>A</td>\n",
       "      <td>7180126</td>\n",
       "      <td>0</td>\n",
       "      <td>2.772</td>\n",
       "      <td>0.000</td>\n",
       "      <td>40.163466</td>\n",
       "      <td>-103.220274</td>\n",
       "    </tr>\n",
       "    <tr>\n",
       "      <td>...</td>\n",
       "      <td>...</td>\n",
       "      <td>...</td>\n",
       "      <td>...</td>\n",
       "      <td>...</td>\n",
       "      <td>...</td>\n",
       "      <td>...</td>\n",
       "      <td>...</td>\n",
       "      <td>...</td>\n",
       "      <td>...</td>\n",
       "      <td>...</td>\n",
       "      <td>...</td>\n",
       "      <td>...</td>\n",
       "    </tr>\n",
       "    <tr>\n",
       "      <td>18027</td>\n",
       "      <td>NY</td>\n",
       "      <td>3684044</td>\n",
       "      <td>2390551</td>\n",
       "      <td>Yorkshire CDP</td>\n",
       "      <td>57</td>\n",
       "      <td>S</td>\n",
       "      <td>4778098</td>\n",
       "      <td>26720</td>\n",
       "      <td>1.845</td>\n",
       "      <td>0.010</td>\n",
       "      <td>42.523364</td>\n",
       "      <td>-78.475525</td>\n",
       "    </tr>\n",
       "    <tr>\n",
       "      <td>18028</td>\n",
       "      <td>NY</td>\n",
       "      <td>3684088</td>\n",
       "      <td>2390554</td>\n",
       "      <td>Yorktown Heights CDP</td>\n",
       "      <td>57</td>\n",
       "      <td>S</td>\n",
       "      <td>2367776</td>\n",
       "      <td>8652</td>\n",
       "      <td>0.914</td>\n",
       "      <td>0.003</td>\n",
       "      <td>41.270592</td>\n",
       "      <td>-73.774708</td>\n",
       "    </tr>\n",
       "    <tr>\n",
       "      <td>18029</td>\n",
       "      <td>NY</td>\n",
       "      <td>3684099</td>\n",
       "      <td>2391229</td>\n",
       "      <td>Yorkville village</td>\n",
       "      <td>47</td>\n",
       "      <td>A</td>\n",
       "      <td>1738780</td>\n",
       "      <td>0</td>\n",
       "      <td>0.671</td>\n",
       "      <td>0.000</td>\n",
       "      <td>43.112448</td>\n",
       "      <td>-75.273964</td>\n",
       "    </tr>\n",
       "    <tr>\n",
       "      <td>18030</td>\n",
       "      <td>NY</td>\n",
       "      <td>3684143</td>\n",
       "      <td>2391230</td>\n",
       "      <td>Youngstown village</td>\n",
       "      <td>47</td>\n",
       "      <td>A</td>\n",
       "      <td>2841131</td>\n",
       "      <td>688310</td>\n",
       "      <td>1.097</td>\n",
       "      <td>0.266</td>\n",
       "      <td>43.249552</td>\n",
       "      <td>-79.042228</td>\n",
       "    </tr>\n",
       "    <tr>\n",
       "      <td>18031</td>\n",
       "      <td>NY</td>\n",
       "      <td>3684187</td>\n",
       "      <td>2390555</td>\n",
       "      <td>Zena CDP</td>\n",
       "      <td>57</td>\n",
       "      <td>S</td>\n",
       "      <td>7554046</td>\n",
       "      <td>0</td>\n",
       "      <td>2.917</td>\n",
       "      <td>0.000</td>\n",
       "      <td>42.020895</td>\n",
       "      <td>-74.085471</td>\n",
       "    </tr>\n",
       "  </tbody>\n",
       "</table>\n",
       "<p>3269 rows × 12 columns</p>\n",
       "</div>"
      ],
      "text/plain": [
       "      USPS    GEOID  ANSICODE                   NAME LSAD FUNCSTAT     ALAND  \\\n",
       "3451    CO   800320   2407696        Acres Green CDP   57        S   1557107   \n",
       "3452    CO   800620   2583206      Aetna Estates CDP   57        S    340759   \n",
       "3453    CO   800760   2412339           Aguilar town   43        A   1016074   \n",
       "3454    CO   800870   2407701  Air Force Academy CDP   57        S  25872586   \n",
       "3455    CO   800925   2412340             Akron town   43        A   7180126   \n",
       "...    ...      ...       ...                    ...  ...      ...       ...   \n",
       "18027   NY  3684044   2390551          Yorkshire CDP   57        S   4778098   \n",
       "18028   NY  3684088   2390554   Yorktown Heights CDP   57        S   2367776   \n",
       "18029   NY  3684099   2391229      Yorkville village   47        A   1738780   \n",
       "18030   NY  3684143   2391230     Youngstown village   47        A   2841131   \n",
       "18031   NY  3684187   2390555               Zena CDP   57        S   7554046   \n",
       "\n",
       "       AWATER  ALAND_SQMI  AWATER_SQMI   INTPTLAT   INTPTLONG  \n",
       "3451        0       0.601        0.000  39.555735 -104.895821  \n",
       "3452        0       0.132        0.000  39.738127 -104.673253  \n",
       "3453        0       0.392        0.000  37.403626 -104.655036  \n",
       "3454        0       9.989        0.000  38.994185 -104.863922  \n",
       "3455        0       2.772        0.000  40.163466 -103.220274  \n",
       "...       ...         ...          ...        ...         ...  \n",
       "18027   26720       1.845        0.010  42.523364  -78.475525  \n",
       "18028    8652       0.914        0.003  41.270592  -73.774708  \n",
       "18029       0       0.671        0.000  43.112448  -75.273964  \n",
       "18030  688310       1.097        0.266  43.249552  -79.042228  \n",
       "18031       0       2.917        0.000  42.020895  -74.085471  \n",
       "\n",
       "[3269 rows x 12 columns]"
      ]
     },
     "execution_count": 12,
     "metadata": {},
     "output_type": "execute_result"
    }
   ],
   "source": [
    "places_metro"
   ]
  },
  {
   "cell_type": "code",
   "execution_count": 13,
   "metadata": {
    "scrolled": true
   },
   "outputs": [
    {
     "data": {
      "text/plain": [
       "Index(['USPS', 'GEOID', 'ANSICODE', 'NAME', 'LSAD', 'FUNCSTAT', 'ALAND',\n",
       "       'AWATER', 'ALAND_SQMI', 'AWATER_SQMI', 'INTPTLAT', 'INTPTLONG'],\n",
       "      dtype='object')"
      ]
     },
     "execution_count": 13,
     "metadata": {},
     "output_type": "execute_result"
    }
   ],
   "source": [
    "places_metro.columns"
   ]
  },
  {
   "cell_type": "code",
   "execution_count": 272,
   "metadata": {
    "scrolled": false
   },
   "outputs": [
    {
     "data": {
      "text/plain": [
       "Index(['city', 'id', 'latitude', 'longitude', 'destination', 'num_types',\n",
       "       'state', 'types_rating', 'date'],\n",
       "      dtype='object')"
      ]
     },
     "execution_count": 272,
     "metadata": {},
     "output_type": "execute_result"
    }
   ],
   "source": [
    "df_tr.columns"
   ]
  },
  {
   "cell_type": "markdown",
   "metadata": {},
   "source": [
    "#### To use the sklearn Haversine function, we need to have the longitude/latitude coordinates in radians.\n"
   ]
  },
  {
   "cell_type": "code",
   "execution_count": 14,
   "metadata": {},
   "outputs": [],
   "source": [
    "\n",
    "df_tr[\"latitude_radians\"] = df_tr[\"latitude\"].apply(lambda x: radians(x))\n",
    "df_tr[\"longitude_radians\"] = df_tr[\"longitude\"].apply(lambda x: radians(x))\n",
    "\n",
    "\n"
   ]
  },
  {
   "cell_type": "code",
   "execution_count": 15,
   "metadata": {},
   "outputs": [],
   "source": [
    "places_df[\"latitude_radians\"] = places_df[\"INTPTLAT\"].apply(lambda x: radians(x))\n",
    "places_df[\"longitude_radians\"] = places_df[\"INTPTLONG\"].apply(lambda x: radians(x))"
   ]
  },
  {
   "cell_type": "code",
   "execution_count": 16,
   "metadata": {},
   "outputs": [
    {
     "data": {
      "text/plain": [
       "Index(['city', 'id', 'latitude', 'longitude', 'destination', 'num_types',\n",
       "       'state', 'types_rating', 'date', 'latitude_radians',\n",
       "       'longitude_radians'],\n",
       "      dtype='object')"
      ]
     },
     "execution_count": 16,
     "metadata": {},
     "output_type": "execute_result"
    }
   ],
   "source": [
    "df_tr.columns"
   ]
  },
  {
   "cell_type": "code",
   "execution_count": 17,
   "metadata": {
    "scrolled": false
   },
   "outputs": [
    {
     "name": "stderr",
     "output_type": "stream",
     "text": [
      "/opt/anaconda3/lib/python3.7/site-packages/ipykernel_launcher.py:1: SettingWithCopyWarning: \n",
      "A value is trying to be set on a copy of a slice from a DataFrame.\n",
      "Try using .loc[row_indexer,col_indexer] = value instead\n",
      "\n",
      "See the caveats in the documentation: http://pandas.pydata.org/pandas-docs/stable/user_guide/indexing.html#returning-a-view-versus-a-copy\n",
      "  \"\"\"Entry point for launching an IPython kernel.\n",
      "/opt/anaconda3/lib/python3.7/site-packages/ipykernel_launcher.py:2: SettingWithCopyWarning: \n",
      "A value is trying to be set on a copy of a slice from a DataFrame.\n",
      "Try using .loc[row_indexer,col_indexer] = value instead\n",
      "\n",
      "See the caveats in the documentation: http://pandas.pydata.org/pandas-docs/stable/user_guide/indexing.html#returning-a-view-versus-a-copy\n",
      "  \n"
     ]
    }
   ],
   "source": [
    "places_metro[\"latitude_radians\"] = places_metro[\"INTPTLAT\"].apply(lambda x: radians(x))\n",
    "places_metro[\"longitude_radians\"] = places_metro[\"INTPTLONG\"].apply(lambda x: radians(x))"
   ]
  },
  {
   "cell_type": "code",
   "execution_count": 18,
   "metadata": {},
   "outputs": [
    {
     "data": {
      "text/plain": [
       "Index(['USPS', 'GEOID', 'ANSICODE', 'NAME', 'LSAD', 'FUNCSTAT', 'ALAND',\n",
       "       'AWATER', 'ALAND_SQMI', 'AWATER_SQMI', 'INTPTLAT', 'INTPTLONG',\n",
       "       'latitude_radians', 'longitude_radians'],\n",
       "      dtype='object')"
      ]
     },
     "execution_count": 18,
     "metadata": {},
     "output_type": "execute_result"
    }
   ],
   "source": [
    "places_metro.columns"
   ]
  },
  {
   "cell_type": "code",
   "execution_count": 20,
   "metadata": {
    "scrolled": true
   },
   "outputs": [
    {
     "data": {
      "text/html": [
       "<div>\n",
       "<style scoped>\n",
       "    .dataframe tbody tr th:only-of-type {\n",
       "        vertical-align: middle;\n",
       "    }\n",
       "\n",
       "    .dataframe tbody tr th {\n",
       "        vertical-align: top;\n",
       "    }\n",
       "\n",
       "    .dataframe thead th {\n",
       "        text-align: right;\n",
       "    }\n",
       "</style>\n",
       "<table border=\"1\" class=\"dataframe\">\n",
       "  <thead>\n",
       "    <tr style=\"text-align: right;\">\n",
       "      <th></th>\n",
       "      <th>USPS</th>\n",
       "      <th>GEOID</th>\n",
       "      <th>ANSICODE</th>\n",
       "      <th>NAME</th>\n",
       "      <th>LSAD</th>\n",
       "      <th>FUNCSTAT</th>\n",
       "      <th>ALAND</th>\n",
       "      <th>AWATER</th>\n",
       "      <th>ALAND_SQMI</th>\n",
       "      <th>AWATER_SQMI</th>\n",
       "      <th>INTPTLAT</th>\n",
       "      <th>INTPTLONG</th>\n",
       "      <th>latitude_radians</th>\n",
       "      <th>longitude_radians</th>\n",
       "    </tr>\n",
       "  </thead>\n",
       "  <tbody>\n",
       "    <tr>\n",
       "      <td>3562</td>\n",
       "      <td>CO</td>\n",
       "      <td>820000</td>\n",
       "      <td>2410324</td>\n",
       "      <td>Denver city</td>\n",
       "      <td>25</td>\n",
       "      <td>A</td>\n",
       "      <td>397024773</td>\n",
       "      <td>4245401</td>\n",
       "      <td>153.292</td>\n",
       "      <td>1.639</td>\n",
       "      <td>39.761850</td>\n",
       "      <td>-104.881105</td>\n",
       "      <td>0.693975</td>\n",
       "      <td>-1.830521</td>\n",
       "    </tr>\n",
       "    <tr>\n",
       "      <td>4130</td>\n",
       "      <td>DC</td>\n",
       "      <td>1150000</td>\n",
       "      <td>2390665</td>\n",
       "      <td>Washington city</td>\n",
       "      <td>25</td>\n",
       "      <td>N</td>\n",
       "      <td>158340389</td>\n",
       "      <td>18687196</td>\n",
       "      <td>61.136</td>\n",
       "      <td>7.215</td>\n",
       "      <td>38.904247</td>\n",
       "      <td>-77.016517</td>\n",
       "      <td>0.679007</td>\n",
       "      <td>-1.344192</td>\n",
       "    </tr>\n",
       "    <tr>\n",
       "      <td>6282</td>\n",
       "      <td>IL</td>\n",
       "      <td>1714000</td>\n",
       "      <td>428803</td>\n",
       "      <td>Chicago city</td>\n",
       "      <td>25</td>\n",
       "      <td>A</td>\n",
       "      <td>588881854</td>\n",
       "      <td>17621529</td>\n",
       "      <td>227.369</td>\n",
       "      <td>6.804</td>\n",
       "      <td>41.837551</td>\n",
       "      <td>-87.681844</td>\n",
       "      <td>0.730203</td>\n",
       "      <td>-1.530337</td>\n",
       "    </tr>\n",
       "    <tr>\n",
       "      <td>11464</td>\n",
       "      <td>MA</td>\n",
       "      <td>2507000</td>\n",
       "      <td>619463</td>\n",
       "      <td>Boston city</td>\n",
       "      <td>25</td>\n",
       "      <td>A</td>\n",
       "      <td>125197005</td>\n",
       "      <td>106913969</td>\n",
       "      <td>48.339</td>\n",
       "      <td>41.280</td>\n",
       "      <td>42.338551</td>\n",
       "      <td>-71.018253</td>\n",
       "      <td>0.738947</td>\n",
       "      <td>-1.239502</td>\n",
       "    </tr>\n",
       "    <tr>\n",
       "      <td>17550</td>\n",
       "      <td>NY</td>\n",
       "      <td>3651000</td>\n",
       "      <td>2395220</td>\n",
       "      <td>New York city</td>\n",
       "      <td>25</td>\n",
       "      <td>A</td>\n",
       "      <td>777982727</td>\n",
       "      <td>434642000</td>\n",
       "      <td>300.381</td>\n",
       "      <td>167.816</td>\n",
       "      <td>40.663468</td>\n",
       "      <td>-73.938697</td>\n",
       "      <td>0.709711</td>\n",
       "      <td>-1.290474</td>\n",
       "    </tr>\n",
       "  </tbody>\n",
       "</table>\n",
       "</div>"
      ],
      "text/plain": [
       "      USPS    GEOID  ANSICODE             NAME LSAD FUNCSTAT      ALAND  \\\n",
       "3562    CO   820000   2410324      Denver city   25        A  397024773   \n",
       "4130    DC  1150000   2390665  Washington city   25        N  158340389   \n",
       "6282    IL  1714000    428803     Chicago city   25        A  588881854   \n",
       "11464   MA  2507000    619463      Boston city   25        A  125197005   \n",
       "17550   NY  3651000   2395220    New York city   25        A  777982727   \n",
       "\n",
       "          AWATER  ALAND_SQMI  AWATER_SQMI   INTPTLAT   INTPTLONG  \\\n",
       "3562     4245401     153.292        1.639  39.761850 -104.881105   \n",
       "4130    18687196      61.136        7.215  38.904247  -77.016517   \n",
       "6282    17621529     227.369        6.804  41.837551  -87.681844   \n",
       "11464  106913969      48.339       41.280  42.338551  -71.018253   \n",
       "17550  434642000     300.381      167.816  40.663468  -73.938697   \n",
       "\n",
       "       latitude_radians  longitude_radians  \n",
       "3562           0.693975          -1.830521  \n",
       "4130           0.679007          -1.344192  \n",
       "6282           0.730203          -1.530337  \n",
       "11464          0.738947          -1.239502  \n",
       "17550          0.709711          -1.290474  "
      ]
     },
     "execution_count": 20,
     "metadata": {},
     "output_type": "execute_result"
    }
   ],
   "source": [
    "# To get the coordinates of the five cities in the listings dataset, we can use the places dataset \n",
    "# and filter on these cities\n",
    "five_cities = places_df.loc[(places_df[\"NAME\"] == \"New York city\") & (places_df[\"USPS\"] == \"NY\") |\n",
    "                            (places_df[\"NAME\"] == \"Denver city\") & (places_df[\"USPS\"] == \"CO\") |\n",
    "                            (places_df[\"NAME\"] == \"Chicago city\") & (places_df[\"USPS\"] == \"IL\") |\n",
    "                            (places_df[\"NAME\"] == \"Boston city\")  & (places_df[\"USPS\"] == \"MA\") |\n",
    "                            (places_df[\"NAME\"] == \"Washington city\") & (places_df[\"USPS\"] == \"DC\")\n",
    "                           ]\n",
    "five_cities"
   ]
  },
  {
   "cell_type": "code",
   "execution_count": 24,
   "metadata": {},
   "outputs": [],
   "source": [
    "# Clean up city names in Travellers DF\n",
    "df_tr.loc[df_tr[\"city\"] == 'new york city','city'] = \"New York city\"\n",
    "df_tr.loc[df_tr[\"city\"] == 'washington dc','city'] = \"Washington city\"\n",
    "df_tr.loc[df_tr[\"city\"] == \"chicago\",'city'] = \"Chicago city\"\n",
    "df_tr.loc[df_tr[\"city\"] == \"boston\",'city'] = \"Boston city\"\n",
    "df_tr.loc[df_tr[\"city\"] == \"denver\",'city'] = \"Denver city\""
   ]
  },
  {
   "cell_type": "code",
   "execution_count": 25,
   "metadata": {},
   "outputs": [
    {
     "data": {
      "text/plain": [
       "city                                              Denver city\n",
       "id                   3715bdd2c319b7a6f25f52ec31e3d14f6b419e35\n",
       "latitude                                              39.6614\n",
       "longitude                                            -104.898\n",
       "destination                    Skin Care Sales Representative\n",
       "num_types                                                   4\n",
       "state                                                      CO\n",
       "types_rating                                                1\n",
       "date                                               2017-06-01\n",
       "latitude_radians                                     0.692222\n",
       "longitude_radians                                    -1.83081\n",
       "Name: 7, dtype: object"
      ]
     },
     "execution_count": 25,
     "metadata": {},
     "output_type": "execute_result"
    }
   ],
   "source": [
    "df_tr[df_tr['city']=='Denver city'].loc[7]"
   ]
  },
  {
   "cell_type": "code",
   "execution_count": 284,
   "metadata": {
    "scrolled": true
   },
   "outputs": [
    {
     "name": "stdout",
     "output_type": "stream",
     "text": [
      "USPS                          CO\n",
      "GEOID                     820000\n",
      "ANSICODE                 2410324\n",
      "NAME                 Denver city\n",
      "LSAD                          25\n",
      "FUNCSTAT                       A\n",
      "ALAND                  397024773\n",
      "AWATER                   4245401\n",
      "ALAND_SQMI               153.292\n",
      "AWATER_SQMI                1.639\n",
      "INTPTLAT                 39.7619\n",
      "INTPTLONG               -104.881\n",
      "latitude_radians        0.693975\n",
      "longitude_radians       -1.83052\n",
      "Name: 3562, dtype: object\n",
      "USPS                              DC\n",
      "GEOID                        1150000\n",
      "ANSICODE                     2390665\n",
      "NAME                 Washington city\n",
      "LSAD                              25\n",
      "FUNCSTAT                           N\n",
      "ALAND                      158340389\n",
      "AWATER                      18687196\n",
      "ALAND_SQMI                    61.136\n",
      "AWATER_SQMI                    7.215\n",
      "INTPTLAT                     38.9042\n",
      "INTPTLONG                   -77.0165\n",
      "latitude_radians            0.679007\n",
      "longitude_radians           -1.34419\n",
      "Name: 4130, dtype: object\n",
      "USPS                           IL\n",
      "GEOID                     1714000\n",
      "ANSICODE                   428803\n",
      "NAME                 Chicago city\n",
      "LSAD                           25\n",
      "FUNCSTAT                        A\n",
      "ALAND                   588881854\n",
      "AWATER                   17621529\n",
      "ALAND_SQMI                227.369\n",
      "AWATER_SQMI                 6.804\n",
      "INTPTLAT                  41.8376\n",
      "INTPTLONG                -87.6818\n",
      "latitude_radians         0.730203\n",
      "longitude_radians        -1.53034\n",
      "Name: 6282, dtype: object\n",
      "USPS                          MA\n",
      "GEOID                    2507000\n",
      "ANSICODE                  619463\n",
      "NAME                 Boston city\n",
      "LSAD                          25\n",
      "FUNCSTAT                       A\n",
      "ALAND                  125197005\n",
      "AWATER                 106913969\n",
      "ALAND_SQMI                48.339\n",
      "AWATER_SQMI                41.28\n",
      "INTPTLAT                 42.3386\n",
      "INTPTLONG               -71.0183\n",
      "latitude_radians        0.738947\n",
      "longitude_radians        -1.2395\n",
      "Name: 11464, dtype: object\n",
      "USPS                            NY\n",
      "GEOID                      3651000\n",
      "ANSICODE                   2395220\n",
      "NAME                 New York city\n",
      "LSAD                            25\n",
      "FUNCSTAT                         A\n",
      "ALAND                    777982727\n",
      "AWATER                   434642000\n",
      "ALAND_SQMI                 300.381\n",
      "AWATER_SQMI                167.816\n",
      "INTPTLAT                   40.6635\n",
      "INTPTLONG                 -73.9387\n",
      "latitude_radians          0.709711\n",
      "longitude_radians         -1.29047\n",
      "Name: 17550, dtype: object\n"
     ]
    }
   ],
   "source": [
    "for city in five_cities.iterrows():\n",
    "        city = city[1]\n",
    "        print(city)\n",
    "        "
   ]
  },
  {
   "cell_type": "code",
   "execution_count": 27,
   "metadata": {},
   "outputs": [
    {
     "name": "stdout",
     "output_type": "stream",
     "text": [
      "Denver,lat: 0.6939751991841073 Denver long: -1.8305206053798875\n"
     ]
    }
   ],
   "source": [
    "Den = five_cities.loc[3562]\n",
    "print('Denver,lat:',Den.latitude_radians, 'Denver long:',Den.longitude_radians)\n",
    "\n"
   ]
  },
  {
   "cell_type": "raw",
   "metadata": {},
   "source": [
    "latitude_radians                                              0.692222\n",
    "longitude_radians                                             -1.83081"
   ]
  },
  {
   "cell_type": "code",
   "execution_count": 28,
   "metadata": {
    "scrolled": true
   },
   "outputs": [
    {
     "name": "stdout",
     "output_type": "stream",
     "text": [
      "distance between center of Denver City and destination: Skin Care Sales Representative: 6.980744328348929 miles\n"
     ]
    }
   ],
   "source": [
    "distance = haversine_distances([[Den.latitude_radians, Den.longitude_radians], [0.692222, -1.83081]])\n",
    "print('distance between center of Denver City and destination: Skin Care Sales Representative:',distance[0][1] * 3950, 'miles')\n",
    "\n"
   ]
  },
  {
   "cell_type": "code",
   "execution_count": 30,
   "metadata": {},
   "outputs": [],
   "source": [
    "def intercity_distance(named_cities,lat, long, max_dist=30):\n",
    "    #named_cities - five_cities\n",
    "        \"\"\"Calculate haversine distances between the metro area city and \n",
    "        given location: lat/long\"\"\"\n",
    "        within_distance = []\n",
    "        dist_miles = []\n",
    "        for city in named_cities.iterrows():\n",
    "            city = city[1]\n",
    "            # Haversine function for calculating distances between 2 locations\n",
    "            dist = haversine_distances([[city.latitude_radians, city.longitude_radians], [lat, long]])\n",
    "            # Get distance in miles (multiple by Earth's radius in miles)\n",
    "            dist = dist[0][1] * 3950\n",
    "            if dist <= max_dist:\n",
    "                within_distance.append(city.NAME.strip(\"city\").strip())\n",
    "                #print(city.NAME.strip(\"city\").strip())\n",
    "                dist_miles.append(dist)\n",
    "        if within_distance:\n",
    "            return within_distance[0], dist_miles[0]\n",
    "        else:\n",
    "            return None\n",
    "        \n",
    "    "
   ]
  },
  {
   "cell_type": "markdown",
   "metadata": {},
   "source": [
    "#### for each data pont in travelers calculate:\n",
    "    - the nearest metro city\n",
    "    - distance between data point and center of this metro city\n",
    "- append columns to traveler dataset"
   ]
  },
  {
   "cell_type": "code",
   "execution_count": 31,
   "metadata": {},
   "outputs": [],
   "source": [
    "df_tr['within_metro'] = df_tr.apply(lambda x: intercity_distance(five_cities,x.latitude_radians, x.longitude_radians, max_dist=30)[0], axis=1)\n"
   ]
  },
  {
   "cell_type": "code",
   "execution_count": 32,
   "metadata": {},
   "outputs": [],
   "source": [
    "df_tr['miles'] = df_tr.apply(lambda x: intercity_distance(five_cities,x.latitude_radians, x.longitude_radians, max_dist=30)[1], axis=1)\n"
   ]
  },
  {
   "cell_type": "code",
   "execution_count": 33,
   "metadata": {
    "scrolled": true
   },
   "outputs": [
    {
     "data": {
      "text/html": [
       "<div>\n",
       "<style scoped>\n",
       "    .dataframe tbody tr th:only-of-type {\n",
       "        vertical-align: middle;\n",
       "    }\n",
       "\n",
       "    .dataframe tbody tr th {\n",
       "        vertical-align: top;\n",
       "    }\n",
       "\n",
       "    .dataframe thead th {\n",
       "        text-align: right;\n",
       "    }\n",
       "</style>\n",
       "<table border=\"1\" class=\"dataframe\">\n",
       "  <thead>\n",
       "    <tr style=\"text-align: right;\">\n",
       "      <th></th>\n",
       "      <th>city</th>\n",
       "      <th>id</th>\n",
       "      <th>latitude</th>\n",
       "      <th>longitude</th>\n",
       "      <th>destination</th>\n",
       "      <th>num_types</th>\n",
       "      <th>state</th>\n",
       "      <th>types_rating</th>\n",
       "      <th>date</th>\n",
       "      <th>latitude_radians</th>\n",
       "      <th>longitude_radians</th>\n",
       "      <th>within_metro</th>\n",
       "      <th>miles</th>\n",
       "    </tr>\n",
       "  </thead>\n",
       "  <tbody>\n",
       "    <tr>\n",
       "      <td>0</td>\n",
       "      <td>Chicago city</td>\n",
       "      <td>2622c79ed752724e7f4f691c185be6aeee145344</td>\n",
       "      <td>41.949237</td>\n",
       "      <td>-87.654804</td>\n",
       "      <td>Wrigley Rooftops 1010 West Waveland</td>\n",
       "      <td>5</td>\n",
       "      <td>IL</td>\n",
       "      <td>0</td>\n",
       "      <td>2017-02-01</td>\n",
       "      <td>0.732152</td>\n",
       "      <td>-1.529865</td>\n",
       "      <td>Chicago</td>\n",
       "      <td>7.823711</td>\n",
       "    </tr>\n",
       "    <tr>\n",
       "      <td>1</td>\n",
       "      <td>New York city</td>\n",
       "      <td>1d4e080afa70d25050471feb96c8154455b91f6d</td>\n",
       "      <td>40.756259</td>\n",
       "      <td>-73.986508</td>\n",
       "      <td>Walgreens Pharmacy</td>\n",
       "      <td>5</td>\n",
       "      <td>NY</td>\n",
       "      <td>0</td>\n",
       "      <td>2017-04-01</td>\n",
       "      <td>0.711331</td>\n",
       "      <td>-1.291308</td>\n",
       "      <td>New York</td>\n",
       "      <td>6.867661</td>\n",
       "    </tr>\n",
       "    <tr>\n",
       "      <td>2</td>\n",
       "      <td>New York city</td>\n",
       "      <td>cba18363393cad37acdd3c5246e4c4738be153e0</td>\n",
       "      <td>40.811669</td>\n",
       "      <td>-73.944428</td>\n",
       "      <td>Harlem Your Way Tours Unlimited</td>\n",
       "      <td>3</td>\n",
       "      <td>NY</td>\n",
       "      <td>1</td>\n",
       "      <td>2017-05-01</td>\n",
       "      <td>0.712298</td>\n",
       "      <td>-1.290574</td>\n",
       "      <td>New York</td>\n",
       "      <td>10.221465</td>\n",
       "    </tr>\n",
       "    <tr>\n",
       "      <td>3</td>\n",
       "      <td>Washington city</td>\n",
       "      <td>3adf58a2e8c0bc1996c669df31cef1b145696647</td>\n",
       "      <td>38.989005</td>\n",
       "      <td>-77.070891</td>\n",
       "      <td>East-West Hwy &amp; Brookeville Rd</td>\n",
       "      <td>4</td>\n",
       "      <td>DC</td>\n",
       "      <td>1</td>\n",
       "      <td>2017-05-01</td>\n",
       "      <td>0.680487</td>\n",
       "      <td>-1.345141</td>\n",
       "      <td>Washington</td>\n",
       "      <td>6.530171</td>\n",
       "    </tr>\n",
       "    <tr>\n",
       "      <td>4</td>\n",
       "      <td>Washington city</td>\n",
       "      <td>b0a227a0bf0d80695cb7d4355bc85d3b3e42bb86</td>\n",
       "      <td>38.893633</td>\n",
       "      <td>-76.985282</td>\n",
       "      <td>C St NE &amp; 14th St NE</td>\n",
       "      <td>4</td>\n",
       "      <td>DC</td>\n",
       "      <td>1</td>\n",
       "      <td>2017-05-01</td>\n",
       "      <td>0.678822</td>\n",
       "      <td>-1.343647</td>\n",
       "      <td>Washington</td>\n",
       "      <td>1.828645</td>\n",
       "    </tr>\n",
       "  </tbody>\n",
       "</table>\n",
       "</div>"
      ],
      "text/plain": [
       "              city                                        id   latitude  \\\n",
       "0     Chicago city  2622c79ed752724e7f4f691c185be6aeee145344  41.949237   \n",
       "1    New York city  1d4e080afa70d25050471feb96c8154455b91f6d  40.756259   \n",
       "2    New York city  cba18363393cad37acdd3c5246e4c4738be153e0  40.811669   \n",
       "3  Washington city  3adf58a2e8c0bc1996c669df31cef1b145696647  38.989005   \n",
       "4  Washington city  b0a227a0bf0d80695cb7d4355bc85d3b3e42bb86  38.893633   \n",
       "\n",
       "   longitude                          destination  num_types state  \\\n",
       "0 -87.654804  Wrigley Rooftops 1010 West Waveland          5    IL   \n",
       "1 -73.986508                   Walgreens Pharmacy          5    NY   \n",
       "2 -73.944428      Harlem Your Way Tours Unlimited          3    NY   \n",
       "3 -77.070891       East-West Hwy & Brookeville Rd          4    DC   \n",
       "4 -76.985282                 C St NE & 14th St NE          4    DC   \n",
       "\n",
       "   types_rating        date  latitude_radians  longitude_radians within_metro  \\\n",
       "0             0  2017-02-01          0.732152          -1.529865      Chicago   \n",
       "1             0  2017-04-01          0.711331          -1.291308     New York   \n",
       "2             1  2017-05-01          0.712298          -1.290574     New York   \n",
       "3             1  2017-05-01          0.680487          -1.345141   Washington   \n",
       "4             1  2017-05-01          0.678822          -1.343647   Washington   \n",
       "\n",
       "       miles  \n",
       "0   7.823711  \n",
       "1   6.867661  \n",
       "2  10.221465  \n",
       "3   6.530171  \n",
       "4   1.828645  "
      ]
     },
     "execution_count": 33,
     "metadata": {},
     "output_type": "execute_result"
    }
   ],
   "source": [
    "df_tr.head()"
   ]
  },
  {
   "cell_type": "markdown",
   "metadata": {},
   "source": [
    "### Check if we have the nulls NaNs in this new travellers dataset"
   ]
  },
  {
   "cell_type": "code",
   "execution_count": 34,
   "metadata": {},
   "outputs": [
    {
     "data": {
      "text/plain": [
       "city                 0\n",
       "id                   0\n",
       "latitude             0\n",
       "longitude            0\n",
       "destination          0\n",
       "num_types            0\n",
       "state                0\n",
       "types_rating         0\n",
       "date                 0\n",
       "latitude_radians     0\n",
       "longitude_radians    0\n",
       "within_metro         0\n",
       "miles                0\n",
       "dtype: int64"
      ]
     },
     "execution_count": 34,
     "metadata": {},
     "output_type": "execute_result"
    }
   ],
   "source": [
    "### The dataset doesn't have any NaNs:\n",
    "df_tr.isnull().sum()"
   ]
  },
  {
   "cell_type": "markdown",
   "metadata": {},
   "source": [
    "#### Most of the vanues (destinations ) locations are within 12 miles from the geographical center of metro areas"
   ]
  },
  {
   "cell_type": "code",
   "execution_count": 35,
   "metadata": {},
   "outputs": [],
   "source": [
    "metros = ['Chicago','New York','Washington','Denver','Boston']"
   ]
  },
  {
   "cell_type": "code",
   "execution_count": 36,
   "metadata": {},
   "outputs": [],
   "source": [
    "c = ['red','blue','green','black','pink']"
   ]
  },
  {
   "cell_type": "markdown",
   "metadata": {},
   "source": [
    "### Each metro area has different degree of urban sprawl ..."
   ]
  },
  {
   "cell_type": "code",
   "execution_count": 37,
   "metadata": {
    "scrolled": true
   },
   "outputs": [
    {
     "data": {
      "image/png": "[encoded data removed]",
      "text/plain": [
       "<Figure size 2160x2880 with 5 Axes>"
      ]
     },
     "metadata": {
      "needs_background": "light"
     },
     "output_type": "display_data"
    }
   ],
   "source": [
    "import matplotlib \n",
    "matplotlib.rc('xtick', labelsize=30) \n",
    "matplotlib.rc('ytick', labelsize=30) \n",
    "fig, ax = plt.subplots(figsize = (30,40))\n",
    "plt.title('distance of traveller destinations from metro centers')\n",
    "for i, var in enumerate(metros):\n",
    "    plt.subplot(5,1,i+1)\n",
    "    \n",
    "    plt.hist(df_tr[df_tr['within_metro']==var]['miles'],alpha = 0.5,color = c[i],density = True,label = var)\n",
    "    \n",
    "    plt.xlabel('distance(miles), normalized hist.', fontsize = 30)\n",
    "    #plt.title('distance of traveller destinations from metro centers')\n",
    "    plt.legend(fontsize = 30)\n",
    "    ;"
   ]
  },
  {
   "cell_type": "markdown",
   "metadata": {},
   "source": [
    "### New York and Denver sprawl is max 16-18 miles"
   ]
  },
  {
   "cell_type": "code",
   "execution_count": 38,
   "metadata": {},
   "outputs": [
    {
     "data": {
      "text/plain": [
       "''"
      ]
     },
     "execution_count": 38,
     "metadata": {},
     "output_type": "execute_result"
    },
    {
     "data": {
      "image/png": "[encoded data removed]",
      "text/plain": [
       "<Figure size 720x360 with 1 Axes>"
      ]
     },
     "metadata": {},
     "output_type": "display_data"
    }
   ],
   "source": [
    "import seaborn as sns\n",
    "import numpy as np\n",
    "sns.set()\n",
    "fig, ax = plt.subplots(figsize = (10,5))\n",
    "a_heights, a_bins = np.histogram(df_tr[df_tr['within_metro']=='Chicago']['miles'],density = True)\n",
    "b_heights, b_bins = np.histogram(df_tr[df_tr['within_metro']=='New York']['miles'],density = True)\n",
    "c_heights, c_bins = np.histogram(df_tr[df_tr['within_metro']=='Washington']['miles'],density = True)\n",
    "d_heights, d_bins = np.histogram(df_tr[df_tr['within_metro']=='Denver']['miles'],density = True)\n",
    "\n",
    "e_heights, e_bins = np.histogram(df_tr[df_tr['within_metro']=='Boston']['miles'], bins=a_bins,density = True)\n",
    "\n",
    "\n",
    "\n",
    "width = (a_bins[1] - a_bins[0])/3\n",
    "ax.bar(a_bins[:-1], a_heights, width=width, facecolor='red', label = 'Chicago')\n",
    "ax.bar(b_bins[:-1]+width, b_heights, width=width, facecolor='blue', label = 'New York')\n",
    "ax.bar(c_bins[:-1]+2*width, c_heights, width=width, facecolor='green', label = 'Washington')\n",
    "ax.bar(d_bins[:-1]+3*width, d_heights, width=width, facecolor='grey', label = 'Denver')\n",
    "ax.bar(e_bins[:-1]+4*width, e_heights, width=width, facecolor='pink', label = 'Boston')\n",
    "\n",
    "ax.legend()\n",
    "plt.xlabel('distance(miles)')\n",
    "plt.title('distance of traveller destinations from metro area centers')\n",
    ";\n",
    "\n",
    "#plt.hist(df_tr[df_tr['within_metro']=='Chicago']['miles'], label = 'Chicago');"
   ]
  },
  {
   "cell_type": "markdown",
   "metadata": {},
   "source": [
    "### Save new created travellers database"
   ]
  },
  {
   "cell_type": "code",
   "execution_count": 299,
   "metadata": {},
   "outputs": [],
   "source": [
    "#df_tr.to_csv(\"data/travellers_selection.csv\", index=False)"
   ]
  },
  {
   "cell_type": "code",
   "execution_count": 39,
   "metadata": {
    "scrolled": true
   },
   "outputs": [
    {
     "data": {
      "text/plain": [
       "Index(['city', 'id', 'latitude', 'longitude', 'destination', 'num_types',\n",
       "       'state', 'types_rating', 'date', 'latitude_radians',\n",
       "       'longitude_radians', 'within_metro', 'miles'],\n",
       "      dtype='object')"
      ]
     },
     "execution_count": 39,
     "metadata": {},
     "output_type": "execute_result"
    }
   ],
   "source": [
    "df_tr.columns"
   ]
  },
  {
   "cell_type": "code",
   "execution_count": null,
   "metadata": {},
   "outputs": [],
   "source": []
  }
 ],
 "metadata": {
  "kernelspec": {
   "display_name": "Python 3",
   "language": "python",
   "name": "python3"
  },
  "language_info": {
   "codemirror_mode": {
    "name": "ipython",
    "version": 3
   },
   "file_extension": ".py",
   "mimetype": "text/x-python",
   "name": "python",
   "nbconvert_exporter": "python",
   "pygments_lexer": "ipython3",
   "version": "3.7.4"
  }
 },
 "nbformat": 4,
 "nbformat_minor": 4
}
