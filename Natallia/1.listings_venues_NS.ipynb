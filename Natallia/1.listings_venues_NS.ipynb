{
 "cells": [
  {
   "cell_type": "code",
   "execution_count": 51,
   "metadata": {},
   "outputs": [],
   "source": [
    "import pandas as pd\n",
    "import numpy as np\n",
    "import matplotlib.pyplot as plt\n",
    "import seaborn as sns"
   ]
  },
  {
   "cell_type": "code",
   "execution_count": 73,
   "metadata": {},
   "outputs": [],
   "source": [
    "import warnings\n",
    "warnings.filterwarnings(\"ignore\", category=FutureWarning)\n",
    "from scipy import stats\n"
   ]
  },
  {
   "cell_type": "code",
   "execution_count": 53,
   "metadata": {},
   "outputs": [],
   "source": [
    "import statsmodels.formula.api as smf\n",
    "import statsmodels.api         as sm\n",
    "import scipy\n",
    "from patsy import dmatrices\n",
    "import statsmodels.api as sm\n",
    "from statsmodels.stats.outliers_influence import variance_inflation_factor\n"
   ]
  },
  {
   "cell_type": "code",
   "execution_count": 54,
   "metadata": {},
   "outputs": [],
   "source": [
    "from django.contrib.admin.utils import flatten"
   ]
  },
  {
   "cell_type": "code",
   "execution_count": 63,
   "metadata": {},
   "outputs": [],
   "source": [
    "from sklearn.feature_extraction.text import TfidfVectorizer, CountVectorizer"
   ]
  },
  {
   "cell_type": "code",
   "execution_count": 169,
   "metadata": {},
   "outputs": [],
   "source": [
    "import numpy as np"
   ]
  },
  {
   "cell_type": "markdown",
   "metadata": {},
   "source": [
    "#### Load listings dataset"
   ]
  },
  {
   "cell_type": "code",
   "execution_count": 55,
   "metadata": {},
   "outputs": [],
   "source": [
    "df_L = pd.read_csv('data/listings.csv', encoding = \"ISO-8859-1\")"
   ]
  },
  {
   "cell_type": "markdown",
   "metadata": {},
   "source": [
    "## Load Venues dataset and create the traveler dataset"
   ]
  },
  {
   "cell_type": "code",
   "execution_count": null,
   "metadata": {},
   "outputs": [],
   "source": []
  },
  {
   "cell_type": "code",
   "execution_count": 99,
   "metadata": {},
   "outputs": [],
   "source": [
    "df_venues = pd.read_csv('data/venues.csv', encoding = \"ISO-8859-1\")"
   ]
  },
  {
   "cell_type": "code",
   "execution_count": 100,
   "metadata": {
    "scrolled": false
   },
   "outputs": [
    {
     "data": {
      "text/html": [
       "<div>\n",
       "<style scoped>\n",
       "    .dataframe tbody tr th:only-of-type {\n",
       "        vertical-align: middle;\n",
       "    }\n",
       "\n",
       "    .dataframe tbody tr th {\n",
       "        vertical-align: top;\n",
       "    }\n",
       "\n",
       "    .dataframe thead th {\n",
       "        text-align: right;\n",
       "    }\n",
       "</style>\n",
       "<table border=\"1\" class=\"dataframe\">\n",
       "  <thead>\n",
       "    <tr style=\"text-align: right;\">\n",
       "      <th></th>\n",
       "      <th>city</th>\n",
       "      <th>id</th>\n",
       "      <th>latitude</th>\n",
       "      <th>longitude</th>\n",
       "      <th>name</th>\n",
       "      <th>rating</th>\n",
       "      <th>types</th>\n",
       "    </tr>\n",
       "  </thead>\n",
       "  <tbody>\n",
       "    <tr>\n",
       "      <td>0</td>\n",
       "      <td>new york city</td>\n",
       "      <td>b1a0d113cb17d1d85f0e12700dd71f36bddedc54</td>\n",
       "      <td>40.601540</td>\n",
       "      <td>-73.729636</td>\n",
       "      <td>A Bacon Yacht Charter</td>\n",
       "      <td>NaN</td>\n",
       "      <td>['restaurant', 'food', 'point_of_interest', 'e...</td>\n",
       "    </tr>\n",
       "    <tr>\n",
       "      <td>1</td>\n",
       "      <td>new york city</td>\n",
       "      <td>8799bb8d8ac7c2e1933f92ac1ef0f69a5e0b37c1</td>\n",
       "      <td>40.608921</td>\n",
       "      <td>-73.728256</td>\n",
       "      <td>Mezzanote</td>\n",
       "      <td>NaN</td>\n",
       "      <td>['restaurant', 'food', 'point_of_interest', 'e...</td>\n",
       "    </tr>\n",
       "    <tr>\n",
       "      <td>2</td>\n",
       "      <td>new york city</td>\n",
       "      <td>f2390680116af4d62e0da6f0432d33e94b9cb0e6</td>\n",
       "      <td>40.616978</td>\n",
       "      <td>-73.730349</td>\n",
       "      <td>Prime Bistro</td>\n",
       "      <td>4.0</td>\n",
       "      <td>['bar', 'restaurant', 'food', 'point_of_intere...</td>\n",
       "    </tr>\n",
       "    <tr>\n",
       "      <td>3</td>\n",
       "      <td>new york city</td>\n",
       "      <td>e9294eb56025e8eb29b937dc0aca29fd3059b9ab</td>\n",
       "      <td>40.617318</td>\n",
       "      <td>-73.730637</td>\n",
       "      <td>Rita's Ice</td>\n",
       "      <td>4.6</td>\n",
       "      <td>['restaurant', 'food', 'point_of_interest', 'e...</td>\n",
       "    </tr>\n",
       "    <tr>\n",
       "      <td>4</td>\n",
       "      <td>new york city</td>\n",
       "      <td>5c7b72c7bf9e7bc4f94baf09db1252088087f65d</td>\n",
       "      <td>40.618371</td>\n",
       "      <td>-73.728178</td>\n",
       "      <td>Cho-Sen Island</td>\n",
       "      <td>4.4</td>\n",
       "      <td>['restaurant', 'food', 'point_of_interest', 'e...</td>\n",
       "    </tr>\n",
       "  </tbody>\n",
       "</table>\n",
       "</div>"
      ],
      "text/plain": [
       "            city                                        id   latitude  \\\n",
       "0  new york city  b1a0d113cb17d1d85f0e12700dd71f36bddedc54  40.601540   \n",
       "1  new york city  8799bb8d8ac7c2e1933f92ac1ef0f69a5e0b37c1  40.608921   \n",
       "2  new york city  f2390680116af4d62e0da6f0432d33e94b9cb0e6  40.616978   \n",
       "3  new york city  e9294eb56025e8eb29b937dc0aca29fd3059b9ab  40.617318   \n",
       "4  new york city  5c7b72c7bf9e7bc4f94baf09db1252088087f65d  40.618371   \n",
       "\n",
       "   longitude                   name  rating  \\\n",
       "0 -73.729636  A Bacon Yacht Charter     NaN   \n",
       "1 -73.728256              Mezzanote     NaN   \n",
       "2 -73.730349           Prime Bistro     4.0   \n",
       "3 -73.730637             Rita's Ice     4.6   \n",
       "4 -73.728178         Cho-Sen Island     4.4   \n",
       "\n",
       "                                               types  \n",
       "0  ['restaurant', 'food', 'point_of_interest', 'e...  \n",
       "1  ['restaurant', 'food', 'point_of_interest', 'e...  \n",
       "2  ['bar', 'restaurant', 'food', 'point_of_intere...  \n",
       "3  ['restaurant', 'food', 'point_of_interest', 'e...  \n",
       "4  ['restaurant', 'food', 'point_of_interest', 'e...  "
      ]
     },
     "execution_count": 100,
     "metadata": {},
     "output_type": "execute_result"
    }
   ],
   "source": [
    "df_venues.head()"
   ]
  },
  {
   "cell_type": "markdown",
   "metadata": {},
   "source": [
    "#### The rating column has outliers and types column has text which needs to be processed to deaw conclusiond"
   ]
  },
  {
   "cell_type": "code",
   "execution_count": 101,
   "metadata": {
    "scrolled": true
   },
   "outputs": [
    {
     "data": {
      "text/plain": [
       "Index(['city', 'id', 'latitude', 'longitude', 'name', 'rating', 'types'], dtype='object')"
      ]
     },
     "execution_count": 101,
     "metadata": {},
     "output_type": "execute_result"
    }
   ],
   "source": [
    "df_venues.columns"
   ]
  },
  {
   "cell_type": "code",
   "execution_count": 102,
   "metadata": {},
   "outputs": [
    {
     "data": {
      "text/plain": [
       "(267958, 7)"
      ]
     },
     "execution_count": 102,
     "metadata": {},
     "output_type": "execute_result"
    }
   ],
   "source": [
    "df_venues.shape"
   ]
  },
  {
   "cell_type": "code",
   "execution_count": 103,
   "metadata": {
    "scrolled": true
   },
   "outputs": [
    {
     "data": {
      "text/plain": [
       "array(['new york city', 'denver', 'chicago', 'boston', 'washington dc'],\n",
       "      dtype=object)"
      ]
     },
     "execution_count": 103,
     "metadata": {},
     "output_type": "execute_result"
    }
   ],
   "source": [
    "ven_cities = pd.unique(df_venues.city)\n",
    "ven_cities"
   ]
  },
  {
   "cell_type": "markdown",
   "metadata": {},
   "source": [
    "#### So, the 'city' column is not really cities, but rather metro areas with the city (total 5 of them ) in the center of it."
   ]
  },
  {
   "cell_type": "markdown",
   "metadata": {},
   "source": [
    "The 'types' column shows the different way the particulr venue can be described, e.g restaurant or chirch or point of interest.."
   ]
  },
  {
   "cell_type": "markdown",
   "metadata": {},
   "source": [
    "there are total of 2328 of the unique combinations"
   ]
  },
  {
   "cell_type": "code",
   "execution_count": 104,
   "metadata": {
    "scrolled": true
   },
   "outputs": [
    {
     "data": {
      "text/plain": [
       "(2328,)"
      ]
     },
     "execution_count": 104,
     "metadata": {},
     "output_type": "execute_result"
    }
   ],
   "source": [
    "ven_types = pd.unique(df_venues.types)\n",
    "ven_types.shape"
   ]
  },
  {
   "cell_type": "code",
   "execution_count": 106,
   "metadata": {
    "scrolled": true
   },
   "outputs": [
    {
     "data": {
      "text/plain": [
       "city          object\n",
       "id            object\n",
       "latitude     float64\n",
       "longitude    float64\n",
       "name          object\n",
       "rating       float64\n",
       "types         object\n",
       "dtype: object"
      ]
     },
     "execution_count": 106,
     "metadata": {},
     "output_type": "execute_result"
    }
   ],
   "source": [
    "df_venues.dtypes"
   ]
  },
  {
   "cell_type": "markdown",
   "metadata": {},
   "source": [
    "### Explore the 'type' column: \n",
    "-  each row is a string which indicates the type or category of the venue could possibly belong to."
   ]
  },
  {
   "cell_type": "code",
   "execution_count": 107,
   "metadata": {},
   "outputs": [],
   "source": [
    "all_types = df_venues.types.tolist()"
   ]
  },
  {
   "cell_type": "code",
   "execution_count": 108,
   "metadata": {},
   "outputs": [
    {
     "name": "stdout",
     "output_type": "stream",
     "text": [
      "<class 'str'>\n"
     ]
    },
    {
     "data": {
      "text/plain": [
       "[\"['restaurant'\", \" 'food'\", \" 'point_of_interest'\", \" 'establishment']\"]"
      ]
     },
     "execution_count": 108,
     "metadata": {},
     "output_type": "execute_result"
    }
   ],
   "source": [
    "print(type(all_types[0]))\n",
    "## could be converted to list\n",
    "all_types[0].split(',')"
   ]
  },
  {
   "cell_type": "code",
   "execution_count": 109,
   "metadata": {
    "scrolled": false
   },
   "outputs": [
    {
     "data": {
      "text/plain": [
       "\" 'point_of_interest'\""
      ]
     },
     "execution_count": 109,
     "metadata": {},
     "output_type": "execute_result"
    }
   ],
   "source": [
    "all_types[0].split(',')[2]"
   ]
  },
  {
   "cell_type": "markdown",
   "metadata": {},
   "source": [
    "### find the distribution: number of categories per 'type'/ per each rows"
   ]
  },
  {
   "cell_type": "code",
   "execution_count": 110,
   "metadata": {
    "scrolled": false
   },
   "outputs": [
    {
     "data": {
      "text/plain": [
       "267958"
      ]
     },
     "execution_count": 110,
     "metadata": {},
     "output_type": "execute_result"
    }
   ],
   "source": [
    "num_types = [ len(all_types[i].split(',')) for i in range(df_venues.shape[0])] \n",
    "\n",
    "len(num_types)"
   ]
  },
  {
   "cell_type": "code",
   "execution_count": 111,
   "metadata": {},
   "outputs": [
    {
     "data": {
      "text/plain": [
       "12"
      ]
     },
     "execution_count": 111,
     "metadata": {},
     "output_type": "execute_result"
    }
   ],
   "source": [
    "## maximum 12 descriptions/categories  per row\n",
    "max(num_types)"
   ]
  },
  {
   "cell_type": "code",
   "execution_count": 112,
   "metadata": {},
   "outputs": [
    {
     "data": {
      "text/plain": [
       "3"
      ]
     },
     "execution_count": 112,
     "metadata": {},
     "output_type": "execute_result"
    }
   ],
   "source": [
    "## minimum 3 descriptions/categories  per row\n",
    "min(num_types)"
   ]
  },
  {
   "cell_type": "markdown",
   "metadata": {},
   "source": [
    "### Destribution of #cat per row in the dataset"
   ]
  },
  {
   "cell_type": "code",
   "execution_count": 113,
   "metadata": {
    "scrolled": false
   },
   "outputs": [
    {
     "data": {
      "image/png": "[encoded data removed]",
      "text/plain": [
       "<Figure size 432x288 with 1 Axes>"
      ]
     },
     "metadata": {},
     "output_type": "display_data"
    }
   ],
   "source": [
    "sns.set()\n",
    "\n",
    "plt.hist(num_types, bins = 10)\n",
    "\n",
    "plt.title('venues types distribution, by number of categories per venue');"
   ]
  },
  {
   "cell_type": "markdown",
   "metadata": {},
   "source": [
    "The distribution has right skew"
   ]
  },
  {
   "cell_type": "code",
   "execution_count": 114,
   "metadata": {},
   "outputs": [
    {
     "data": {
      "text/plain": [
       "1.126575917919044"
      ]
     },
     "execution_count": 114,
     "metadata": {},
     "output_type": "execute_result"
    }
   ],
   "source": [
    "pd.Series(num_types).skew()"
   ]
  },
  {
   "cell_type": "markdown",
   "metadata": {},
   "source": [
    "### take a copy of df_venues"
   ]
  },
  {
   "cell_type": "code",
   "execution_count": 130,
   "metadata": {},
   "outputs": [],
   "source": [
    "df_venuesA = df_venues.copy()"
   ]
  },
  {
   "cell_type": "code",
   "execution_count": 131,
   "metadata": {},
   "outputs": [],
   "source": [
    "## add number of cat per row as a new feature:\n",
    "df_venuesA['num_types']= num_types"
   ]
  },
  {
   "cell_type": "code",
   "execution_count": 132,
   "metadata": {},
   "outputs": [
    {
     "data": {
      "text/html": [
       "<div>\n",
       "<style scoped>\n",
       "    .dataframe tbody tr th:only-of-type {\n",
       "        vertical-align: middle;\n",
       "    }\n",
       "\n",
       "    .dataframe tbody tr th {\n",
       "        vertical-align: top;\n",
       "    }\n",
       "\n",
       "    .dataframe thead th {\n",
       "        text-align: right;\n",
       "    }\n",
       "</style>\n",
       "<table border=\"1\" class=\"dataframe\">\n",
       "  <thead>\n",
       "    <tr style=\"text-align: right;\">\n",
       "      <th></th>\n",
       "      <th>city</th>\n",
       "      <th>id</th>\n",
       "      <th>latitude</th>\n",
       "      <th>longitude</th>\n",
       "      <th>name</th>\n",
       "      <th>rating</th>\n",
       "      <th>types</th>\n",
       "      <th>num_types</th>\n",
       "    </tr>\n",
       "  </thead>\n",
       "  <tbody>\n",
       "    <tr>\n",
       "      <td>0</td>\n",
       "      <td>new york city</td>\n",
       "      <td>b1a0d113cb17d1d85f0e12700dd71f36bddedc54</td>\n",
       "      <td>40.601540</td>\n",
       "      <td>-73.729636</td>\n",
       "      <td>A Bacon Yacht Charter</td>\n",
       "      <td>NaN</td>\n",
       "      <td>['restaurant', 'food', 'point_of_interest', 'e...</td>\n",
       "      <td>4</td>\n",
       "    </tr>\n",
       "    <tr>\n",
       "      <td>1</td>\n",
       "      <td>new york city</td>\n",
       "      <td>8799bb8d8ac7c2e1933f92ac1ef0f69a5e0b37c1</td>\n",
       "      <td>40.608921</td>\n",
       "      <td>-73.728256</td>\n",
       "      <td>Mezzanote</td>\n",
       "      <td>NaN</td>\n",
       "      <td>['restaurant', 'food', 'point_of_interest', 'e...</td>\n",
       "      <td>4</td>\n",
       "    </tr>\n",
       "    <tr>\n",
       "      <td>2</td>\n",
       "      <td>new york city</td>\n",
       "      <td>f2390680116af4d62e0da6f0432d33e94b9cb0e6</td>\n",
       "      <td>40.616978</td>\n",
       "      <td>-73.730349</td>\n",
       "      <td>Prime Bistro</td>\n",
       "      <td>4.0</td>\n",
       "      <td>['bar', 'restaurant', 'food', 'point_of_intere...</td>\n",
       "      <td>5</td>\n",
       "    </tr>\n",
       "  </tbody>\n",
       "</table>\n",
       "</div>"
      ],
      "text/plain": [
       "            city                                        id   latitude  \\\n",
       "0  new york city  b1a0d113cb17d1d85f0e12700dd71f36bddedc54  40.601540   \n",
       "1  new york city  8799bb8d8ac7c2e1933f92ac1ef0f69a5e0b37c1  40.608921   \n",
       "2  new york city  f2390680116af4d62e0da6f0432d33e94b9cb0e6  40.616978   \n",
       "\n",
       "   longitude                   name  rating  \\\n",
       "0 -73.729636  A Bacon Yacht Charter     NaN   \n",
       "1 -73.728256              Mezzanote     NaN   \n",
       "2 -73.730349           Prime Bistro     4.0   \n",
       "\n",
       "                                               types  num_types  \n",
       "0  ['restaurant', 'food', 'point_of_interest', 'e...          4  \n",
       "1  ['restaurant', 'food', 'point_of_interest', 'e...          4  \n",
       "2  ['bar', 'restaurant', 'food', 'point_of_intere...          5  "
      ]
     },
     "execution_count": 132,
     "metadata": {},
     "output_type": "execute_result"
    }
   ],
   "source": [
    "df_venuesA.head(3)"
   ]
  },
  {
   "cell_type": "code",
   "execution_count": 224,
   "metadata": {},
   "outputs": [],
   "source": [
    "#all_types"
   ]
  },
  {
   "cell_type": "markdown",
   "metadata": {},
   "source": [
    "### It would be interesting to see how many unique categories are in the dataset"
   ]
  },
  {
   "cell_type": "code",
   "execution_count": 133,
   "metadata": {},
   "outputs": [],
   "source": [
    "all_items = []\n",
    "for row in range(df_venuesA.shape[0]):\n",
    "    l = all_types[row].split(',')\n",
    "    for j in range(len(l)):\n",
    "        if j == 0:\n",
    "            all_items.append(l[j][1:])\n",
    "        elif j==len(l)-1:\n",
    "            all_items.append(l[j][:-1])\n",
    "        else:\n",
    "            all_items.append(l[j])\n",
    "    "
   ]
  },
  {
   "cell_type": "code",
   "execution_count": 134,
   "metadata": {},
   "outputs": [
    {
     "data": {
      "text/plain": [
       "[\"'restaurant'\",\n",
       " \" 'food'\",\n",
       " \" 'point_of_interest'\",\n",
       " \" 'establishment'\",\n",
       " \"'restaurant'\",\n",
       " \" 'food'\",\n",
       " \" 'point_of_interest'\",\n",
       " \" 'establishment'\"]"
      ]
     },
     "execution_count": 134,
     "metadata": {},
     "output_type": "execute_result"
    }
   ],
   "source": [
    "all_items[:8]"
   ]
  },
  {
   "cell_type": "code",
   "execution_count": 135,
   "metadata": {
    "scrolled": false
   },
   "outputs": [
    {
     "name": "stdout",
     "output_type": "stream",
     "text": [
      "total number of unique types 198\n"
     ]
    }
   ],
   "source": [
    "##find unique items:\n",
    "u_items = pd.unique(all_items)\n",
    "\n",
    "print('total number of unique types',len(u_items))"
   ]
  },
  {
   "cell_type": "markdown",
   "metadata": {},
   "source": [
    "There are total of 198 unique words describing to what category the venue belongs"
   ]
  },
  {
   "cell_type": "code",
   "execution_count": 136,
   "metadata": {},
   "outputs": [],
   "source": [
    "#u_items"
   ]
  },
  {
   "cell_type": "code",
   "execution_count": 137,
   "metadata": {
    "scrolled": true
   },
   "outputs": [
    {
     "name": "stdout",
     "output_type": "stream",
     "text": [
      "total of  2328 unique combos  in types\n"
     ]
    }
   ],
   "source": [
    "all_types = flatten(df_venuesA.types)\n",
    "print('total of ', len(pd.unique(all_types)), 'unique combos  in types')"
   ]
  },
  {
   "cell_type": "code",
   "execution_count": 138,
   "metadata": {},
   "outputs": [
    {
     "data": {
      "text/plain": [
       "267958"
      ]
     },
     "execution_count": 138,
     "metadata": {},
     "output_type": "execute_result"
    }
   ],
   "source": [
    "df_venuesA.shape[0]"
   ]
  },
  {
   "cell_type": "markdown",
   "metadata": {},
   "source": [
    "- 2328 unques in df (267958)\n",
    "- x uniques in sample (1000)\n",
    " -  X ~ 8\n",
    "- SO, if we take a sampe with only 1000 rows, we would expect to see 8 unique combos"
   ]
  },
  {
   "cell_type": "code",
   "execution_count": 33,
   "metadata": {},
   "outputs": [],
   "source": [
    "### add column "
   ]
  },
  {
   "cell_type": "code",
   "execution_count": 34,
   "metadata": {},
   "outputs": [],
   "source": [
    "#all_types"
   ]
  },
  {
   "cell_type": "markdown",
   "metadata": {},
   "source": [
    "##### How are the venues distiributed throughout the metro areas?"
   ]
  },
  {
   "cell_type": "code",
   "execution_count": 139,
   "metadata": {
    "scrolled": true
   },
   "outputs": [
    {
     "data": {
      "text/plain": [
       "city\n",
       "boston            14243\n",
       "chicago           65645\n",
       "denver            38506\n",
       "new york city    130588\n",
       "washington dc     18976\n",
       "dtype: int64"
      ]
     },
     "execution_count": 139,
     "metadata": {},
     "output_type": "execute_result"
    }
   ],
   "source": [
    "df_venuesA.groupby(['city']).size()"
   ]
  },
  {
   "cell_type": "markdown",
   "metadata": {},
   "source": [
    "- Most of the venues are located in NYC metro area (or nea New York?)"
   ]
  },
  {
   "cell_type": "markdown",
   "metadata": {},
   "source": [
    "#### DO average ratings of venues differ from metro to metro area"
   ]
  },
  {
   "cell_type": "code",
   "execution_count": 140,
   "metadata": {
    "scrolled": true
   },
   "outputs": [
    {
     "data": {
      "text/plain": [
       "city\n",
       "boston           4.100188\n",
       "chicago          4.091885\n",
       "denver           4.011665\n",
       "new york city    4.064239\n",
       "washington dc    4.001884\n",
       "Name: rating, dtype: float64"
      ]
     },
     "execution_count": 140,
     "metadata": {},
     "output_type": "execute_result"
    }
   ],
   "source": [
    "\n",
    "df_venuesA.groupby(['city'])['rating'].mean()"
   ]
  },
  {
   "cell_type": "markdown",
   "metadata": {},
   "source": [
    "- The mean of this variable is pretty much the same for all the metro areas\n",
    "- it is also close to 4 if to average across the whole dataset!"
   ]
  },
  {
   "cell_type": "code",
   "execution_count": 141,
   "metadata": {},
   "outputs": [
    {
     "data": {
      "text/plain": [
       "4.058323207776468"
      ]
     },
     "execution_count": 141,
     "metadata": {},
     "output_type": "execute_result"
    }
   ],
   "source": [
    "mean_rating = df_venuesA['rating'].mean()\n",
    "mean_rating"
   ]
  },
  {
   "cell_type": "markdown",
   "metadata": {},
   "source": [
    "#### replace each NaN in 'rating ' wiht averge per column rating"
   ]
  },
  {
   "cell_type": "code",
   "execution_count": 145,
   "metadata": {},
   "outputs": [],
   "source": [
    "rating_i = df_venuesA['rating'].fillna(mean_rating)"
   ]
  },
  {
   "cell_type": "code",
   "execution_count": 146,
   "metadata": {},
   "outputs": [
    {
     "data": {
      "text/plain": [
       "0         4.058323\n",
       "1         4.058323\n",
       "2         4.000000\n",
       "3         4.600000\n",
       "4         4.400000\n",
       "            ...   \n",
       "267953    4.058323\n",
       "267954    3.900000\n",
       "267955    4.300000\n",
       "267956    4.058323\n",
       "267957    4.500000\n",
       "Name: rating, Length: 267958, dtype: float64"
      ]
     },
     "execution_count": 146,
     "metadata": {},
     "output_type": "execute_result"
    }
   ],
   "source": [
    "rating_i"
   ]
  },
  {
   "cell_type": "markdown",
   "metadata": {},
   "source": [
    "- take a look at the distribution of the rating variable (whole dataset and each metro areas)"
   ]
  },
  {
   "cell_type": "code",
   "execution_count": 147,
   "metadata": {},
   "outputs": [
    {
     "data": {
      "image/png": "[encoded data removed]",
      "text/plain": [
       "<Figure size 432x288 with 1 Axes>"
      ]
     },
     "metadata": {},
     "output_type": "display_data"
    }
   ],
   "source": [
    "plt.hist(rating_i, bins = 10)\n",
    "\n",
    "plt.title('rating distribution');"
   ]
  },
  {
   "cell_type": "markdown",
   "metadata": {},
   "source": [
    "- the distribution looks heavily left skewed, althogh most of the venues have close to average (4) rating"
   ]
  },
  {
   "cell_type": "code",
   "execution_count": 148,
   "metadata": {
    "scrolled": false
   },
   "outputs": [
    {
     "data": {
      "text/plain": [
       "-2.05979546690871"
      ]
     },
     "execution_count": 148,
     "metadata": {},
     "output_type": "execute_result"
    }
   ],
   "source": [
    "rating_i.skew()"
   ]
  },
  {
   "cell_type": "markdown",
   "metadata": {},
   "source": [
    "- impute NaNs in the rating column with average percolumn"
   ]
  },
  {
   "cell_type": "code",
   "execution_count": 149,
   "metadata": {},
   "outputs": [],
   "source": [
    "\n",
    "df_venuesA['rating_i']=rating_i"
   ]
  },
  {
   "cell_type": "code",
   "execution_count": 150,
   "metadata": {
    "scrolled": true
   },
   "outputs": [
    {
     "data": {
      "text/html": [
       "<div>\n",
       "<style scoped>\n",
       "    .dataframe tbody tr th:only-of-type {\n",
       "        vertical-align: middle;\n",
       "    }\n",
       "\n",
       "    .dataframe tbody tr th {\n",
       "        vertical-align: top;\n",
       "    }\n",
       "\n",
       "    .dataframe thead th {\n",
       "        text-align: right;\n",
       "    }\n",
       "</style>\n",
       "<table border=\"1\" class=\"dataframe\">\n",
       "  <thead>\n",
       "    <tr style=\"text-align: right;\">\n",
       "      <th></th>\n",
       "      <th>city</th>\n",
       "      <th>id</th>\n",
       "      <th>latitude</th>\n",
       "      <th>longitude</th>\n",
       "      <th>name</th>\n",
       "      <th>rating</th>\n",
       "      <th>types</th>\n",
       "      <th>num_types</th>\n",
       "      <th>rating_i</th>\n",
       "    </tr>\n",
       "  </thead>\n",
       "  <tbody>\n",
       "    <tr>\n",
       "      <td>0</td>\n",
       "      <td>new york city</td>\n",
       "      <td>b1a0d113cb17d1d85f0e12700dd71f36bddedc54</td>\n",
       "      <td>40.601540</td>\n",
       "      <td>-73.729636</td>\n",
       "      <td>A Bacon Yacht Charter</td>\n",
       "      <td>4.058323</td>\n",
       "      <td>['restaurant', 'food', 'point_of_interest', 'e...</td>\n",
       "      <td>4</td>\n",
       "      <td>4.058323</td>\n",
       "    </tr>\n",
       "    <tr>\n",
       "      <td>1</td>\n",
       "      <td>new york city</td>\n",
       "      <td>8799bb8d8ac7c2e1933f92ac1ef0f69a5e0b37c1</td>\n",
       "      <td>40.608921</td>\n",
       "      <td>-73.728256</td>\n",
       "      <td>Mezzanote</td>\n",
       "      <td>4.058323</td>\n",
       "      <td>['restaurant', 'food', 'point_of_interest', 'e...</td>\n",
       "      <td>4</td>\n",
       "      <td>4.058323</td>\n",
       "    </tr>\n",
       "    <tr>\n",
       "      <td>2</td>\n",
       "      <td>new york city</td>\n",
       "      <td>f2390680116af4d62e0da6f0432d33e94b9cb0e6</td>\n",
       "      <td>40.616978</td>\n",
       "      <td>-73.730349</td>\n",
       "      <td>Prime Bistro</td>\n",
       "      <td>4.000000</td>\n",
       "      <td>['bar', 'restaurant', 'food', 'point_of_intere...</td>\n",
       "      <td>5</td>\n",
       "      <td>4.000000</td>\n",
       "    </tr>\n",
       "    <tr>\n",
       "      <td>3</td>\n",
       "      <td>new york city</td>\n",
       "      <td>e9294eb56025e8eb29b937dc0aca29fd3059b9ab</td>\n",
       "      <td>40.617318</td>\n",
       "      <td>-73.730637</td>\n",
       "      <td>Rita's Ice</td>\n",
       "      <td>4.600000</td>\n",
       "      <td>['restaurant', 'food', 'point_of_interest', 'e...</td>\n",
       "      <td>4</td>\n",
       "      <td>4.600000</td>\n",
       "    </tr>\n",
       "    <tr>\n",
       "      <td>4</td>\n",
       "      <td>new york city</td>\n",
       "      <td>5c7b72c7bf9e7bc4f94baf09db1252088087f65d</td>\n",
       "      <td>40.618371</td>\n",
       "      <td>-73.728178</td>\n",
       "      <td>Cho-Sen Island</td>\n",
       "      <td>4.400000</td>\n",
       "      <td>['restaurant', 'food', 'point_of_interest', 'e...</td>\n",
       "      <td>4</td>\n",
       "      <td>4.400000</td>\n",
       "    </tr>\n",
       "  </tbody>\n",
       "</table>\n",
       "</div>"
      ],
      "text/plain": [
       "            city                                        id   latitude  \\\n",
       "0  new york city  b1a0d113cb17d1d85f0e12700dd71f36bddedc54  40.601540   \n",
       "1  new york city  8799bb8d8ac7c2e1933f92ac1ef0f69a5e0b37c1  40.608921   \n",
       "2  new york city  f2390680116af4d62e0da6f0432d33e94b9cb0e6  40.616978   \n",
       "3  new york city  e9294eb56025e8eb29b937dc0aca29fd3059b9ab  40.617318   \n",
       "4  new york city  5c7b72c7bf9e7bc4f94baf09db1252088087f65d  40.618371   \n",
       "\n",
       "   longitude                   name    rating  \\\n",
       "0 -73.729636  A Bacon Yacht Charter  4.058323   \n",
       "1 -73.728256              Mezzanote  4.058323   \n",
       "2 -73.730349           Prime Bistro  4.000000   \n",
       "3 -73.730637             Rita's Ice  4.600000   \n",
       "4 -73.728178         Cho-Sen Island  4.400000   \n",
       "\n",
       "                                               types  num_types  rating_i  \n",
       "0  ['restaurant', 'food', 'point_of_interest', 'e...          4  4.058323  \n",
       "1  ['restaurant', 'food', 'point_of_interest', 'e...          4  4.058323  \n",
       "2  ['bar', 'restaurant', 'food', 'point_of_intere...          5  4.000000  \n",
       "3  ['restaurant', 'food', 'point_of_interest', 'e...          4  4.600000  \n",
       "4  ['restaurant', 'food', 'point_of_interest', 'e...          4  4.400000  "
      ]
     },
     "execution_count": 150,
     "metadata": {},
     "output_type": "execute_result"
    }
   ],
   "source": [
    "df_venuesA.head()"
   ]
  },
  {
   "cell_type": "code",
   "execution_count": 151,
   "metadata": {},
   "outputs": [
    {
     "data": {
      "text/plain": [
       "city         0\n",
       "id           0\n",
       "latitude     0\n",
       "longitude    0\n",
       "name         0\n",
       "rating       0\n",
       "types        0\n",
       "num_types    0\n",
       "rating_i     0\n",
       "dtype: int64"
      ]
     },
     "execution_count": 151,
     "metadata": {},
     "output_type": "execute_result"
    }
   ],
   "source": [
    "### check for NaNs\n",
    "df_venuesA.isnull().sum()"
   ]
  },
  {
   "cell_type": "code",
   "execution_count": 152,
   "metadata": {},
   "outputs": [
    {
     "data": {
      "text/plain": [
       "234739    3.900000\n",
       "234740    3.300000\n",
       "234741    4.700000\n",
       "234742    4.200000\n",
       "234743    4.100000\n",
       "            ...   \n",
       "248977    4.058323\n",
       "248978    4.058323\n",
       "248979    2.500000\n",
       "248980    3.000000\n",
       "248981    4.058323\n",
       "Name: rating_i, Length: 14243, dtype: float64"
      ]
     },
     "execution_count": 152,
     "metadata": {},
     "output_type": "execute_result"
    }
   ],
   "source": [
    "df_venuesA[df_venuesA['city']=='boston'].rating_i"
   ]
  },
  {
   "cell_type": "code",
   "execution_count": 153,
   "metadata": {},
   "outputs": [],
   "source": [
    "cities = list(set(df_venuesA.city.tolist()))"
   ]
  },
  {
   "cell_type": "code",
   "execution_count": 154,
   "metadata": {
    "scrolled": false
   },
   "outputs": [
    {
     "data": {
      "text/plain": [
       "['washington dc', 'chicago', 'new york city', 'denver', 'boston']"
      ]
     },
     "execution_count": 154,
     "metadata": {},
     "output_type": "execute_result"
    }
   ],
   "source": [
    "cities"
   ]
  },
  {
   "cell_type": "code",
   "execution_count": 155,
   "metadata": {},
   "outputs": [],
   "source": [
    "#df_venuesA[df_venuesA['rating_i']==1]"
   ]
  },
  {
   "cell_type": "markdown",
   "metadata": {},
   "source": [
    "### Venues rating distribution"
   ]
  },
  {
   "cell_type": "markdown",
   "metadata": {},
   "source": [
    "#### Transformations of rating variable"
   ]
  },
  {
   "cell_type": "markdown",
   "metadata": {},
   "source": [
    "- distiribution of 'rating' for different metro aras "
   ]
  },
  {
   "cell_type": "code",
   "execution_count": 156,
   "metadata": {
    "scrolled": true
   },
   "outputs": [
    {
     "data": {
      "image/png": "[encoded data removed]",
      "text/plain": [
       "<Figure size 432x288 with 1 Axes>"
      ]
     },
     "metadata": {},
     "output_type": "display_data"
    }
   ],
   "source": [
    "bins = np.linspace(1, 5, 10)\n",
    "for city in cities:\n",
    "    bins = np.linspace(1, 5, 10)\n",
    "    plt.hist(df_venuesA[df_venuesA['city']==city].rating_i,histtype = 'step', density = True, label = city)\n",
    "    plt.legend(loc='upper left')\n",
    "    plt.title('rating distribution for different metro areas');"
   ]
  },
  {
   "cell_type": "code",
   "execution_count": 157,
   "metadata": {},
   "outputs": [
    {
     "data": {
      "text/plain": [
       "-2.05979546690871"
      ]
     },
     "execution_count": 157,
     "metadata": {},
     "output_type": "execute_result"
    }
   ],
   "source": [
    "df_venuesA['rating_i'].skew()"
   ]
  },
  {
   "cell_type": "markdown",
   "metadata": {},
   "source": [
    "### Boxcox transform to fix skewness"
   ]
  },
  {
   "cell_type": "code",
   "execution_count": 159,
   "metadata": {
    "scrolled": false
   },
   "outputs": [
    {
     "data": {
      "image/png": "[encoded data removed]",
      "text/plain": [
       "<Figure size 432x288 with 1 Axes>"
      ]
     },
     "metadata": {},
     "output_type": "display_data"
    }
   ],
   "source": [
    "bins = np.linspace(1, 5, 10)\n",
    "for city in cities:\n",
    "    bins = np.linspace(1, 5, 10)\n",
    "    plt.hist(stats.boxcox(df_venuesA[df_venuesA['city']==city].rating_i),histtype = 'step', density = True, label = city)\n",
    "    plt.legend(loc='upper right')\n",
    "    plt.title('rating distribution for different metro areas-BOXCOX Transform');"
   ]
  },
  {
   "cell_type": "markdown",
   "metadata": {},
   "source": [
    "- much less skewness"
   ]
  },
  {
   "cell_type": "code",
   "execution_count": 246,
   "metadata": {},
   "outputs": [
    {
     "data": {
      "text/plain": [
       "0.1189046406945206"
      ]
     },
     "execution_count": 246,
     "metadata": {},
     "output_type": "execute_result"
    }
   ],
   "source": [
    "pd.Series(stats.boxcox(df_venuesA['rating_i'])[0]).skew()"
   ]
  },
  {
   "cell_type": "markdown",
   "metadata": {},
   "source": [
    "### Add transformed rating variable:"
   ]
  },
  {
   "cell_type": "code",
   "execution_count": 161,
   "metadata": {
    "scrolled": true
   },
   "outputs": [
    {
     "data": {
      "text/plain": [
       "Index(['city', 'id', 'latitude', 'longitude', 'name', 'rating', 'types',\n",
       "       'num_types', 'rating_i'],\n",
       "      dtype='object')"
      ]
     },
     "execution_count": 161,
     "metadata": {},
     "output_type": "execute_result"
    }
   ],
   "source": [
    "df_venuesA.columns"
   ]
  },
  {
   "cell_type": "code",
   "execution_count": 248,
   "metadata": {},
   "outputs": [],
   "source": [
    "#df_venuesA['rating_i'].tolist()"
   ]
  },
  {
   "cell_type": "code",
   "execution_count": 162,
   "metadata": {},
   "outputs": [
    {
     "data": {
      "text/plain": [
       "(array([17.52006534, 17.52006534, 16.81205228, ..., 20.65301272,\n",
       "        17.52006534, 23.49601911]), 2.7914213081008517)"
      ]
     },
     "execution_count": 162,
     "metadata": {},
     "output_type": "execute_result"
    }
   ],
   "source": [
    "stats.boxcox(df_venuesA.rating_i.values)"
   ]
  },
  {
   "cell_type": "code",
   "execution_count": 163,
   "metadata": {},
   "outputs": [],
   "source": [
    "bc = stats.boxcox(df_venuesA.rating_i.values)[0]"
   ]
  },
  {
   "cell_type": "code",
   "execution_count": 164,
   "metadata": {},
   "outputs": [
    {
     "data": {
      "text/plain": [
       "array([17.52006534, 17.52006534, 16.81205228, ..., 20.65301272,\n",
       "       17.52006534, 23.49601911])"
      ]
     },
     "execution_count": 164,
     "metadata": {},
     "output_type": "execute_result"
    }
   ],
   "source": [
    "bc"
   ]
  },
  {
   "cell_type": "code",
   "execution_count": 165,
   "metadata": {},
   "outputs": [],
   "source": [
    "df_venuesA['rating_boxcox'] = bc"
   ]
  },
  {
   "cell_type": "code",
   "execution_count": 166,
   "metadata": {},
   "outputs": [
    {
     "data": {
      "text/html": [
       "<div>\n",
       "<style scoped>\n",
       "    .dataframe tbody tr th:only-of-type {\n",
       "        vertical-align: middle;\n",
       "    }\n",
       "\n",
       "    .dataframe tbody tr th {\n",
       "        vertical-align: top;\n",
       "    }\n",
       "\n",
       "    .dataframe thead th {\n",
       "        text-align: right;\n",
       "    }\n",
       "</style>\n",
       "<table border=\"1\" class=\"dataframe\">\n",
       "  <thead>\n",
       "    <tr style=\"text-align: right;\">\n",
       "      <th></th>\n",
       "      <th>city</th>\n",
       "      <th>id</th>\n",
       "      <th>latitude</th>\n",
       "      <th>longitude</th>\n",
       "      <th>name</th>\n",
       "      <th>rating</th>\n",
       "      <th>types</th>\n",
       "      <th>num_types</th>\n",
       "      <th>rating_i</th>\n",
       "      <th>rating_boxcox</th>\n",
       "    </tr>\n",
       "  </thead>\n",
       "  <tbody>\n",
       "    <tr>\n",
       "      <td>0</td>\n",
       "      <td>new york city</td>\n",
       "      <td>b1a0d113cb17d1d85f0e12700dd71f36bddedc54</td>\n",
       "      <td>40.601540</td>\n",
       "      <td>-73.729636</td>\n",
       "      <td>A Bacon Yacht Charter</td>\n",
       "      <td>4.058323</td>\n",
       "      <td>['restaurant', 'food', 'point_of_interest', 'e...</td>\n",
       "      <td>4</td>\n",
       "      <td>4.058323</td>\n",
       "      <td>17.520065</td>\n",
       "    </tr>\n",
       "    <tr>\n",
       "      <td>1</td>\n",
       "      <td>new york city</td>\n",
       "      <td>8799bb8d8ac7c2e1933f92ac1ef0f69a5e0b37c1</td>\n",
       "      <td>40.608921</td>\n",
       "      <td>-73.728256</td>\n",
       "      <td>Mezzanote</td>\n",
       "      <td>4.058323</td>\n",
       "      <td>['restaurant', 'food', 'point_of_interest', 'e...</td>\n",
       "      <td>4</td>\n",
       "      <td>4.058323</td>\n",
       "      <td>17.520065</td>\n",
       "    </tr>\n",
       "    <tr>\n",
       "      <td>2</td>\n",
       "      <td>new york city</td>\n",
       "      <td>f2390680116af4d62e0da6f0432d33e94b9cb0e6</td>\n",
       "      <td>40.616978</td>\n",
       "      <td>-73.730349</td>\n",
       "      <td>Prime Bistro</td>\n",
       "      <td>4.000000</td>\n",
       "      <td>['bar', 'restaurant', 'food', 'point_of_intere...</td>\n",
       "      <td>5</td>\n",
       "      <td>4.000000</td>\n",
       "      <td>16.812052</td>\n",
       "    </tr>\n",
       "    <tr>\n",
       "      <td>3</td>\n",
       "      <td>new york city</td>\n",
       "      <td>e9294eb56025e8eb29b937dc0aca29fd3059b9ab</td>\n",
       "      <td>40.617318</td>\n",
       "      <td>-73.730637</td>\n",
       "      <td>Rita's Ice</td>\n",
       "      <td>4.600000</td>\n",
       "      <td>['restaurant', 'food', 'point_of_interest', 'e...</td>\n",
       "      <td>4</td>\n",
       "      <td>4.600000</td>\n",
       "      <td>25.005362</td>\n",
       "    </tr>\n",
       "    <tr>\n",
       "      <td>4</td>\n",
       "      <td>new york city</td>\n",
       "      <td>5c7b72c7bf9e7bc4f94baf09db1252088087f65d</td>\n",
       "      <td>40.618371</td>\n",
       "      <td>-73.728178</td>\n",
       "      <td>Cho-Sen Island</td>\n",
       "      <td>4.400000</td>\n",
       "      <td>['restaurant', 'food', 'point_of_interest', 'e...</td>\n",
       "      <td>4</td>\n",
       "      <td>4.400000</td>\n",
       "      <td>22.045582</td>\n",
       "    </tr>\n",
       "  </tbody>\n",
       "</table>\n",
       "</div>"
      ],
      "text/plain": [
       "            city                                        id   latitude  \\\n",
       "0  new york city  b1a0d113cb17d1d85f0e12700dd71f36bddedc54  40.601540   \n",
       "1  new york city  8799bb8d8ac7c2e1933f92ac1ef0f69a5e0b37c1  40.608921   \n",
       "2  new york city  f2390680116af4d62e0da6f0432d33e94b9cb0e6  40.616978   \n",
       "3  new york city  e9294eb56025e8eb29b937dc0aca29fd3059b9ab  40.617318   \n",
       "4  new york city  5c7b72c7bf9e7bc4f94baf09db1252088087f65d  40.618371   \n",
       "\n",
       "   longitude                   name    rating  \\\n",
       "0 -73.729636  A Bacon Yacht Charter  4.058323   \n",
       "1 -73.728256              Mezzanote  4.058323   \n",
       "2 -73.730349           Prime Bistro  4.000000   \n",
       "3 -73.730637             Rita's Ice  4.600000   \n",
       "4 -73.728178         Cho-Sen Island  4.400000   \n",
       "\n",
       "                                               types  num_types  rating_i  \\\n",
       "0  ['restaurant', 'food', 'point_of_interest', 'e...          4  4.058323   \n",
       "1  ['restaurant', 'food', 'point_of_interest', 'e...          4  4.058323   \n",
       "2  ['bar', 'restaurant', 'food', 'point_of_intere...          5  4.000000   \n",
       "3  ['restaurant', 'food', 'point_of_interest', 'e...          4  4.600000   \n",
       "4  ['restaurant', 'food', 'point_of_interest', 'e...          4  4.400000   \n",
       "\n",
       "   rating_boxcox  \n",
       "0      17.520065  \n",
       "1      17.520065  \n",
       "2      16.812052  \n",
       "3      25.005362  \n",
       "4      22.045582  "
      ]
     },
     "execution_count": 166,
     "metadata": {},
     "output_type": "execute_result"
    }
   ],
   "source": [
    "df_venuesA.head()"
   ]
  },
  {
   "cell_type": "code",
   "execution_count": 168,
   "metadata": {},
   "outputs": [
    {
     "data": {
      "image/png": "[encoded data removed]",
      "text/plain": [
       "<Figure size 432x288 with 1 Axes>"
      ]
     },
     "metadata": {},
     "output_type": "display_data"
    }
   ],
   "source": [
    "#normalized counts, log\n",
    "for city in cities:\n",
    "    bins = np.linspace(1, 12, 12)\n",
    "    plt.hist(df_venuesA[df_venuesA['city']==city].num_types,histtype = 'step',density = True, label = city)\n",
    "    plt.legend(loc='upper right')\n",
    "    plt.title('number of categoties in types per row, distribution for different metro areas');"
   ]
  },
  {
   "cell_type": "markdown",
   "metadata": {},
   "source": [
    "### Select random sample N= 1151 (same as in events dataset) to do T-SNE, number of rows corresponds to venues.csv"
   ]
  },
  {
   "cell_type": "code",
   "execution_count": 171,
   "metadata": {},
   "outputs": [],
   "source": [
    "types_rating_sample = df_venuesA.sample(1151, random_state=1)\n",
    "\n"
   ]
  },
  {
   "cell_type": "markdown",
   "metadata": {},
   "source": [
    "#### labels =  ordinal ratings"
   ]
  },
  {
   "cell_type": "code",
   "execution_count": 257,
   "metadata": {},
   "outputs": [],
   "source": [
    "### Labels - ratings\n",
    "labels = types_rating_sample.rating_i"
   ]
  },
  {
   "cell_type": "code",
   "execution_count": null,
   "metadata": {},
   "outputs": [],
   "source": []
  },
  {
   "cell_type": "markdown",
   "metadata": {},
   "source": [
    " - Labels binary rating_i <4.5 and rating_i >= 4.5"
   ]
  },
  {
   "cell_type": "code",
   "execution_count": 172,
   "metadata": {},
   "outputs": [],
   "source": [
    "labels_binary = [0 if x <4.5 else  1 for x in types_rating_sample.rating_i.values]\n",
    "#labels_binary = []"
   ]
  },
  {
   "cell_type": "code",
   "execution_count": 173,
   "metadata": {},
   "outputs": [],
   "source": [
    "# binning the labels RATINGS:\n",
    "## partition outcome var into 3 categories: 0<var<=Q1(27%), Q1<var<=Q3(27%)\n",
    "## var>Q3"
   ]
  },
  {
   "cell_type": "code",
   "execution_count": 174,
   "metadata": {},
   "outputs": [],
   "source": [
    "def bins(df,col,low,mid):\n",
    "    labels_bins = []\n",
    "    for i in df[col].values:\n",
    "        if i<=low:\n",
    "            labels_bins.append(0)\n",
    "        elif i>low and i<=mid:\n",
    "        \n",
    "            labels_bins.append(1)\n",
    "        else:\n",
    "            labels_bins.append(2)\n",
    "    return labels_bins\n",
    "    "
   ]
  },
  {
   "cell_type": "code",
   "execution_count": 175,
   "metadata": {
    "scrolled": true
   },
   "outputs": [
    {
     "name": "stdout",
     "output_type": "stream",
     "text": [
      "3 level ratings bins \n",
      "\n",
      "dimensions (1151,)\n"
     ]
    },
    {
     "data": {
      "text/plain": [
       "array([0, 0, 1, 1, 1, 1, 1, 1, 1, 1, 1, 0, 1, 1, 1, 2, 0, 1, 1, 1])"
      ]
     },
     "execution_count": 175,
     "metadata": {},
     "output_type": "execute_result"
    }
   ],
   "source": [
    "labels_q = np.array(bins(types_rating_sample,'rating_i',4,4.5))\n",
    "print('3 level ratings bins', '\\n')\n",
    "print('dimensions',labels_q.shape)\n",
    "labels_q[:20]\n",
    "\n"
   ]
  },
  {
   "cell_type": "markdown",
   "metadata": {},
   "source": [
    "#### Labels -  binning the transformed (boxcox) RATINGS:"
   ]
  },
  {
   "cell_type": "code",
   "execution_count": 176,
   "metadata": {},
   "outputs": [
    {
     "name": "stdout",
     "output_type": "stream",
     "text": [
      "3 level ratings boxcox \n",
      "\n",
      "dimensions (1151,)\n"
     ]
    },
    {
     "data": {
      "text/plain": [
       "array([1, 1, 1, 1, 1, 1, 1, 1, 1, 1, 1, 1, 1, 1, 1, 2, 1, 1, 1, 1])"
      ]
     },
     "execution_count": 176,
     "metadata": {},
     "output_type": "execute_result"
    }
   ],
   "source": [
    "labels_boxcox = np.array(bins(types_rating_sample,'rating_boxcox',5,25))\n",
    "print('3 level ratings boxcox', '\\n')\n",
    "print('dimensions',labels_boxcox.shape)\n",
    "labels_boxcox[:20]"
   ]
  },
  {
   "cell_type": "markdown",
   "metadata": {},
   "source": [
    "#### Labels - metro areas"
   ]
  },
  {
   "cell_type": "code",
   "execution_count": 177,
   "metadata": {},
   "outputs": [],
   "source": [
    "labels_city = types_rating_sample.city"
   ]
  },
  {
   "cell_type": "code",
   "execution_count": 178,
   "metadata": {},
   "outputs": [],
   "source": [
    "from yellowbrick.text import TSNEVisualizer"
   ]
  },
  {
   "cell_type": "code",
   "execution_count": 179,
   "metadata": {},
   "outputs": [],
   "source": [
    "tfidf  = TfidfVectorizer()\n",
    "\n",
    "docs   = tfidf.fit_transform(types_rating_sample.types)\n",
    "\n"
   ]
  },
  {
   "cell_type": "code",
   "execution_count": 180,
   "metadata": {},
   "outputs": [
    {
     "data": {
      "text/plain": [
       "0"
      ]
     },
     "execution_count": 180,
     "metadata": {},
     "output_type": "execute_result"
    }
   ],
   "source": [
    "types_rating_sample.rating_i.isnull().sum()"
   ]
  },
  {
   "cell_type": "code",
   "execution_count": 181,
   "metadata": {
    "scrolled": false
   },
   "outputs": [
    {
     "name": "stderr",
     "output_type": "stream",
     "text": [
      "'c' argument looks like a single numeric RGB or RGBA sequence, which should be avoided as value-mapping will have precedence in case its length matches with 'x' & 'y'.  Please use a 2-D array with a single row if you really want to specify the same RGB or RGBA value for all points.\n",
      "'c' argument looks like a single numeric RGB or RGBA sequence, which should be avoided as value-mapping will have precedence in case its length matches with 'x' & 'y'.  Please use a 2-D array with a single row if you really want to specify the same RGB or RGBA value for all points.\n",
      "'c' argument looks like a single numeric RGB or RGBA sequence, which should be avoided as value-mapping will have precedence in case its length matches with 'x' & 'y'.  Please use a 2-D array with a single row if you really want to specify the same RGB or RGBA value for all points.\n"
     ]
    },
    {
     "data": {
      "image/png": "[encoded data removed]",
      "text/plain": [
       "<Figure size 576x396 with 1 Axes>"
      ]
     },
     "metadata": {},
     "output_type": "display_data"
    },
    {
     "data": {
      "text/plain": [
       "<matplotlib.axes._subplots.AxesSubplot at 0x1c31be8290>"
      ]
     },
     "execution_count": 181,
     "metadata": {},
     "output_type": "execute_result"
    }
   ],
   "source": [
    "# Create & visualize vectors, this one is using a labels_boxcox (rating transformed by boxcox method)\n",
    "sns.set()\n",
    "tsne = TSNEVisualizer(colormap = 'brg',decompose = 'svd',decompose_by = 20, alpha  = 0.1)\n",
    "tsne.fit(docs, labels_boxcox)\n",
    "tsne.poof()"
   ]
  },
  {
   "cell_type": "markdown",
   "metadata": {},
   "source": [
    "- classes 0 (<5) and 2 (>25) transformed rating variable are not reall well separated"
   ]
  },
  {
   "cell_type": "code",
   "execution_count": 268,
   "metadata": {
    "scrolled": false
   },
   "outputs": [
    {
     "name": "stderr",
     "output_type": "stream",
     "text": [
      "'c' argument looks like a single numeric RGB or RGBA sequence, which should be avoided as value-mapping will have precedence in case its length matches with 'x' & 'y'.  Please use a 2-D array with a single row if you really want to specify the same RGB or RGBA value for all points.\n",
      "'c' argument looks like a single numeric RGB or RGBA sequence, which should be avoided as value-mapping will have precedence in case its length matches with 'x' & 'y'.  Please use a 2-D array with a single row if you really want to specify the same RGB or RGBA value for all points.\n",
      "'c' argument looks like a single numeric RGB or RGBA sequence, which should be avoided as value-mapping will have precedence in case its length matches with 'x' & 'y'.  Please use a 2-D array with a single row if you really want to specify the same RGB or RGBA value for all points.\n"
     ]
    },
    {
     "data": {
      "image/png": "[encoded data removed]",
      "text/plain": [
       "<Figure size 576x396 with 1 Axes>"
      ]
     },
     "metadata": {},
     "output_type": "display_data"
    },
    {
     "data": {
      "text/plain": [
       "<matplotlib.axes._subplots.AxesSubplot at 0x1c2bb4ec90>"
      ]
     },
     "execution_count": 268,
     "metadata": {},
     "output_type": "execute_result"
    }
   ],
   "source": [
    "# Create & visualize vectors, binned rating labels\n",
    "sns.set()\n",
    "tsne = TSNEVisualizer(colormap = 'plasma',decompose = 'svd',decompose_by = 20, alpha  = 0.1)\n",
    "tsne.fit(docs, labels_q)\n",
    "tsne.poof()"
   ]
  },
  {
   "cell_type": "markdown",
   "metadata": {},
   "source": [
    "- looks like this is the best separation while 0 and 2 are still together"
   ]
  },
  {
   "cell_type": "code",
   "execution_count": 182,
   "metadata": {},
   "outputs": [
    {
     "name": "stderr",
     "output_type": "stream",
     "text": [
      "'c' argument looks like a single numeric RGB or RGBA sequence, which should be avoided as value-mapping will have precedence in case its length matches with 'x' & 'y'.  Please use a 2-D array with a single row if you really want to specify the same RGB or RGBA value for all points.\n",
      "'c' argument looks like a single numeric RGB or RGBA sequence, which should be avoided as value-mapping will have precedence in case its length matches with 'x' & 'y'.  Please use a 2-D array with a single row if you really want to specify the same RGB or RGBA value for all points.\n",
      "'c' argument looks like a single numeric RGB or RGBA sequence, which should be avoided as value-mapping will have precedence in case its length matches with 'x' & 'y'.  Please use a 2-D array with a single row if you really want to specify the same RGB or RGBA value for all points.\n",
      "'c' argument looks like a single numeric RGB or RGBA sequence, which should be avoided as value-mapping will have precedence in case its length matches with 'x' & 'y'.  Please use a 2-D array with a single row if you really want to specify the same RGB or RGBA value for all points.\n",
      "'c' argument looks like a single numeric RGB or RGBA sequence, which should be avoided as value-mapping will have precedence in case its length matches with 'x' & 'y'.  Please use a 2-D array with a single row if you really want to specify the same RGB or RGBA value for all points.\n"
     ]
    },
    {
     "data": {
      "image/png": "[encoded data removed]",
      "text/plain": [
       "<Figure size 576x396 with 1 Axes>"
      ]
     },
     "metadata": {},
     "output_type": "display_data"
    },
    {
     "data": {
      "text/plain": [
       "<matplotlib.axes._subplots.AxesSubplot at 0x1c31b71e90>"
      ]
     },
     "execution_count": 182,
     "metadata": {},
     "output_type": "execute_result"
    }
   ],
   "source": [
    "# Create & visualize vectors, use metro areas as lables\n",
    "## no difference in ratings!\n",
    "sns.set()\n",
    "tsne = TSNEVisualizer(colormap = 'plasma',decompose = 'svd',decompose_by = 20, alpha  = 0.1)\n",
    "tsne.fit(docs, labels_city)\n",
    "tsne.poof()"
   ]
  },
  {
   "cell_type": "markdown",
   "metadata": {},
   "source": [
    "#### is it possible that  the more more multipurpose place is the better/worse is the rating?"
   ]
  },
  {
   "cell_type": "code",
   "execution_count": 183,
   "metadata": {},
   "outputs": [
    {
     "data": {
      "text/html": [
       "<div>\n",
       "<style scoped>\n",
       "    .dataframe tbody tr th:only-of-type {\n",
       "        vertical-align: middle;\n",
       "    }\n",
       "\n",
       "    .dataframe tbody tr th {\n",
       "        vertical-align: top;\n",
       "    }\n",
       "\n",
       "    .dataframe thead th {\n",
       "        text-align: right;\n",
       "    }\n",
       "</style>\n",
       "<table border=\"1\" class=\"dataframe\">\n",
       "  <thead>\n",
       "    <tr style=\"text-align: right;\">\n",
       "      <th></th>\n",
       "      <th>city</th>\n",
       "      <th>id</th>\n",
       "      <th>latitude</th>\n",
       "      <th>longitude</th>\n",
       "      <th>name</th>\n",
       "      <th>rating</th>\n",
       "      <th>types</th>\n",
       "      <th>num_types</th>\n",
       "      <th>rating_i</th>\n",
       "      <th>rating_boxcox</th>\n",
       "    </tr>\n",
       "  </thead>\n",
       "  <tbody>\n",
       "    <tr>\n",
       "      <td>0</td>\n",
       "      <td>new york city</td>\n",
       "      <td>b1a0d113cb17d1d85f0e12700dd71f36bddedc54</td>\n",
       "      <td>40.601540</td>\n",
       "      <td>-73.729636</td>\n",
       "      <td>A Bacon Yacht Charter</td>\n",
       "      <td>4.058323</td>\n",
       "      <td>['restaurant', 'food', 'point_of_interest', 'e...</td>\n",
       "      <td>4</td>\n",
       "      <td>4.058323</td>\n",
       "      <td>17.520065</td>\n",
       "    </tr>\n",
       "    <tr>\n",
       "      <td>1</td>\n",
       "      <td>new york city</td>\n",
       "      <td>8799bb8d8ac7c2e1933f92ac1ef0f69a5e0b37c1</td>\n",
       "      <td>40.608921</td>\n",
       "      <td>-73.728256</td>\n",
       "      <td>Mezzanote</td>\n",
       "      <td>4.058323</td>\n",
       "      <td>['restaurant', 'food', 'point_of_interest', 'e...</td>\n",
       "      <td>4</td>\n",
       "      <td>4.058323</td>\n",
       "      <td>17.520065</td>\n",
       "    </tr>\n",
       "    <tr>\n",
       "      <td>2</td>\n",
       "      <td>new york city</td>\n",
       "      <td>f2390680116af4d62e0da6f0432d33e94b9cb0e6</td>\n",
       "      <td>40.616978</td>\n",
       "      <td>-73.730349</td>\n",
       "      <td>Prime Bistro</td>\n",
       "      <td>4.000000</td>\n",
       "      <td>['bar', 'restaurant', 'food', 'point_of_intere...</td>\n",
       "      <td>5</td>\n",
       "      <td>4.000000</td>\n",
       "      <td>16.812052</td>\n",
       "    </tr>\n",
       "    <tr>\n",
       "      <td>3</td>\n",
       "      <td>new york city</td>\n",
       "      <td>e9294eb56025e8eb29b937dc0aca29fd3059b9ab</td>\n",
       "      <td>40.617318</td>\n",
       "      <td>-73.730637</td>\n",
       "      <td>Rita's Ice</td>\n",
       "      <td>4.600000</td>\n",
       "      <td>['restaurant', 'food', 'point_of_interest', 'e...</td>\n",
       "      <td>4</td>\n",
       "      <td>4.600000</td>\n",
       "      <td>25.005362</td>\n",
       "    </tr>\n",
       "    <tr>\n",
       "      <td>4</td>\n",
       "      <td>new york city</td>\n",
       "      <td>5c7b72c7bf9e7bc4f94baf09db1252088087f65d</td>\n",
       "      <td>40.618371</td>\n",
       "      <td>-73.728178</td>\n",
       "      <td>Cho-Sen Island</td>\n",
       "      <td>4.400000</td>\n",
       "      <td>['restaurant', 'food', 'point_of_interest', 'e...</td>\n",
       "      <td>4</td>\n",
       "      <td>4.400000</td>\n",
       "      <td>22.045582</td>\n",
       "    </tr>\n",
       "  </tbody>\n",
       "</table>\n",
       "</div>"
      ],
      "text/plain": [
       "            city                                        id   latitude  \\\n",
       "0  new york city  b1a0d113cb17d1d85f0e12700dd71f36bddedc54  40.601540   \n",
       "1  new york city  8799bb8d8ac7c2e1933f92ac1ef0f69a5e0b37c1  40.608921   \n",
       "2  new york city  f2390680116af4d62e0da6f0432d33e94b9cb0e6  40.616978   \n",
       "3  new york city  e9294eb56025e8eb29b937dc0aca29fd3059b9ab  40.617318   \n",
       "4  new york city  5c7b72c7bf9e7bc4f94baf09db1252088087f65d  40.618371   \n",
       "\n",
       "   longitude                   name    rating  \\\n",
       "0 -73.729636  A Bacon Yacht Charter  4.058323   \n",
       "1 -73.728256              Mezzanote  4.058323   \n",
       "2 -73.730349           Prime Bistro  4.000000   \n",
       "3 -73.730637             Rita's Ice  4.600000   \n",
       "4 -73.728178         Cho-Sen Island  4.400000   \n",
       "\n",
       "                                               types  num_types  rating_i  \\\n",
       "0  ['restaurant', 'food', 'point_of_interest', 'e...          4  4.058323   \n",
       "1  ['restaurant', 'food', 'point_of_interest', 'e...          4  4.058323   \n",
       "2  ['bar', 'restaurant', 'food', 'point_of_intere...          5  4.000000   \n",
       "3  ['restaurant', 'food', 'point_of_interest', 'e...          4  4.600000   \n",
       "4  ['restaurant', 'food', 'point_of_interest', 'e...          4  4.400000   \n",
       "\n",
       "   rating_boxcox  \n",
       "0      17.520065  \n",
       "1      17.520065  \n",
       "2      16.812052  \n",
       "3      25.005362  \n",
       "4      22.045582  "
      ]
     },
     "execution_count": 183,
     "metadata": {},
     "output_type": "execute_result"
    }
   ],
   "source": [
    "df_venuesA.head()"
   ]
  },
  {
   "cell_type": "code",
   "execution_count": 273,
   "metadata": {},
   "outputs": [],
   "source": [
    "#df_venuesA.drop(['rating'], axis=1, inplace=True)"
   ]
  },
  {
   "cell_type": "code",
   "execution_count": 187,
   "metadata": {
    "scrolled": true
   },
   "outputs": [
    {
     "data": {
      "text/html": [
       "<table class=\"simpletable\">\n",
       "<caption>OLS Regression Results</caption>\n",
       "<tr>\n",
       "  <th>Dep. Variable:</th>        <td>rating_i</td>     <th>  R-squared:         </th>  <td>   0.003</td>  \n",
       "</tr>\n",
       "<tr>\n",
       "  <th>Model:</th>                   <td>OLS</td>       <th>  Adj. R-squared:    </th>  <td>   0.003</td>  \n",
       "</tr>\n",
       "<tr>\n",
       "  <th>Method:</th>             <td>Least Squares</td>  <th>  F-statistic:       </th>  <td>   81.07</td>  \n",
       "</tr>\n",
       "<tr>\n",
       "  <th>Date:</th>             <td>Fri, 10 Apr 2020</td> <th>  Prob (F-statistic):</th>  <td>4.86e-151</td> \n",
       "</tr>\n",
       "<tr>\n",
       "  <th>Time:</th>                 <td>00:13:23</td>     <th>  Log-Likelihood:    </th> <td>-2.5167e+05</td>\n",
       "</tr>\n",
       "<tr>\n",
       "  <th>No. Observations:</th>      <td>267958</td>      <th>  AIC:               </th>  <td>5.034e+05</td> \n",
       "</tr>\n",
       "<tr>\n",
       "  <th>Df Residuals:</th>          <td>267948</td>      <th>  BIC:               </th>  <td>5.035e+05</td> \n",
       "</tr>\n",
       "<tr>\n",
       "  <th>Df Model:</th>              <td>     9</td>      <th>                     </th>      <td> </td>     \n",
       "</tr>\n",
       "<tr>\n",
       "  <th>Covariance Type:</th>      <td>nonrobust</td>    <th>                     </th>      <td> </td>     \n",
       "</tr>\n",
       "</table>\n",
       "<table class=\"simpletable\">\n",
       "<tr>\n",
       "                 <td></td>                    <th>coef</th>     <th>std err</th>      <th>t</th>      <th>P>|t|</th>  <th>[0.025</th>    <th>0.975]</th>  \n",
       "</tr>\n",
       "<tr>\n",
       "  <th>Intercept</th>                       <td>    4.2325</td> <td>    0.023</td> <td>  182.097</td> <td> 0.000</td> <td>    4.187</td> <td>    4.278</td>\n",
       "</tr>\n",
       "<tr>\n",
       "  <th>city[T.chicago]</th>                 <td>   -0.1601</td> <td>    0.027</td> <td>   -6.034</td> <td> 0.000</td> <td>   -0.212</td> <td>   -0.108</td>\n",
       "</tr>\n",
       "<tr>\n",
       "  <th>city[T.denver]</th>                  <td>    0.0579</td> <td>    0.027</td> <td>    2.128</td> <td> 0.033</td> <td>    0.005</td> <td>    0.111</td>\n",
       "</tr>\n",
       "<tr>\n",
       "  <th>city[T.new york city]</th>           <td>   -0.1129</td> <td>    0.025</td> <td>   -4.593</td> <td> 0.000</td> <td>   -0.161</td> <td>   -0.065</td>\n",
       "</tr>\n",
       "<tr>\n",
       "  <th>city[T.washington dc]</th>           <td>    0.0440</td> <td>    0.031</td> <td>    1.421</td> <td> 0.155</td> <td>   -0.017</td> <td>    0.105</td>\n",
       "</tr>\n",
       "<tr>\n",
       "  <th>num_types</th>                       <td>   -0.0374</td> <td>    0.006</td> <td>   -6.717</td> <td> 0.000</td> <td>   -0.048</td> <td>   -0.026</td>\n",
       "</tr>\n",
       "<tr>\n",
       "  <th>num_types:city[T.chicago]</th>       <td>    0.0365</td> <td>    0.006</td> <td>    5.658</td> <td> 0.000</td> <td>    0.024</td> <td>    0.049</td>\n",
       "</tr>\n",
       "<tr>\n",
       "  <th>num_types:city[T.denver]</th>        <td>   -0.0264</td> <td>    0.007</td> <td>   -4.035</td> <td> 0.000</td> <td>   -0.039</td> <td>   -0.014</td>\n",
       "</tr>\n",
       "<tr>\n",
       "  <th>num_types:city[T.new york city]</th> <td>    0.0231</td> <td>    0.006</td> <td>    3.920</td> <td> 0.000</td> <td>    0.012</td> <td>    0.035</td>\n",
       "</tr>\n",
       "<tr>\n",
       "  <th>num_types:city[T.washington dc]</th> <td>   -0.0238</td> <td>    0.007</td> <td>   -3.191</td> <td> 0.001</td> <td>   -0.038</td> <td>   -0.009</td>\n",
       "</tr>\n",
       "</table>\n",
       "<table class=\"simpletable\">\n",
       "<tr>\n",
       "  <th>Omnibus:</th>       <td>122273.636</td> <th>  Durbin-Watson:     </th>  <td>   1.909</td> \n",
       "</tr>\n",
       "<tr>\n",
       "  <th>Prob(Omnibus):</th>   <td> 0.000</td>   <th>  Jarque-Bera (JB):  </th> <td>924856.520</td>\n",
       "</tr>\n",
       "<tr>\n",
       "  <th>Skew:</th>            <td>-2.050</td>   <th>  Prob(JB):          </th>  <td>    0.00</td> \n",
       "</tr>\n",
       "<tr>\n",
       "  <th>Kurtosis:</th>        <td>11.126</td>   <th>  Cond. No.          </th>  <td>    226.</td> \n",
       "</tr>\n",
       "</table><br/><br/>Warnings:<br/>[1] Standard Errors assume that the covariance matrix of the errors is correctly specified."
      ],
      "text/plain": [
       "<class 'statsmodels.iolib.summary.Summary'>\n",
       "\"\"\"\n",
       "                            OLS Regression Results                            \n",
       "==============================================================================\n",
       "Dep. Variable:               rating_i   R-squared:                       0.003\n",
       "Model:                            OLS   Adj. R-squared:                  0.003\n",
       "Method:                 Least Squares   F-statistic:                     81.07\n",
       "Date:                Fri, 10 Apr 2020   Prob (F-statistic):          4.86e-151\n",
       "Time:                        00:13:23   Log-Likelihood:            -2.5167e+05\n",
       "No. Observations:              267958   AIC:                         5.034e+05\n",
       "Df Residuals:                  267948   BIC:                         5.035e+05\n",
       "Df Model:                           9                                         \n",
       "Covariance Type:            nonrobust                                         \n",
       "===================================================================================================\n",
       "                                      coef    std err          t      P>|t|      [0.025      0.975]\n",
       "---------------------------------------------------------------------------------------------------\n",
       "Intercept                           4.2325      0.023    182.097      0.000       4.187       4.278\n",
       "city[T.chicago]                    -0.1601      0.027     -6.034      0.000      -0.212      -0.108\n",
       "city[T.denver]                      0.0579      0.027      2.128      0.033       0.005       0.111\n",
       "city[T.new york city]              -0.1129      0.025     -4.593      0.000      -0.161      -0.065\n",
       "city[T.washington dc]               0.0440      0.031      1.421      0.155      -0.017       0.105\n",
       "num_types                          -0.0374      0.006     -6.717      0.000      -0.048      -0.026\n",
       "num_types:city[T.chicago]           0.0365      0.006      5.658      0.000       0.024       0.049\n",
       "num_types:city[T.denver]           -0.0264      0.007     -4.035      0.000      -0.039      -0.014\n",
       "num_types:city[T.new york city]     0.0231      0.006      3.920      0.000       0.012       0.035\n",
       "num_types:city[T.washington dc]    -0.0238      0.007     -3.191      0.001      -0.038      -0.009\n",
       "==============================================================================\n",
       "Omnibus:                   122273.636   Durbin-Watson:                   1.909\n",
       "Prob(Omnibus):                  0.000   Jarque-Bera (JB):           924856.520\n",
       "Skew:                          -2.050   Prob(JB):                         0.00\n",
       "Kurtosis:                      11.126   Cond. No.                         226.\n",
       "==============================================================================\n",
       "\n",
       "Warnings:\n",
       "[1] Standard Errors assume that the covariance matrix of the errors is correctly specified.\n",
       "\"\"\""
      ]
     },
     "execution_count": 187,
     "metadata": {},
     "output_type": "execute_result"
    }
   ],
   "source": [
    "model_ref = smf.ols(formula = \"rating_i ~ num_types*city + city + num_types \", data = df_venuesA).fit()\n",
    "model_ref.summary()"
   ]
  },
  {
   "cell_type": "markdown",
   "metadata": {},
   "source": [
    "- the more multipurpose the place is the worse are the ratings, although the coeddicient is really small\n",
    "- if interaction is added city , the effect more pronounced in NY and Chicago\n"
   ]
  },
  {
   "cell_type": "markdown",
   "metadata": {},
   "source": [
    "### Explore correlations in venues dataset"
   ]
  },
  {
   "cell_type": "code",
   "execution_count": 188,
   "metadata": {
    "scrolled": true
   },
   "outputs": [
    {
     "data": {
      "text/plain": [
       "Index(['city', 'id', 'latitude', 'longitude', 'name', 'rating', 'types',\n",
       "       'num_types', 'rating_i', 'rating_boxcox'],\n",
       "      dtype='object')"
      ]
     },
     "execution_count": 188,
     "metadata": {},
     "output_type": "execute_result"
    }
   ],
   "source": [
    "df_venuesA.columns"
   ]
  },
  {
   "cell_type": "markdown",
   "metadata": {},
   "source": [
    "#### drop rating  and 'types' use label_q : 0,1,2 , add new column 'types_rating'\n",
    "\n"
   ]
  },
  {
   "cell_type": "code",
   "execution_count": 189,
   "metadata": {},
   "outputs": [],
   "source": [
    "df_venuesA.drop(['rating'], axis = 1, inplace = True)"
   ]
  },
  {
   "cell_type": "code",
   "execution_count": 191,
   "metadata": {},
   "outputs": [],
   "source": [
    "df_venuesA.drop(['rating_boxcox'], axis = 1, inplace = True)"
   ]
  },
  {
   "cell_type": "code",
   "execution_count": 202,
   "metadata": {},
   "outputs": [],
   "source": [
    "#\n",
    "df_venuesA.drop(['types'], axis = 1, inplace = True)"
   ]
  },
  {
   "cell_type": "markdown",
   "metadata": {},
   "source": [
    "### correlation matrix for venue DF"
   ]
  },
  {
   "cell_type": "code",
   "execution_count": 203,
   "metadata": {
    "scrolled": true
   },
   "outputs": [
    {
     "data": {
      "text/plain": [
       "rating_i     1.000000\n",
       "latitude     0.021421\n",
       "longitude    0.011016\n",
       "num_types   -0.035124\n",
       "Name: rating_i, dtype: float64"
      ]
     },
     "execution_count": 203,
     "metadata": {},
     "output_type": "execute_result"
    }
   ],
   "source": [
    "corr = df_venuesA.corr()\n",
    "corr['rating_i'].sort_values(ascending = False)"
   ]
  },
  {
   "cell_type": "code",
   "execution_count": null,
   "metadata": {},
   "outputs": [],
   "source": [
    "sns.heatmap()"
   ]
  },
  {
   "cell_type": "code",
   "execution_count": 249,
   "metadata": {},
   "outputs": [],
   "source": [
    "cmap = sns.color_palette('Blues')"
   ]
  },
  {
   "cell_type": "code",
   "execution_count": 250,
   "metadata": {},
   "outputs": [
    {
     "data": {
      "text/plain": [
       "(4.0, 0.0)"
      ]
     },
     "execution_count": 250,
     "metadata": {},
     "output_type": "execute_result"
    },
    {
     "data": {
      "image/png": "[encoded data removed]",
      "text/plain": [
       "<Figure size 576x396 with 2 Axes>"
      ]
     },
     "metadata": {},
     "output_type": "display_data"
    }
   ],
   "source": [
    "import seaborn as sns\n",
    "\n",
    "ax = sns.heatmap(corr, cmap = cmap,annot=True,square = True) \n",
    "bottom, top = ax.get_ylim()\n",
    "ax.set_ylim(bottom + 0.5, top - 0.5)"
   ]
  },
  {
   "cell_type": "markdown",
   "metadata": {},
   "source": [
    "##### Conclusion: \n",
    "- there is no strongly correlated variables\n",
    "- as for the 'types' variable : the more multipurpose the place is the less in its rating"
   ]
  },
  {
   "cell_type": "code",
   "execution_count": 194,
   "metadata": {
    "scrolled": false
   },
   "outputs": [
    {
     "data": {
      "text/plain": [
       "{'boston', 'chicago', 'denver', 'new york city', 'washington dc'}"
      ]
     },
     "execution_count": 194,
     "metadata": {},
     "output_type": "execute_result"
    }
   ],
   "source": [
    "set(df_venuesA.city)"
   ]
  },
  {
   "cell_type": "markdown",
   "metadata": {},
   "source": [
    "### Add 'state' column to venues"
   ]
  },
  {
   "cell_type": "code",
   "execution_count": 195,
   "metadata": {},
   "outputs": [],
   "source": [
    "states = ['NY','CO','IL','MA','DC']\n",
    "metros = ['new york city','denver','chicago','boston','washington dc']"
   ]
  },
  {
   "cell_type": "code",
   "execution_count": 196,
   "metadata": {},
   "outputs": [],
   "source": [
    "def states(m):\n",
    "    if m=='new york city':\n",
    "        return 'NY'\n",
    "    elif m=='denver':\n",
    "        return 'CO'\n",
    "    elif m=='chicago':\n",
    "        return 'IL'\n",
    "    elif m == 'boston':\n",
    "        return 'MA'\n",
    "    else:\n",
    "        return 'DC'\n",
    "   "
   ]
  },
  {
   "cell_type": "code",
   "execution_count": 197,
   "metadata": {},
   "outputs": [],
   "source": [
    "df_venuesA.loc[:,'state'] = df_venuesA.apply(lambda x: states(x.city), axis=1)\n"
   ]
  },
  {
   "cell_type": "code",
   "execution_count": 251,
   "metadata": {
    "scrolled": true
   },
   "outputs": [
    {
     "data": {
      "text/html": [
       "<div>\n",
       "<style scoped>\n",
       "    .dataframe tbody tr th:only-of-type {\n",
       "        vertical-align: middle;\n",
       "    }\n",
       "\n",
       "    .dataframe tbody tr th {\n",
       "        vertical-align: top;\n",
       "    }\n",
       "\n",
       "    .dataframe thead th {\n",
       "        text-align: right;\n",
       "    }\n",
       "</style>\n",
       "<table border=\"1\" class=\"dataframe\">\n",
       "  <thead>\n",
       "    <tr style=\"text-align: right;\">\n",
       "      <th></th>\n",
       "      <th>city</th>\n",
       "      <th>id</th>\n",
       "      <th>latitude</th>\n",
       "      <th>longitude</th>\n",
       "      <th>name</th>\n",
       "      <th>num_types</th>\n",
       "      <th>state</th>\n",
       "      <th>types_rating</th>\n",
       "    </tr>\n",
       "  </thead>\n",
       "  <tbody>\n",
       "    <tr>\n",
       "      <td>0</td>\n",
       "      <td>new york city</td>\n",
       "      <td>b1a0d113cb17d1d85f0e12700dd71f36bddedc54</td>\n",
       "      <td>40.601540</td>\n",
       "      <td>-73.729636</td>\n",
       "      <td>A Bacon Yacht Charter</td>\n",
       "      <td>4</td>\n",
       "      <td>NY</td>\n",
       "      <td>1</td>\n",
       "    </tr>\n",
       "    <tr>\n",
       "      <td>1</td>\n",
       "      <td>new york city</td>\n",
       "      <td>8799bb8d8ac7c2e1933f92ac1ef0f69a5e0b37c1</td>\n",
       "      <td>40.608921</td>\n",
       "      <td>-73.728256</td>\n",
       "      <td>Mezzanote</td>\n",
       "      <td>4</td>\n",
       "      <td>NY</td>\n",
       "      <td>1</td>\n",
       "    </tr>\n",
       "  </tbody>\n",
       "</table>\n",
       "</div>"
      ],
      "text/plain": [
       "            city                                        id   latitude  \\\n",
       "0  new york city  b1a0d113cb17d1d85f0e12700dd71f36bddedc54  40.601540   \n",
       "1  new york city  8799bb8d8ac7c2e1933f92ac1ef0f69a5e0b37c1  40.608921   \n",
       "\n",
       "   longitude                   name  num_types state  types_rating  \n",
       "0 -73.729636  A Bacon Yacht Charter          4    NY             1  \n",
       "1 -73.728256              Mezzanote          4    NY             1  "
      ]
     },
     "execution_count": 251,
     "metadata": {},
     "output_type": "execute_result"
    }
   ],
   "source": [
    "df_venuesA.head(2)"
   ]
  },
  {
   "cell_type": "code",
   "execution_count": 204,
   "metadata": {},
   "outputs": [],
   "source": [
    "\n",
    "types_rating = np.array(bins(df_venuesA,'rating_i',4,4.5))\n",
    "\n",
    "df_venuesA['types_rating'] = types_rating"
   ]
  },
  {
   "cell_type": "code",
   "execution_count": 205,
   "metadata": {},
   "outputs": [],
   "source": [
    "### drop rating_i as it correlates with types_rating\n",
    "df_venuesA.drop(['rating_i'], axis = 1, inplace=True)"
   ]
  },
  {
   "cell_type": "code",
   "execution_count": 206,
   "metadata": {},
   "outputs": [
    {
     "data": {
      "text/html": [
       "<div>\n",
       "<style scoped>\n",
       "    .dataframe tbody tr th:only-of-type {\n",
       "        vertical-align: middle;\n",
       "    }\n",
       "\n",
       "    .dataframe tbody tr th {\n",
       "        vertical-align: top;\n",
       "    }\n",
       "\n",
       "    .dataframe thead th {\n",
       "        text-align: right;\n",
       "    }\n",
       "</style>\n",
       "<table border=\"1\" class=\"dataframe\">\n",
       "  <thead>\n",
       "    <tr style=\"text-align: right;\">\n",
       "      <th></th>\n",
       "      <th>city</th>\n",
       "      <th>id</th>\n",
       "      <th>latitude</th>\n",
       "      <th>longitude</th>\n",
       "      <th>name</th>\n",
       "      <th>num_types</th>\n",
       "      <th>state</th>\n",
       "      <th>types_rating</th>\n",
       "    </tr>\n",
       "  </thead>\n",
       "  <tbody>\n",
       "    <tr>\n",
       "      <td>0</td>\n",
       "      <td>new york city</td>\n",
       "      <td>b1a0d113cb17d1d85f0e12700dd71f36bddedc54</td>\n",
       "      <td>40.601540</td>\n",
       "      <td>-73.729636</td>\n",
       "      <td>A Bacon Yacht Charter</td>\n",
       "      <td>4</td>\n",
       "      <td>NY</td>\n",
       "      <td>1</td>\n",
       "    </tr>\n",
       "    <tr>\n",
       "      <td>1</td>\n",
       "      <td>new york city</td>\n",
       "      <td>8799bb8d8ac7c2e1933f92ac1ef0f69a5e0b37c1</td>\n",
       "      <td>40.608921</td>\n",
       "      <td>-73.728256</td>\n",
       "      <td>Mezzanote</td>\n",
       "      <td>4</td>\n",
       "      <td>NY</td>\n",
       "      <td>1</td>\n",
       "    </tr>\n",
       "    <tr>\n",
       "      <td>2</td>\n",
       "      <td>new york city</td>\n",
       "      <td>f2390680116af4d62e0da6f0432d33e94b9cb0e6</td>\n",
       "      <td>40.616978</td>\n",
       "      <td>-73.730349</td>\n",
       "      <td>Prime Bistro</td>\n",
       "      <td>5</td>\n",
       "      <td>NY</td>\n",
       "      <td>0</td>\n",
       "    </tr>\n",
       "    <tr>\n",
       "      <td>3</td>\n",
       "      <td>new york city</td>\n",
       "      <td>e9294eb56025e8eb29b937dc0aca29fd3059b9ab</td>\n",
       "      <td>40.617318</td>\n",
       "      <td>-73.730637</td>\n",
       "      <td>Rita's Ice</td>\n",
       "      <td>4</td>\n",
       "      <td>NY</td>\n",
       "      <td>2</td>\n",
       "    </tr>\n",
       "    <tr>\n",
       "      <td>4</td>\n",
       "      <td>new york city</td>\n",
       "      <td>5c7b72c7bf9e7bc4f94baf09db1252088087f65d</td>\n",
       "      <td>40.618371</td>\n",
       "      <td>-73.728178</td>\n",
       "      <td>Cho-Sen Island</td>\n",
       "      <td>4</td>\n",
       "      <td>NY</td>\n",
       "      <td>1</td>\n",
       "    </tr>\n",
       "  </tbody>\n",
       "</table>\n",
       "</div>"
      ],
      "text/plain": [
       "            city                                        id   latitude  \\\n",
       "0  new york city  b1a0d113cb17d1d85f0e12700dd71f36bddedc54  40.601540   \n",
       "1  new york city  8799bb8d8ac7c2e1933f92ac1ef0f69a5e0b37c1  40.608921   \n",
       "2  new york city  f2390680116af4d62e0da6f0432d33e94b9cb0e6  40.616978   \n",
       "3  new york city  e9294eb56025e8eb29b937dc0aca29fd3059b9ab  40.617318   \n",
       "4  new york city  5c7b72c7bf9e7bc4f94baf09db1252088087f65d  40.618371   \n",
       "\n",
       "   longitude                   name  num_types state  types_rating  \n",
       "0 -73.729636  A Bacon Yacht Charter          4    NY             1  \n",
       "1 -73.728256              Mezzanote          4    NY             1  \n",
       "2 -73.730349           Prime Bistro          5    NY             0  \n",
       "3 -73.730637             Rita's Ice          4    NY             2  \n",
       "4 -73.728178         Cho-Sen Island          4    NY             1  "
      ]
     },
     "execution_count": 206,
     "metadata": {},
     "output_type": "execute_result"
    }
   ],
   "source": [
    "df_venuesA.head()"
   ]
  },
  {
   "cell_type": "markdown",
   "metadata": {},
   "source": [
    "#### create \"travelers visit Google places\" dataset: will mimic the events dataset"
   ]
  },
  {
   "cell_type": "code",
   "execution_count": 207,
   "metadata": {},
   "outputs": [],
   "source": [
    "events_df = pd.read_csv('data/events_US.csv', encoding = \"ISO-8859-1\")"
   ]
  },
  {
   "cell_type": "code",
   "execution_count": 252,
   "metadata": {
    "scrolled": true
   },
   "outputs": [
    {
     "data": {
      "text/html": [
       "<div>\n",
       "<style scoped>\n",
       "    .dataframe tbody tr th:only-of-type {\n",
       "        vertical-align: middle;\n",
       "    }\n",
       "\n",
       "    .dataframe tbody tr th {\n",
       "        vertical-align: top;\n",
       "    }\n",
       "\n",
       "    .dataframe thead th {\n",
       "        text-align: right;\n",
       "    }\n",
       "</style>\n",
       "<table border=\"1\" class=\"dataframe\">\n",
       "  <thead>\n",
       "    <tr style=\"text-align: right;\">\n",
       "      <th></th>\n",
       "      <th>date</th>\n",
       "      <th>city</th>\n",
       "      <th>state</th>\n",
       "      <th>event_name</th>\n",
       "      <th>quarter</th>\n",
       "    </tr>\n",
       "  </thead>\n",
       "  <tbody>\n",
       "    <tr>\n",
       "      <td>0</td>\n",
       "      <td>2017-02-01</td>\n",
       "      <td>St. Louis</td>\n",
       "      <td>MO</td>\n",
       "      <td>NHL Winter Classic</td>\n",
       "      <td>1</td>\n",
       "    </tr>\n",
       "    <tr>\n",
       "      <td>1</td>\n",
       "      <td>2017-04-01</td>\n",
       "      <td>New York</td>\n",
       "      <td>NY</td>\n",
       "      <td>National Board of Review of Motion Pictures Aw...</td>\n",
       "      <td>2</td>\n",
       "    </tr>\n",
       "    <tr>\n",
       "      <td>2</td>\n",
       "      <td>2017-05-01</td>\n",
       "      <td>New York</td>\n",
       "      <td>NY</td>\n",
       "      <td>Winter Jazzfest NYC</td>\n",
       "      <td>2</td>\n",
       "    </tr>\n",
       "  </tbody>\n",
       "</table>\n",
       "</div>"
      ],
      "text/plain": [
       "        date       city state  \\\n",
       "0 2017-02-01  St. Louis    MO   \n",
       "1 2017-04-01   New York    NY   \n",
       "2 2017-05-01   New York    NY   \n",
       "\n",
       "                                          event_name  quarter  \n",
       "0                                 NHL Winter Classic        1  \n",
       "1  National Board of Review of Motion Pictures Aw...        2  \n",
       "2                                Winter Jazzfest NYC        2  "
      ]
     },
     "execution_count": 252,
     "metadata": {},
     "output_type": "execute_result"
    }
   ],
   "source": [
    "events_df.head(3)"
   ]
  },
  {
   "cell_type": "code",
   "execution_count": 209,
   "metadata": {
    "scrolled": true
   },
   "outputs": [
    {
     "data": {
      "text/html": [
       "<div>\n",
       "<style scoped>\n",
       "    .dataframe tbody tr th:only-of-type {\n",
       "        vertical-align: middle;\n",
       "    }\n",
       "\n",
       "    .dataframe tbody tr th {\n",
       "        vertical-align: top;\n",
       "    }\n",
       "\n",
       "    .dataframe thead th {\n",
       "        text-align: right;\n",
       "    }\n",
       "</style>\n",
       "<table border=\"1\" class=\"dataframe\">\n",
       "  <thead>\n",
       "    <tr style=\"text-align: right;\">\n",
       "      <th></th>\n",
       "      <th>date</th>\n",
       "      <th>city</th>\n",
       "      <th>state</th>\n",
       "      <th>event_name</th>\n",
       "      <th>quarter</th>\n",
       "    </tr>\n",
       "  </thead>\n",
       "  <tbody>\n",
       "    <tr>\n",
       "      <td>0</td>\n",
       "      <td>2017-02-01</td>\n",
       "      <td>St. Louis</td>\n",
       "      <td>MO</td>\n",
       "      <td>NHL Winter Classic</td>\n",
       "      <td>1</td>\n",
       "    </tr>\n",
       "    <tr>\n",
       "      <td>1</td>\n",
       "      <td>2017-04-01</td>\n",
       "      <td>New York</td>\n",
       "      <td>NY</td>\n",
       "      <td>National Board of Review of Motion Pictures Aw...</td>\n",
       "      <td>2</td>\n",
       "    </tr>\n",
       "    <tr>\n",
       "      <td>2</td>\n",
       "      <td>2017-05-01</td>\n",
       "      <td>New York</td>\n",
       "      <td>NY</td>\n",
       "      <td>Winter Jazzfest NYC</td>\n",
       "      <td>2</td>\n",
       "    </tr>\n",
       "  </tbody>\n",
       "</table>\n",
       "</div>"
      ],
      "text/plain": [
       "        date       city state  \\\n",
       "0 2017-02-01  St. Louis    MO   \n",
       "1 2017-04-01   New York    NY   \n",
       "2 2017-05-01   New York    NY   \n",
       "\n",
       "                                          event_name  quarter  \n",
       "0                                 NHL Winter Classic        1  \n",
       "1  National Board of Review of Motion Pictures Aw...        2  \n",
       "2                                Winter Jazzfest NYC        2  "
      ]
     },
     "execution_count": 209,
     "metadata": {},
     "output_type": "execute_result"
    }
   ],
   "source": [
    "events_df['date'] = pd.to_datetime(events_df['date'])\n",
    "### Adding quorter column\n",
    "q = events_df.date.dt.quarter\n",
    "events_df['quarter']=q\n",
    "events_df.head(3)"
   ]
  },
  {
   "cell_type": "code",
   "execution_count": 210,
   "metadata": {},
   "outputs": [
    {
     "data": {
      "text/plain": [
       "(1151, 5)"
      ]
     },
     "execution_count": 210,
     "metadata": {},
     "output_type": "execute_result"
    }
   ],
   "source": [
    "events_df.shape"
   ]
  },
  {
   "cell_type": "code",
   "execution_count": 211,
   "metadata": {},
   "outputs": [],
   "source": [
    "tr_dates = events_df.date.tolist()"
   ]
  },
  {
   "cell_type": "markdown",
   "metadata": {},
   "source": [
    "#### Add tr_dates to the sample of df_venuesA DF with 1151 rows: 'types_rating_sample'"
   ]
  },
  {
   "cell_type": "markdown",
   "metadata": {},
   "source": [
    "### Take a sample from engineered df_venuesA DF:\n"
   ]
  },
  {
   "cell_type": "code",
   "execution_count": 212,
   "metadata": {},
   "outputs": [],
   "source": [
    "df_venuesA_1151 = df_venuesA.sample(1151, random_state=1)"
   ]
  },
  {
   "cell_type": "code",
   "execution_count": 213,
   "metadata": {},
   "outputs": [],
   "source": [
    "df_venuesA_1151['date']=tr_dates"
   ]
  },
  {
   "cell_type": "code",
   "execution_count": 214,
   "metadata": {},
   "outputs": [],
   "source": [
    "tr_df = df_venuesA_1151"
   ]
  },
  {
   "cell_type": "code",
   "execution_count": 215,
   "metadata": {
    "scrolled": false
   },
   "outputs": [
    {
     "data": {
      "text/html": [
       "<div>\n",
       "<style scoped>\n",
       "    .dataframe tbody tr th:only-of-type {\n",
       "        vertical-align: middle;\n",
       "    }\n",
       "\n",
       "    .dataframe tbody tr th {\n",
       "        vertical-align: top;\n",
       "    }\n",
       "\n",
       "    .dataframe thead th {\n",
       "        text-align: right;\n",
       "    }\n",
       "</style>\n",
       "<table border=\"1\" class=\"dataframe\">\n",
       "  <thead>\n",
       "    <tr style=\"text-align: right;\">\n",
       "      <th></th>\n",
       "      <th>city</th>\n",
       "      <th>id</th>\n",
       "      <th>latitude</th>\n",
       "      <th>longitude</th>\n",
       "      <th>name</th>\n",
       "      <th>num_types</th>\n",
       "      <th>state</th>\n",
       "      <th>types_rating</th>\n",
       "      <th>date</th>\n",
       "    </tr>\n",
       "  </thead>\n",
       "  <tbody>\n",
       "    <tr>\n",
       "      <td>171794</td>\n",
       "      <td>chicago</td>\n",
       "      <td>2622c79ed752724e7f4f691c185be6aeee145344</td>\n",
       "      <td>41.949237</td>\n",
       "      <td>-87.654804</td>\n",
       "      <td>Wrigley Rooftops 1010 West Waveland</td>\n",
       "      <td>5</td>\n",
       "      <td>IL</td>\n",
       "      <td>0</td>\n",
       "      <td>2017-02-01</td>\n",
       "    </tr>\n",
       "    <tr>\n",
       "      <td>91296</td>\n",
       "      <td>new york city</td>\n",
       "      <td>1d4e080afa70d25050471feb96c8154455b91f6d</td>\n",
       "      <td>40.756259</td>\n",
       "      <td>-73.986508</td>\n",
       "      <td>Walgreens Pharmacy</td>\n",
       "      <td>5</td>\n",
       "      <td>NY</td>\n",
       "      <td>0</td>\n",
       "      <td>2017-04-01</td>\n",
       "    </tr>\n",
       "    <tr>\n",
       "      <td>128280</td>\n",
       "      <td>new york city</td>\n",
       "      <td>cba18363393cad37acdd3c5246e4c4738be153e0</td>\n",
       "      <td>40.811669</td>\n",
       "      <td>-73.944428</td>\n",
       "      <td>Harlem Your Way Tours Unlimited</td>\n",
       "      <td>3</td>\n",
       "      <td>NY</td>\n",
       "      <td>1</td>\n",
       "      <td>2017-05-01</td>\n",
       "    </tr>\n",
       "    <tr>\n",
       "      <td>265518</td>\n",
       "      <td>washington dc</td>\n",
       "      <td>3adf58a2e8c0bc1996c669df31cef1b145696647</td>\n",
       "      <td>38.989005</td>\n",
       "      <td>-77.070891</td>\n",
       "      <td>East-West Hwy &amp; Brookeville Rd</td>\n",
       "      <td>4</td>\n",
       "      <td>DC</td>\n",
       "      <td>1</td>\n",
       "      <td>2017-05-01</td>\n",
       "    </tr>\n",
       "    <tr>\n",
       "      <td>262961</td>\n",
       "      <td>washington dc</td>\n",
       "      <td>b0a227a0bf0d80695cb7d4355bc85d3b3e42bb86</td>\n",
       "      <td>38.893633</td>\n",
       "      <td>-76.985282</td>\n",
       "      <td>C St NE &amp; 14th St NE</td>\n",
       "      <td>4</td>\n",
       "      <td>DC</td>\n",
       "      <td>1</td>\n",
       "      <td>2017-05-01</td>\n",
       "    </tr>\n",
       "  </tbody>\n",
       "</table>\n",
       "</div>"
      ],
      "text/plain": [
       "                 city                                        id   latitude  \\\n",
       "171794        chicago  2622c79ed752724e7f4f691c185be6aeee145344  41.949237   \n",
       "91296   new york city  1d4e080afa70d25050471feb96c8154455b91f6d  40.756259   \n",
       "128280  new york city  cba18363393cad37acdd3c5246e4c4738be153e0  40.811669   \n",
       "265518  washington dc  3adf58a2e8c0bc1996c669df31cef1b145696647  38.989005   \n",
       "262961  washington dc  b0a227a0bf0d80695cb7d4355bc85d3b3e42bb86  38.893633   \n",
       "\n",
       "        longitude                                 name  num_types state  \\\n",
       "171794 -87.654804  Wrigley Rooftops 1010 West Waveland          5    IL   \n",
       "91296  -73.986508                   Walgreens Pharmacy          5    NY   \n",
       "128280 -73.944428      Harlem Your Way Tours Unlimited          3    NY   \n",
       "265518 -77.070891       East-West Hwy & Brookeville Rd          4    DC   \n",
       "262961 -76.985282                 C St NE & 14th St NE          4    DC   \n",
       "\n",
       "        types_rating       date  \n",
       "171794             0 2017-02-01  \n",
       "91296              0 2017-04-01  \n",
       "128280             1 2017-05-01  \n",
       "265518             1 2017-05-01  \n",
       "262961             1 2017-05-01  "
      ]
     },
     "execution_count": 215,
     "metadata": {},
     "output_type": "execute_result"
    }
   ],
   "source": [
    "tr_df.head()"
   ]
  },
  {
   "cell_type": "code",
   "execution_count": 216,
   "metadata": {},
   "outputs": [],
   "source": [
    "## Rename column 'name ' to 'destination'\n",
    "tr_df.rename(columns={'name':'destination'}, inplace=True)"
   ]
  },
  {
   "cell_type": "code",
   "execution_count": 217,
   "metadata": {
    "scrolled": true
   },
   "outputs": [
    {
     "data": {
      "text/html": [
       "<div>\n",
       "<style scoped>\n",
       "    .dataframe tbody tr th:only-of-type {\n",
       "        vertical-align: middle;\n",
       "    }\n",
       "\n",
       "    .dataframe tbody tr th {\n",
       "        vertical-align: top;\n",
       "    }\n",
       "\n",
       "    .dataframe thead th {\n",
       "        text-align: right;\n",
       "    }\n",
       "</style>\n",
       "<table border=\"1\" class=\"dataframe\">\n",
       "  <thead>\n",
       "    <tr style=\"text-align: right;\">\n",
       "      <th></th>\n",
       "      <th>city</th>\n",
       "      <th>id</th>\n",
       "      <th>latitude</th>\n",
       "      <th>longitude</th>\n",
       "      <th>destination</th>\n",
       "      <th>num_types</th>\n",
       "      <th>state</th>\n",
       "      <th>types_rating</th>\n",
       "      <th>date</th>\n",
       "    </tr>\n",
       "  </thead>\n",
       "  <tbody>\n",
       "    <tr>\n",
       "      <td>171794</td>\n",
       "      <td>chicago</td>\n",
       "      <td>2622c79ed752724e7f4f691c185be6aeee145344</td>\n",
       "      <td>41.949237</td>\n",
       "      <td>-87.654804</td>\n",
       "      <td>Wrigley Rooftops 1010 West Waveland</td>\n",
       "      <td>5</td>\n",
       "      <td>IL</td>\n",
       "      <td>0</td>\n",
       "      <td>2017-02-01</td>\n",
       "    </tr>\n",
       "    <tr>\n",
       "      <td>91296</td>\n",
       "      <td>new york city</td>\n",
       "      <td>1d4e080afa70d25050471feb96c8154455b91f6d</td>\n",
       "      <td>40.756259</td>\n",
       "      <td>-73.986508</td>\n",
       "      <td>Walgreens Pharmacy</td>\n",
       "      <td>5</td>\n",
       "      <td>NY</td>\n",
       "      <td>0</td>\n",
       "      <td>2017-04-01</td>\n",
       "    </tr>\n",
       "    <tr>\n",
       "      <td>128280</td>\n",
       "      <td>new york city</td>\n",
       "      <td>cba18363393cad37acdd3c5246e4c4738be153e0</td>\n",
       "      <td>40.811669</td>\n",
       "      <td>-73.944428</td>\n",
       "      <td>Harlem Your Way Tours Unlimited</td>\n",
       "      <td>3</td>\n",
       "      <td>NY</td>\n",
       "      <td>1</td>\n",
       "      <td>2017-05-01</td>\n",
       "    </tr>\n",
       "  </tbody>\n",
       "</table>\n",
       "</div>"
      ],
      "text/plain": [
       "                 city                                        id   latitude  \\\n",
       "171794        chicago  2622c79ed752724e7f4f691c185be6aeee145344  41.949237   \n",
       "91296   new york city  1d4e080afa70d25050471feb96c8154455b91f6d  40.756259   \n",
       "128280  new york city  cba18363393cad37acdd3c5246e4c4738be153e0  40.811669   \n",
       "\n",
       "        longitude                          destination  num_types state  \\\n",
       "171794 -87.654804  Wrigley Rooftops 1010 West Waveland          5    IL   \n",
       "91296  -73.986508                   Walgreens Pharmacy          5    NY   \n",
       "128280 -73.944428      Harlem Your Way Tours Unlimited          3    NY   \n",
       "\n",
       "        types_rating       date  \n",
       "171794             0 2017-02-01  \n",
       "91296              0 2017-04-01  \n",
       "128280             1 2017-05-01  "
      ]
     },
     "execution_count": 217,
     "metadata": {},
     "output_type": "execute_result"
    }
   ],
   "source": [
    "tr_df.head(3)"
   ]
  },
  {
   "cell_type": "markdown",
   "metadata": {},
   "source": [
    "### Save traveller database :"
   ]
  },
  {
   "cell_type": "code",
   "execution_count": 311,
   "metadata": {},
   "outputs": [],
   "source": [
    "#tr_df.to_csv(\"data/travelers.csv\", index=False)"
   ]
  },
  {
   "cell_type": "markdown",
   "metadata": {},
   "source": [
    "##### Looking at venues and listing data: 'city' and 'metropolitan' variables "
   ]
  },
  {
   "cell_type": "code",
   "execution_count": 312,
   "metadata": {
    "scrolled": false
   },
   "outputs": [
    {
     "name": "stdout",
     "output_type": "stream",
     "text": [
      "venues DF city column is correspondng to metro areas of listing DF\n",
      "venue DF city column uniques: ['new york city' 'denver' 'chicago' 'boston' 'washington dc']\n",
      "listing DF metropolitan column  uniques ['NYC' 'denver' 'chicago' 'boston' 'dc']\n"
     ]
    }
   ],
   "source": [
    "\n",
    "df_venues_city_unique = pd.unique(df_venuesA.city)\n",
    "df_L_metro_unique = pd.unique(df_L.metropolitan)\n",
    "print('venues DF city column is correspondng to metro areas of listing DF')\n",
    "print('venue DF city column uniques:',df_venues_city_unique)\n",
    "print('listing DF metropolitan column  uniques', df_L_metro_unique)"
   ]
  },
  {
   "cell_type": "markdown",
   "metadata": {},
   "source": [
    "## Listings"
   ]
  },
  {
   "cell_type": "code",
   "execution_count": 8,
   "metadata": {},
   "outputs": [],
   "source": [
    "## create a copy of df:\n",
    "df=df_L.copy()\n"
   ]
  },
  {
   "cell_type": "code",
   "execution_count": 9,
   "metadata": {
    "scrolled": true
   },
   "outputs": [
    {
     "data": {
      "text/plain": [
       "Index(['accommodates', 'amenities', 'availability_30', 'bathrooms', 'bed_type',\n",
       "       'bedrooms', 'beds', 'cancellation_policy', 'city', 'has_availability',\n",
       "       'host_id', 'id', 'instant_bookable', 'latitude', 'longitude',\n",
       "       'metropolitan', 'name', 'price', 'property_type',\n",
       "       'review_scores_checkin', 'review_scores_cleanliness',\n",
       "       'review_scores_communication', 'review_scores_location',\n",
       "       'review_scores_rating', 'review_scores_value', 'room_type', 'state',\n",
       "       'weekly_price', 'zipcode'],\n",
       "      dtype='object')"
      ]
     },
     "execution_count": 9,
     "metadata": {},
     "output_type": "execute_result"
    }
   ],
   "source": [
    "df.columns"
   ]
  },
  {
   "cell_type": "code",
   "execution_count": 10,
   "metadata": {
    "scrolled": false
   },
   "outputs": [
    {
     "data": {
      "text/plain": [
       "(59824, 29)"
      ]
     },
     "execution_count": 10,
     "metadata": {},
     "output_type": "execute_result"
    }
   ],
   "source": [
    "df.shape"
   ]
  },
  {
   "cell_type": "markdown",
   "metadata": {},
   "source": [
    "#### Check NaNs "
   ]
  },
  {
   "cell_type": "code",
   "execution_count": 11,
   "metadata": {
    "scrolled": true
   },
   "outputs": [
    {
     "data": {
      "text/plain": [
       "accommodates                      61\n",
       "availability_30                    0\n",
       "bathrooms                        202\n",
       "bedrooms                          95\n",
       "beds                             109\n",
       "has_availability               59824\n",
       "host_id                            0\n",
       "id                                 0\n",
       "latitude                           0\n",
       "longitude                          0\n",
       "price                              0\n",
       "review_scores_checkin          14346\n",
       "review_scores_cleanliness      14280\n",
       "review_scores_communication    14285\n",
       "review_scores_location         14349\n",
       "review_scores_rating           14200\n",
       "review_scores_value            14354\n",
       "weekly_price                   46386\n",
       "dtype: int64"
      ]
     },
     "execution_count": 11,
     "metadata": {},
     "output_type": "execute_result"
    }
   ],
   "source": [
    "df._get_numeric_data().isna().sum()"
   ]
  },
  {
   "cell_type": "markdown",
   "metadata": {},
   "source": [
    "#### replace the NaNs in reviews columns with median per column value"
   ]
  },
  {
   "cell_type": "code",
   "execution_count": 12,
   "metadata": {},
   "outputs": [],
   "source": [
    "reviews_list = ['review_scores_checkin','review_scores_cleanliness',\n",
    "                'review_scores_communication','review_scores_location',        \n",
    "                'review_scores_rating','review_scores_value']   "
   ]
  },
  {
   "cell_type": "code",
   "execution_count": 13,
   "metadata": {},
   "outputs": [],
   "source": [
    "for k in reviews_list:\n",
    "    df[k] = df[k].fillna(df[k].median())\n"
   ]
  },
  {
   "cell_type": "code",
   "execution_count": 14,
   "metadata": {
    "scrolled": false
   },
   "outputs": [
    {
     "data": {
      "text/plain": [
       "accommodates                      61\n",
       "availability_30                    0\n",
       "bathrooms                        202\n",
       "bedrooms                          95\n",
       "beds                             109\n",
       "has_availability               59824\n",
       "host_id                            0\n",
       "id                                 0\n",
       "latitude                           0\n",
       "longitude                          0\n",
       "price                              0\n",
       "review_scores_checkin              0\n",
       "review_scores_cleanliness          0\n",
       "review_scores_communication        0\n",
       "review_scores_location             0\n",
       "review_scores_rating               0\n",
       "review_scores_value                0\n",
       "weekly_price                   46386\n",
       "dtype: int64"
      ]
     },
     "execution_count": 14,
     "metadata": {},
     "output_type": "execute_result"
    }
   ],
   "source": [
    "df._get_numeric_data().isna().sum()"
   ]
  },
  {
   "cell_type": "markdown",
   "metadata": {},
   "source": [
    "#### impute other variables with mean value:"
   ]
  },
  {
   "cell_type": "code",
   "execution_count": 15,
   "metadata": {},
   "outputs": [],
   "source": [
    "other_list = ['accommodates','bathrooms','bedrooms','bedrooms','beds','weekly_price']\n",
    "for i in other_list:\n",
    "    df[i] = df[i].fillna(df[i].mean())\n",
    "\n"
   ]
  },
  {
   "cell_type": "code",
   "execution_count": 16,
   "metadata": {
    "scrolled": true
   },
   "outputs": [
    {
     "data": {
      "text/plain": [
       "accommodates                       0\n",
       "availability_30                    0\n",
       "bathrooms                          0\n",
       "bedrooms                           0\n",
       "beds                               0\n",
       "has_availability               59824\n",
       "host_id                            0\n",
       "id                                 0\n",
       "latitude                           0\n",
       "longitude                          0\n",
       "price                              0\n",
       "review_scores_checkin              0\n",
       "review_scores_cleanliness          0\n",
       "review_scores_communication        0\n",
       "review_scores_location             0\n",
       "review_scores_rating               0\n",
       "review_scores_value                0\n",
       "weekly_price                       0\n",
       "dtype: int64"
      ]
     },
     "execution_count": 16,
     "metadata": {},
     "output_type": "execute_result"
    }
   ],
   "source": [
    "df._get_numeric_data().isna().sum()"
   ]
  },
  {
   "cell_type": "code",
   "execution_count": 17,
   "metadata": {},
   "outputs": [],
   "source": [
    "df.drop(['has_availability'], axis = 1, inplace = True)"
   ]
  },
  {
   "cell_type": "code",
   "execution_count": 18,
   "metadata": {
    "scrolled": false
   },
   "outputs": [
    {
     "data": {
      "text/plain": [
       "accommodates                   0\n",
       "availability_30                0\n",
       "bathrooms                      0\n",
       "bedrooms                       0\n",
       "beds                           0\n",
       "host_id                        0\n",
       "id                             0\n",
       "latitude                       0\n",
       "longitude                      0\n",
       "price                          0\n",
       "review_scores_checkin          0\n",
       "review_scores_cleanliness      0\n",
       "review_scores_communication    0\n",
       "review_scores_location         0\n",
       "review_scores_rating           0\n",
       "review_scores_value            0\n",
       "weekly_price                   0\n",
       "dtype: int64"
      ]
     },
     "execution_count": 18,
     "metadata": {},
     "output_type": "execute_result"
    }
   ],
   "source": [
    "df._get_numeric_data().isna().sum()"
   ]
  },
  {
   "cell_type": "code",
   "execution_count": 19,
   "metadata": {},
   "outputs": [],
   "source": [
    "cat = ['amenities', 'bed_type', 'cancellation_policy','instant_bookable','metropolitan',\n",
    "       'property_type', 'room_type']"
   ]
  },
  {
   "cell_type": "code",
   "execution_count": 20,
   "metadata": {
    "scrolled": false
   },
   "outputs": [
    {
     "data": {
      "text/plain": [
       "amenities              0\n",
       "bed_type               0\n",
       "cancellation_policy    0\n",
       "instant_bookable       0\n",
       "metropolitan           0\n",
       "property_type          4\n",
       "room_type              0\n",
       "dtype: int64"
      ]
     },
     "execution_count": 20,
     "metadata": {},
     "output_type": "execute_result"
    }
   ],
   "source": [
    "df[cat].isna().sum()"
   ]
  },
  {
   "cell_type": "code",
   "execution_count": 21,
   "metadata": {},
   "outputs": [
    {
     "data": {
      "text/html": [
       "<div>\n",
       "<style scoped>\n",
       "    .dataframe tbody tr th:only-of-type {\n",
       "        vertical-align: middle;\n",
       "    }\n",
       "\n",
       "    .dataframe tbody tr th {\n",
       "        vertical-align: top;\n",
       "    }\n",
       "\n",
       "    .dataframe thead th {\n",
       "        text-align: right;\n",
       "    }\n",
       "</style>\n",
       "<table border=\"1\" class=\"dataframe\">\n",
       "  <thead>\n",
       "    <tr style=\"text-align: right;\">\n",
       "      <th></th>\n",
       "      <th>accommodates</th>\n",
       "      <th>amenities</th>\n",
       "      <th>availability_30</th>\n",
       "      <th>bathrooms</th>\n",
       "      <th>bed_type</th>\n",
       "      <th>bedrooms</th>\n",
       "      <th>beds</th>\n",
       "      <th>cancellation_policy</th>\n",
       "      <th>city</th>\n",
       "      <th>host_id</th>\n",
       "      <th>...</th>\n",
       "      <th>review_scores_checkin</th>\n",
       "      <th>review_scores_cleanliness</th>\n",
       "      <th>review_scores_communication</th>\n",
       "      <th>review_scores_location</th>\n",
       "      <th>review_scores_rating</th>\n",
       "      <th>review_scores_value</th>\n",
       "      <th>room_type</th>\n",
       "      <th>state</th>\n",
       "      <th>weekly_price</th>\n",
       "      <th>zipcode</th>\n",
       "    </tr>\n",
       "  </thead>\n",
       "  <tbody>\n",
       "    <tr>\n",
       "      <td>0</td>\n",
       "      <td>2.0</td>\n",
       "      <td>{\"Cable TV\",\"Wireless Internet\",\"Air condition...</td>\n",
       "      <td>24</td>\n",
       "      <td>1.0</td>\n",
       "      <td>Real Bed</td>\n",
       "      <td>1.0</td>\n",
       "      <td>1.0</td>\n",
       "      <td>moderate</td>\n",
       "      <td>sunnysidebronx</td>\n",
       "      <td>119445</td>\n",
       "      <td>...</td>\n",
       "      <td>10.0</td>\n",
       "      <td>10.0</td>\n",
       "      <td>10.0</td>\n",
       "      <td>10.0</td>\n",
       "      <td>100.0</td>\n",
       "      <td>10.0</td>\n",
       "      <td>Private room</td>\n",
       "      <td>NY</td>\n",
       "      <td>856.471201</td>\n",
       "      <td>10464</td>\n",
       "    </tr>\n",
       "    <tr>\n",
       "      <td>1</td>\n",
       "      <td>4.0</td>\n",
       "      <td>{TV,Internet,\"Wireless Internet\",\"Air conditio...</td>\n",
       "      <td>30</td>\n",
       "      <td>1.0</td>\n",
       "      <td>Real Bed</td>\n",
       "      <td>1.0</td>\n",
       "      <td>1.0</td>\n",
       "      <td>flexible</td>\n",
       "      <td>sunnysidebronx</td>\n",
       "      <td>9117975</td>\n",
       "      <td>...</td>\n",
       "      <td>10.0</td>\n",
       "      <td>10.0</td>\n",
       "      <td>10.0</td>\n",
       "      <td>10.0</td>\n",
       "      <td>96.0</td>\n",
       "      <td>10.0</td>\n",
       "      <td>Private room</td>\n",
       "      <td>NY</td>\n",
       "      <td>856.471201</td>\n",
       "      <td>10464</td>\n",
       "    </tr>\n",
       "    <tr>\n",
       "      <td>2</td>\n",
       "      <td>4.0</td>\n",
       "      <td>{TV,\"Cable TV\",Internet,\"Wireless Internet\",\"A...</td>\n",
       "      <td>30</td>\n",
       "      <td>3.0</td>\n",
       "      <td>Real Bed</td>\n",
       "      <td>3.0</td>\n",
       "      <td>3.0</td>\n",
       "      <td>strict</td>\n",
       "      <td>sunnysidebronx</td>\n",
       "      <td>9815788</td>\n",
       "      <td>...</td>\n",
       "      <td>10.0</td>\n",
       "      <td>10.0</td>\n",
       "      <td>10.0</td>\n",
       "      <td>10.0</td>\n",
       "      <td>96.0</td>\n",
       "      <td>10.0</td>\n",
       "      <td>Entire home/apt</td>\n",
       "      <td>NY</td>\n",
       "      <td>856.471201</td>\n",
       "      <td>10464</td>\n",
       "    </tr>\n",
       "    <tr>\n",
       "      <td>3</td>\n",
       "      <td>3.0</td>\n",
       "      <td>{TV,Internet,\"Wireless Internet\",\"Air conditio...</td>\n",
       "      <td>8</td>\n",
       "      <td>1.0</td>\n",
       "      <td>Real Bed</td>\n",
       "      <td>1.0</td>\n",
       "      <td>1.0</td>\n",
       "      <td>strict</td>\n",
       "      <td>long island city</td>\n",
       "      <td>13886510</td>\n",
       "      <td>...</td>\n",
       "      <td>10.0</td>\n",
       "      <td>10.0</td>\n",
       "      <td>10.0</td>\n",
       "      <td>10.0</td>\n",
       "      <td>93.0</td>\n",
       "      <td>10.0</td>\n",
       "      <td>Entire home/apt</td>\n",
       "      <td>NY</td>\n",
       "      <td>775.000000</td>\n",
       "      <td>10464</td>\n",
       "    </tr>\n",
       "    <tr>\n",
       "      <td>4</td>\n",
       "      <td>4.0</td>\n",
       "      <td>{Internet,\"Wireless Internet\",\"Air conditionin...</td>\n",
       "      <td>17</td>\n",
       "      <td>1.0</td>\n",
       "      <td>Real Bed</td>\n",
       "      <td>1.0</td>\n",
       "      <td>1.0</td>\n",
       "      <td>moderate</td>\n",
       "      <td>sunnysidebronx</td>\n",
       "      <td>28811542</td>\n",
       "      <td>...</td>\n",
       "      <td>10.0</td>\n",
       "      <td>10.0</td>\n",
       "      <td>10.0</td>\n",
       "      <td>10.0</td>\n",
       "      <td>97.0</td>\n",
       "      <td>10.0</td>\n",
       "      <td>Private room</td>\n",
       "      <td>NY</td>\n",
       "      <td>350.000000</td>\n",
       "      <td>10464</td>\n",
       "    </tr>\n",
       "    <tr>\n",
       "      <td>...</td>\n",
       "      <td>...</td>\n",
       "      <td>...</td>\n",
       "      <td>...</td>\n",
       "      <td>...</td>\n",
       "      <td>...</td>\n",
       "      <td>...</td>\n",
       "      <td>...</td>\n",
       "      <td>...</td>\n",
       "      <td>...</td>\n",
       "      <td>...</td>\n",
       "      <td>...</td>\n",
       "      <td>...</td>\n",
       "      <td>...</td>\n",
       "      <td>...</td>\n",
       "      <td>...</td>\n",
       "      <td>...</td>\n",
       "      <td>...</td>\n",
       "      <td>...</td>\n",
       "      <td>...</td>\n",
       "      <td>...</td>\n",
       "      <td>...</td>\n",
       "    </tr>\n",
       "    <tr>\n",
       "      <td>59819</td>\n",
       "      <td>2.0</td>\n",
       "      <td>{Internet,\"Wireless Internet\",\"Air conditionin...</td>\n",
       "      <td>0</td>\n",
       "      <td>1.0</td>\n",
       "      <td>Real Bed</td>\n",
       "      <td>1.0</td>\n",
       "      <td>1.0</td>\n",
       "      <td>flexible</td>\n",
       "      <td>silver spring</td>\n",
       "      <td>84708427</td>\n",
       "      <td>...</td>\n",
       "      <td>9.0</td>\n",
       "      <td>8.0</td>\n",
       "      <td>9.0</td>\n",
       "      <td>8.0</td>\n",
       "      <td>80.0</td>\n",
       "      <td>9.0</td>\n",
       "      <td>Private room</td>\n",
       "      <td>MD</td>\n",
       "      <td>856.471201</td>\n",
       "      <td>20910</td>\n",
       "    </tr>\n",
       "    <tr>\n",
       "      <td>59820</td>\n",
       "      <td>5.0</td>\n",
       "      <td>{TV,\"Cable TV\",\"Wireless Internet\",\"Air condit...</td>\n",
       "      <td>20</td>\n",
       "      <td>1.0</td>\n",
       "      <td>Real Bed</td>\n",
       "      <td>1.0</td>\n",
       "      <td>2.0</td>\n",
       "      <td>flexible</td>\n",
       "      <td>bethesda</td>\n",
       "      <td>16290768</td>\n",
       "      <td>...</td>\n",
       "      <td>10.0</td>\n",
       "      <td>10.0</td>\n",
       "      <td>10.0</td>\n",
       "      <td>10.0</td>\n",
       "      <td>96.0</td>\n",
       "      <td>10.0</td>\n",
       "      <td>Entire home/apt</td>\n",
       "      <td>MD</td>\n",
       "      <td>856.471201</td>\n",
       "      <td>20816</td>\n",
       "    </tr>\n",
       "    <tr>\n",
       "      <td>59821</td>\n",
       "      <td>6.0</td>\n",
       "      <td>{TV,Internet,\"Wireless Internet\",\"Air conditio...</td>\n",
       "      <td>13</td>\n",
       "      <td>1.0</td>\n",
       "      <td>Real Bed</td>\n",
       "      <td>1.0</td>\n",
       "      <td>3.0</td>\n",
       "      <td>strict</td>\n",
       "      <td>temple hills</td>\n",
       "      <td>31818247</td>\n",
       "      <td>...</td>\n",
       "      <td>10.0</td>\n",
       "      <td>10.0</td>\n",
       "      <td>10.0</td>\n",
       "      <td>10.0</td>\n",
       "      <td>96.0</td>\n",
       "      <td>10.0</td>\n",
       "      <td>Private room</td>\n",
       "      <td>MD</td>\n",
       "      <td>856.471201</td>\n",
       "      <td>20748</td>\n",
       "    </tr>\n",
       "    <tr>\n",
       "      <td>59822</td>\n",
       "      <td>2.0</td>\n",
       "      <td>{TV,\"Cable TV\",Internet,\"Wireless Internet\",\"A...</td>\n",
       "      <td>12</td>\n",
       "      <td>1.0</td>\n",
       "      <td>Real Bed</td>\n",
       "      <td>1.0</td>\n",
       "      <td>1.0</td>\n",
       "      <td>moderate</td>\n",
       "      <td>silver spring</td>\n",
       "      <td>41071649</td>\n",
       "      <td>...</td>\n",
       "      <td>10.0</td>\n",
       "      <td>9.0</td>\n",
       "      <td>10.0</td>\n",
       "      <td>10.0</td>\n",
       "      <td>100.0</td>\n",
       "      <td>10.0</td>\n",
       "      <td>Entire home/apt</td>\n",
       "      <td>MD</td>\n",
       "      <td>856.471201</td>\n",
       "      <td>20910</td>\n",
       "    </tr>\n",
       "    <tr>\n",
       "      <td>59823</td>\n",
       "      <td>2.0</td>\n",
       "      <td>{TV,Internet,\"Wireless Internet\",\"Air conditio...</td>\n",
       "      <td>24</td>\n",
       "      <td>1.0</td>\n",
       "      <td>Real Bed</td>\n",
       "      <td>1.0</td>\n",
       "      <td>1.0</td>\n",
       "      <td>flexible</td>\n",
       "      <td>capitol heights</td>\n",
       "      <td>23405709</td>\n",
       "      <td>...</td>\n",
       "      <td>10.0</td>\n",
       "      <td>10.0</td>\n",
       "      <td>10.0</td>\n",
       "      <td>10.0</td>\n",
       "      <td>96.0</td>\n",
       "      <td>10.0</td>\n",
       "      <td>Private room</td>\n",
       "      <td>MD</td>\n",
       "      <td>856.471201</td>\n",
       "      <td>20743</td>\n",
       "    </tr>\n",
       "  </tbody>\n",
       "</table>\n",
       "<p>58914 rows × 28 columns</p>\n",
       "</div>"
      ],
      "text/plain": [
       "       accommodates                                          amenities  \\\n",
       "0               2.0  {\"Cable TV\",\"Wireless Internet\",\"Air condition...   \n",
       "1               4.0  {TV,Internet,\"Wireless Internet\",\"Air conditio...   \n",
       "2               4.0  {TV,\"Cable TV\",Internet,\"Wireless Internet\",\"A...   \n",
       "3               3.0  {TV,Internet,\"Wireless Internet\",\"Air conditio...   \n",
       "4               4.0  {Internet,\"Wireless Internet\",\"Air conditionin...   \n",
       "...             ...                                                ...   \n",
       "59819           2.0  {Internet,\"Wireless Internet\",\"Air conditionin...   \n",
       "59820           5.0  {TV,\"Cable TV\",\"Wireless Internet\",\"Air condit...   \n",
       "59821           6.0  {TV,Internet,\"Wireless Internet\",\"Air conditio...   \n",
       "59822           2.0  {TV,\"Cable TV\",Internet,\"Wireless Internet\",\"A...   \n",
       "59823           2.0  {TV,Internet,\"Wireless Internet\",\"Air conditio...   \n",
       "\n",
       "       availability_30  bathrooms  bed_type  bedrooms  beds  \\\n",
       "0                   24        1.0  Real Bed       1.0   1.0   \n",
       "1                   30        1.0  Real Bed       1.0   1.0   \n",
       "2                   30        3.0  Real Bed       3.0   3.0   \n",
       "3                    8        1.0  Real Bed       1.0   1.0   \n",
       "4                   17        1.0  Real Bed       1.0   1.0   \n",
       "...                ...        ...       ...       ...   ...   \n",
       "59819                0        1.0  Real Bed       1.0   1.0   \n",
       "59820               20        1.0  Real Bed       1.0   2.0   \n",
       "59821               13        1.0  Real Bed       1.0   3.0   \n",
       "59822               12        1.0  Real Bed       1.0   1.0   \n",
       "59823               24        1.0  Real Bed       1.0   1.0   \n",
       "\n",
       "      cancellation_policy              city   host_id  ...  \\\n",
       "0                moderate    sunnysidebronx    119445  ...   \n",
       "1                flexible    sunnysidebronx   9117975  ...   \n",
       "2                  strict    sunnysidebronx   9815788  ...   \n",
       "3                  strict  long island city  13886510  ...   \n",
       "4                moderate    sunnysidebronx  28811542  ...   \n",
       "...                   ...               ...       ...  ...   \n",
       "59819            flexible     silver spring  84708427  ...   \n",
       "59820            flexible          bethesda  16290768  ...   \n",
       "59821              strict      temple hills  31818247  ...   \n",
       "59822            moderate     silver spring  41071649  ...   \n",
       "59823            flexible   capitol heights  23405709  ...   \n",
       "\n",
       "       review_scores_checkin review_scores_cleanliness  \\\n",
       "0                       10.0                      10.0   \n",
       "1                       10.0                      10.0   \n",
       "2                       10.0                      10.0   \n",
       "3                       10.0                      10.0   \n",
       "4                       10.0                      10.0   \n",
       "...                      ...                       ...   \n",
       "59819                    9.0                       8.0   \n",
       "59820                   10.0                      10.0   \n",
       "59821                   10.0                      10.0   \n",
       "59822                   10.0                       9.0   \n",
       "59823                   10.0                      10.0   \n",
       "\n",
       "       review_scores_communication  review_scores_location  \\\n",
       "0                             10.0                    10.0   \n",
       "1                             10.0                    10.0   \n",
       "2                             10.0                    10.0   \n",
       "3                             10.0                    10.0   \n",
       "4                             10.0                    10.0   \n",
       "...                            ...                     ...   \n",
       "59819                          9.0                     8.0   \n",
       "59820                         10.0                    10.0   \n",
       "59821                         10.0                    10.0   \n",
       "59822                         10.0                    10.0   \n",
       "59823                         10.0                    10.0   \n",
       "\n",
       "      review_scores_rating review_scores_value        room_type state  \\\n",
       "0                    100.0                10.0     Private room    NY   \n",
       "1                     96.0                10.0     Private room    NY   \n",
       "2                     96.0                10.0  Entire home/apt    NY   \n",
       "3                     93.0                10.0  Entire home/apt    NY   \n",
       "4                     97.0                10.0     Private room    NY   \n",
       "...                    ...                 ...              ...   ...   \n",
       "59819                 80.0                 9.0     Private room    MD   \n",
       "59820                 96.0                10.0  Entire home/apt    MD   \n",
       "59821                 96.0                10.0     Private room    MD   \n",
       "59822                100.0                10.0  Entire home/apt    MD   \n",
       "59823                 96.0                10.0     Private room    MD   \n",
       "\n",
       "       weekly_price  zipcode  \n",
       "0        856.471201    10464  \n",
       "1        856.471201    10464  \n",
       "2        856.471201    10464  \n",
       "3        775.000000    10464  \n",
       "4        350.000000    10464  \n",
       "...             ...      ...  \n",
       "59819    856.471201    20910  \n",
       "59820    856.471201    20816  \n",
       "59821    856.471201    20748  \n",
       "59822    856.471201    20910  \n",
       "59823    856.471201    20743  \n",
       "\n",
       "[58914 rows x 28 columns]"
      ]
     },
     "execution_count": 21,
     "metadata": {},
     "output_type": "execute_result"
    }
   ],
   "source": [
    "df.dropna()"
   ]
  },
  {
   "cell_type": "code",
   "execution_count": 22,
   "metadata": {},
   "outputs": [],
   "source": [
    "df.dropna(subset = ['property_type'],how = 'any', axis = 0, inplace = True)"
   ]
  },
  {
   "cell_type": "code",
   "execution_count": 23,
   "metadata": {
    "scrolled": true
   },
   "outputs": [
    {
     "data": {
      "text/plain": [
       "amenities              0\n",
       "bed_type               0\n",
       "cancellation_policy    0\n",
       "instant_bookable       0\n",
       "metropolitan           0\n",
       "property_type          0\n",
       "room_type              0\n",
       "dtype: int64"
      ]
     },
     "execution_count": 23,
     "metadata": {},
     "output_type": "execute_result"
    }
   ],
   "source": [
    "df[cat].isna().sum()"
   ]
  },
  {
   "cell_type": "code",
   "execution_count": 27,
   "metadata": {},
   "outputs": [
    {
     "data": {
      "text/plain": [
       "{'NYC', 'boston', 'chicago', 'dc', 'denver'}"
      ]
     },
     "execution_count": 27,
     "metadata": {},
     "output_type": "execute_result"
    }
   ],
   "source": [
    "### Retain 'metropolitan'\n",
    "df_d_metro = df.metropolitan.tolist()\n",
    "set(df_d_metro)"
   ]
  },
  {
   "cell_type": "code",
   "execution_count": 28,
   "metadata": {},
   "outputs": [],
   "source": [
    "df_d = pd.get_dummies(df, columns = ['bed_type','cancellation_policy','instant_bookable','metropolitan','property_type','room_type'], sparse = True)"
   ]
  },
  {
   "cell_type": "code",
   "execution_count": 29,
   "metadata": {},
   "outputs": [
    {
     "data": {
      "text/plain": [
       "(59820, 76)"
      ]
     },
     "execution_count": 29,
     "metadata": {},
     "output_type": "execute_result"
    }
   ],
   "source": [
    "df_d.shape"
   ]
  },
  {
   "cell_type": "raw",
   "metadata": {},
   "source": [
    "city\n",
    "host_id\n",
    "id\n",
    "latitude\n",
    "longitude\n",
    "name.state,zipcode"
   ]
  },
  {
   "cell_type": "code",
   "execution_count": 30,
   "metadata": {
    "scrolled": false
   },
   "outputs": [
    {
     "data": {
      "text/html": [
       "<div>\n",
       "<style scoped>\n",
       "    .dataframe tbody tr th:only-of-type {\n",
       "        vertical-align: middle;\n",
       "    }\n",
       "\n",
       "    .dataframe tbody tr th {\n",
       "        vertical-align: top;\n",
       "    }\n",
       "\n",
       "    .dataframe thead th {\n",
       "        text-align: right;\n",
       "    }\n",
       "</style>\n",
       "<table border=\"1\" class=\"dataframe\">\n",
       "  <thead>\n",
       "    <tr style=\"text-align: right;\">\n",
       "      <th></th>\n",
       "      <th>accommodates</th>\n",
       "      <th>amenities</th>\n",
       "      <th>availability_30</th>\n",
       "      <th>bathrooms</th>\n",
       "      <th>bedrooms</th>\n",
       "      <th>beds</th>\n",
       "      <th>city</th>\n",
       "      <th>host_id</th>\n",
       "      <th>id</th>\n",
       "      <th>latitude</th>\n",
       "      <th>...</th>\n",
       "      <th>property_type_Tent</th>\n",
       "      <th>property_type_Timeshare</th>\n",
       "      <th>property_type_Townhouse</th>\n",
       "      <th>property_type_Train</th>\n",
       "      <th>property_type_Treehouse</th>\n",
       "      <th>property_type_Vacation home</th>\n",
       "      <th>property_type_Villa</th>\n",
       "      <th>room_type_Entire home/apt</th>\n",
       "      <th>room_type_Private room</th>\n",
       "      <th>room_type_Shared room</th>\n",
       "    </tr>\n",
       "  </thead>\n",
       "  <tbody>\n",
       "    <tr>\n",
       "      <td>0</td>\n",
       "      <td>2.0</td>\n",
       "      <td>{\"Cable TV\",\"Wireless Internet\",\"Air condition...</td>\n",
       "      <td>24</td>\n",
       "      <td>1.0</td>\n",
       "      <td>1.0</td>\n",
       "      <td>1.0</td>\n",
       "      <td>sunnysidebronx</td>\n",
       "      <td>119445</td>\n",
       "      <td>7949480</td>\n",
       "      <td>40.852054</td>\n",
       "      <td>...</td>\n",
       "      <td>0</td>\n",
       "      <td>0</td>\n",
       "      <td>0</td>\n",
       "      <td>0</td>\n",
       "      <td>0</td>\n",
       "      <td>0</td>\n",
       "      <td>0</td>\n",
       "      <td>0</td>\n",
       "      <td>1</td>\n",
       "      <td>0</td>\n",
       "    </tr>\n",
       "    <tr>\n",
       "      <td>1</td>\n",
       "      <td>4.0</td>\n",
       "      <td>{TV,Internet,\"Wireless Internet\",\"Air conditio...</td>\n",
       "      <td>30</td>\n",
       "      <td>1.0</td>\n",
       "      <td>1.0</td>\n",
       "      <td>1.0</td>\n",
       "      <td>sunnysidebronx</td>\n",
       "      <td>9117975</td>\n",
       "      <td>16042478</td>\n",
       "      <td>40.853491</td>\n",
       "      <td>...</td>\n",
       "      <td>0</td>\n",
       "      <td>0</td>\n",
       "      <td>0</td>\n",
       "      <td>0</td>\n",
       "      <td>0</td>\n",
       "      <td>0</td>\n",
       "      <td>0</td>\n",
       "      <td>0</td>\n",
       "      <td>1</td>\n",
       "      <td>0</td>\n",
       "    </tr>\n",
       "    <tr>\n",
       "      <td>2</td>\n",
       "      <td>4.0</td>\n",
       "      <td>{TV,\"Cable TV\",Internet,\"Wireless Internet\",\"A...</td>\n",
       "      <td>30</td>\n",
       "      <td>3.0</td>\n",
       "      <td>3.0</td>\n",
       "      <td>3.0</td>\n",
       "      <td>sunnysidebronx</td>\n",
       "      <td>9815788</td>\n",
       "      <td>1886820</td>\n",
       "      <td>40.841144</td>\n",
       "      <td>...</td>\n",
       "      <td>0</td>\n",
       "      <td>0</td>\n",
       "      <td>0</td>\n",
       "      <td>0</td>\n",
       "      <td>0</td>\n",
       "      <td>0</td>\n",
       "      <td>0</td>\n",
       "      <td>1</td>\n",
       "      <td>0</td>\n",
       "      <td>0</td>\n",
       "    </tr>\n",
       "    <tr>\n",
       "      <td>3</td>\n",
       "      <td>3.0</td>\n",
       "      <td>{TV,Internet,\"Wireless Internet\",\"Air conditio...</td>\n",
       "      <td>8</td>\n",
       "      <td>1.0</td>\n",
       "      <td>1.0</td>\n",
       "      <td>1.0</td>\n",
       "      <td>long island city</td>\n",
       "      <td>13886510</td>\n",
       "      <td>6627449</td>\n",
       "      <td>40.849775</td>\n",
       "      <td>...</td>\n",
       "      <td>0</td>\n",
       "      <td>0</td>\n",
       "      <td>0</td>\n",
       "      <td>0</td>\n",
       "      <td>0</td>\n",
       "      <td>0</td>\n",
       "      <td>0</td>\n",
       "      <td>1</td>\n",
       "      <td>0</td>\n",
       "      <td>0</td>\n",
       "    </tr>\n",
       "  </tbody>\n",
       "</table>\n",
       "<p>4 rows × 76 columns</p>\n",
       "</div>"
      ],
      "text/plain": [
       "   accommodates                                          amenities  \\\n",
       "0           2.0  {\"Cable TV\",\"Wireless Internet\",\"Air condition...   \n",
       "1           4.0  {TV,Internet,\"Wireless Internet\",\"Air conditio...   \n",
       "2           4.0  {TV,\"Cable TV\",Internet,\"Wireless Internet\",\"A...   \n",
       "3           3.0  {TV,Internet,\"Wireless Internet\",\"Air conditio...   \n",
       "\n",
       "   availability_30  bathrooms  bedrooms  beds              city   host_id  \\\n",
       "0               24        1.0       1.0   1.0    sunnysidebronx    119445   \n",
       "1               30        1.0       1.0   1.0    sunnysidebronx   9117975   \n",
       "2               30        3.0       3.0   3.0    sunnysidebronx   9815788   \n",
       "3                8        1.0       1.0   1.0  long island city  13886510   \n",
       "\n",
       "         id   latitude  ...  property_type_Tent property_type_Timeshare  \\\n",
       "0   7949480  40.852054  ...                   0                       0   \n",
       "1  16042478  40.853491  ...                   0                       0   \n",
       "2   1886820  40.841144  ...                   0                       0   \n",
       "3   6627449  40.849775  ...                   0                       0   \n",
       "\n",
       "   property_type_Townhouse  property_type_Train  property_type_Treehouse  \\\n",
       "0                        0                    0                        0   \n",
       "1                        0                    0                        0   \n",
       "2                        0                    0                        0   \n",
       "3                        0                    0                        0   \n",
       "\n",
       "   property_type_Vacation home  property_type_Villa  \\\n",
       "0                            0                    0   \n",
       "1                            0                    0   \n",
       "2                            0                    0   \n",
       "3                            0                    0   \n",
       "\n",
       "   room_type_Entire home/apt  room_type_Private room room_type_Shared room  \n",
       "0                          0                       1                     0  \n",
       "1                          0                       1                     0  \n",
       "2                          1                       0                     0  \n",
       "3                          1                       0                     0  \n",
       "\n",
       "[4 rows x 76 columns]"
      ]
     },
     "execution_count": 30,
     "metadata": {},
     "output_type": "execute_result"
    }
   ],
   "source": [
    "df_d.head(4)"
   ]
  },
  {
   "cell_type": "markdown",
   "metadata": {},
   "source": [
    "##### full list of features after converting categorical variables into dymmies"
   ]
  },
  {
   "cell_type": "code",
   "execution_count": 224,
   "metadata": {
    "scrolled": false
   },
   "outputs": [],
   "source": [
    "#for i in df_d.columns:\n",
    "    #print(i)"
   ]
  },
  {
   "cell_type": "markdown",
   "metadata": {},
   "source": [
    "### Before exploring correlations in the data, remove the 'price' variable for now and add it later"
   ]
  },
  {
   "cell_type": "code",
   "execution_count": 32,
   "metadata": {},
   "outputs": [],
   "source": [
    "price = df_d['price'].tolist()"
   ]
  },
  {
   "cell_type": "code",
   "execution_count": 35,
   "metadata": {},
   "outputs": [],
   "source": [
    "### drop price:\n",
    "df_d.drop(['price'], axis = 1, inplace = True)"
   ]
  },
  {
   "cell_type": "code",
   "execution_count": 36,
   "metadata": {
    "scrolled": true
   },
   "outputs": [
    {
     "data": {
      "text/html": [
       "<div>\n",
       "<style scoped>\n",
       "    .dataframe tbody tr th:only-of-type {\n",
       "        vertical-align: middle;\n",
       "    }\n",
       "\n",
       "    .dataframe tbody tr th {\n",
       "        vertical-align: top;\n",
       "    }\n",
       "\n",
       "    .dataframe thead th {\n",
       "        text-align: right;\n",
       "    }\n",
       "</style>\n",
       "<table border=\"1\" class=\"dataframe\">\n",
       "  <thead>\n",
       "    <tr style=\"text-align: right;\">\n",
       "      <th></th>\n",
       "      <th>accommodates</th>\n",
       "      <th>availability_30</th>\n",
       "      <th>bathrooms</th>\n",
       "      <th>bedrooms</th>\n",
       "      <th>beds</th>\n",
       "      <th>host_id</th>\n",
       "      <th>id</th>\n",
       "      <th>latitude</th>\n",
       "      <th>longitude</th>\n",
       "      <th>review_scores_checkin</th>\n",
       "      <th>...</th>\n",
       "      <th>property_type_Tent</th>\n",
       "      <th>property_type_Timeshare</th>\n",
       "      <th>property_type_Townhouse</th>\n",
       "      <th>property_type_Train</th>\n",
       "      <th>property_type_Treehouse</th>\n",
       "      <th>property_type_Vacation home</th>\n",
       "      <th>property_type_Villa</th>\n",
       "      <th>room_type_Entire home/apt</th>\n",
       "      <th>room_type_Private room</th>\n",
       "      <th>room_type_Shared room</th>\n",
       "    </tr>\n",
       "  </thead>\n",
       "  <tbody>\n",
       "    <tr>\n",
       "      <td>accommodates</td>\n",
       "      <td>4.020385</td>\n",
       "      <td>-0.114119</td>\n",
       "      <td>-0.200213</td>\n",
       "      <td>-0.907674</td>\n",
       "      <td>-2.122850</td>\n",
       "      <td>0.003382</td>\n",
       "      <td>-0.091613</td>\n",
       "      <td>-0.721072</td>\n",
       "      <td>-2.674103</td>\n",
       "      <td>0.000055</td>\n",
       "      <td>...</td>\n",
       "      <td>-2.082091e-01</td>\n",
       "      <td>-1.370254e+00</td>\n",
       "      <td>-7.293364e+00</td>\n",
       "      <td>-3.020373e-01</td>\n",
       "      <td>-2.930096e-01</td>\n",
       "      <td>-2.950532e-01</td>\n",
       "      <td>-1.131255e+00</td>\n",
       "      <td>2.599140e+00</td>\n",
       "      <td>3.515103e+00</td>\n",
       "      <td>1.343989e+00</td>\n",
       "    </tr>\n",
       "    <tr>\n",
       "      <td>availability_30</td>\n",
       "      <td>-0.114119</td>\n",
       "      <td>1.105319</td>\n",
       "      <td>0.006557</td>\n",
       "      <td>0.013738</td>\n",
       "      <td>0.005231</td>\n",
       "      <td>-0.077145</td>\n",
       "      <td>-0.003072</td>\n",
       "      <td>0.325942</td>\n",
       "      <td>-21.216665</td>\n",
       "      <td>0.005811</td>\n",
       "      <td>...</td>\n",
       "      <td>-7.098524e-01</td>\n",
       "      <td>-4.598928e+00</td>\n",
       "      <td>-2.480542e+01</td>\n",
       "      <td>-9.865351e-01</td>\n",
       "      <td>-9.872586e-01</td>\n",
       "      <td>-9.898210e-01</td>\n",
       "      <td>-3.839212e+00</td>\n",
       "      <td>1.109468e+01</td>\n",
       "      <td>1.083778e+01</td>\n",
       "      <td>3.553186e+00</td>\n",
       "    </tr>\n",
       "    <tr>\n",
       "      <td>bathrooms</td>\n",
       "      <td>-0.200213</td>\n",
       "      <td>0.006557</td>\n",
       "      <td>1.513213</td>\n",
       "      <td>-0.480333</td>\n",
       "      <td>-0.162703</td>\n",
       "      <td>0.011146</td>\n",
       "      <td>-0.015268</td>\n",
       "      <td>0.115490</td>\n",
       "      <td>3.108459</td>\n",
       "      <td>0.020590</td>\n",
       "      <td>...</td>\n",
       "      <td>9.894113e-02</td>\n",
       "      <td>6.373489e-01</td>\n",
       "      <td>3.363781e+00</td>\n",
       "      <td>1.424775e-01</td>\n",
       "      <td>1.409470e-01</td>\n",
       "      <td>1.291527e-01</td>\n",
       "      <td>5.198115e-01</td>\n",
       "      <td>-1.407540e+00</td>\n",
       "      <td>-1.521999e+00</td>\n",
       "      <td>-5.408921e-01</td>\n",
       "    </tr>\n",
       "    <tr>\n",
       "      <td>bedrooms</td>\n",
       "      <td>-0.907674</td>\n",
       "      <td>0.013738</td>\n",
       "      <td>-0.480333</td>\n",
       "      <td>2.427008</td>\n",
       "      <td>-0.801805</td>\n",
       "      <td>0.033741</td>\n",
       "      <td>0.026672</td>\n",
       "      <td>0.500208</td>\n",
       "      <td>-1.411782</td>\n",
       "      <td>-0.016889</td>\n",
       "      <td>...</td>\n",
       "      <td>-8.943566e-03</td>\n",
       "      <td>-1.500631e-02</td>\n",
       "      <td>-3.449996e-01</td>\n",
       "      <td>1.084217e-02</td>\n",
       "      <td>-1.387732e-02</td>\n",
       "      <td>-1.219241e-02</td>\n",
       "      <td>-4.639229e-02</td>\n",
       "      <td>8.530600e-02</td>\n",
       "      <td>-1.464959e-01</td>\n",
       "      <td>4.903475e-03</td>\n",
       "    </tr>\n",
       "    <tr>\n",
       "      <td>beds</td>\n",
       "      <td>-2.122850</td>\n",
       "      <td>0.005231</td>\n",
       "      <td>-0.162703</td>\n",
       "      <td>-0.801805</td>\n",
       "      <td>3.411837</td>\n",
       "      <td>-0.080753</td>\n",
       "      <td>0.031468</td>\n",
       "      <td>0.489747</td>\n",
       "      <td>0.505561</td>\n",
       "      <td>-0.011105</td>\n",
       "      <td>...</td>\n",
       "      <td>8.691731e-02</td>\n",
       "      <td>5.578969e-01</td>\n",
       "      <td>3.002764e+00</td>\n",
       "      <td>7.084608e-02</td>\n",
       "      <td>1.211688e-01</td>\n",
       "      <td>1.264893e-01</td>\n",
       "      <td>4.694879e-01</td>\n",
       "      <td>-1.209924e+00</td>\n",
       "      <td>-1.168081e+00</td>\n",
       "      <td>-6.140722e-01</td>\n",
       "    </tr>\n",
       "    <tr>\n",
       "      <td>...</td>\n",
       "      <td>...</td>\n",
       "      <td>...</td>\n",
       "      <td>...</td>\n",
       "      <td>...</td>\n",
       "      <td>...</td>\n",
       "      <td>...</td>\n",
       "      <td>...</td>\n",
       "      <td>...</td>\n",
       "      <td>...</td>\n",
       "      <td>...</td>\n",
       "      <td>...</td>\n",
       "      <td>...</td>\n",
       "      <td>...</td>\n",
       "      <td>...</td>\n",
       "      <td>...</td>\n",
       "      <td>...</td>\n",
       "      <td>...</td>\n",
       "      <td>...</td>\n",
       "      <td>...</td>\n",
       "      <td>...</td>\n",
       "      <td>...</td>\n",
       "    </tr>\n",
       "    <tr>\n",
       "      <td>property_type_Vacation home</td>\n",
       "      <td>-0.295084</td>\n",
       "      <td>-0.989937</td>\n",
       "      <td>0.129187</td>\n",
       "      <td>-0.012189</td>\n",
       "      <td>0.126478</td>\n",
       "      <td>-0.447341</td>\n",
       "      <td>-0.302028</td>\n",
       "      <td>6.611317</td>\n",
       "      <td>1726.395951</td>\n",
       "      <td>-0.053651</td>\n",
       "      <td>...</td>\n",
       "      <td>1.596873e+08</td>\n",
       "      <td>1.046800e+09</td>\n",
       "      <td>5.656116e+09</td>\n",
       "      <td>2.258350e+08</td>\n",
       "      <td>2.258336e+08</td>\n",
       "      <td>2.258443e+08</td>\n",
       "      <td>8.744560e+08</td>\n",
       "      <td>4.754974e+09</td>\n",
       "      <td>4.726599e+09</td>\n",
       "      <td>1.582801e+09</td>\n",
       "    </tr>\n",
       "    <tr>\n",
       "      <td>property_type_Villa</td>\n",
       "      <td>-1.131449</td>\n",
       "      <td>-3.839646</td>\n",
       "      <td>0.519920</td>\n",
       "      <td>-0.046417</td>\n",
       "      <td>0.469615</td>\n",
       "      <td>-1.748013</td>\n",
       "      <td>-1.189493</td>\n",
       "      <td>25.965106</td>\n",
       "      <td>6679.287373</td>\n",
       "      <td>-0.210232</td>\n",
       "      <td>...</td>\n",
       "      <td>6.183214e+08</td>\n",
       "      <td>4.053288e+09</td>\n",
       "      <td>2.190091e+10</td>\n",
       "      <td>8.744503e+08</td>\n",
       "      <td>8.744449e+08</td>\n",
       "      <td>8.744864e+08</td>\n",
       "      <td>3.385961e+09</td>\n",
       "      <td>1.841162e+10</td>\n",
       "      <td>1.830175e+10</td>\n",
       "      <td>6.128726e+09</td>\n",
       "    </tr>\n",
       "    <tr>\n",
       "      <td>room_type_Entire home/apt</td>\n",
       "      <td>2.596811</td>\n",
       "      <td>11.086668</td>\n",
       "      <td>-1.406489</td>\n",
       "      <td>0.085262</td>\n",
       "      <td>-1.208825</td>\n",
       "      <td>4.905605</td>\n",
       "      <td>3.513887</td>\n",
       "      <td>-45.458946</td>\n",
       "      <td>-19082.018648</td>\n",
       "      <td>0.601799</td>\n",
       "      <td>...</td>\n",
       "      <td>3.360214e+09</td>\n",
       "      <td>2.202666e+10</td>\n",
       "      <td>1.190174e+11</td>\n",
       "      <td>4.752021e+09</td>\n",
       "      <td>4.752021e+09</td>\n",
       "      <td>4.752021e+09</td>\n",
       "      <td>1.840019e+10</td>\n",
       "      <td>-4.046742e+11</td>\n",
       "      <td>-4.023215e+11</td>\n",
       "      <td>-1.347325e+11</td>\n",
       "    </tr>\n",
       "    <tr>\n",
       "      <td>room_type_Private room</td>\n",
       "      <td>3.513194</td>\n",
       "      <td>10.830062</td>\n",
       "      <td>-1.520856</td>\n",
       "      <td>-0.146401</td>\n",
       "      <td>-1.167771</td>\n",
       "      <td>4.872282</td>\n",
       "      <td>3.430167</td>\n",
       "      <td>-45.534296</td>\n",
       "      <td>-18984.271016</td>\n",
       "      <td>0.584104</td>\n",
       "      <td>...</td>\n",
       "      <td>3.340679e+09</td>\n",
       "      <td>2.189861e+10</td>\n",
       "      <td>1.183254e+11</td>\n",
       "      <td>4.724394e+09</td>\n",
       "      <td>4.724394e+09</td>\n",
       "      <td>4.724394e+09</td>\n",
       "      <td>1.829322e+10</td>\n",
       "      <td>-4.023215e+11</td>\n",
       "      <td>-3.999826e+11</td>\n",
       "      <td>-1.339492e+11</td>\n",
       "    </tr>\n",
       "    <tr>\n",
       "      <td>room_type_Shared room</td>\n",
       "      <td>1.343290</td>\n",
       "      <td>3.550583</td>\n",
       "      <td>-0.540523</td>\n",
       "      <td>0.004926</td>\n",
       "      <td>-0.613825</td>\n",
       "      <td>1.611099</td>\n",
       "      <td>1.097058</td>\n",
       "      <td>-15.335722</td>\n",
       "      <td>-6360.592865</td>\n",
       "      <td>0.210768</td>\n",
       "      <td>...</td>\n",
       "      <td>1.118752e+09</td>\n",
       "      <td>7.333572e+09</td>\n",
       "      <td>3.962573e+10</td>\n",
       "      <td>1.582141e+09</td>\n",
       "      <td>1.582141e+09</td>\n",
       "      <td>1.582141e+09</td>\n",
       "      <td>6.126172e+09</td>\n",
       "      <td>-1.347325e+11</td>\n",
       "      <td>-1.339492e+11</td>\n",
       "      <td>-4.485793e+10</td>\n",
       "    </tr>\n",
       "  </tbody>\n",
       "</table>\n",
       "<p>70 rows × 70 columns</p>\n",
       "</div>"
      ],
      "text/plain": [
       "                             accommodates  availability_30  bathrooms  \\\n",
       "accommodates                     4.020385        -0.114119  -0.200213   \n",
       "availability_30                 -0.114119         1.105319   0.006557   \n",
       "bathrooms                       -0.200213         0.006557   1.513213   \n",
       "bedrooms                        -0.907674         0.013738  -0.480333   \n",
       "beds                            -2.122850         0.005231  -0.162703   \n",
       "...                                   ...              ...        ...   \n",
       "property_type_Vacation home     -0.295084        -0.989937   0.129187   \n",
       "property_type_Villa             -1.131449        -3.839646   0.519920   \n",
       "room_type_Entire home/apt        2.596811        11.086668  -1.406489   \n",
       "room_type_Private room           3.513194        10.830062  -1.520856   \n",
       "room_type_Shared room            1.343290         3.550583  -0.540523   \n",
       "\n",
       "                             bedrooms      beds   host_id        id  \\\n",
       "accommodates                -0.907674 -2.122850  0.003382 -0.091613   \n",
       "availability_30              0.013738  0.005231 -0.077145 -0.003072   \n",
       "bathrooms                   -0.480333 -0.162703  0.011146 -0.015268   \n",
       "bedrooms                     2.427008 -0.801805  0.033741  0.026672   \n",
       "beds                        -0.801805  3.411837 -0.080753  0.031468   \n",
       "...                               ...       ...       ...       ...   \n",
       "property_type_Vacation home -0.012189  0.126478 -0.447341 -0.302028   \n",
       "property_type_Villa         -0.046417  0.469615 -1.748013 -1.189493   \n",
       "room_type_Entire home/apt    0.085262 -1.208825  4.905605  3.513887   \n",
       "room_type_Private room      -0.146401 -1.167771  4.872282  3.430167   \n",
       "room_type_Shared room        0.004926 -0.613825  1.611099  1.097058   \n",
       "\n",
       "                              latitude     longitude  review_scores_checkin  \\\n",
       "accommodates                 -0.721072     -2.674103               0.000055   \n",
       "availability_30               0.325942    -21.216665               0.005811   \n",
       "bathrooms                     0.115490      3.108459               0.020590   \n",
       "bedrooms                      0.500208     -1.411782              -0.016889   \n",
       "beds                          0.489747      0.505561              -0.011105   \n",
       "...                                ...           ...                    ...   \n",
       "property_type_Vacation home   6.611317   1726.395951              -0.053651   \n",
       "property_type_Villa          25.965106   6679.287373              -0.210232   \n",
       "room_type_Entire home/apt   -45.458946 -19082.018648               0.601799   \n",
       "room_type_Private room      -45.534296 -18984.271016               0.584104   \n",
       "room_type_Shared room       -15.335722  -6360.592865               0.210768   \n",
       "\n",
       "                             ...  property_type_Tent  property_type_Timeshare  \\\n",
       "accommodates                 ...       -2.082091e-01            -1.370254e+00   \n",
       "availability_30              ...       -7.098524e-01            -4.598928e+00   \n",
       "bathrooms                    ...        9.894113e-02             6.373489e-01   \n",
       "bedrooms                     ...       -8.943566e-03            -1.500631e-02   \n",
       "beds                         ...        8.691731e-02             5.578969e-01   \n",
       "...                          ...                 ...                      ...   \n",
       "property_type_Vacation home  ...        1.596873e+08             1.046800e+09   \n",
       "property_type_Villa          ...        6.183214e+08             4.053288e+09   \n",
       "room_type_Entire home/apt    ...        3.360214e+09             2.202666e+10   \n",
       "room_type_Private room       ...        3.340679e+09             2.189861e+10   \n",
       "room_type_Shared room        ...        1.118752e+09             7.333572e+09   \n",
       "\n",
       "                             property_type_Townhouse  property_type_Train  \\\n",
       "accommodates                           -7.293364e+00        -3.020373e-01   \n",
       "availability_30                        -2.480542e+01        -9.865351e-01   \n",
       "bathrooms                               3.363781e+00         1.424775e-01   \n",
       "bedrooms                               -3.449996e-01         1.084217e-02   \n",
       "beds                                    3.002764e+00         7.084608e-02   \n",
       "...                                              ...                  ...   \n",
       "property_type_Vacation home             5.656116e+09         2.258350e+08   \n",
       "property_type_Villa                     2.190091e+10         8.744503e+08   \n",
       "room_type_Entire home/apt               1.190174e+11         4.752021e+09   \n",
       "room_type_Private room                  1.183254e+11         4.724394e+09   \n",
       "room_type_Shared room                   3.962573e+10         1.582141e+09   \n",
       "\n",
       "                             property_type_Treehouse  \\\n",
       "accommodates                           -2.930096e-01   \n",
       "availability_30                        -9.872586e-01   \n",
       "bathrooms                               1.409470e-01   \n",
       "bedrooms                               -1.387732e-02   \n",
       "beds                                    1.211688e-01   \n",
       "...                                              ...   \n",
       "property_type_Vacation home             2.258336e+08   \n",
       "property_type_Villa                     8.744449e+08   \n",
       "room_type_Entire home/apt               4.752021e+09   \n",
       "room_type_Private room                  4.724394e+09   \n",
       "room_type_Shared room                   1.582141e+09   \n",
       "\n",
       "                             property_type_Vacation home  property_type_Villa  \\\n",
       "accommodates                               -2.950532e-01        -1.131255e+00   \n",
       "availability_30                            -9.898210e-01        -3.839212e+00   \n",
       "bathrooms                                   1.291527e-01         5.198115e-01   \n",
       "bedrooms                                   -1.219241e-02        -4.639229e-02   \n",
       "beds                                        1.264893e-01         4.694879e-01   \n",
       "...                                                  ...                  ...   \n",
       "property_type_Vacation home                 2.258443e+08         8.744560e+08   \n",
       "property_type_Villa                         8.744864e+08         3.385961e+09   \n",
       "room_type_Entire home/apt                   4.752021e+09         1.840019e+10   \n",
       "room_type_Private room                      4.724394e+09         1.829322e+10   \n",
       "room_type_Shared room                       1.582141e+09         6.126172e+09   \n",
       "\n",
       "                             room_type_Entire home/apt  \\\n",
       "accommodates                              2.599140e+00   \n",
       "availability_30                           1.109468e+01   \n",
       "bathrooms                                -1.407540e+00   \n",
       "bedrooms                                  8.530600e-02   \n",
       "beds                                     -1.209924e+00   \n",
       "...                                                ...   \n",
       "property_type_Vacation home               4.754974e+09   \n",
       "property_type_Villa                       1.841162e+10   \n",
       "room_type_Entire home/apt                -4.046742e+11   \n",
       "room_type_Private room                   -4.023215e+11   \n",
       "room_type_Shared room                    -1.347325e+11   \n",
       "\n",
       "                             room_type_Private room  room_type_Shared room  \n",
       "accommodates                           3.515103e+00           1.343989e+00  \n",
       "availability_30                        1.083778e+01           3.553186e+00  \n",
       "bathrooms                             -1.521999e+00          -5.408921e-01  \n",
       "bedrooms                              -1.464959e-01           4.903475e-03  \n",
       "beds                                  -1.168081e+00          -6.140722e-01  \n",
       "...                                             ...                    ...  \n",
       "property_type_Vacation home            4.726599e+09           1.582801e+09  \n",
       "property_type_Villa                    1.830175e+10           6.128726e+09  \n",
       "room_type_Entire home/apt             -4.023215e+11          -1.347325e+11  \n",
       "room_type_Private room                -3.999826e+11          -1.339492e+11  \n",
       "room_type_Shared room                 -1.339492e+11          -4.485793e+10  \n",
       "\n",
       "[70 rows x 70 columns]"
      ]
     },
     "execution_count": 36,
     "metadata": {},
     "output_type": "execute_result"
    }
   ],
   "source": [
    "### Compute a correlation ,matrix:\n",
    "cor = df_d.corr()\n",
    "pd.DataFrame(np.linalg.inv(df_d.corr().values), index = cor.index, columns=cor.columns)\n",
    "\n"
   ]
  },
  {
   "cell_type": "markdown",
   "metadata": {},
   "source": [
    "### Compute VIFs"
   ]
  },
  {
   "cell_type": "code",
   "execution_count": 37,
   "metadata": {},
   "outputs": [],
   "source": [
    "vifs = pd.Series(np.linalg.inv(df_d.corr().values).diagonal(), index=cor.index)\n"
   ]
  },
  {
   "cell_type": "code",
   "execution_count": 38,
   "metadata": {},
   "outputs": [],
   "source": [
    "vifs_df = pd.DataFrame(vifs,columns = ['VIF'])"
   ]
  },
  {
   "cell_type": "code",
   "execution_count": 39,
   "metadata": {},
   "outputs": [
    {
     "data": {
      "text/plain": [
       "24"
      ]
     },
     "execution_count": 39,
     "metadata": {},
     "output_type": "execute_result"
    }
   ],
   "source": [
    "vifs_df[abs(vifs_df['VIF']<5)].shape[0]"
   ]
  },
  {
   "cell_type": "code",
   "execution_count": 40,
   "metadata": {},
   "outputs": [
    {
     "data": {
      "text/html": [
       "<div>\n",
       "<style scoped>\n",
       "    .dataframe tbody tr th:only-of-type {\n",
       "        vertical-align: middle;\n",
       "    }\n",
       "\n",
       "    .dataframe tbody tr th {\n",
       "        vertical-align: top;\n",
       "    }\n",
       "\n",
       "    .dataframe thead th {\n",
       "        text-align: right;\n",
       "    }\n",
       "</style>\n",
       "<table border=\"1\" class=\"dataframe\">\n",
       "  <thead>\n",
       "    <tr style=\"text-align: right;\">\n",
       "      <th></th>\n",
       "      <th>0</th>\n",
       "    </tr>\n",
       "  </thead>\n",
       "  <tbody>\n",
       "    <tr>\n",
       "      <td>property_type_Apartment</td>\n",
       "      <td>1.190899e+12</td>\n",
       "    </tr>\n",
       "    <tr>\n",
       "      <td>property_type_House</td>\n",
       "      <td>8.207346e+11</td>\n",
       "    </tr>\n",
       "    <tr>\n",
       "      <td>bed_type_Real Bed</td>\n",
       "      <td>5.378041e+11</td>\n",
       "    </tr>\n",
       "    <tr>\n",
       "      <td>cancellation_policy_strict</td>\n",
       "      <td>2.167176e+11</td>\n",
       "    </tr>\n",
       "    <tr>\n",
       "      <td>bed_type_Futon</td>\n",
       "      <td>1.999086e+11</td>\n",
       "    </tr>\n",
       "    <tr>\n",
       "      <td>...</td>\n",
       "      <td>...</td>\n",
       "    </tr>\n",
       "    <tr>\n",
       "      <td>metropolitan_chicago</td>\n",
       "      <td>-4.795237e+13</td>\n",
       "    </tr>\n",
       "    <tr>\n",
       "      <td>metropolitan_dc</td>\n",
       "      <td>-6.831810e+13</td>\n",
       "    </tr>\n",
       "    <tr>\n",
       "      <td>metropolitan_NYC</td>\n",
       "      <td>-1.310745e+14</td>\n",
       "    </tr>\n",
       "    <tr>\n",
       "      <td>instant_bookable_t</td>\n",
       "      <td>-1.064621e+16</td>\n",
       "    </tr>\n",
       "    <tr>\n",
       "      <td>instant_bookable_f</td>\n",
       "      <td>-1.064644e+16</td>\n",
       "    </tr>\n",
       "  </tbody>\n",
       "</table>\n",
       "<p>70 rows × 1 columns</p>\n",
       "</div>"
      ],
      "text/plain": [
       "                                       0\n",
       "property_type_Apartment     1.190899e+12\n",
       "property_type_House         8.207346e+11\n",
       "bed_type_Real Bed           5.378041e+11\n",
       "cancellation_policy_strict  2.167176e+11\n",
       "bed_type_Futon              1.999086e+11\n",
       "...                                  ...\n",
       "metropolitan_chicago       -4.795237e+13\n",
       "metropolitan_dc            -6.831810e+13\n",
       "metropolitan_NYC           -1.310745e+14\n",
       "instant_bookable_t         -1.064621e+16\n",
       "instant_bookable_f         -1.064644e+16\n",
       "\n",
       "[70 rows x 1 columns]"
      ]
     },
     "execution_count": 40,
     "metadata": {},
     "output_type": "execute_result"
    }
   ],
   "source": [
    "pd.DataFrame(vifs.sort_values(ascending=False)).rename(columns={1: 'VIF'})"
   ]
  },
  {
   "cell_type": "code",
   "execution_count": 41,
   "metadata": {
    "scrolled": true
   },
   "outputs": [
    {
     "data": {
      "text/plain": [
       "pandas.core.series.Series"
      ]
     },
     "execution_count": 41,
     "metadata": {},
     "output_type": "execute_result"
    }
   ],
   "source": [
    "type(vifs.sort_values())"
   ]
  },
  {
   "cell_type": "code",
   "execution_count": 42,
   "metadata": {
    "scrolled": true
   },
   "outputs": [
    {
     "name": "stdout",
     "output_type": "stream",
     "text": [
      "Index : accommodates, Value : 4.02038544565459\n",
      "Index : availability_30, Value : 1.1053189551013833\n",
      "Index : bathrooms, Value : 1.5132132184817855\n",
      "Index : bedrooms, Value : 2.427008402244833\n",
      "Index : beds, Value : 3.4118370369915687\n",
      "Index : host_id, Value : 1.468155081373218\n",
      "Index : id, Value : 1.5779624264277368\n",
      "Index : review_scores_checkin, Value : 1.9614437546483532\n",
      "Index : review_scores_cleanliness, Value : 2.2011980345420086\n",
      "Index : review_scores_communication, Value : 2.085567040822061\n",
      "Index : review_scores_location, Value : 1.4875827816475982\n",
      "Index : review_scores_rating, Value : 3.1854254361522782\n",
      "Index : review_scores_value, Value : 2.6854422883589733\n",
      "Index : weekly_price, Value : 1.1110395072642443\n",
      "Index : instant_bookable_f, Value : -1.0646442121294856e+16\n",
      "Index : instant_bookable_t, Value : -1.0646209914892324e+16\n",
      "Index : metropolitan_NYC, Value : -131074549646838.69\n",
      "Index : metropolitan_boston, Value : -33970286591090.055\n",
      "Index : metropolitan_chicago, Value : -47952372565895.805\n",
      "Index : metropolitan_dc, Value : -68318096648367.914\n",
      "Index : metropolitan_denver, Value : -24200814473090.25\n",
      "Index : room_type_Entire home/apt, Value : -404674196374.6535\n",
      "Index : room_type_Private room, Value : -399982570422.7158\n",
      "Index : room_type_Shared room, Value : -44857932935.53771\n"
     ]
    }
   ],
   "source": [
    "columns_d = []\n",
    "for index, value in vifs.items():\n",
    "    if value<5:\n",
    "        columns_d.append(index)\n",
    "        \n",
    "        print(f\"Index : {index}, Value : {value}\")"
   ]
  },
  {
   "cell_type": "markdown",
   "metadata": {},
   "source": [
    "##### these are the variable we want to keep, they do not have high corrlations with each others"
   ]
  },
  {
   "cell_type": "code",
   "execution_count": 43,
   "metadata": {
    "scrolled": true
   },
   "outputs": [
    {
     "data": {
      "text/plain": [
       "['accommodates',\n",
       " 'availability_30',\n",
       " 'bathrooms',\n",
       " 'bedrooms',\n",
       " 'beds',\n",
       " 'host_id',\n",
       " 'id',\n",
       " 'review_scores_checkin',\n",
       " 'review_scores_cleanliness',\n",
       " 'review_scores_communication',\n",
       " 'review_scores_location',\n",
       " 'review_scores_rating',\n",
       " 'review_scores_value',\n",
       " 'weekly_price',\n",
       " 'instant_bookable_f',\n",
       " 'instant_bookable_t',\n",
       " 'metropolitan_NYC',\n",
       " 'metropolitan_boston',\n",
       " 'metropolitan_chicago',\n",
       " 'metropolitan_dc',\n",
       " 'metropolitan_denver',\n",
       " 'room_type_Entire home/apt',\n",
       " 'room_type_Private room',\n",
       " 'room_type_Shared room']"
      ]
     },
     "execution_count": 43,
     "metadata": {},
     "output_type": "execute_result"
    }
   ],
   "source": [
    "\n",
    "columns_d"
   ]
  },
  {
   "cell_type": "code",
   "execution_count": 44,
   "metadata": {},
   "outputs": [],
   "source": [
    "columns_listings = columns_d + ['price'] + ['metropolitan']"
   ]
  },
  {
   "cell_type": "code",
   "execution_count": 45,
   "metadata": {},
   "outputs": [
    {
     "data": {
      "text/plain": [
       "['accommodates',\n",
       " 'availability_30',\n",
       " 'bathrooms',\n",
       " 'bedrooms',\n",
       " 'beds',\n",
       " 'host_id',\n",
       " 'id',\n",
       " 'review_scores_checkin',\n",
       " 'review_scores_cleanliness',\n",
       " 'review_scores_communication',\n",
       " 'review_scores_location',\n",
       " 'review_scores_rating',\n",
       " 'review_scores_value',\n",
       " 'weekly_price',\n",
       " 'instant_bookable_f',\n",
       " 'instant_bookable_t',\n",
       " 'metropolitan_NYC',\n",
       " 'metropolitan_boston',\n",
       " 'metropolitan_chicago',\n",
       " 'metropolitan_dc',\n",
       " 'metropolitan_denver',\n",
       " 'room_type_Entire home/apt',\n",
       " 'room_type_Private room',\n",
       " 'room_type_Shared room',\n",
       " 'price',\n",
       " 'metropolitan']"
      ]
     },
     "execution_count": 45,
     "metadata": {},
     "output_type": "execute_result"
    }
   ],
   "source": [
    "columns_listings"
   ]
  },
  {
   "cell_type": "code",
   "execution_count": 46,
   "metadata": {},
   "outputs": [],
   "source": [
    "df_d['price']=price\n",
    "df_d['metropolitan']=df_d_metro"
   ]
  },
  {
   "cell_type": "code",
   "execution_count": 47,
   "metadata": {},
   "outputs": [],
   "source": [
    "new_listings = df_d[columns_listings]"
   ]
  },
  {
   "cell_type": "code",
   "execution_count": 48,
   "metadata": {},
   "outputs": [
    {
     "data": {
      "text/html": [
       "<div>\n",
       "<style scoped>\n",
       "    .dataframe tbody tr th:only-of-type {\n",
       "        vertical-align: middle;\n",
       "    }\n",
       "\n",
       "    .dataframe tbody tr th {\n",
       "        vertical-align: top;\n",
       "    }\n",
       "\n",
       "    .dataframe thead th {\n",
       "        text-align: right;\n",
       "    }\n",
       "</style>\n",
       "<table border=\"1\" class=\"dataframe\">\n",
       "  <thead>\n",
       "    <tr style=\"text-align: right;\">\n",
       "      <th></th>\n",
       "      <th>accommodates</th>\n",
       "      <th>availability_30</th>\n",
       "      <th>bathrooms</th>\n",
       "      <th>bedrooms</th>\n",
       "      <th>beds</th>\n",
       "      <th>host_id</th>\n",
       "      <th>id</th>\n",
       "      <th>review_scores_checkin</th>\n",
       "      <th>review_scores_cleanliness</th>\n",
       "      <th>review_scores_communication</th>\n",
       "      <th>...</th>\n",
       "      <th>metropolitan_NYC</th>\n",
       "      <th>metropolitan_boston</th>\n",
       "      <th>metropolitan_chicago</th>\n",
       "      <th>metropolitan_dc</th>\n",
       "      <th>metropolitan_denver</th>\n",
       "      <th>room_type_Entire home/apt</th>\n",
       "      <th>room_type_Private room</th>\n",
       "      <th>room_type_Shared room</th>\n",
       "      <th>price</th>\n",
       "      <th>metropolitan</th>\n",
       "    </tr>\n",
       "  </thead>\n",
       "  <tbody>\n",
       "    <tr>\n",
       "      <td>0</td>\n",
       "      <td>2.0</td>\n",
       "      <td>24</td>\n",
       "      <td>1.0</td>\n",
       "      <td>1.0</td>\n",
       "      <td>1.0</td>\n",
       "      <td>119445</td>\n",
       "      <td>7949480</td>\n",
       "      <td>10.0</td>\n",
       "      <td>10.0</td>\n",
       "      <td>10.0</td>\n",
       "      <td>...</td>\n",
       "      <td>1</td>\n",
       "      <td>0</td>\n",
       "      <td>0</td>\n",
       "      <td>0</td>\n",
       "      <td>0</td>\n",
       "      <td>0</td>\n",
       "      <td>1</td>\n",
       "      <td>0</td>\n",
       "      <td>99.0</td>\n",
       "      <td>NYC</td>\n",
       "    </tr>\n",
       "    <tr>\n",
       "      <td>1</td>\n",
       "      <td>4.0</td>\n",
       "      <td>30</td>\n",
       "      <td>1.0</td>\n",
       "      <td>1.0</td>\n",
       "      <td>1.0</td>\n",
       "      <td>9117975</td>\n",
       "      <td>16042478</td>\n",
       "      <td>10.0</td>\n",
       "      <td>10.0</td>\n",
       "      <td>10.0</td>\n",
       "      <td>...</td>\n",
       "      <td>1</td>\n",
       "      <td>0</td>\n",
       "      <td>0</td>\n",
       "      <td>0</td>\n",
       "      <td>0</td>\n",
       "      <td>0</td>\n",
       "      <td>1</td>\n",
       "      <td>0</td>\n",
       "      <td>200.0</td>\n",
       "      <td>NYC</td>\n",
       "    </tr>\n",
       "    <tr>\n",
       "      <td>2</td>\n",
       "      <td>4.0</td>\n",
       "      <td>30</td>\n",
       "      <td>3.0</td>\n",
       "      <td>3.0</td>\n",
       "      <td>3.0</td>\n",
       "      <td>9815788</td>\n",
       "      <td>1886820</td>\n",
       "      <td>10.0</td>\n",
       "      <td>10.0</td>\n",
       "      <td>10.0</td>\n",
       "      <td>...</td>\n",
       "      <td>1</td>\n",
       "      <td>0</td>\n",
       "      <td>0</td>\n",
       "      <td>0</td>\n",
       "      <td>0</td>\n",
       "      <td>1</td>\n",
       "      <td>0</td>\n",
       "      <td>0</td>\n",
       "      <td>300.0</td>\n",
       "      <td>NYC</td>\n",
       "    </tr>\n",
       "    <tr>\n",
       "      <td>3</td>\n",
       "      <td>3.0</td>\n",
       "      <td>8</td>\n",
       "      <td>1.0</td>\n",
       "      <td>1.0</td>\n",
       "      <td>1.0</td>\n",
       "      <td>13886510</td>\n",
       "      <td>6627449</td>\n",
       "      <td>10.0</td>\n",
       "      <td>10.0</td>\n",
       "      <td>10.0</td>\n",
       "      <td>...</td>\n",
       "      <td>1</td>\n",
       "      <td>0</td>\n",
       "      <td>0</td>\n",
       "      <td>0</td>\n",
       "      <td>0</td>\n",
       "      <td>1</td>\n",
       "      <td>0</td>\n",
       "      <td>0</td>\n",
       "      <td>125.0</td>\n",
       "      <td>NYC</td>\n",
       "    </tr>\n",
       "    <tr>\n",
       "      <td>4</td>\n",
       "      <td>4.0</td>\n",
       "      <td>17</td>\n",
       "      <td>1.0</td>\n",
       "      <td>1.0</td>\n",
       "      <td>1.0</td>\n",
       "      <td>28811542</td>\n",
       "      <td>5557381</td>\n",
       "      <td>10.0</td>\n",
       "      <td>10.0</td>\n",
       "      <td>10.0</td>\n",
       "      <td>...</td>\n",
       "      <td>1</td>\n",
       "      <td>0</td>\n",
       "      <td>0</td>\n",
       "      <td>0</td>\n",
       "      <td>0</td>\n",
       "      <td>0</td>\n",
       "      <td>1</td>\n",
       "      <td>0</td>\n",
       "      <td>69.0</td>\n",
       "      <td>NYC</td>\n",
       "    </tr>\n",
       "  </tbody>\n",
       "</table>\n",
       "<p>5 rows × 26 columns</p>\n",
       "</div>"
      ],
      "text/plain": [
       "   accommodates  availability_30  bathrooms  bedrooms  beds   host_id  \\\n",
       "0           2.0               24        1.0       1.0   1.0    119445   \n",
       "1           4.0               30        1.0       1.0   1.0   9117975   \n",
       "2           4.0               30        3.0       3.0   3.0   9815788   \n",
       "3           3.0                8        1.0       1.0   1.0  13886510   \n",
       "4           4.0               17        1.0       1.0   1.0  28811542   \n",
       "\n",
       "         id  review_scores_checkin  review_scores_cleanliness  \\\n",
       "0   7949480                   10.0                       10.0   \n",
       "1  16042478                   10.0                       10.0   \n",
       "2   1886820                   10.0                       10.0   \n",
       "3   6627449                   10.0                       10.0   \n",
       "4   5557381                   10.0                       10.0   \n",
       "\n",
       "   review_scores_communication  ...  metropolitan_NYC  metropolitan_boston  \\\n",
       "0                         10.0  ...                 1                    0   \n",
       "1                         10.0  ...                 1                    0   \n",
       "2                         10.0  ...                 1                    0   \n",
       "3                         10.0  ...                 1                    0   \n",
       "4                         10.0  ...                 1                    0   \n",
       "\n",
       "   metropolitan_chicago  metropolitan_dc  metropolitan_denver  \\\n",
       "0                     0                0                    0   \n",
       "1                     0                0                    0   \n",
       "2                     0                0                    0   \n",
       "3                     0                0                    0   \n",
       "4                     0                0                    0   \n",
       "\n",
       "   room_type_Entire home/apt  room_type_Private room  room_type_Shared room  \\\n",
       "0                          0                       1                      0   \n",
       "1                          0                       1                      0   \n",
       "2                          1                       0                      0   \n",
       "3                          1                       0                      0   \n",
       "4                          0                       1                      0   \n",
       "\n",
       "   price  metropolitan  \n",
       "0   99.0           NYC  \n",
       "1  200.0           NYC  \n",
       "2  300.0           NYC  \n",
       "3  125.0           NYC  \n",
       "4   69.0           NYC  \n",
       "\n",
       "[5 rows x 26 columns]"
      ]
     },
     "execution_count": 48,
     "metadata": {},
     "output_type": "execute_result"
    }
   ],
   "source": [
    "new_listings.head()"
   ]
  },
  {
   "cell_type": "code",
   "execution_count": 49,
   "metadata": {},
   "outputs": [],
   "source": [
    "#new_listings.to_csv(\"data/new_listings.csv\", index=False)"
   ]
  },
  {
   "cell_type": "code",
   "execution_count": null,
   "metadata": {},
   "outputs": [],
   "source": []
  }
 ],
 "metadata": {
  "kernelspec": {
   "display_name": "Python 3",
   "language": "python",
   "name": "python3"
  },
  "language_info": {
   "codemirror_mode": {
    "name": "ipython",
    "version": 3
   },
   "file_extension": ".py",
   "mimetype": "text/x-python",
   "name": "python",
   "nbconvert_exporter": "python",
   "pygments_lexer": "ipython3",
   "version": "3.7.4"
  }
 },
 "nbformat": 4,
 "nbformat_minor": 2
}
